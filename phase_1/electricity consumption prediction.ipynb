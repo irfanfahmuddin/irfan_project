{
 "cells": [
  {
   "cell_type": "markdown",
   "metadata": {},
   "source": [
    "# MILESTONE 2\n",
    "\n",
    "IRFAN FAHMUDDIN (FTDS-011)\n",
    "\n",
    "**OBJECTIVES**\n",
    "\n",
    "memprediksi konsumsi energi listrik (kWh) dari stell pipe industry"
   ]
  },
  {
   "cell_type": "code",
   "execution_count": 65,
   "metadata": {},
   "outputs": [],
   "source": [
    "# import library yang digunakan\n",
    "\n",
    "import pandas as pd\n",
    "import numpy as np\n",
    "import matplotlib.pyplot as plt\n",
    "import seaborn as sns\n",
    "\n",
    "from sklearn.preprocessing import MinMaxScaler\n",
    "from sklearn.preprocessing import OneHotEncoder, OrdinalEncoder\n",
    "\n",
    "from feature_engine.outliers import Winsorizer\n",
    "from sklearn.model_selection import train_test_split\n",
    "from sklearn.model_selection import GridSearchCV\n",
    "\n",
    "from sklearn.linear_model import Ridge\n",
    "from sklearn.ensemble import RandomForestRegressor\n",
    "from sklearn.linear_model import LinearRegression\n",
    "from sklearn.svm import SVR\n",
    "\n",
    "from sklearn.metrics import mean_absolute_error, mean_squared_error,r2_score\n",
    "\n",
    "from sklearn.pipeline import make_pipeline\n",
    "from sklearn.pipeline import Pipeline\n",
    "from sklearn.compose import ColumnTransformer\n",
    "import pickle "
   ]
  },
  {
   "cell_type": "markdown",
   "metadata": {},
   "source": [
    "# DATA LOADING"
   ]
  },
  {
   "cell_type": "code",
   "execution_count": 2,
   "metadata": {},
   "outputs": [
    {
     "data": {
      "text/html": [
       "<div>\n",
       "<style scoped>\n",
       "    .dataframe tbody tr th:only-of-type {\n",
       "        vertical-align: middle;\n",
       "    }\n",
       "\n",
       "    .dataframe tbody tr th {\n",
       "        vertical-align: top;\n",
       "    }\n",
       "\n",
       "    .dataframe thead th {\n",
       "        text-align: right;\n",
       "    }\n",
       "</style>\n",
       "<table border=\"1\" class=\"dataframe\">\n",
       "  <thead>\n",
       "    <tr style=\"text-align: right;\">\n",
       "      <th></th>\n",
       "      <th>date</th>\n",
       "      <th>Usage_kWh</th>\n",
       "      <th>Lagging_Current_Reactive.Power_kVarh</th>\n",
       "      <th>Leading_Current_Reactive_Power_kVarh</th>\n",
       "      <th>CO2(tCO2)</th>\n",
       "      <th>Lagging_Current_Power_Factor</th>\n",
       "      <th>Leading_Current_Power_Factor</th>\n",
       "      <th>NSM</th>\n",
       "      <th>WeekStatus</th>\n",
       "      <th>Day_of_week</th>\n",
       "      <th>Load_Type</th>\n",
       "    </tr>\n",
       "  </thead>\n",
       "  <tbody>\n",
       "    <tr>\n",
       "      <th>0</th>\n",
       "      <td>01/01/2018 00:15</td>\n",
       "      <td>3.17</td>\n",
       "      <td>2.95</td>\n",
       "      <td>0.00</td>\n",
       "      <td>0.0</td>\n",
       "      <td>73.21</td>\n",
       "      <td>100.00</td>\n",
       "      <td>900</td>\n",
       "      <td>Weekday</td>\n",
       "      <td>Monday</td>\n",
       "      <td>Light_Load</td>\n",
       "    </tr>\n",
       "    <tr>\n",
       "      <th>1</th>\n",
       "      <td>01/01/2018 00:30</td>\n",
       "      <td>4.00</td>\n",
       "      <td>4.46</td>\n",
       "      <td>0.00</td>\n",
       "      <td>0.0</td>\n",
       "      <td>66.77</td>\n",
       "      <td>100.00</td>\n",
       "      <td>1800</td>\n",
       "      <td>Weekday</td>\n",
       "      <td>Monday</td>\n",
       "      <td>Light_Load</td>\n",
       "    </tr>\n",
       "    <tr>\n",
       "      <th>2</th>\n",
       "      <td>01/01/2018 00:45</td>\n",
       "      <td>3.24</td>\n",
       "      <td>3.28</td>\n",
       "      <td>0.00</td>\n",
       "      <td>0.0</td>\n",
       "      <td>70.28</td>\n",
       "      <td>100.00</td>\n",
       "      <td>2700</td>\n",
       "      <td>Weekday</td>\n",
       "      <td>Monday</td>\n",
       "      <td>Light_Load</td>\n",
       "    </tr>\n",
       "    <tr>\n",
       "      <th>3</th>\n",
       "      <td>01/01/2018 01:00</td>\n",
       "      <td>3.31</td>\n",
       "      <td>3.56</td>\n",
       "      <td>0.00</td>\n",
       "      <td>0.0</td>\n",
       "      <td>68.09</td>\n",
       "      <td>100.00</td>\n",
       "      <td>3600</td>\n",
       "      <td>Weekday</td>\n",
       "      <td>Monday</td>\n",
       "      <td>Light_Load</td>\n",
       "    </tr>\n",
       "    <tr>\n",
       "      <th>4</th>\n",
       "      <td>01/01/2018 01:15</td>\n",
       "      <td>3.82</td>\n",
       "      <td>4.50</td>\n",
       "      <td>0.00</td>\n",
       "      <td>0.0</td>\n",
       "      <td>64.72</td>\n",
       "      <td>100.00</td>\n",
       "      <td>4500</td>\n",
       "      <td>Weekday</td>\n",
       "      <td>Monday</td>\n",
       "      <td>Light_Load</td>\n",
       "    </tr>\n",
       "    <tr>\n",
       "      <th>...</th>\n",
       "      <td>...</td>\n",
       "      <td>...</td>\n",
       "      <td>...</td>\n",
       "      <td>...</td>\n",
       "      <td>...</td>\n",
       "      <td>...</td>\n",
       "      <td>...</td>\n",
       "      <td>...</td>\n",
       "      <td>...</td>\n",
       "      <td>...</td>\n",
       "      <td>...</td>\n",
       "    </tr>\n",
       "    <tr>\n",
       "      <th>35035</th>\n",
       "      <td>31/12/2018 23:00</td>\n",
       "      <td>3.85</td>\n",
       "      <td>4.86</td>\n",
       "      <td>0.00</td>\n",
       "      <td>0.0</td>\n",
       "      <td>62.10</td>\n",
       "      <td>100.00</td>\n",
       "      <td>82800</td>\n",
       "      <td>Weekday</td>\n",
       "      <td>Monday</td>\n",
       "      <td>Light_Load</td>\n",
       "    </tr>\n",
       "    <tr>\n",
       "      <th>35036</th>\n",
       "      <td>31/12/2018 23:15</td>\n",
       "      <td>3.74</td>\n",
       "      <td>3.74</td>\n",
       "      <td>0.00</td>\n",
       "      <td>0.0</td>\n",
       "      <td>70.71</td>\n",
       "      <td>100.00</td>\n",
       "      <td>83700</td>\n",
       "      <td>Weekday</td>\n",
       "      <td>Monday</td>\n",
       "      <td>Light_Load</td>\n",
       "    </tr>\n",
       "    <tr>\n",
       "      <th>35037</th>\n",
       "      <td>31/12/2018 23:30</td>\n",
       "      <td>3.78</td>\n",
       "      <td>3.17</td>\n",
       "      <td>0.07</td>\n",
       "      <td>0.0</td>\n",
       "      <td>76.62</td>\n",
       "      <td>99.98</td>\n",
       "      <td>84600</td>\n",
       "      <td>Weekday</td>\n",
       "      <td>Monday</td>\n",
       "      <td>Light_Load</td>\n",
       "    </tr>\n",
       "    <tr>\n",
       "      <th>35038</th>\n",
       "      <td>31/12/2018 23:45</td>\n",
       "      <td>3.78</td>\n",
       "      <td>3.06</td>\n",
       "      <td>0.11</td>\n",
       "      <td>0.0</td>\n",
       "      <td>77.72</td>\n",
       "      <td>99.96</td>\n",
       "      <td>85500</td>\n",
       "      <td>Weekday</td>\n",
       "      <td>Monday</td>\n",
       "      <td>Light_Load</td>\n",
       "    </tr>\n",
       "    <tr>\n",
       "      <th>35039</th>\n",
       "      <td>31/12/2018 00:00</td>\n",
       "      <td>3.67</td>\n",
       "      <td>3.02</td>\n",
       "      <td>0.07</td>\n",
       "      <td>0.0</td>\n",
       "      <td>77.22</td>\n",
       "      <td>99.98</td>\n",
       "      <td>0</td>\n",
       "      <td>Weekday</td>\n",
       "      <td>Monday</td>\n",
       "      <td>Light_Load</td>\n",
       "    </tr>\n",
       "  </tbody>\n",
       "</table>\n",
       "<p>35040 rows × 11 columns</p>\n",
       "</div>"
      ],
      "text/plain": [
       "                   date  Usage_kWh  Lagging_Current_Reactive.Power_kVarh  \\\n",
       "0      01/01/2018 00:15       3.17                                  2.95   \n",
       "1      01/01/2018 00:30       4.00                                  4.46   \n",
       "2      01/01/2018 00:45       3.24                                  3.28   \n",
       "3      01/01/2018 01:00       3.31                                  3.56   \n",
       "4      01/01/2018 01:15       3.82                                  4.50   \n",
       "...                 ...        ...                                   ...   \n",
       "35035  31/12/2018 23:00       3.85                                  4.86   \n",
       "35036  31/12/2018 23:15       3.74                                  3.74   \n",
       "35037  31/12/2018 23:30       3.78                                  3.17   \n",
       "35038  31/12/2018 23:45       3.78                                  3.06   \n",
       "35039  31/12/2018 00:00       3.67                                  3.02   \n",
       "\n",
       "       Leading_Current_Reactive_Power_kVarh  CO2(tCO2)  \\\n",
       "0                                      0.00        0.0   \n",
       "1                                      0.00        0.0   \n",
       "2                                      0.00        0.0   \n",
       "3                                      0.00        0.0   \n",
       "4                                      0.00        0.0   \n",
       "...                                     ...        ...   \n",
       "35035                                  0.00        0.0   \n",
       "35036                                  0.00        0.0   \n",
       "35037                                  0.07        0.0   \n",
       "35038                                  0.11        0.0   \n",
       "35039                                  0.07        0.0   \n",
       "\n",
       "       Lagging_Current_Power_Factor  Leading_Current_Power_Factor    NSM  \\\n",
       "0                             73.21                        100.00    900   \n",
       "1                             66.77                        100.00   1800   \n",
       "2                             70.28                        100.00   2700   \n",
       "3                             68.09                        100.00   3600   \n",
       "4                             64.72                        100.00   4500   \n",
       "...                             ...                           ...    ...   \n",
       "35035                         62.10                        100.00  82800   \n",
       "35036                         70.71                        100.00  83700   \n",
       "35037                         76.62                         99.98  84600   \n",
       "35038                         77.72                         99.96  85500   \n",
       "35039                         77.22                         99.98      0   \n",
       "\n",
       "      WeekStatus Day_of_week   Load_Type  \n",
       "0        Weekday      Monday  Light_Load  \n",
       "1        Weekday      Monday  Light_Load  \n",
       "2        Weekday      Monday  Light_Load  \n",
       "3        Weekday      Monday  Light_Load  \n",
       "4        Weekday      Monday  Light_Load  \n",
       "...          ...         ...         ...  \n",
       "35035    Weekday      Monday  Light_Load  \n",
       "35036    Weekday      Monday  Light_Load  \n",
       "35037    Weekday      Monday  Light_Load  \n",
       "35038    Weekday      Monday  Light_Load  \n",
       "35039    Weekday      Monday  Light_Load  \n",
       "\n",
       "[35040 rows x 11 columns]"
      ]
     },
     "execution_count": 2,
     "metadata": {},
     "output_type": "execute_result"
    }
   ],
   "source": [
    "df = pd.read_csv('Steel_industry_data.csv')\n",
    "df"
   ]
  },
  {
   "cell_type": "code",
   "execution_count": 3,
   "metadata": {},
   "outputs": [
    {
     "name": "stdout",
     "output_type": "stream",
     "text": [
      "<class 'pandas.core.frame.DataFrame'>\n",
      "RangeIndex: 35040 entries, 0 to 35039\n",
      "Data columns (total 11 columns):\n",
      " #   Column                                Non-Null Count  Dtype  \n",
      "---  ------                                --------------  -----  \n",
      " 0   date                                  35040 non-null  object \n",
      " 1   Usage_kWh                             35040 non-null  float64\n",
      " 2   Lagging_Current_Reactive.Power_kVarh  35040 non-null  float64\n",
      " 3   Leading_Current_Reactive_Power_kVarh  35040 non-null  float64\n",
      " 4   CO2(tCO2)                             35040 non-null  float64\n",
      " 5   Lagging_Current_Power_Factor          35040 non-null  float64\n",
      " 6   Leading_Current_Power_Factor          35040 non-null  float64\n",
      " 7   NSM                                   35040 non-null  int64  \n",
      " 8   WeekStatus                            35040 non-null  object \n",
      " 9   Day_of_week                           35040 non-null  object \n",
      " 10  Load_Type                             35040 non-null  object \n",
      "dtypes: float64(6), int64(1), object(4)\n",
      "memory usage: 2.9+ MB\n"
     ]
    }
   ],
   "source": [
    "df.info()"
   ]
  },
  {
   "cell_type": "code",
   "execution_count": 64,
   "metadata": {},
   "outputs": [
    {
     "data": {
      "text/html": [
       "<div>\n",
       "<style scoped>\n",
       "    .dataframe tbody tr th:only-of-type {\n",
       "        vertical-align: middle;\n",
       "    }\n",
       "\n",
       "    .dataframe tbody tr th {\n",
       "        vertical-align: top;\n",
       "    }\n",
       "\n",
       "    .dataframe thead th {\n",
       "        text-align: right;\n",
       "    }\n",
       "</style>\n",
       "<table border=\"1\" class=\"dataframe\">\n",
       "  <thead>\n",
       "    <tr style=\"text-align: right;\">\n",
       "      <th></th>\n",
       "      <th>0</th>\n",
       "      <th>1</th>\n",
       "      <th>2</th>\n",
       "      <th>3</th>\n",
       "      <th>4</th>\n",
       "      <th>5</th>\n",
       "      <th>6</th>\n",
       "      <th>7</th>\n",
       "      <th>8</th>\n",
       "      <th>9</th>\n",
       "      <th>...</th>\n",
       "      <th>35030</th>\n",
       "      <th>35031</th>\n",
       "      <th>35032</th>\n",
       "      <th>35033</th>\n",
       "      <th>35034</th>\n",
       "      <th>35035</th>\n",
       "      <th>35036</th>\n",
       "      <th>35037</th>\n",
       "      <th>35038</th>\n",
       "      <th>35039</th>\n",
       "    </tr>\n",
       "  </thead>\n",
       "  <tbody>\n",
       "    <tr>\n",
       "      <th>date</th>\n",
       "      <td>01/01/2018 00:15</td>\n",
       "      <td>01/01/2018 00:30</td>\n",
       "      <td>01/01/2018 00:45</td>\n",
       "      <td>01/01/2018 01:00</td>\n",
       "      <td>01/01/2018 01:15</td>\n",
       "      <td>01/01/2018 01:30</td>\n",
       "      <td>01/01/2018 01:45</td>\n",
       "      <td>01/01/2018 02:00</td>\n",
       "      <td>01/01/2018 02:15</td>\n",
       "      <td>01/01/2018 02:30</td>\n",
       "      <td>...</td>\n",
       "      <td>31/12/2018 21:45</td>\n",
       "      <td>31/12/2018 22:00</td>\n",
       "      <td>31/12/2018 22:15</td>\n",
       "      <td>31/12/2018 22:30</td>\n",
       "      <td>31/12/2018 22:45</td>\n",
       "      <td>31/12/2018 23:00</td>\n",
       "      <td>31/12/2018 23:15</td>\n",
       "      <td>31/12/2018 23:30</td>\n",
       "      <td>31/12/2018 23:45</td>\n",
       "      <td>31/12/2018 00:00</td>\n",
       "    </tr>\n",
       "    <tr>\n",
       "      <th>Usage_kWh</th>\n",
       "      <td>3.17</td>\n",
       "      <td>4.0</td>\n",
       "      <td>3.24</td>\n",
       "      <td>3.31</td>\n",
       "      <td>3.82</td>\n",
       "      <td>3.28</td>\n",
       "      <td>3.6</td>\n",
       "      <td>3.6</td>\n",
       "      <td>3.28</td>\n",
       "      <td>3.78</td>\n",
       "      <td>...</td>\n",
       "      <td>3.42</td>\n",
       "      <td>3.42</td>\n",
       "      <td>3.24</td>\n",
       "      <td>3.67</td>\n",
       "      <td>3.82</td>\n",
       "      <td>3.85</td>\n",
       "      <td>3.74</td>\n",
       "      <td>3.78</td>\n",
       "      <td>3.78</td>\n",
       "      <td>3.67</td>\n",
       "    </tr>\n",
       "    <tr>\n",
       "      <th>Lagging_Current_Reactive.Power_kVarh</th>\n",
       "      <td>2.95</td>\n",
       "      <td>4.46</td>\n",
       "      <td>3.28</td>\n",
       "      <td>3.56</td>\n",
       "      <td>4.5</td>\n",
       "      <td>3.56</td>\n",
       "      <td>4.14</td>\n",
       "      <td>4.28</td>\n",
       "      <td>3.64</td>\n",
       "      <td>4.72</td>\n",
       "      <td>...</td>\n",
       "      <td>0.0</td>\n",
       "      <td>0.0</td>\n",
       "      <td>3.38</td>\n",
       "      <td>4.43</td>\n",
       "      <td>4.54</td>\n",
       "      <td>4.86</td>\n",
       "      <td>3.74</td>\n",
       "      <td>3.17</td>\n",
       "      <td>3.06</td>\n",
       "      <td>3.02</td>\n",
       "    </tr>\n",
       "    <tr>\n",
       "      <th>Leading_Current_Reactive_Power_kVarh</th>\n",
       "      <td>0.0</td>\n",
       "      <td>0.0</td>\n",
       "      <td>0.0</td>\n",
       "      <td>0.0</td>\n",
       "      <td>0.0</td>\n",
       "      <td>0.0</td>\n",
       "      <td>0.0</td>\n",
       "      <td>0.0</td>\n",
       "      <td>0.0</td>\n",
       "      <td>0.0</td>\n",
       "      <td>...</td>\n",
       "      <td>13.36</td>\n",
       "      <td>13.07</td>\n",
       "      <td>0.22</td>\n",
       "      <td>0.0</td>\n",
       "      <td>0.0</td>\n",
       "      <td>0.0</td>\n",
       "      <td>0.0</td>\n",
       "      <td>0.07</td>\n",
       "      <td>0.11</td>\n",
       "      <td>0.07</td>\n",
       "    </tr>\n",
       "    <tr>\n",
       "      <th>CO2(tCO2)</th>\n",
       "      <td>0.0</td>\n",
       "      <td>0.0</td>\n",
       "      <td>0.0</td>\n",
       "      <td>0.0</td>\n",
       "      <td>0.0</td>\n",
       "      <td>0.0</td>\n",
       "      <td>0.0</td>\n",
       "      <td>0.0</td>\n",
       "      <td>0.0</td>\n",
       "      <td>0.0</td>\n",
       "      <td>...</td>\n",
       "      <td>0.0</td>\n",
       "      <td>0.0</td>\n",
       "      <td>0.0</td>\n",
       "      <td>0.0</td>\n",
       "      <td>0.0</td>\n",
       "      <td>0.0</td>\n",
       "      <td>0.0</td>\n",
       "      <td>0.0</td>\n",
       "      <td>0.0</td>\n",
       "      <td>0.0</td>\n",
       "    </tr>\n",
       "    <tr>\n",
       "      <th>Lagging_Current_Power_Factor</th>\n",
       "      <td>73.21</td>\n",
       "      <td>66.77</td>\n",
       "      <td>70.28</td>\n",
       "      <td>68.09</td>\n",
       "      <td>64.72</td>\n",
       "      <td>67.76</td>\n",
       "      <td>65.62</td>\n",
       "      <td>64.37</td>\n",
       "      <td>66.94</td>\n",
       "      <td>62.51</td>\n",
       "      <td>...</td>\n",
       "      <td>100.0</td>\n",
       "      <td>100.0</td>\n",
       "      <td>69.2</td>\n",
       "      <td>63.8</td>\n",
       "      <td>64.38</td>\n",
       "      <td>62.1</td>\n",
       "      <td>70.71</td>\n",
       "      <td>76.62</td>\n",
       "      <td>77.72</td>\n",
       "      <td>77.22</td>\n",
       "    </tr>\n",
       "    <tr>\n",
       "      <th>Leading_Current_Power_Factor</th>\n",
       "      <td>100.0</td>\n",
       "      <td>100.0</td>\n",
       "      <td>100.0</td>\n",
       "      <td>100.0</td>\n",
       "      <td>100.0</td>\n",
       "      <td>100.0</td>\n",
       "      <td>100.0</td>\n",
       "      <td>100.0</td>\n",
       "      <td>100.0</td>\n",
       "      <td>100.0</td>\n",
       "      <td>...</td>\n",
       "      <td>24.8</td>\n",
       "      <td>25.31</td>\n",
       "      <td>99.77</td>\n",
       "      <td>100.0</td>\n",
       "      <td>100.0</td>\n",
       "      <td>100.0</td>\n",
       "      <td>100.0</td>\n",
       "      <td>99.98</td>\n",
       "      <td>99.96</td>\n",
       "      <td>99.98</td>\n",
       "    </tr>\n",
       "    <tr>\n",
       "      <th>NSM</th>\n",
       "      <td>900</td>\n",
       "      <td>1800</td>\n",
       "      <td>2700</td>\n",
       "      <td>3600</td>\n",
       "      <td>4500</td>\n",
       "      <td>5400</td>\n",
       "      <td>6300</td>\n",
       "      <td>7200</td>\n",
       "      <td>8100</td>\n",
       "      <td>9000</td>\n",
       "      <td>...</td>\n",
       "      <td>78300</td>\n",
       "      <td>79200</td>\n",
       "      <td>80100</td>\n",
       "      <td>81000</td>\n",
       "      <td>81900</td>\n",
       "      <td>82800</td>\n",
       "      <td>83700</td>\n",
       "      <td>84600</td>\n",
       "      <td>85500</td>\n",
       "      <td>0</td>\n",
       "    </tr>\n",
       "    <tr>\n",
       "      <th>WeekStatus</th>\n",
       "      <td>Weekday</td>\n",
       "      <td>Weekday</td>\n",
       "      <td>Weekday</td>\n",
       "      <td>Weekday</td>\n",
       "      <td>Weekday</td>\n",
       "      <td>Weekday</td>\n",
       "      <td>Weekday</td>\n",
       "      <td>Weekday</td>\n",
       "      <td>Weekday</td>\n",
       "      <td>Weekday</td>\n",
       "      <td>...</td>\n",
       "      <td>Weekday</td>\n",
       "      <td>Weekday</td>\n",
       "      <td>Weekday</td>\n",
       "      <td>Weekday</td>\n",
       "      <td>Weekday</td>\n",
       "      <td>Weekday</td>\n",
       "      <td>Weekday</td>\n",
       "      <td>Weekday</td>\n",
       "      <td>Weekday</td>\n",
       "      <td>Weekday</td>\n",
       "    </tr>\n",
       "    <tr>\n",
       "      <th>Day_of_week</th>\n",
       "      <td>Monday</td>\n",
       "      <td>Monday</td>\n",
       "      <td>Monday</td>\n",
       "      <td>Monday</td>\n",
       "      <td>Monday</td>\n",
       "      <td>Monday</td>\n",
       "      <td>Monday</td>\n",
       "      <td>Monday</td>\n",
       "      <td>Monday</td>\n",
       "      <td>Monday</td>\n",
       "      <td>...</td>\n",
       "      <td>Monday</td>\n",
       "      <td>Monday</td>\n",
       "      <td>Monday</td>\n",
       "      <td>Monday</td>\n",
       "      <td>Monday</td>\n",
       "      <td>Monday</td>\n",
       "      <td>Monday</td>\n",
       "      <td>Monday</td>\n",
       "      <td>Monday</td>\n",
       "      <td>Monday</td>\n",
       "    </tr>\n",
       "    <tr>\n",
       "      <th>Load_Type</th>\n",
       "      <td>Light_Load</td>\n",
       "      <td>Light_Load</td>\n",
       "      <td>Light_Load</td>\n",
       "      <td>Light_Load</td>\n",
       "      <td>Light_Load</td>\n",
       "      <td>Light_Load</td>\n",
       "      <td>Light_Load</td>\n",
       "      <td>Light_Load</td>\n",
       "      <td>Light_Load</td>\n",
       "      <td>Light_Load</td>\n",
       "      <td>...</td>\n",
       "      <td>Light_Load</td>\n",
       "      <td>Light_Load</td>\n",
       "      <td>Light_Load</td>\n",
       "      <td>Light_Load</td>\n",
       "      <td>Light_Load</td>\n",
       "      <td>Light_Load</td>\n",
       "      <td>Light_Load</td>\n",
       "      <td>Light_Load</td>\n",
       "      <td>Light_Load</td>\n",
       "      <td>Light_Load</td>\n",
       "    </tr>\n",
       "  </tbody>\n",
       "</table>\n",
       "<p>11 rows × 35040 columns</p>\n",
       "</div>"
      ],
      "text/plain": [
       "                                                 0                 1      \\\n",
       "date                                  01/01/2018 00:15  01/01/2018 00:30   \n",
       "Usage_kWh                                         3.17               4.0   \n",
       "Lagging_Current_Reactive.Power_kVarh              2.95              4.46   \n",
       "Leading_Current_Reactive_Power_kVarh               0.0               0.0   \n",
       "CO2(tCO2)                                          0.0               0.0   \n",
       "Lagging_Current_Power_Factor                     73.21             66.77   \n",
       "Leading_Current_Power_Factor                     100.0             100.0   \n",
       "NSM                                                900              1800   \n",
       "WeekStatus                                     Weekday           Weekday   \n",
       "Day_of_week                                     Monday            Monday   \n",
       "Load_Type                                   Light_Load        Light_Load   \n",
       "\n",
       "                                                 2                 3      \\\n",
       "date                                  01/01/2018 00:45  01/01/2018 01:00   \n",
       "Usage_kWh                                         3.24              3.31   \n",
       "Lagging_Current_Reactive.Power_kVarh              3.28              3.56   \n",
       "Leading_Current_Reactive_Power_kVarh               0.0               0.0   \n",
       "CO2(tCO2)                                          0.0               0.0   \n",
       "Lagging_Current_Power_Factor                     70.28             68.09   \n",
       "Leading_Current_Power_Factor                     100.0             100.0   \n",
       "NSM                                               2700              3600   \n",
       "WeekStatus                                     Weekday           Weekday   \n",
       "Day_of_week                                     Monday            Monday   \n",
       "Load_Type                                   Light_Load        Light_Load   \n",
       "\n",
       "                                                 4                 5      \\\n",
       "date                                  01/01/2018 01:15  01/01/2018 01:30   \n",
       "Usage_kWh                                         3.82              3.28   \n",
       "Lagging_Current_Reactive.Power_kVarh               4.5              3.56   \n",
       "Leading_Current_Reactive_Power_kVarh               0.0               0.0   \n",
       "CO2(tCO2)                                          0.0               0.0   \n",
       "Lagging_Current_Power_Factor                     64.72             67.76   \n",
       "Leading_Current_Power_Factor                     100.0             100.0   \n",
       "NSM                                               4500              5400   \n",
       "WeekStatus                                     Weekday           Weekday   \n",
       "Day_of_week                                     Monday            Monday   \n",
       "Load_Type                                   Light_Load        Light_Load   \n",
       "\n",
       "                                                 6                 7      \\\n",
       "date                                  01/01/2018 01:45  01/01/2018 02:00   \n",
       "Usage_kWh                                          3.6               3.6   \n",
       "Lagging_Current_Reactive.Power_kVarh              4.14              4.28   \n",
       "Leading_Current_Reactive_Power_kVarh               0.0               0.0   \n",
       "CO2(tCO2)                                          0.0               0.0   \n",
       "Lagging_Current_Power_Factor                     65.62             64.37   \n",
       "Leading_Current_Power_Factor                     100.0             100.0   \n",
       "NSM                                               6300              7200   \n",
       "WeekStatus                                     Weekday           Weekday   \n",
       "Day_of_week                                     Monday            Monday   \n",
       "Load_Type                                   Light_Load        Light_Load   \n",
       "\n",
       "                                                 8                 9      ...  \\\n",
       "date                                  01/01/2018 02:15  01/01/2018 02:30  ...   \n",
       "Usage_kWh                                         3.28              3.78  ...   \n",
       "Lagging_Current_Reactive.Power_kVarh              3.64              4.72  ...   \n",
       "Leading_Current_Reactive_Power_kVarh               0.0               0.0  ...   \n",
       "CO2(tCO2)                                          0.0               0.0  ...   \n",
       "Lagging_Current_Power_Factor                     66.94             62.51  ...   \n",
       "Leading_Current_Power_Factor                     100.0             100.0  ...   \n",
       "NSM                                               8100              9000  ...   \n",
       "WeekStatus                                     Weekday           Weekday  ...   \n",
       "Day_of_week                                     Monday            Monday  ...   \n",
       "Load_Type                                   Light_Load        Light_Load  ...   \n",
       "\n",
       "                                                 35030             35031  \\\n",
       "date                                  31/12/2018 21:45  31/12/2018 22:00   \n",
       "Usage_kWh                                         3.42              3.42   \n",
       "Lagging_Current_Reactive.Power_kVarh               0.0               0.0   \n",
       "Leading_Current_Reactive_Power_kVarh             13.36             13.07   \n",
       "CO2(tCO2)                                          0.0               0.0   \n",
       "Lagging_Current_Power_Factor                     100.0             100.0   \n",
       "Leading_Current_Power_Factor                      24.8             25.31   \n",
       "NSM                                              78300             79200   \n",
       "WeekStatus                                     Weekday           Weekday   \n",
       "Day_of_week                                     Monday            Monday   \n",
       "Load_Type                                   Light_Load        Light_Load   \n",
       "\n",
       "                                                 35032             35033  \\\n",
       "date                                  31/12/2018 22:15  31/12/2018 22:30   \n",
       "Usage_kWh                                         3.24              3.67   \n",
       "Lagging_Current_Reactive.Power_kVarh              3.38              4.43   \n",
       "Leading_Current_Reactive_Power_kVarh              0.22               0.0   \n",
       "CO2(tCO2)                                          0.0               0.0   \n",
       "Lagging_Current_Power_Factor                      69.2              63.8   \n",
       "Leading_Current_Power_Factor                     99.77             100.0   \n",
       "NSM                                              80100             81000   \n",
       "WeekStatus                                     Weekday           Weekday   \n",
       "Day_of_week                                     Monday            Monday   \n",
       "Load_Type                                   Light_Load        Light_Load   \n",
       "\n",
       "                                                 35034             35035  \\\n",
       "date                                  31/12/2018 22:45  31/12/2018 23:00   \n",
       "Usage_kWh                                         3.82              3.85   \n",
       "Lagging_Current_Reactive.Power_kVarh              4.54              4.86   \n",
       "Leading_Current_Reactive_Power_kVarh               0.0               0.0   \n",
       "CO2(tCO2)                                          0.0               0.0   \n",
       "Lagging_Current_Power_Factor                     64.38              62.1   \n",
       "Leading_Current_Power_Factor                     100.0             100.0   \n",
       "NSM                                              81900             82800   \n",
       "WeekStatus                                     Weekday           Weekday   \n",
       "Day_of_week                                     Monday            Monday   \n",
       "Load_Type                                   Light_Load        Light_Load   \n",
       "\n",
       "                                                 35036             35037  \\\n",
       "date                                  31/12/2018 23:15  31/12/2018 23:30   \n",
       "Usage_kWh                                         3.74              3.78   \n",
       "Lagging_Current_Reactive.Power_kVarh              3.74              3.17   \n",
       "Leading_Current_Reactive_Power_kVarh               0.0              0.07   \n",
       "CO2(tCO2)                                          0.0               0.0   \n",
       "Lagging_Current_Power_Factor                     70.71             76.62   \n",
       "Leading_Current_Power_Factor                     100.0             99.98   \n",
       "NSM                                              83700             84600   \n",
       "WeekStatus                                     Weekday           Weekday   \n",
       "Day_of_week                                     Monday            Monday   \n",
       "Load_Type                                   Light_Load        Light_Load   \n",
       "\n",
       "                                                 35038             35039  \n",
       "date                                  31/12/2018 23:45  31/12/2018 00:00  \n",
       "Usage_kWh                                         3.78              3.67  \n",
       "Lagging_Current_Reactive.Power_kVarh              3.06              3.02  \n",
       "Leading_Current_Reactive_Power_kVarh              0.11              0.07  \n",
       "CO2(tCO2)                                          0.0               0.0  \n",
       "Lagging_Current_Power_Factor                     77.72             77.22  \n",
       "Leading_Current_Power_Factor                     99.96             99.98  \n",
       "NSM                                              85500                 0  \n",
       "WeekStatus                                     Weekday           Weekday  \n",
       "Day_of_week                                     Monday            Monday  \n",
       "Load_Type                                   Light_Load        Light_Load  \n",
       "\n",
       "[11 rows x 35040 columns]"
      ]
     },
     "execution_count": 64,
     "metadata": {},
     "output_type": "execute_result"
    }
   ],
   "source": [
    "df.T"
   ]
  },
  {
   "cell_type": "code",
   "execution_count": 4,
   "metadata": {},
   "outputs": [
    {
     "data": {
      "text/html": [
       "<div>\n",
       "<style scoped>\n",
       "    .dataframe tbody tr th:only-of-type {\n",
       "        vertical-align: middle;\n",
       "    }\n",
       "\n",
       "    .dataframe tbody tr th {\n",
       "        vertical-align: top;\n",
       "    }\n",
       "\n",
       "    .dataframe thead th {\n",
       "        text-align: right;\n",
       "    }\n",
       "</style>\n",
       "<table border=\"1\" class=\"dataframe\">\n",
       "  <thead>\n",
       "    <tr style=\"text-align: right;\">\n",
       "      <th></th>\n",
       "      <th>Usage_kWh</th>\n",
       "      <th>Lagging_Current_Reactive.Power_kVarh</th>\n",
       "      <th>Leading_Current_Reactive_Power_kVarh</th>\n",
       "      <th>CO2(tCO2)</th>\n",
       "      <th>Lagging_Current_Power_Factor</th>\n",
       "      <th>Leading_Current_Power_Factor</th>\n",
       "      <th>NSM</th>\n",
       "    </tr>\n",
       "  </thead>\n",
       "  <tbody>\n",
       "    <tr>\n",
       "      <th>count</th>\n",
       "      <td>35040.000000</td>\n",
       "      <td>35040.000000</td>\n",
       "      <td>35040.000000</td>\n",
       "      <td>35040.000000</td>\n",
       "      <td>35040.000000</td>\n",
       "      <td>35040.000000</td>\n",
       "      <td>35040.000000</td>\n",
       "    </tr>\n",
       "    <tr>\n",
       "      <th>mean</th>\n",
       "      <td>27.386892</td>\n",
       "      <td>13.035384</td>\n",
       "      <td>3.870949</td>\n",
       "      <td>0.011524</td>\n",
       "      <td>80.578056</td>\n",
       "      <td>84.367870</td>\n",
       "      <td>42750.000000</td>\n",
       "    </tr>\n",
       "    <tr>\n",
       "      <th>std</th>\n",
       "      <td>33.444380</td>\n",
       "      <td>16.306000</td>\n",
       "      <td>7.424463</td>\n",
       "      <td>0.016151</td>\n",
       "      <td>18.921322</td>\n",
       "      <td>30.456535</td>\n",
       "      <td>24940.534317</td>\n",
       "    </tr>\n",
       "    <tr>\n",
       "      <th>min</th>\n",
       "      <td>0.000000</td>\n",
       "      <td>0.000000</td>\n",
       "      <td>0.000000</td>\n",
       "      <td>0.000000</td>\n",
       "      <td>0.000000</td>\n",
       "      <td>0.000000</td>\n",
       "      <td>0.000000</td>\n",
       "    </tr>\n",
       "    <tr>\n",
       "      <th>25%</th>\n",
       "      <td>3.200000</td>\n",
       "      <td>2.300000</td>\n",
       "      <td>0.000000</td>\n",
       "      <td>0.000000</td>\n",
       "      <td>63.320000</td>\n",
       "      <td>99.700000</td>\n",
       "      <td>21375.000000</td>\n",
       "    </tr>\n",
       "    <tr>\n",
       "      <th>50%</th>\n",
       "      <td>4.570000</td>\n",
       "      <td>5.000000</td>\n",
       "      <td>0.000000</td>\n",
       "      <td>0.000000</td>\n",
       "      <td>87.960000</td>\n",
       "      <td>100.000000</td>\n",
       "      <td>42750.000000</td>\n",
       "    </tr>\n",
       "    <tr>\n",
       "      <th>75%</th>\n",
       "      <td>51.237500</td>\n",
       "      <td>22.640000</td>\n",
       "      <td>2.090000</td>\n",
       "      <td>0.020000</td>\n",
       "      <td>99.022500</td>\n",
       "      <td>100.000000</td>\n",
       "      <td>64125.000000</td>\n",
       "    </tr>\n",
       "    <tr>\n",
       "      <th>max</th>\n",
       "      <td>157.180000</td>\n",
       "      <td>96.910000</td>\n",
       "      <td>27.760000</td>\n",
       "      <td>0.070000</td>\n",
       "      <td>100.000000</td>\n",
       "      <td>100.000000</td>\n",
       "      <td>85500.000000</td>\n",
       "    </tr>\n",
       "  </tbody>\n",
       "</table>\n",
       "</div>"
      ],
      "text/plain": [
       "          Usage_kWh  Lagging_Current_Reactive.Power_kVarh  \\\n",
       "count  35040.000000                          35040.000000   \n",
       "mean      27.386892                             13.035384   \n",
       "std       33.444380                             16.306000   \n",
       "min        0.000000                              0.000000   \n",
       "25%        3.200000                              2.300000   \n",
       "50%        4.570000                              5.000000   \n",
       "75%       51.237500                             22.640000   \n",
       "max      157.180000                             96.910000   \n",
       "\n",
       "       Leading_Current_Reactive_Power_kVarh     CO2(tCO2)  \\\n",
       "count                          35040.000000  35040.000000   \n",
       "mean                               3.870949      0.011524   \n",
       "std                                7.424463      0.016151   \n",
       "min                                0.000000      0.000000   \n",
       "25%                                0.000000      0.000000   \n",
       "50%                                0.000000      0.000000   \n",
       "75%                                2.090000      0.020000   \n",
       "max                               27.760000      0.070000   \n",
       "\n",
       "       Lagging_Current_Power_Factor  Leading_Current_Power_Factor  \\\n",
       "count                  35040.000000                  35040.000000   \n",
       "mean                      80.578056                     84.367870   \n",
       "std                       18.921322                     30.456535   \n",
       "min                        0.000000                      0.000000   \n",
       "25%                       63.320000                     99.700000   \n",
       "50%                       87.960000                    100.000000   \n",
       "75%                       99.022500                    100.000000   \n",
       "max                      100.000000                    100.000000   \n",
       "\n",
       "                NSM  \n",
       "count  35040.000000  \n",
       "mean   42750.000000  \n",
       "std    24940.534317  \n",
       "min        0.000000  \n",
       "25%    21375.000000  \n",
       "50%    42750.000000  \n",
       "75%    64125.000000  \n",
       "max    85500.000000  "
      ]
     },
     "execution_count": 4,
     "metadata": {},
     "output_type": "execute_result"
    }
   ],
   "source": [
    "df.describe()"
   ]
  },
  {
   "cell_type": "markdown",
   "metadata": {},
   "source": [
    "Tidak ada missing values pada dataset ini dan untuk kolom date perlu diubah kedalam datetime"
   ]
  },
  {
   "cell_type": "code",
   "execution_count": 5,
   "metadata": {},
   "outputs": [],
   "source": [
    "# copy data\n",
    "dfc = df.copy()"
   ]
  },
  {
   "cell_type": "code",
   "execution_count": 6,
   "metadata": {},
   "outputs": [],
   "source": [
    "# ubah kolom date ke datetime\n",
    "dfc['date'] = pd.to_datetime(dfc['date'], format =\"%d/%m/%Y %H:%M\")\n"
   ]
  },
  {
   "cell_type": "code",
   "execution_count": 7,
   "metadata": {},
   "outputs": [
    {
     "data": {
      "text/html": [
       "<div>\n",
       "<style scoped>\n",
       "    .dataframe tbody tr th:only-of-type {\n",
       "        vertical-align: middle;\n",
       "    }\n",
       "\n",
       "    .dataframe tbody tr th {\n",
       "        vertical-align: top;\n",
       "    }\n",
       "\n",
       "    .dataframe thead th {\n",
       "        text-align: right;\n",
       "    }\n",
       "</style>\n",
       "<table border=\"1\" class=\"dataframe\">\n",
       "  <thead>\n",
       "    <tr style=\"text-align: right;\">\n",
       "      <th></th>\n",
       "      <th>date</th>\n",
       "      <th>Usage_kWh</th>\n",
       "      <th>Lagging_Current_Reactive.Power_kVarh</th>\n",
       "      <th>Leading_Current_Reactive_Power_kVarh</th>\n",
       "      <th>CO2(tCO2)</th>\n",
       "      <th>Lagging_Current_Power_Factor</th>\n",
       "      <th>Leading_Current_Power_Factor</th>\n",
       "      <th>NSM</th>\n",
       "      <th>WeekStatus</th>\n",
       "      <th>Day_of_week</th>\n",
       "      <th>Load_Type</th>\n",
       "    </tr>\n",
       "  </thead>\n",
       "  <tbody>\n",
       "    <tr>\n",
       "      <th>0</th>\n",
       "      <td>2018-01-01 00:15:00</td>\n",
       "      <td>3.17</td>\n",
       "      <td>2.95</td>\n",
       "      <td>0.0</td>\n",
       "      <td>0.0</td>\n",
       "      <td>73.21</td>\n",
       "      <td>100.0</td>\n",
       "      <td>900</td>\n",
       "      <td>Weekday</td>\n",
       "      <td>Monday</td>\n",
       "      <td>Light_Load</td>\n",
       "    </tr>\n",
       "    <tr>\n",
       "      <th>1</th>\n",
       "      <td>2018-01-01 00:30:00</td>\n",
       "      <td>4.00</td>\n",
       "      <td>4.46</td>\n",
       "      <td>0.0</td>\n",
       "      <td>0.0</td>\n",
       "      <td>66.77</td>\n",
       "      <td>100.0</td>\n",
       "      <td>1800</td>\n",
       "      <td>Weekday</td>\n",
       "      <td>Monday</td>\n",
       "      <td>Light_Load</td>\n",
       "    </tr>\n",
       "    <tr>\n",
       "      <th>2</th>\n",
       "      <td>2018-01-01 00:45:00</td>\n",
       "      <td>3.24</td>\n",
       "      <td>3.28</td>\n",
       "      <td>0.0</td>\n",
       "      <td>0.0</td>\n",
       "      <td>70.28</td>\n",
       "      <td>100.0</td>\n",
       "      <td>2700</td>\n",
       "      <td>Weekday</td>\n",
       "      <td>Monday</td>\n",
       "      <td>Light_Load</td>\n",
       "    </tr>\n",
       "    <tr>\n",
       "      <th>3</th>\n",
       "      <td>2018-01-01 01:00:00</td>\n",
       "      <td>3.31</td>\n",
       "      <td>3.56</td>\n",
       "      <td>0.0</td>\n",
       "      <td>0.0</td>\n",
       "      <td>68.09</td>\n",
       "      <td>100.0</td>\n",
       "      <td>3600</td>\n",
       "      <td>Weekday</td>\n",
       "      <td>Monday</td>\n",
       "      <td>Light_Load</td>\n",
       "    </tr>\n",
       "    <tr>\n",
       "      <th>4</th>\n",
       "      <td>2018-01-01 01:15:00</td>\n",
       "      <td>3.82</td>\n",
       "      <td>4.50</td>\n",
       "      <td>0.0</td>\n",
       "      <td>0.0</td>\n",
       "      <td>64.72</td>\n",
       "      <td>100.0</td>\n",
       "      <td>4500</td>\n",
       "      <td>Weekday</td>\n",
       "      <td>Monday</td>\n",
       "      <td>Light_Load</td>\n",
       "    </tr>\n",
       "  </tbody>\n",
       "</table>\n",
       "</div>"
      ],
      "text/plain": [
       "                 date  Usage_kWh  Lagging_Current_Reactive.Power_kVarh  \\\n",
       "0 2018-01-01 00:15:00       3.17                                  2.95   \n",
       "1 2018-01-01 00:30:00       4.00                                  4.46   \n",
       "2 2018-01-01 00:45:00       3.24                                  3.28   \n",
       "3 2018-01-01 01:00:00       3.31                                  3.56   \n",
       "4 2018-01-01 01:15:00       3.82                                  4.50   \n",
       "\n",
       "   Leading_Current_Reactive_Power_kVarh  CO2(tCO2)  \\\n",
       "0                                   0.0        0.0   \n",
       "1                                   0.0        0.0   \n",
       "2                                   0.0        0.0   \n",
       "3                                   0.0        0.0   \n",
       "4                                   0.0        0.0   \n",
       "\n",
       "   Lagging_Current_Power_Factor  Leading_Current_Power_Factor   NSM  \\\n",
       "0                         73.21                         100.0   900   \n",
       "1                         66.77                         100.0  1800   \n",
       "2                         70.28                         100.0  2700   \n",
       "3                         68.09                         100.0  3600   \n",
       "4                         64.72                         100.0  4500   \n",
       "\n",
       "  WeekStatus Day_of_week   Load_Type  \n",
       "0    Weekday      Monday  Light_Load  \n",
       "1    Weekday      Monday  Light_Load  \n",
       "2    Weekday      Monday  Light_Load  \n",
       "3    Weekday      Monday  Light_Load  \n",
       "4    Weekday      Monday  Light_Load  "
      ]
     },
     "execution_count": 7,
     "metadata": {},
     "output_type": "execute_result"
    }
   ],
   "source": [
    "# cek data kembali\n",
    "dfc.head()"
   ]
  },
  {
   "cell_type": "code",
   "execution_count": 8,
   "metadata": {},
   "outputs": [],
   "source": [
    "# rename kolom 2 dan 3\n",
    "dfc.rename(columns={'Lagging_Current_Reactive.Power_kVarh':'Lagging_CRV_kVarh',\n",
    "                        'Leading_Current_Reactive_Power_kVarh':'Leading_CRV_kVarh'}, inplace= True)"
   ]
  },
  {
   "cell_type": "code",
   "execution_count": 9,
   "metadata": {},
   "outputs": [
    {
     "name": "stdout",
     "output_type": "stream",
     "text": [
      "<class 'pandas.core.frame.DataFrame'>\n",
      "RangeIndex: 35040 entries, 0 to 35039\n",
      "Data columns (total 11 columns):\n",
      " #   Column                        Non-Null Count  Dtype         \n",
      "---  ------                        --------------  -----         \n",
      " 0   date                          35040 non-null  datetime64[ns]\n",
      " 1   Usage_kWh                     35040 non-null  float64       \n",
      " 2   Lagging_CRV_kVarh             35040 non-null  float64       \n",
      " 3   Leading_CRV_kVarh             35040 non-null  float64       \n",
      " 4   CO2(tCO2)                     35040 non-null  float64       \n",
      " 5   Lagging_Current_Power_Factor  35040 non-null  float64       \n",
      " 6   Leading_Current_Power_Factor  35040 non-null  float64       \n",
      " 7   NSM                           35040 non-null  int64         \n",
      " 8   WeekStatus                    35040 non-null  object        \n",
      " 9   Day_of_week                   35040 non-null  object        \n",
      " 10  Load_Type                     35040 non-null  object        \n",
      "dtypes: datetime64[ns](1), float64(6), int64(1), object(3)\n",
      "memory usage: 2.9+ MB\n"
     ]
    }
   ],
   "source": [
    "dfc.info()"
   ]
  },
  {
   "cell_type": "markdown",
   "metadata": {},
   "source": [
    "kolom date telah berubah kedalam format datetime"
   ]
  },
  {
   "cell_type": "markdown",
   "metadata": {},
   "source": [
    "## EDA\n",
    "\n",
    "1. Ingin melihat bagaimana daya terpakai berdasarkan bulan"
   ]
  },
  {
   "cell_type": "code",
   "execution_count": 10,
   "metadata": {},
   "outputs": [],
   "source": [
    "# menambahkan kolom bulan\n",
    "\n",
    "dfc['month']= dfc['date'].dt.month"
   ]
  },
  {
   "cell_type": "code",
   "execution_count": 11,
   "metadata": {},
   "outputs": [
    {
     "data": {
      "image/png": "[encoded data removed]",
      "text/plain": [
       "<Figure size 432x288 with 1 Axes>"
      ]
     },
     "metadata": {
      "needs_background": "light"
     },
     "output_type": "display_data"
    }
   ],
   "source": [
    "dfc.groupby('month').sum()[['Usage_kWh']].plot()\n",
    "plt.title(' Usage kWh per month')\n",
    "plt.ylabel('kWh')\n",
    "plt.rcParams[\"figure.figsize\"] = (15,8)\n",
    "plt.grid()\n"
   ]
  },
  {
   "cell_type": "markdown",
   "metadata": {},
   "source": [
    "Berdasarkan plot diatas, kita menjadi tahu bahwa konsumnsi listrik pada bulan pertama sangat tinggi dan kemudian mengalami penurunan yang signifikan pada bulan setelahnya. terdapat fluktuatif nilai disana dan pada bulan 9 dan 12 menjadi titik terendah konsumsi listrik.\n",
    "\n",
    "Kemudian kita akan cek bagaimana konsumsi listrik berdasarkan hari\n"
   ]
  },
  {
   "cell_type": "code",
   "execution_count": 12,
   "metadata": {},
   "outputs": [
    {
     "data": {
      "text/plain": [
       "<AxesSubplot:xlabel='Day_of_week'>"
      ]
     },
     "execution_count": 12,
     "metadata": {},
     "output_type": "execute_result"
    },
    {
     "data": {
      "image/png": "[encoded data removed]",
      "text/plain": [
       "<Figure size 1080x576 with 1 Axes>"
      ]
     },
     "metadata": {
      "needs_background": "light"
     },
     "output_type": "display_data"
    }
   ],
   "source": [
    "EDA_1 = dfc.groupby('Day_of_week').sum()[['Usage_kWh']].plot(kind = 'bar')\n",
    "EDA_1"
   ]
  },
  {
   "cell_type": "markdown",
   "metadata": {},
   "source": [
    "Kita akan lihat pada hari senin hingga jumat. pada hari-hari tersebut, jumlah konsumsi listrik tidak jauh berbeda jumlahnya. Konsumsi listrik tertinggi kita bisa lihat ada pada hari Kamis/thursday\n",
    "\n",
    "2. bagaimana rerata konsumsi listrik tiap load type"
   ]
  },
  {
   "cell_type": "code",
   "execution_count": 13,
   "metadata": {},
   "outputs": [
    {
     "data": {
      "text/plain": [
       "<AxesSubplot:xlabel='Load_Type'>"
      ]
     },
     "execution_count": 13,
     "metadata": {},
     "output_type": "execute_result"
    },
    {
     "data": {
      "image/png": "[encoded data removed]",
      "text/plain": [
       "<Figure size 1080x576 with 1 Axes>"
      ]
     },
     "metadata": {
      "needs_background": "light"
     },
     "output_type": "display_data"
    }
   ],
   "source": [
    "EDA_2 = dfc.groupby('Load_Type').mean()[['Usage_kWh']].plot(kind = 'bar')\n",
    "EDA_2"
   ]
  },
  {
   "cell_type": "markdown",
   "metadata": {},
   "source": [
    "Berdasarkan data diatas kitaa ketahui bahwa rerata untuk tiap tipe load. untuk medium load ini bisa dikatakan hampir setengah dari maximum load sedangkan untuk light load ini tidak ada setengvah dari medium load. dapat dikatakan pada medium load ini titik data terbanyak ada di rentang atas tipe tersebut atau pada light load banyak titik data yang berada pada rentang bawahnya sehingga menghasilkan rerata yang tidak setengah dari medium load\n",
    "\n",
    "3. Bagaimana konsumsi listrik berdasarkan weekstatus"
   ]
  },
  {
   "cell_type": "code",
   "execution_count": 14,
   "metadata": {},
   "outputs": [
    {
     "data": {
      "text/plain": [
       "<AxesSubplot:xlabel='WeekStatus'>"
      ]
     },
     "execution_count": 14,
     "metadata": {},
     "output_type": "execute_result"
    },
    {
     "data": {
      "image/png": "[encoded data removed]",
      "text/plain": [
       "<Figure size 1080x576 with 1 Axes>"
      ]
     },
     "metadata": {
      "needs_background": "light"
     },
     "output_type": "display_data"
    }
   ],
   "source": [
    "EDA_3 = dfc.groupby('WeekStatus').sum()[['Usage_kWh']].plot(kind = 'bar')\n",
    "EDA_3"
   ]
  },
  {
   "cell_type": "markdown",
   "metadata": {},
   "source": [
    "Berdasarkan grafik, konsumsi listrik pada saat weekdays jauh lebih tinggi dari weekend, hal ini wajar karena pada weekdays tentunya banyak sekali mesin yang bekerja sedangkan pada weekend konsumsi listrik kecil karena tidak ada mesin bekerja"
   ]
  },
  {
   "cell_type": "markdown",
   "metadata": {},
   "source": [
    "4. Bagaimanakah pengaruh kvarh lagging current dan leading current terhadap konsumsi listrik?"
   ]
  },
  {
   "cell_type": "code",
   "execution_count": 15,
   "metadata": {},
   "outputs": [
    {
     "data": {
      "text/plain": [
       "<matplotlib.collections.PathCollection at 0x256e6a14a00>"
      ]
     },
     "execution_count": 15,
     "metadata": {},
     "output_type": "execute_result"
    },
    {
     "data": {
      "image/png": "[encoded data removed]",
      "text/plain": [
       "<Figure size 1080x576 with 1 Axes>"
      ]
     },
     "metadata": {
      "needs_background": "light"
     },
     "output_type": "display_data"
    }
   ],
   "source": [
    "# plotting leading_CRV_kvarh terhadap usage kWh\n",
    "plt.scatter(dfc.Leading_CRV_kVarh, \n",
    "            dfc.Usage_kWh, \n",
    "            c=\"salmon\") \n"
   ]
  },
  {
   "cell_type": "code",
   "execution_count": 16,
   "metadata": {},
   "outputs": [
    {
     "data": {
      "text/plain": [
       "<matplotlib.collections.PathCollection at 0x256e6a04d90>"
      ]
     },
     "execution_count": 16,
     "metadata": {},
     "output_type": "execute_result"
    },
    {
     "data": {
      "image/png": "[encoded data removed]",
      "text/plain": [
       "<Figure size 1080x576 with 1 Axes>"
      ]
     },
     "metadata": {
      "needs_background": "light"
     },
     "output_type": "display_data"
    }
   ],
   "source": [
    "# plotting lagging_CRV_kvarh terhadap usage kWh\n",
    "plt.scatter(dfc.Lagging_CRV_kVarh, \n",
    "            dfc.Usage_kWh, \n",
    "            c=\"lightblue\") "
   ]
  },
  {
   "cell_type": "markdown",
   "metadata": {},
   "source": [
    "Berdasarkan 2 gambar diatas, leading current power kvarh ini tidak terlalu berkorelasi dengan usage kwh sehingga tingkat konsumsi listrik tidak mempengaruhi kvarh leading current dan sebaaliknyaa. namun, untuk lagging current power kvarh terlihat memiliki korelasi denga konsumsi listrik. hal ini bisa kita lihat dengan grafik yang membentuk garis diagonal sehingga ketika konsumsi listirik naik, ada kecenderungan lagging current kvarh juga naik.\n",
    "\n",
    "5. Terjadinya laagging current per harinya bagaimana?"
   ]
  },
  {
   "cell_type": "code",
   "execution_count": 17,
   "metadata": {},
   "outputs": [
    {
     "data": {
      "text/plain": [
       "<AxesSubplot:xlabel='Day_of_week'>"
      ]
     },
     "execution_count": 17,
     "metadata": {},
     "output_type": "execute_result"
    },
    {
     "data": {
      "image/png": "[encoded data removed]",
      "text/plain": [
       "<Figure size 1080x576 with 1 Axes>"
      ]
     },
     "metadata": {
      "needs_background": "light"
     },
     "output_type": "display_data"
    }
   ],
   "source": [
    "EDA_5 = dfc.groupby('Day_of_week').sum()[['Lagging_CRV_kVarh']].plot(kind = 'bar')\n",
    "EDA_5"
   ]
  },
  {
   "cell_type": "markdown",
   "metadata": {},
   "source": [
    "Berdasaarkan grafik diatas, terlihat bahwa hsailnya sangat mirip dengan grafik antara konsumsi listrik perhartinya sehingga kita yakin bahwa lagging current ini berkorelasi tinggi dengan tingkat konsumsi listrik."
   ]
  },
  {
   "cell_type": "code",
   "execution_count": 18,
   "metadata": {},
   "outputs": [
    {
     "data": {
      "text/plain": [
       "<AxesSubplot:>"
      ]
     },
     "execution_count": 18,
     "metadata": {},
     "output_type": "execute_result"
    },
    {
     "data": {
      "image/png": "[encoded data removed]",
      "text/plain": [
       "<Figure size 1440x720 with 2 Axes>"
      ]
     },
     "metadata": {},
     "output_type": "display_data"
    }
   ],
   "source": [
    "sns.set(rc = {'figure.figsize':(20,10)})\n",
    "sns.heatmap(dfc.corr(),annot=True)"
   ]
  },
  {
   "cell_type": "markdown",
   "metadata": {},
   "source": [
    "Ploting heatmap diatas menunjukkan korelasi antara fitur dari dataset ini. ketika nilainya mendekati 1 maka korelasi yang terbentuk semakin tinggi dan begitu juga dengan sebaliknya. Contohnya pada korelasi antara Usage_kWh dengan leading current power factor memiliki korelasi 0.35 yang artinya keduanya memiliki korelasi yang cukup tinggi sebesar 0.35 dari 1"
   ]
  },
  {
   "cell_type": "markdown",
   "metadata": {},
   "source": [
    "## DATA PREPROCESSING"
   ]
  },
  {
   "cell_type": "code",
   "execution_count": 19,
   "metadata": {},
   "outputs": [],
   "source": [
    "# copy data kembali\n",
    "datacopy= dfc.copy()"
   ]
  },
  {
   "cell_type": "code",
   "execution_count": 20,
   "metadata": {},
   "outputs": [],
   "source": [
    "# drop kolom date\n",
    "datacopy.drop(columns = 'date', inplace = True)"
   ]
  },
  {
   "cell_type": "code",
   "execution_count": 21,
   "metadata": {},
   "outputs": [
    {
     "data": {
      "text/html": [
       "<div>\n",
       "<style scoped>\n",
       "    .dataframe tbody tr th:only-of-type {\n",
       "        vertical-align: middle;\n",
       "    }\n",
       "\n",
       "    .dataframe tbody tr th {\n",
       "        vertical-align: top;\n",
       "    }\n",
       "\n",
       "    .dataframe thead th {\n",
       "        text-align: right;\n",
       "    }\n",
       "</style>\n",
       "<table border=\"1\" class=\"dataframe\">\n",
       "  <thead>\n",
       "    <tr style=\"text-align: right;\">\n",
       "      <th></th>\n",
       "      <th>Usage_kWh</th>\n",
       "      <th>Lagging_CRV_kVarh</th>\n",
       "      <th>Leading_CRV_kVarh</th>\n",
       "      <th>CO2(tCO2)</th>\n",
       "      <th>Lagging_Current_Power_Factor</th>\n",
       "      <th>Leading_Current_Power_Factor</th>\n",
       "      <th>NSM</th>\n",
       "      <th>WeekStatus</th>\n",
       "      <th>Day_of_week</th>\n",
       "      <th>Load_Type</th>\n",
       "      <th>month</th>\n",
       "    </tr>\n",
       "  </thead>\n",
       "  <tbody>\n",
       "    <tr>\n",
       "      <th>0</th>\n",
       "      <td>3.17</td>\n",
       "      <td>2.95</td>\n",
       "      <td>0.0</td>\n",
       "      <td>0.0</td>\n",
       "      <td>73.21</td>\n",
       "      <td>100.0</td>\n",
       "      <td>900</td>\n",
       "      <td>Weekday</td>\n",
       "      <td>Monday</td>\n",
       "      <td>Light_Load</td>\n",
       "      <td>1</td>\n",
       "    </tr>\n",
       "    <tr>\n",
       "      <th>1</th>\n",
       "      <td>4.00</td>\n",
       "      <td>4.46</td>\n",
       "      <td>0.0</td>\n",
       "      <td>0.0</td>\n",
       "      <td>66.77</td>\n",
       "      <td>100.0</td>\n",
       "      <td>1800</td>\n",
       "      <td>Weekday</td>\n",
       "      <td>Monday</td>\n",
       "      <td>Light_Load</td>\n",
       "      <td>1</td>\n",
       "    </tr>\n",
       "    <tr>\n",
       "      <th>2</th>\n",
       "      <td>3.24</td>\n",
       "      <td>3.28</td>\n",
       "      <td>0.0</td>\n",
       "      <td>0.0</td>\n",
       "      <td>70.28</td>\n",
       "      <td>100.0</td>\n",
       "      <td>2700</td>\n",
       "      <td>Weekday</td>\n",
       "      <td>Monday</td>\n",
       "      <td>Light_Load</td>\n",
       "      <td>1</td>\n",
       "    </tr>\n",
       "    <tr>\n",
       "      <th>3</th>\n",
       "      <td>3.31</td>\n",
       "      <td>3.56</td>\n",
       "      <td>0.0</td>\n",
       "      <td>0.0</td>\n",
       "      <td>68.09</td>\n",
       "      <td>100.0</td>\n",
       "      <td>3600</td>\n",
       "      <td>Weekday</td>\n",
       "      <td>Monday</td>\n",
       "      <td>Light_Load</td>\n",
       "      <td>1</td>\n",
       "    </tr>\n",
       "    <tr>\n",
       "      <th>4</th>\n",
       "      <td>3.82</td>\n",
       "      <td>4.50</td>\n",
       "      <td>0.0</td>\n",
       "      <td>0.0</td>\n",
       "      <td>64.72</td>\n",
       "      <td>100.0</td>\n",
       "      <td>4500</td>\n",
       "      <td>Weekday</td>\n",
       "      <td>Monday</td>\n",
       "      <td>Light_Load</td>\n",
       "      <td>1</td>\n",
       "    </tr>\n",
       "  </tbody>\n",
       "</table>\n",
       "</div>"
      ],
      "text/plain": [
       "   Usage_kWh  Lagging_CRV_kVarh  Leading_CRV_kVarh  CO2(tCO2)  \\\n",
       "0       3.17               2.95                0.0        0.0   \n",
       "1       4.00               4.46                0.0        0.0   \n",
       "2       3.24               3.28                0.0        0.0   \n",
       "3       3.31               3.56                0.0        0.0   \n",
       "4       3.82               4.50                0.0        0.0   \n",
       "\n",
       "   Lagging_Current_Power_Factor  Leading_Current_Power_Factor   NSM  \\\n",
       "0                         73.21                         100.0   900   \n",
       "1                         66.77                         100.0  1800   \n",
       "2                         70.28                         100.0  2700   \n",
       "3                         68.09                         100.0  3600   \n",
       "4                         64.72                         100.0  4500   \n",
       "\n",
       "  WeekStatus Day_of_week   Load_Type  month  \n",
       "0    Weekday      Monday  Light_Load      1  \n",
       "1    Weekday      Monday  Light_Load      1  \n",
       "2    Weekday      Monday  Light_Load      1  \n",
       "3    Weekday      Monday  Light_Load      1  \n",
       "4    Weekday      Monday  Light_Load      1  "
      ]
     },
     "execution_count": 21,
     "metadata": {},
     "output_type": "execute_result"
    }
   ],
   "source": [
    "datacopy.head()"
   ]
  },
  {
   "cell_type": "code",
   "execution_count": 22,
   "metadata": {},
   "outputs": [
    {
     "name": "stdout",
     "output_type": "stream",
     "text": [
      "<class 'pandas.core.frame.DataFrame'>\n",
      "RangeIndex: 35040 entries, 0 to 35039\n",
      "Data columns (total 11 columns):\n",
      " #   Column                        Non-Null Count  Dtype  \n",
      "---  ------                        --------------  -----  \n",
      " 0   Usage_kWh                     35040 non-null  float64\n",
      " 1   Lagging_CRV_kVarh             35040 non-null  float64\n",
      " 2   Leading_CRV_kVarh             35040 non-null  float64\n",
      " 3   CO2(tCO2)                     35040 non-null  float64\n",
      " 4   Lagging_Current_Power_Factor  35040 non-null  float64\n",
      " 5   Leading_Current_Power_Factor  35040 non-null  float64\n",
      " 6   NSM                           35040 non-null  int64  \n",
      " 7   WeekStatus                    35040 non-null  object \n",
      " 8   Day_of_week                   35040 non-null  object \n",
      " 9   Load_Type                     35040 non-null  object \n",
      " 10  month                         35040 non-null  int64  \n",
      "dtypes: float64(6), int64(2), object(3)\n",
      "memory usage: 2.9+ MB\n"
     ]
    }
   ],
   "source": [
    "# cek info data\n",
    "datacopy.info()"
   ]
  },
  {
   "cell_type": "markdown",
   "metadata": {},
   "source": [
    "### Data inference"
   ]
  },
  {
   "cell_type": "code",
   "execution_count": 23,
   "metadata": {},
   "outputs": [
    {
     "data": {
      "text/html": [
       "<div>\n",
       "<style scoped>\n",
       "    .dataframe tbody tr th:only-of-type {\n",
       "        vertical-align: middle;\n",
       "    }\n",
       "\n",
       "    .dataframe tbody tr th {\n",
       "        vertical-align: top;\n",
       "    }\n",
       "\n",
       "    .dataframe thead th {\n",
       "        text-align: right;\n",
       "    }\n",
       "</style>\n",
       "<table border=\"1\" class=\"dataframe\">\n",
       "  <thead>\n",
       "    <tr style=\"text-align: right;\">\n",
       "      <th></th>\n",
       "      <th>Usage_kWh</th>\n",
       "      <th>Lagging_CRV_kVarh</th>\n",
       "      <th>Leading_CRV_kVarh</th>\n",
       "      <th>CO2(tCO2)</th>\n",
       "      <th>Lagging_Current_Power_Factor</th>\n",
       "      <th>Leading_Current_Power_Factor</th>\n",
       "      <th>NSM</th>\n",
       "      <th>WeekStatus</th>\n",
       "      <th>Day_of_week</th>\n",
       "      <th>Load_Type</th>\n",
       "      <th>month</th>\n",
       "    </tr>\n",
       "  </thead>\n",
       "  <tbody>\n",
       "    <tr>\n",
       "      <th>21863</th>\n",
       "      <td>28.08</td>\n",
       "      <td>0.14</td>\n",
       "      <td>3.10</td>\n",
       "      <td>0.01</td>\n",
       "      <td>100.00</td>\n",
       "      <td>99.40</td>\n",
       "      <td>64800</td>\n",
       "      <td>Weekday</td>\n",
       "      <td>Thursday</td>\n",
       "      <td>Medium_Load</td>\n",
       "      <td>8</td>\n",
       "    </tr>\n",
       "    <tr>\n",
       "      <th>8262</th>\n",
       "      <td>3.60</td>\n",
       "      <td>4.14</td>\n",
       "      <td>0.00</td>\n",
       "      <td>0.00</td>\n",
       "      <td>65.62</td>\n",
       "      <td>100.00</td>\n",
       "      <td>6300</td>\n",
       "      <td>Weekday</td>\n",
       "      <td>Wednesday</td>\n",
       "      <td>Light_Load</td>\n",
       "      <td>3</td>\n",
       "    </tr>\n",
       "    <tr>\n",
       "      <th>30211</th>\n",
       "      <td>3.85</td>\n",
       "      <td>0.00</td>\n",
       "      <td>18.76</td>\n",
       "      <td>0.00</td>\n",
       "      <td>100.00</td>\n",
       "      <td>20.10</td>\n",
       "      <td>61200</td>\n",
       "      <td>Weekend</td>\n",
       "      <td>Sunday</td>\n",
       "      <td>Light_Load</td>\n",
       "      <td>11</td>\n",
       "    </tr>\n",
       "    <tr>\n",
       "      <th>5989</th>\n",
       "      <td>3.96</td>\n",
       "      <td>0.00</td>\n",
       "      <td>22.21</td>\n",
       "      <td>0.00</td>\n",
       "      <td>100.00</td>\n",
       "      <td>17.55</td>\n",
       "      <td>34200</td>\n",
       "      <td>Weekend</td>\n",
       "      <td>Sunday</td>\n",
       "      <td>Light_Load</td>\n",
       "      <td>3</td>\n",
       "    </tr>\n",
       "    <tr>\n",
       "      <th>25679</th>\n",
       "      <td>2.59</td>\n",
       "      <td>0.00</td>\n",
       "      <td>6.19</td>\n",
       "      <td>0.00</td>\n",
       "      <td>100.00</td>\n",
       "      <td>38.60</td>\n",
       "      <td>43200</td>\n",
       "      <td>Weekday</td>\n",
       "      <td>Tuesday</td>\n",
       "      <td>Light_Load</td>\n",
       "      <td>9</td>\n",
       "    </tr>\n",
       "    <tr>\n",
       "      <th>26716</th>\n",
       "      <td>2.88</td>\n",
       "      <td>5.76</td>\n",
       "      <td>0.00</td>\n",
       "      <td>0.00</td>\n",
       "      <td>44.72</td>\n",
       "      <td>100.00</td>\n",
       "      <td>26100</td>\n",
       "      <td>Weekend</td>\n",
       "      <td>Saturday</td>\n",
       "      <td>Light_Load</td>\n",
       "      <td>10</td>\n",
       "    </tr>\n",
       "    <tr>\n",
       "      <th>6214</th>\n",
       "      <td>57.96</td>\n",
       "      <td>4.39</td>\n",
       "      <td>1.44</td>\n",
       "      <td>0.03</td>\n",
       "      <td>99.71</td>\n",
       "      <td>99.97</td>\n",
       "      <td>63900</td>\n",
       "      <td>Weekday</td>\n",
       "      <td>Tuesday</td>\n",
       "      <td>Medium_Load</td>\n",
       "      <td>3</td>\n",
       "    </tr>\n",
       "    <tr>\n",
       "      <th>25627</th>\n",
       "      <td>3.20</td>\n",
       "      <td>6.34</td>\n",
       "      <td>0.00</td>\n",
       "      <td>0.00</td>\n",
       "      <td>45.06</td>\n",
       "      <td>100.00</td>\n",
       "      <td>82800</td>\n",
       "      <td>Weekday</td>\n",
       "      <td>Monday</td>\n",
       "      <td>Light_Load</td>\n",
       "      <td>9</td>\n",
       "    </tr>\n",
       "    <tr>\n",
       "      <th>8209</th>\n",
       "      <td>6.91</td>\n",
       "      <td>0.00</td>\n",
       "      <td>25.20</td>\n",
       "      <td>0.00</td>\n",
       "      <td>100.00</td>\n",
       "      <td>26.44</td>\n",
       "      <td>45000</td>\n",
       "      <td>Weekday</td>\n",
       "      <td>Tuesday</td>\n",
       "      <td>Medium_Load</td>\n",
       "      <td>3</td>\n",
       "    </tr>\n",
       "    <tr>\n",
       "      <th>3251</th>\n",
       "      <td>41.04</td>\n",
       "      <td>0.83</td>\n",
       "      <td>1.22</td>\n",
       "      <td>0.02</td>\n",
       "      <td>99.98</td>\n",
       "      <td>99.96</td>\n",
       "      <td>75600</td>\n",
       "      <td>Weekend</td>\n",
       "      <td>Saturday</td>\n",
       "      <td>Medium_Load</td>\n",
       "      <td>2</td>\n",
       "    </tr>\n",
       "  </tbody>\n",
       "</table>\n",
       "</div>"
      ],
      "text/plain": [
       "       Usage_kWh  Lagging_CRV_kVarh  Leading_CRV_kVarh  CO2(tCO2)  \\\n",
       "21863      28.08               0.14               3.10       0.01   \n",
       "8262        3.60               4.14               0.00       0.00   \n",
       "30211       3.85               0.00              18.76       0.00   \n",
       "5989        3.96               0.00              22.21       0.00   \n",
       "25679       2.59               0.00               6.19       0.00   \n",
       "26716       2.88               5.76               0.00       0.00   \n",
       "6214       57.96               4.39               1.44       0.03   \n",
       "25627       3.20               6.34               0.00       0.00   \n",
       "8209        6.91               0.00              25.20       0.00   \n",
       "3251       41.04               0.83               1.22       0.02   \n",
       "\n",
       "       Lagging_Current_Power_Factor  Leading_Current_Power_Factor    NSM  \\\n",
       "21863                        100.00                         99.40  64800   \n",
       "8262                          65.62                        100.00   6300   \n",
       "30211                        100.00                         20.10  61200   \n",
       "5989                         100.00                         17.55  34200   \n",
       "25679                        100.00                         38.60  43200   \n",
       "26716                         44.72                        100.00  26100   \n",
       "6214                          99.71                         99.97  63900   \n",
       "25627                         45.06                        100.00  82800   \n",
       "8209                         100.00                         26.44  45000   \n",
       "3251                          99.98                         99.96  75600   \n",
       "\n",
       "      WeekStatus Day_of_week    Load_Type  month  \n",
       "21863    Weekday    Thursday  Medium_Load      8  \n",
       "8262     Weekday   Wednesday   Light_Load      3  \n",
       "30211    Weekend      Sunday   Light_Load     11  \n",
       "5989     Weekend      Sunday   Light_Load      3  \n",
       "25679    Weekday     Tuesday   Light_Load      9  \n",
       "26716    Weekend    Saturday   Light_Load     10  \n",
       "6214     Weekday     Tuesday  Medium_Load      3  \n",
       "25627    Weekday      Monday   Light_Load      9  \n",
       "8209     Weekday     Tuesday  Medium_Load      3  \n",
       "3251     Weekend    Saturday  Medium_Load      2  "
      ]
     },
     "execution_count": 23,
     "metadata": {},
     "output_type": "execute_result"
    }
   ],
   "source": [
    "# membuat data inference\n",
    "data_inf = datacopy.sample(10, random_state=28)\n",
    "data_inf"
   ]
  },
  {
   "cell_type": "code",
   "execution_count": 24,
   "metadata": {},
   "outputs": [
    {
     "data": {
      "text/html": [
       "<div>\n",
       "<style scoped>\n",
       "    .dataframe tbody tr th:only-of-type {\n",
       "        vertical-align: middle;\n",
       "    }\n",
       "\n",
       "    .dataframe tbody tr th {\n",
       "        vertical-align: top;\n",
       "    }\n",
       "\n",
       "    .dataframe thead th {\n",
       "        text-align: right;\n",
       "    }\n",
       "</style>\n",
       "<table border=\"1\" class=\"dataframe\">\n",
       "  <thead>\n",
       "    <tr style=\"text-align: right;\">\n",
       "      <th></th>\n",
       "      <th>Usage_kWh</th>\n",
       "      <th>Lagging_CRV_kVarh</th>\n",
       "      <th>Leading_CRV_kVarh</th>\n",
       "      <th>CO2(tCO2)</th>\n",
       "      <th>Lagging_Current_Power_Factor</th>\n",
       "      <th>Leading_Current_Power_Factor</th>\n",
       "      <th>NSM</th>\n",
       "      <th>WeekStatus</th>\n",
       "      <th>Day_of_week</th>\n",
       "      <th>Load_Type</th>\n",
       "      <th>month</th>\n",
       "    </tr>\n",
       "  </thead>\n",
       "  <tbody>\n",
       "    <tr>\n",
       "      <th>0</th>\n",
       "      <td>3.17</td>\n",
       "      <td>2.95</td>\n",
       "      <td>0.00</td>\n",
       "      <td>0.0</td>\n",
       "      <td>73.21</td>\n",
       "      <td>100.00</td>\n",
       "      <td>900</td>\n",
       "      <td>Weekday</td>\n",
       "      <td>Monday</td>\n",
       "      <td>Light_Load</td>\n",
       "      <td>1</td>\n",
       "    </tr>\n",
       "    <tr>\n",
       "      <th>1</th>\n",
       "      <td>4.00</td>\n",
       "      <td>4.46</td>\n",
       "      <td>0.00</td>\n",
       "      <td>0.0</td>\n",
       "      <td>66.77</td>\n",
       "      <td>100.00</td>\n",
       "      <td>1800</td>\n",
       "      <td>Weekday</td>\n",
       "      <td>Monday</td>\n",
       "      <td>Light_Load</td>\n",
       "      <td>1</td>\n",
       "    </tr>\n",
       "    <tr>\n",
       "      <th>2</th>\n",
       "      <td>3.24</td>\n",
       "      <td>3.28</td>\n",
       "      <td>0.00</td>\n",
       "      <td>0.0</td>\n",
       "      <td>70.28</td>\n",
       "      <td>100.00</td>\n",
       "      <td>2700</td>\n",
       "      <td>Weekday</td>\n",
       "      <td>Monday</td>\n",
       "      <td>Light_Load</td>\n",
       "      <td>1</td>\n",
       "    </tr>\n",
       "    <tr>\n",
       "      <th>3</th>\n",
       "      <td>3.31</td>\n",
       "      <td>3.56</td>\n",
       "      <td>0.00</td>\n",
       "      <td>0.0</td>\n",
       "      <td>68.09</td>\n",
       "      <td>100.00</td>\n",
       "      <td>3600</td>\n",
       "      <td>Weekday</td>\n",
       "      <td>Monday</td>\n",
       "      <td>Light_Load</td>\n",
       "      <td>1</td>\n",
       "    </tr>\n",
       "    <tr>\n",
       "      <th>4</th>\n",
       "      <td>3.82</td>\n",
       "      <td>4.50</td>\n",
       "      <td>0.00</td>\n",
       "      <td>0.0</td>\n",
       "      <td>64.72</td>\n",
       "      <td>100.00</td>\n",
       "      <td>4500</td>\n",
       "      <td>Weekday</td>\n",
       "      <td>Monday</td>\n",
       "      <td>Light_Load</td>\n",
       "      <td>1</td>\n",
       "    </tr>\n",
       "    <tr>\n",
       "      <th>...</th>\n",
       "      <td>...</td>\n",
       "      <td>...</td>\n",
       "      <td>...</td>\n",
       "      <td>...</td>\n",
       "      <td>...</td>\n",
       "      <td>...</td>\n",
       "      <td>...</td>\n",
       "      <td>...</td>\n",
       "      <td>...</td>\n",
       "      <td>...</td>\n",
       "      <td>...</td>\n",
       "    </tr>\n",
       "    <tr>\n",
       "      <th>35035</th>\n",
       "      <td>3.85</td>\n",
       "      <td>4.86</td>\n",
       "      <td>0.00</td>\n",
       "      <td>0.0</td>\n",
       "      <td>62.10</td>\n",
       "      <td>100.00</td>\n",
       "      <td>82800</td>\n",
       "      <td>Weekday</td>\n",
       "      <td>Monday</td>\n",
       "      <td>Light_Load</td>\n",
       "      <td>12</td>\n",
       "    </tr>\n",
       "    <tr>\n",
       "      <th>35036</th>\n",
       "      <td>3.74</td>\n",
       "      <td>3.74</td>\n",
       "      <td>0.00</td>\n",
       "      <td>0.0</td>\n",
       "      <td>70.71</td>\n",
       "      <td>100.00</td>\n",
       "      <td>83700</td>\n",
       "      <td>Weekday</td>\n",
       "      <td>Monday</td>\n",
       "      <td>Light_Load</td>\n",
       "      <td>12</td>\n",
       "    </tr>\n",
       "    <tr>\n",
       "      <th>35037</th>\n",
       "      <td>3.78</td>\n",
       "      <td>3.17</td>\n",
       "      <td>0.07</td>\n",
       "      <td>0.0</td>\n",
       "      <td>76.62</td>\n",
       "      <td>99.98</td>\n",
       "      <td>84600</td>\n",
       "      <td>Weekday</td>\n",
       "      <td>Monday</td>\n",
       "      <td>Light_Load</td>\n",
       "      <td>12</td>\n",
       "    </tr>\n",
       "    <tr>\n",
       "      <th>35038</th>\n",
       "      <td>3.78</td>\n",
       "      <td>3.06</td>\n",
       "      <td>0.11</td>\n",
       "      <td>0.0</td>\n",
       "      <td>77.72</td>\n",
       "      <td>99.96</td>\n",
       "      <td>85500</td>\n",
       "      <td>Weekday</td>\n",
       "      <td>Monday</td>\n",
       "      <td>Light_Load</td>\n",
       "      <td>12</td>\n",
       "    </tr>\n",
       "    <tr>\n",
       "      <th>35039</th>\n",
       "      <td>3.67</td>\n",
       "      <td>3.02</td>\n",
       "      <td>0.07</td>\n",
       "      <td>0.0</td>\n",
       "      <td>77.22</td>\n",
       "      <td>99.98</td>\n",
       "      <td>0</td>\n",
       "      <td>Weekday</td>\n",
       "      <td>Monday</td>\n",
       "      <td>Light_Load</td>\n",
       "      <td>12</td>\n",
       "    </tr>\n",
       "  </tbody>\n",
       "</table>\n",
       "<p>35030 rows × 11 columns</p>\n",
       "</div>"
      ],
      "text/plain": [
       "       Usage_kWh  Lagging_CRV_kVarh  Leading_CRV_kVarh  CO2(tCO2)  \\\n",
       "0           3.17               2.95               0.00        0.0   \n",
       "1           4.00               4.46               0.00        0.0   \n",
       "2           3.24               3.28               0.00        0.0   \n",
       "3           3.31               3.56               0.00        0.0   \n",
       "4           3.82               4.50               0.00        0.0   \n",
       "...          ...                ...                ...        ...   \n",
       "35035       3.85               4.86               0.00        0.0   \n",
       "35036       3.74               3.74               0.00        0.0   \n",
       "35037       3.78               3.17               0.07        0.0   \n",
       "35038       3.78               3.06               0.11        0.0   \n",
       "35039       3.67               3.02               0.07        0.0   \n",
       "\n",
       "       Lagging_Current_Power_Factor  Leading_Current_Power_Factor    NSM  \\\n",
       "0                             73.21                        100.00    900   \n",
       "1                             66.77                        100.00   1800   \n",
       "2                             70.28                        100.00   2700   \n",
       "3                             68.09                        100.00   3600   \n",
       "4                             64.72                        100.00   4500   \n",
       "...                             ...                           ...    ...   \n",
       "35035                         62.10                        100.00  82800   \n",
       "35036                         70.71                        100.00  83700   \n",
       "35037                         76.62                         99.98  84600   \n",
       "35038                         77.72                         99.96  85500   \n",
       "35039                         77.22                         99.98      0   \n",
       "\n",
       "      WeekStatus Day_of_week   Load_Type  month  \n",
       "0        Weekday      Monday  Light_Load      1  \n",
       "1        Weekday      Monday  Light_Load      1  \n",
       "2        Weekday      Monday  Light_Load      1  \n",
       "3        Weekday      Monday  Light_Load      1  \n",
       "4        Weekday      Monday  Light_Load      1  \n",
       "...          ...         ...         ...    ...  \n",
       "35035    Weekday      Monday  Light_Load     12  \n",
       "35036    Weekday      Monday  Light_Load     12  \n",
       "35037    Weekday      Monday  Light_Load     12  \n",
       "35038    Weekday      Monday  Light_Load     12  \n",
       "35039    Weekday      Monday  Light_Load     12  \n",
       "\n",
       "[35030 rows x 11 columns]"
      ]
     },
     "execution_count": 24,
     "metadata": {},
     "output_type": "execute_result"
    }
   ],
   "source": [
    "# menghilangkan data inference pada data secara keseluruhan\n",
    "\n",
    "data_train_test= datacopy.drop(data_inf.index)\n",
    "data_train_test"
   ]
  },
  {
   "cell_type": "code",
   "execution_count": 25,
   "metadata": {},
   "outputs": [],
   "source": [
    "# reset index\n",
    "\n",
    "data_train_test.reset_index(drop= True, inplace=True)\n",
    "data_inf.reset_index(drop=True, inplace = True)"
   ]
  },
  {
   "cell_type": "markdown",
   "metadata": {},
   "source": [
    "### Splitting data set"
   ]
  },
  {
   "cell_type": "code",
   "execution_count": 26,
   "metadata": {},
   "outputs": [],
   "source": [
    "# split between X dan y\n",
    "\n",
    "X = data_train_test.drop(['Usage_kWh'], axis = 1)\n",
    "y= data_train_test['Usage_kWh']"
   ]
  },
  {
   "cell_type": "code",
   "execution_count": 27,
   "metadata": {},
   "outputs": [
    {
     "name": "stdout",
     "output_type": "stream",
     "text": [
      "train size: (29775, 10)\n",
      "test size: (5255, 10)\n"
     ]
    }
   ],
   "source": [
    "# split train-set and test-set\n",
    "\n",
    "\n",
    "X_train,X_test, y_train, y_test = train_test_split(X,y,test_size = 0.15, random_state=24)\n",
    "\n",
    "print('train size:', X_train.shape)\n",
    "print('test size:', X_test.shape)"
   ]
  },
  {
   "cell_type": "markdown",
   "metadata": {},
   "source": [
    "### HANDLING OUTLIER\n",
    "\n",
    "cek distribusi datanya"
   ]
  },
  {
   "cell_type": "code",
   "execution_count": 28,
   "metadata": {},
   "outputs": [],
   "source": [
    "# Function to create histogram and boxplot.\n",
    "\n",
    "def cek_distribusi(X_train, variable):\n",
    "    # Define figure size\n",
    "    plt.figure(figsize=(16, 4))\n",
    "\n",
    "    # Histogram\n",
    "    plt.subplot(1, 2, 1)\n",
    "    sns.histplot(X_train[variable], bins=30)\n",
    "    plt.title('Histogram')\n",
    "\n",
    "    # Boxplot\n",
    "    plt.subplot(1, 2, 2)\n",
    "    sns.boxplot(y=X_train[variable])\n",
    "    plt.title('Boxplot')\n",
    "\n",
    "    plt.show()"
   ]
  },
  {
   "cell_type": "code",
   "execution_count": 29,
   "metadata": {},
   "outputs": [
    {
     "data": {
      "image/png": "[encoded data removed]",
      "text/plain": [
       "<Figure size 1152x288 with 2 Axes>"
      ]
     },
     "metadata": {},
     "output_type": "display_data"
    }
   ],
   "source": [
    "# plot untuk lagging_CRV_kvarh\n",
    "\n",
    "cek_distribusi(X_train,'Lagging_CRV_kVarh')"
   ]
  },
  {
   "cell_type": "code",
   "execution_count": 30,
   "metadata": {},
   "outputs": [
    {
     "data": {
      "image/png": "[encoded data removed]",
      "text/plain": [
       "<Figure size 1152x288 with 2 Axes>"
      ]
     },
     "metadata": {},
     "output_type": "display_data"
    }
   ],
   "source": [
    "# plot untuk Leading_CRV_kVarh\n",
    "\n",
    "cek_distribusi(X_train,'Leading_CRV_kVarh')"
   ]
  },
  {
   "cell_type": "code",
   "execution_count": 31,
   "metadata": {},
   "outputs": [
    {
     "data": {
      "image/png": "[encoded data removed]",
      "text/plain": [
       "<Figure size 1152x288 with 2 Axes>"
      ]
     },
     "metadata": {},
     "output_type": "display_data"
    }
   ],
   "source": [
    "# plot untuk CO2(tCO2)\n",
    "\n",
    "cek_distribusi(X_train,'CO2(tCO2)')"
   ]
  },
  {
   "cell_type": "code",
   "execution_count": 32,
   "metadata": {},
   "outputs": [
    {
     "data": {
      "image/png": "[encoded data removed]",
      "text/plain": [
       "<Figure size 1152x288 with 2 Axes>"
      ]
     },
     "metadata": {},
     "output_type": "display_data"
    }
   ],
   "source": [
    "# plot untuk Lagging_Current_Power_Factor\n",
    "\n",
    "cek_distribusi(X_train,'Lagging_Current_Power_Factor')"
   ]
  },
  {
   "cell_type": "code",
   "execution_count": 33,
   "metadata": {},
   "outputs": [
    {
     "data": {
      "image/png": "[encoded data removed]",
      "text/plain": [
       "<Figure size 1152x288 with 2 Axes>"
      ]
     },
     "metadata": {},
     "output_type": "display_data"
    }
   ],
   "source": [
    "# plot untuk Leading_Current_Power_Factor\n",
    "\n",
    "cek_distribusi(X_train,'Leading_Current_Power_Factor')"
   ]
  },
  {
   "cell_type": "code",
   "execution_count": 34,
   "metadata": {},
   "outputs": [
    {
     "data": {
      "text/plain": [
       "Usage_kWh                       1.197394\n",
       "Lagging_CRV_kVarh               1.437899\n",
       "Leading_CRV_kVarh               1.734314\n",
       "CO2(tCO2)                       1.149355\n",
       "Lagging_Current_Power_Factor   -0.606126\n",
       "Leading_Current_Power_Factor   -1.511984\n",
       "NSM                             0.000000\n",
       "month                          -0.010457\n",
       "dtype: float64"
      ]
     },
     "execution_count": 34,
     "metadata": {},
     "output_type": "execute_result"
    }
   ],
   "source": [
    "datacopy.skew()"
   ]
  },
  {
   "cell_type": "markdown",
   "metadata": {},
   "source": [
    "Berdasarkan analisa yang dilakukan sebelumnya, nilai outlier yang ditunjukkan pada grafik masih kategori wajar sehingga kita tidak akan melakukan trimming atau crapping pada data outlier yang ada"
   ]
  },
  {
   "cell_type": "markdown",
   "metadata": {},
   "source": [
    "## FEATURE SCALING"
   ]
  },
  {
   "cell_type": "code",
   "execution_count": 35,
   "metadata": {},
   "outputs": [
    {
     "name": "stdout",
     "output_type": "stream",
     "text": [
      "Kolom yang merupakan number adalah:  ['Lagging_CRV_kVarh', 'Leading_CRV_kVarh', 'CO2(tCO2)', 'Lagging_Current_Power_Factor', 'Leading_Current_Power_Factor', 'NSM', 'month']\n",
      "\n",
      " Kolom yang merupakan categorical adalah:  ['WeekStatus', 'Day_of_week', 'Load_Type']\n"
     ]
    }
   ],
   "source": [
    "# mendefinisikan mana kolom yang berisi number maupun categorical\n",
    "num_columns = X_train.select_dtypes(include=np.number).columns.tolist()\n",
    "cat_columns = X_train.select_dtypes(include=['object']).columns.tolist()\n",
    "\n",
    "print ('Kolom yang merupakan number adalah: ',num_columns)\n",
    "\n",
    "print ('\\n Kolom yang merupakan categorical adalah: ',cat_columns)"
   ]
  },
  {
   "cell_type": "code",
   "execution_count": 36,
   "metadata": {},
   "outputs": [],
   "source": [
    "# buat variabel baru untuk kategorikal dan numerik\n",
    "\n",
    "X_train_num = X_train[num_columns]\n",
    "X_train_cat = X_train[cat_columns]\n",
    "\n",
    "X_test_num = X_test[num_columns]\n",
    "X_test_cat = X_test[cat_columns]"
   ]
  },
  {
   "cell_type": "markdown",
   "metadata": {},
   "source": [
    "Karena distribusi data yang ada skew, maka akan digunakan minmaxscaller untuk proses scaling."
   ]
  },
  {
   "cell_type": "code",
   "execution_count": 37,
   "metadata": {},
   "outputs": [],
   "source": [
    "# feature scaling\n",
    "scaler = MinMaxScaler()\n",
    "\n",
    "# lakukan fit scaling untuk tiap data yg skew dan normal\n",
    "scaler.fit(X_train_num)\n",
    "\n",
    "# lakukan transform scaling untuk tiap data yg skew dan normal\n",
    "X_test_num_scaled = scaler.transform(X_test_num)\n",
    "X_train_num_scaled = scaler.transform(X_train_num)"
   ]
  },
  {
   "cell_type": "markdown",
   "metadata": {},
   "source": [
    "## FEATURE ENCODING\n",
    "\n",
    "Untuk proses encoding, akan digunakan 2 tipe encoder untuk data ordinal yaitu kolom load type karena tiap nilai menggambarkan tingkatan dari peanggunaan listrik"
   ]
  },
  {
   "cell_type": "code",
   "execution_count": 38,
   "metadata": {},
   "outputs": [],
   "source": [
    "# pisahkan data kategorikal terhadap encodernya\n",
    "\n",
    "X_train_cat_OHE = X_train_cat[['WeekStatus', 'Day_of_week']]\n",
    "X_train_cat_ORD = X_train_cat[['Load_Type']]\n",
    "\n",
    "X_test_cat_OHE = X_test_cat[['WeekStatus', 'Day_of_week']]\n",
    "X_test_cat_ORD = X_test_cat[['Load_Type']]"
   ]
  },
  {
   "cell_type": "code",
   "execution_count": 39,
   "metadata": {},
   "outputs": [],
   "source": [
    "# feature encoding\n",
    "\n",
    "encoderOHE = OneHotEncoder()\n",
    "encoderORD = OrdinalEncoder()\n",
    "\n",
    "# lakukan fit encoding untuk tiap data\n",
    "encoderOHE.fit(X_train_cat_OHE)\n",
    "encoderORD.fit(X_train_cat_ORD)\n",
    "\n",
    "# lakukan transform encoding untuk tiap data\n",
    "X_test_cat_encoded_OHE = encoderOHE.transform(X_test_cat_OHE).toarray()\n",
    "X_test_cat_encoded_ORD = encoderORD.transform(X_test_cat_ORD)\n",
    "\n",
    "X_train_cat_encoded_OHE = encoderOHE.transform(X_train_cat_OHE).toarray()\n",
    "X_train_cat_encoded_ORD = encoderORD.transform(X_train_cat_ORD)"
   ]
  },
  {
   "cell_type": "code",
   "execution_count": 40,
   "metadata": {},
   "outputs": [],
   "source": [
    "# concat data kategorikal\n",
    "\n",
    "X_train_encoded = np.concatenate([X_train_cat_encoded_OHE, X_train_cat_encoded_ORD], axis = 1)\n",
    "X_test_encoded = np.concatenate([X_test_cat_encoded_OHE, X_test_cat_encoded_ORD], axis =1)"
   ]
  },
  {
   "cell_type": "code",
   "execution_count": 41,
   "metadata": {},
   "outputs": [],
   "source": [
    "# concate columns semuanya yg cat dan num\n",
    "\n",
    "X_train_final = np.concatenate([X_train_num_scaled, X_train_encoded], axis = 1)\n",
    "X_test_final = np.concatenate([X_test_num_scaled, X_test_encoded], axis =1)"
   ]
  },
  {
   "cell_type": "markdown",
   "metadata": {},
   "source": [
    "## MODEL DEFINITION\n",
    "\n",
    "untuk mendapatkan pemodelan terbaik, dilakukan trial and error terhadap beberapa algortitma pemodelan seperti menggunakan linearregression, ridgeregression, dan randomforestregressor. Dari beberapa algoritma yang dicoba, ditemukan bahwa model denga randomforestregressor menjadi yang terbaik dan diaplikasikan"
   ]
  },
  {
   "cell_type": "code",
   "execution_count": 67,
   "metadata": {},
   "outputs": [],
   "source": [
    "model = RandomForestRegressor()\n",
    "model_ridge = Ridge()\n",
    "model_linreg = LinearRegression()\n",
    "model_SVR = SVR()"
   ]
  },
  {
   "cell_type": "markdown",
   "metadata": {},
   "source": [
    "## MODEL TRAINING"
   ]
  },
  {
   "cell_type": "code",
   "execution_count": 68,
   "metadata": {},
   "outputs": [
    {
     "data": {
      "text/plain": [
       "SVR()"
      ]
     },
     "execution_count": 68,
     "metadata": {},
     "output_type": "execute_result"
    }
   ],
   "source": [
    "model.fit(X_train_final,y_train)\n",
    "model_ridge.fit(X_train_final,y_train)\n",
    "model_linreg.fit(X_train_final,y_train)\n",
    "model_SVR.fit(X_train_final,y_train)"
   ]
  },
  {
   "cell_type": "markdown",
   "metadata": {},
   "source": [
    "## MODEL EVALUATION"
   ]
  },
  {
   "cell_type": "code",
   "execution_count": 70,
   "metadata": {},
   "outputs": [],
   "source": [
    "y_pred_train = model.predict(X_train_final)\n",
    "y_pred_test = model.predict (X_test_final)\n",
    "\n",
    "y_pred_train_R = model_ridge.predict(X_train_final)\n",
    "y_pred_test_R = model_ridge.predict (X_test_final)\n",
    "\n",
    "y_pred_train_linreg = model_linreg.predict(X_train_final)\n",
    "y_pred_test_linreg = model_linreg.predict (X_test_final)\n",
    "\n",
    "y_pred_train_SVR = model_SVR.predict(X_train_final)\n",
    "y_pred_test_SVR = model_SVR.predict (X_test_final)"
   ]
  },
  {
   "cell_type": "code",
   "execution_count": 45,
   "metadata": {},
   "outputs": [
    {
     "name": "stdout",
     "output_type": "stream",
     "text": [
      "error train-set:  0.12545147607052828\n",
      "error test-set:  0.30958089438629827\n"
     ]
    }
   ],
   "source": [
    "# evaluate model using MAE\n",
    "\n",
    "print('error train-set: ', mean_absolute_error(y_train, y_pred_train))\n",
    "print('error test-set: ', mean_absolute_error(y_test, y_pred_test))"
   ]
  },
  {
   "cell_type": "code",
   "execution_count": 46,
   "metadata": {},
   "outputs": [
    {
     "name": "stdout",
     "output_type": "stream",
     "text": [
      "error train-set:  0.14428352072376086\n",
      "error test-set:  0.7789337079391051\n"
     ]
    }
   ],
   "source": [
    "# evaluiate model using MSE\n",
    "\n",
    "print('error train-set: ', mean_squared_error(y_train, y_pred_train))\n",
    "print('error test-set: ', mean_squared_error(y_test, y_pred_test))"
   ]
  },
  {
   "cell_type": "code",
   "execution_count": 47,
   "metadata": {},
   "outputs": [
    {
     "name": "stdout",
     "output_type": "stream",
     "text": [
      "error train-set:  0.9998710332805559\n",
      "error test-set:  0.9993033025790661\n"
     ]
    }
   ],
   "source": [
    "# evaluiate model using r2 score\n",
    "\n",
    "print('error train-set: ', r2_score(y_train, y_pred_train))\n",
    "print('error test-set: ', r2_score(y_test, y_pred_test))"
   ]
  },
  {
   "cell_type": "markdown",
   "metadata": {},
   "source": [
    "Berdasarkan hasil r2 scorenya, model ini sangat baik karena mendapatkan hasil 0,99 dari 1. Nilai ini hampir mendekati sempurna serta pada error secara MAE maupun MSE sangat kecil yaitu sekitar 0.3 dan 0.7. Artinya ketika melakukan prediksi akan memiliki error sebesar 0.7 dari nilai sesungguhnya. Nilai error tersebut masih bagus karena sangat kecil dan wajar jika error yang terbentuk mendapatkan nilai dibawah 1."
   ]
  },
  {
   "cell_type": "markdown",
   "metadata": {},
   "source": [
    "RIDGE"
   ]
  },
  {
   "cell_type": "code",
   "execution_count": 71,
   "metadata": {},
   "outputs": [
    {
     "name": "stdout",
     "output_type": "stream",
     "text": [
      "error train-set:  2.6299045452814642\n",
      "error test-set:  2.576519815836868\n"
     ]
    }
   ],
   "source": [
    "# evaluate model using MAE\n",
    "\n",
    "print('error train-set: ', mean_absolute_error(y_train, y_pred_train_R))\n",
    "print('error test-set: ', mean_absolute_error(y_test, y_pred_test_R))"
   ]
  },
  {
   "cell_type": "code",
   "execution_count": 72,
   "metadata": {},
   "outputs": [
    {
     "name": "stdout",
     "output_type": "stream",
     "text": [
      "error train-set:  22.35403416860909\n",
      "error test-set:  18.283461020605344\n"
     ]
    }
   ],
   "source": [
    "# evaluiate model using MSE\n",
    "\n",
    "print('error train-set: ', mean_squared_error(y_train, y_pred_train_R))\n",
    "print('error test-set: ', mean_squared_error(y_test, y_pred_test_R))"
   ]
  },
  {
   "cell_type": "code",
   "execution_count": 73,
   "metadata": {},
   "outputs": [
    {
     "name": "stdout",
     "output_type": "stream",
     "text": [
      "error train-set:  0.9800190178434404\n",
      "error test-set:  0.9836468238452488\n"
     ]
    }
   ],
   "source": [
    "# evaluiate model using r2 score\n",
    "\n",
    "print('error train-set: ', r2_score(y_train, y_pred_train_R))\n",
    "print('error test-set: ', r2_score(y_test, y_pred_test_R))"
   ]
  },
  {
   "cell_type": "markdown",
   "metadata": {},
   "source": [
    "LINREG"
   ]
  },
  {
   "cell_type": "code",
   "execution_count": 74,
   "metadata": {},
   "outputs": [
    {
     "name": "stdout",
     "output_type": "stream",
     "text": [
      "error train-set:  2.623639858837112\n",
      "error test-set:  2.569536616912464\n"
     ]
    }
   ],
   "source": [
    "# evaluate model using MAE\n",
    "\n",
    "print('error train-set: ', mean_absolute_error(y_train, y_pred_train_linreg))\n",
    "print('error test-set: ', mean_absolute_error(y_test, y_pred_test_linreg))"
   ]
  },
  {
   "cell_type": "code",
   "execution_count": 75,
   "metadata": {},
   "outputs": [
    {
     "name": "stdout",
     "output_type": "stream",
     "text": [
      "error train-set:  22.353065638450282\n",
      "error test-set:  18.251093575244326\n"
     ]
    }
   ],
   "source": [
    "# evaluiate model using MSE\n",
    "\n",
    "print('error train-set: ', mean_squared_error(y_train, y_pred_train_linreg))\n",
    "print('error test-set: ', mean_squared_error(y_test, y_pred_test_linreg))"
   ]
  },
  {
   "cell_type": "code",
   "execution_count": 76,
   "metadata": {},
   "outputs": [
    {
     "name": "stdout",
     "output_type": "stream",
     "text": [
      "error train-set:  0.9800198835567016\n",
      "error test-set:  0.9836757740825738\n"
     ]
    }
   ],
   "source": [
    "# evaluiate model using r2 score\n",
    "\n",
    "print('error train-set: ', r2_score(y_train, y_pred_train_linreg))\n",
    "print('error test-set: ', r2_score(y_test, y_pred_test_linreg))"
   ]
  },
  {
   "cell_type": "markdown",
   "metadata": {},
   "source": [
    "SVR"
   ]
  },
  {
   "cell_type": "code",
   "execution_count": 77,
   "metadata": {},
   "outputs": [
    {
     "name": "stdout",
     "output_type": "stream",
     "text": [
      "error train-set:  2.3475461196053122\n",
      "error test-set:  2.304945741106962\n"
     ]
    }
   ],
   "source": [
    "# evaluate model using MAE\n",
    "\n",
    "print('error train-set: ', mean_absolute_error(y_train, y_pred_train_SVR))\n",
    "print('error test-set: ', mean_absolute_error(y_test, y_pred_test_SVR))"
   ]
  },
  {
   "cell_type": "code",
   "execution_count": 78,
   "metadata": {},
   "outputs": [
    {
     "name": "stdout",
     "output_type": "stream",
     "text": [
      "error train-set:  22.990609955952397\n",
      "error test-set:  19.59157047425688\n"
     ]
    }
   ],
   "source": [
    "# evaluiate model using MSE\n",
    "\n",
    "print('error train-set: ', mean_squared_error(y_train, y_pred_train_SVR))\n",
    "print('error test-set: ', mean_squared_error(y_test, y_pred_test_SVR))"
   ]
  },
  {
   "cell_type": "code",
   "execution_count": 79,
   "metadata": {},
   "outputs": [
    {
     "name": "stdout",
     "output_type": "stream",
     "text": [
      "error train-set:  0.9794500194536077\n",
      "error test-set:  0.9824768186530617\n"
     ]
    }
   ],
   "source": [
    "# evaluiate model using r2 score\n",
    "\n",
    "print('error train-set: ', r2_score(y_train, y_pred_train_SVR))\n",
    "print('error test-set: ', r2_score(y_test, y_pred_test_SVR))"
   ]
  },
  {
   "cell_type": "markdown",
   "metadata": {},
   "source": [
    "## HYPERPARAMETER TUNING USING GREIDSEARCHCV"
   ]
  },
  {
   "cell_type": "code",
   "execution_count": 48,
   "metadata": {},
   "outputs": [
    {
     "data": {
      "text/plain": [
       "GridSearchCV(cv=5, estimator=RandomForestRegressor(),\n",
       "             param_grid={'max_depth': [6, 7, 8, 9, 10, 11, 12, 13],\n",
       "                         'max_features': ['sqrt', 'log2'],\n",
       "                         'n_estimators': [10, 40, 60, 80, 100]})"
      ]
     },
     "execution_count": 48,
     "metadata": {},
     "output_type": "execute_result"
    }
   ],
   "source": [
    "# definikan parameter yang akan dicoba pada randomforest\n",
    "\n",
    "param_grid = {\"n_estimators\": [10,40,60,80,100],\n",
    "              \"max_depth\": [6,7,8,9,10,11,12,13],\n",
    "              \"max_features\": ['sqrt','log2']\n",
    "              }\n",
    "\n",
    "grid_cv = GridSearchCV(model, param_grid, cv=5)\n",
    "\n",
    "# fit parameter kedalam data\n",
    "grid_cv.fit(X_train_final,y_train)"
   ]
  },
  {
   "cell_type": "code",
   "execution_count": 49,
   "metadata": {},
   "outputs": [
    {
     "name": "stdout",
     "output_type": "stream",
     "text": [
      "Best Score untuk model :0.9947712128624024\n",
      "Best Hyperparameters untuk:\n",
      "{'max_depth': 13, 'max_features': 'log2', 'n_estimators': 60}\n"
     ]
    }
   ],
   "source": [
    "# print hasil untuk best score\n",
    "print(\"Best Score untuk model :{}\".format(grid_cv.best_score_))\n",
    "print(\"Best Hyperparameters untuk:\\n{}\".format(grid_cv.best_params_))"
   ]
  },
  {
   "cell_type": "markdown",
   "metadata": {},
   "source": [
    "Hasil model dengan best parameter akan dieval dengan MAE, MSE, dan r2 score dan juga akan diujicobakan kedalam data inference"
   ]
  },
  {
   "cell_type": "code",
   "execution_count": 50,
   "metadata": {},
   "outputs": [],
   "source": [
    "# membuat model baru dengan best parameter\n",
    "\n",
    "best_model = RandomForestRegressor(max_depth= 13, max_features= 'sqrt', n_estimators= 100)"
   ]
  },
  {
   "cell_type": "code",
   "execution_count": 51,
   "metadata": {},
   "outputs": [
    {
     "data": {
      "text/plain": [
       "RandomForestRegressor(max_depth=13, max_features='sqrt')"
      ]
     },
     "execution_count": 51,
     "metadata": {},
     "output_type": "execute_result"
    }
   ],
   "source": [
    "best_model.fit(X_train_final,y_train)"
   ]
  },
  {
   "cell_type": "code",
   "execution_count": 52,
   "metadata": {},
   "outputs": [],
   "source": [
    "y_pred_train_best = best_model.predict(X_train_final)\n",
    "y_pred_test_best = best_model.predict (X_test_final)"
   ]
  },
  {
   "cell_type": "code",
   "execution_count": 53,
   "metadata": {},
   "outputs": [
    {
     "name": "stdout",
     "output_type": "stream",
     "text": [
      "error train-set:  1.0738080616095258\n",
      "error test-set:  1.2727256095135484\n"
     ]
    }
   ],
   "source": [
    "# evaluate model using MAE\n",
    "\n",
    "print('error train-set: ', mean_absolute_error(y_train, y_pred_train_best))\n",
    "print('error test-set: ', mean_absolute_error(y_test, y_pred_test_best))"
   ]
  },
  {
   "cell_type": "code",
   "execution_count": 54,
   "metadata": {},
   "outputs": [
    {
     "name": "stdout",
     "output_type": "stream",
     "text": [
      "error train-set:  3.824615575827369\n",
      "error test-set:  5.326700000900724\n"
     ]
    }
   ],
   "source": [
    "# evaluiate model using MSE\n",
    "\n",
    "print('error train-set: ', mean_squared_error(y_train, y_pred_train_best))\n",
    "print('error test-set: ', mean_squared_error(y_test, y_pred_test_best))"
   ]
  },
  {
   "cell_type": "code",
   "execution_count": 55,
   "metadata": {},
   "outputs": [
    {
     "name": "stdout",
     "output_type": "stream",
     "text": [
      "error train-set:  0.9965813966731956\n",
      "error test-set:  0.9952356688189358\n"
     ]
    }
   ],
   "source": [
    "# evaluiate model using r2 score\n",
    "\n",
    "print('error train-set: ', r2_score(y_train, y_pred_train_best))\n",
    "print('error test-set: ', r2_score(y_test, y_pred_test_best))"
   ]
  },
  {
   "cell_type": "markdown",
   "metadata": {},
   "source": [
    "Berdasarkan hasil tuning hyperparameter, dapat dilihat bahwa secara r2 skornya sangat baik karena mendekati 1. kemudian absolut error yang dihasilkan terbilang sangat kecil yaitu dikisaran 1, 06 serta untuk MSE menghasilkan nilai 5,3. namun, nilai ini tidak lebih baik dari model sebelum melakukan tuning. kemungkinannya dalah pada menentukan parameter grid ini, max-depth belum mencapai  nilai yang maksimal karena ketika melakukan trial nilai max_depth, nilai terbaik selalu yg paling besar. Dapat disimpulkan bahwa max_depth pada parameter grid belum menyentuh titik maksimal."
   ]
  },
  {
   "cell_type": "markdown",
   "metadata": {},
   "source": [
    "## MODEL INFERENCE TEST"
   ]
  },
  {
   "cell_type": "code",
   "execution_count": 56,
   "metadata": {},
   "outputs": [],
   "source": [
    "# split data\n",
    "data_inf_num = data_inf[num_columns]\n",
    "data_inf_cat = data_inf[cat_columns]"
   ]
  },
  {
   "cell_type": "code",
   "execution_count": 57,
   "metadata": {},
   "outputs": [],
   "source": [
    "# feature scaling \n",
    "scaler = MinMaxScaler()\n",
    "\n",
    "# lakukan fit untuk data\n",
    "scaler.fit(X_train_num)\n",
    "\n",
    "# lakukan transform scaling untuk tiap data\n",
    "data_inf_num_scaled = scaler.transform(data_inf_num)"
   ]
  },
  {
   "cell_type": "code",
   "execution_count": 58,
   "metadata": {},
   "outputs": [],
   "source": [
    "# feature encoding\n",
    "\n",
    "# pisahkan data kategorikal terhadap encodernya\n",
    "\n",
    "data_inf_cat_OHE = data_inf_cat[['WeekStatus', 'Day_of_week']]\n",
    "data_inf_cat_ORD = data_inf_cat[['Load_Type']]\n",
    "\n",
    "\n",
    "encoderOHE = OneHotEncoder()\n",
    "encoderORD = OrdinalEncoder()\n",
    "\n",
    "# lakukan fit encoding untuk tiap data\n",
    "encoderOHE.fit(X_train_cat_OHE)\n",
    "encoderORD.fit(X_train_cat_ORD)\n",
    "\n",
    "# lakukan transform encoding untuk tiap data\n",
    "data_inf_cat_encoded_OHE = encoderOHE.transform(data_inf_cat_OHE).toarray()\n",
    "data_inf_cat_encoded_ORD = encoderORD.transform(data_inf_cat_ORD)\n",
    "\n",
    "# concat data kategorikal\n",
    "data_inf_encoded = np.concatenate([data_inf_cat_encoded_OHE, data_inf_cat_encoded_ORD], axis = 1)"
   ]
  },
  {
   "cell_type": "code",
   "execution_count": 59,
   "metadata": {},
   "outputs": [],
   "source": [
    "# concate the data\n",
    "\n",
    "data_inf_final = np.concatenate([data_inf_num_scaled, data_inf_encoded], axis = 1)"
   ]
  },
  {
   "cell_type": "code",
   "execution_count": 60,
   "metadata": {},
   "outputs": [],
   "source": [
    "# predict data inference\n",
    "\n",
    "y_pred_inf = model.predict(data_inf_final)"
   ]
  },
  {
   "cell_type": "code",
   "execution_count": 61,
   "metadata": {},
   "outputs": [],
   "source": [
    "# konversi data kedalam dataframe\n",
    "\n",
    "y_pred_inf_df = pd.DataFrame(y_pred_inf, columns = ['Usage kWh Prediction'])"
   ]
  },
  {
   "cell_type": "code",
   "execution_count": 62,
   "metadata": {},
   "outputs": [
    {
     "data": {
      "text/html": [
       "<div>\n",
       "<style scoped>\n",
       "    .dataframe tbody tr th:only-of-type {\n",
       "        vertical-align: middle;\n",
       "    }\n",
       "\n",
       "    .dataframe tbody tr th {\n",
       "        vertical-align: top;\n",
       "    }\n",
       "\n",
       "    .dataframe thead th {\n",
       "        text-align: right;\n",
       "    }\n",
       "</style>\n",
       "<table border=\"1\" class=\"dataframe\">\n",
       "  <thead>\n",
       "    <tr style=\"text-align: right;\">\n",
       "      <th></th>\n",
       "      <th>Usage_kWh</th>\n",
       "      <th>Usage kWh Prediction</th>\n",
       "    </tr>\n",
       "  </thead>\n",
       "  <tbody>\n",
       "    <tr>\n",
       "      <th>0</th>\n",
       "      <td>28.08</td>\n",
       "      <td>29.5690</td>\n",
       "    </tr>\n",
       "    <tr>\n",
       "      <th>1</th>\n",
       "      <td>3.60</td>\n",
       "      <td>3.5893</td>\n",
       "    </tr>\n",
       "    <tr>\n",
       "      <th>2</th>\n",
       "      <td>3.85</td>\n",
       "      <td>3.8183</td>\n",
       "    </tr>\n",
       "    <tr>\n",
       "      <th>3</th>\n",
       "      <td>3.96</td>\n",
       "      <td>4.0308</td>\n",
       "    </tr>\n",
       "    <tr>\n",
       "      <th>4</th>\n",
       "      <td>2.59</td>\n",
       "      <td>2.6664</td>\n",
       "    </tr>\n",
       "    <tr>\n",
       "      <th>5</th>\n",
       "      <td>2.88</td>\n",
       "      <td>2.8899</td>\n",
       "    </tr>\n",
       "    <tr>\n",
       "      <th>6</th>\n",
       "      <td>57.96</td>\n",
       "      <td>59.2804</td>\n",
       "    </tr>\n",
       "    <tr>\n",
       "      <th>7</th>\n",
       "      <td>3.20</td>\n",
       "      <td>3.1965</td>\n",
       "    </tr>\n",
       "    <tr>\n",
       "      <th>8</th>\n",
       "      <td>6.91</td>\n",
       "      <td>7.0428</td>\n",
       "    </tr>\n",
       "    <tr>\n",
       "      <th>9</th>\n",
       "      <td>41.04</td>\n",
       "      <td>41.0953</td>\n",
       "    </tr>\n",
       "  </tbody>\n",
       "</table>\n",
       "</div>"
      ],
      "text/plain": [
       "   Usage_kWh  Usage kWh Prediction\n",
       "0      28.08               29.5690\n",
       "1       3.60                3.5893\n",
       "2       3.85                3.8183\n",
       "3       3.96                4.0308\n",
       "4       2.59                2.6664\n",
       "5       2.88                2.8899\n",
       "6      57.96               59.2804\n",
       "7       3.20                3.1965\n",
       "8       6.91                7.0428\n",
       "9      41.04               41.0953"
      ]
     },
     "execution_count": 62,
     "metadata": {},
     "output_type": "execute_result"
    }
   ],
   "source": [
    "# concat data sebelumnya dengaan data aslinya\n",
    "pd.concat([data_inf['Usage_kWh'],y_pred_inf_df], axis = 1)"
   ]
  },
  {
   "cell_type": "markdown",
   "metadata": {},
   "source": [
    "## KESIMPULAN"
   ]
  },
  {
   "cell_type": "markdown",
   "metadata": {},
   "source": [
    "Model dengan randomforestregressor sangat baik untuk memprediksi tingkat konsumsi listrik di suatu industri. Model ini menghasilkan r2 skor yang hampir sempurna yaitu 0,99. kemudian MAE yang dihasilkan sebesar 0,3 dan MSE sebesar 0,7. Nilai ini sangat baik karena dapat dikatakan prediksi yang dihasilkan memiliki error atau meleset sebesar 0,7 dari prediksi sesungguhnya. Dapat dilihat pada uji data inference baris terakhir, nilai prediksi meleset hanya 0,12 dari nilai aslinya yang mana hasil ini menunjukkan prediksi yang sangat baik."
   ]
  },
  {
   "cell_type": "markdown",
   "metadata": {},
   "source": [
    "# MAKING PIPELINE"
   ]
  },
  {
   "cell_type": "code",
   "execution_count": 63,
   "metadata": {},
   "outputs": [
    {
     "ename": "NameError",
     "evalue": "name 'data2' is not defined",
     "output_type": "error",
     "traceback": [
      "\u001b[1;31m---------------------------------------------------------------------------\u001b[0m",
      "\u001b[1;31mNameError\u001b[0m                                 Traceback (most recent call last)",
      "\u001b[1;32m<ipython-input-63-77bbe7b50a36>\u001b[0m in \u001b[0;36m<module>\u001b[1;34m\u001b[0m\n\u001b[1;32m----> 1\u001b[1;33m \u001b[0mdata2\u001b[0m\u001b[1;33m.\u001b[0m\u001b[0mhead\u001b[0m\u001b[1;33m(\u001b[0m\u001b[1;33m)\u001b[0m\u001b[1;33m\u001b[0m\u001b[1;33m\u001b[0m\u001b[0m\n\u001b[0m",
      "\u001b[1;31mNameError\u001b[0m: name 'data2' is not defined"
     ]
    }
   ],
   "source": [
    "data2.head()"
   ]
  },
  {
   "cell_type": "code",
   "execution_count": null,
   "metadata": {},
   "outputs": [],
   "source": [
    "numeric_transformer = Pipeline(steps=[('scaler', MinMaxScaler())])\n",
    "categorical_transformer_ORD = Pipeline(steps=[('encoder_ORD', OrdinalEncoder())])\n",
    "categorical_transformer_OHE = Pipeline(steps=[('encoder_OHE', OneHotEncoder())])"
   ]
  },
  {
   "cell_type": "code",
   "execution_count": null,
   "metadata": {},
   "outputs": [],
   "source": [
    "numeric_features = X.select_dtypes(include=['int64', 'float64']).columns\n",
    "categorical_features_ORD = ['WeekStatus', 'Day_of_week']\n",
    "categorical_features_OHE = ['Load_Type']\n",
    "\n",
    "\n",
    "preprocessor = ColumnTransformer(\n",
    "   transformers=[\n",
    "    ('numeric', numeric_transformer, numeric_features),\n",
    "    ('categorical_ORD', categorical_transformer_ORD, categorical_features_ORD),\n",
    "    ('categorical_OHE', categorical_transformer_OHE, categorical_features_OHE),\n",
    "]) \n"
   ]
  },
  {
   "cell_type": "code",
   "execution_count": null,
   "metadata": {},
   "outputs": [],
   "source": [
    "pipeline = Pipeline(steps = [\n",
    "               ('preprocessor', preprocessor)\n",
    "              ,('regressor',RandomForestRegressor())\n",
    "           ])"
   ]
  },
  {
   "cell_type": "code",
   "execution_count": null,
   "metadata": {},
   "outputs": [],
   "source": [
    "rf_model = pipeline.fit(X_train,y_train)\n"
   ]
  },
  {
   "cell_type": "code",
   "execution_count": null,
   "metadata": {},
   "outputs": [
    {
     "name": "stdout",
     "output_type": "stream",
     "text": [
      "Pipeline(steps=[('preprocessor',\n",
      "                 ColumnTransformer(transformers=[('numeric',\n",
      "                                                  Pipeline(steps=[('scaler',\n",
      "                                                                   MinMaxScaler())]),\n",
      "                                                  Index(['Lagging_CRV_kVarh', 'Leading_CRV_kVarh', 'CO2(tCO2)',\n",
      "       'Lagging_Current_Power_Factor', 'Leading_Current_Power_Factor', 'NSM',\n",
      "       'month'],\n",
      "      dtype='object')),\n",
      "                                                 ('categorical_ORD',\n",
      "                                                  Pipeline(steps=[('encoder_ORD',\n",
      "                                                                   OrdinalEncoder())]),\n",
      "                                                  ['WeekStatus',\n",
      "                                                   'Day_of_week']),\n",
      "                                                 ('categorical_OHE',\n",
      "                                                  Pipeline(steps=[('encoder_OHE',\n",
      "                                                                   OneHotEncoder())]),\n",
      "                                                  ['Load_Type'])])),\n",
      "                ('regressor', RandomForestRegressor())])\n"
     ]
    }
   ],
   "source": [
    "print (rf_model)"
   ]
  },
  {
   "cell_type": "code",
   "execution_count": null,
   "metadata": {},
   "outputs": [
    {
     "name": "stdout",
     "output_type": "stream",
     "text": [
      "0.9992667664658089\n"
     ]
    }
   ],
   "source": [
    "predictions = rf_model.predict(X_test)\n",
    "print (r2_score(y_test, predictions))"
   ]
  },
  {
   "cell_type": "code",
   "execution_count": null,
   "metadata": {},
   "outputs": [],
   "source": [
    "# model saving\n",
    "\n",
    "with open('model_steel.pkl', 'wb') as file_1:\n",
    "    pickle.dump(pipeline, file_1)"
   ]
  },
  {
   "cell_type": "code",
   "execution_count": null,
   "metadata": {},
   "outputs": [],
   "source": [
    "with open('model_steel.pkl','rb') as file_1:\n",
    "    model_steel = pickle.load(file_1)"
   ]
  },
  {
   "cell_type": "code",
   "execution_count": null,
   "metadata": {},
   "outputs": [],
   "source": [
    "y_pred_inf_tes = model_steel.predict(data_inf)"
   ]
  },
  {
   "cell_type": "code",
   "execution_count": null,
   "metadata": {},
   "outputs": [],
   "source": [
    "# konversi data kedalam dataframe\n",
    "\n",
    "y_pred_inf_tesdf = pd.DataFrame(y_pred_inf_tes, columns = ['Usage kWh Prediction'])"
   ]
  },
  {
   "cell_type": "code",
   "execution_count": null,
   "metadata": {},
   "outputs": [
    {
     "data": {
      "text/html": [
       "<div>\n",
       "<style scoped>\n",
       "    .dataframe tbody tr th:only-of-type {\n",
       "        vertical-align: middle;\n",
       "    }\n",
       "\n",
       "    .dataframe tbody tr th {\n",
       "        vertical-align: top;\n",
       "    }\n",
       "\n",
       "    .dataframe thead th {\n",
       "        text-align: right;\n",
       "    }\n",
       "</style>\n",
       "<table border=\"1\" class=\"dataframe\">\n",
       "  <thead>\n",
       "    <tr style=\"text-align: right;\">\n",
       "      <th></th>\n",
       "      <th>Usage_kWh</th>\n",
       "      <th>Usage kWh Prediction</th>\n",
       "      <th>Usage kWh Prediction</th>\n",
       "    </tr>\n",
       "  </thead>\n",
       "  <tbody>\n",
       "    <tr>\n",
       "      <th>0</th>\n",
       "      <td>28.08</td>\n",
       "      <td>29.5086</td>\n",
       "      <td>29.6176</td>\n",
       "    </tr>\n",
       "    <tr>\n",
       "      <th>1</th>\n",
       "      <td>3.60</td>\n",
       "      <td>3.5900</td>\n",
       "      <td>3.5909</td>\n",
       "    </tr>\n",
       "    <tr>\n",
       "      <th>2</th>\n",
       "      <td>3.85</td>\n",
       "      <td>3.7665</td>\n",
       "      <td>3.8133</td>\n",
       "    </tr>\n",
       "    <tr>\n",
       "      <th>3</th>\n",
       "      <td>3.96</td>\n",
       "      <td>3.9664</td>\n",
       "      <td>3.9826</td>\n",
       "    </tr>\n",
       "    <tr>\n",
       "      <th>4</th>\n",
       "      <td>2.59</td>\n",
       "      <td>2.6584</td>\n",
       "      <td>2.6257</td>\n",
       "    </tr>\n",
       "    <tr>\n",
       "      <th>5</th>\n",
       "      <td>2.88</td>\n",
       "      <td>2.8871</td>\n",
       "      <td>2.8894</td>\n",
       "    </tr>\n",
       "    <tr>\n",
       "      <th>6</th>\n",
       "      <td>57.96</td>\n",
       "      <td>59.7094</td>\n",
       "      <td>59.8598</td>\n",
       "    </tr>\n",
       "    <tr>\n",
       "      <th>7</th>\n",
       "      <td>3.20</td>\n",
       "      <td>3.1938</td>\n",
       "      <td>3.1911</td>\n",
       "    </tr>\n",
       "    <tr>\n",
       "      <th>8</th>\n",
       "      <td>6.91</td>\n",
       "      <td>7.0201</td>\n",
       "      <td>7.0448</td>\n",
       "    </tr>\n",
       "    <tr>\n",
       "      <th>9</th>\n",
       "      <td>41.04</td>\n",
       "      <td>41.2998</td>\n",
       "      <td>41.3471</td>\n",
       "    </tr>\n",
       "  </tbody>\n",
       "</table>\n",
       "</div>"
      ],
      "text/plain": [
       "   Usage_kWh  Usage kWh Prediction  Usage kWh Prediction\n",
       "0      28.08               29.5086               29.6176\n",
       "1       3.60                3.5900                3.5909\n",
       "2       3.85                3.7665                3.8133\n",
       "3       3.96                3.9664                3.9826\n",
       "4       2.59                2.6584                2.6257\n",
       "5       2.88                2.8871                2.8894\n",
       "6      57.96               59.7094               59.8598\n",
       "7       3.20                3.1938                3.1911\n",
       "8       6.91                7.0201                7.0448\n",
       "9      41.04               41.2998               41.3471"
      ]
     },
     "execution_count": 92,
     "metadata": {},
     "output_type": "execute_result"
    }
   ],
   "source": [
    "pd.concat([data_inf['Usage_kWh'],y_pred_inf_df,y_pred_inf_tesdf], axis = 1)"
   ]
  },
  {
   "cell_type": "code",
   "execution_count": null,
   "metadata": {},
   "outputs": [],
   "source": []
  }
 ],
 "metadata": {
  "interpreter": {
   "hash": "a90aeebcf29d64a654773811cc170cb25061cb2498f10ac689db374c7bf325de"
  },
  "kernelspec": {
   "display_name": "Python 3.8.8 ('base')",
   "language": "python",
   "name": "python3"
  },
  "language_info": {
   "codemirror_mode": {
    "name": "ipython",
    "version": 3
   },
   "file_extension": ".py",
   "mimetype": "text/x-python",
   "name": "python",
   "nbconvert_exporter": "python",
   "pygments_lexer": "ipython3",
   "version": "3.8.8"
  },
  "orig_nbformat": 4
 },
 "nbformat": 4,
 "nbformat_minor": 2
}
