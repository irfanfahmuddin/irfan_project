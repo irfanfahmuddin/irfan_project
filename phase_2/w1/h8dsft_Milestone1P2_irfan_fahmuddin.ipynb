{
 "cells": [
  {
   "cell_type": "markdown",
   "metadata": {},
   "source": [
    "# MILESTONE 1\n",
    "\n",
    "IRFAN FAHMUDDIN M FTDS 011\n",
    "\n",
    "**Objectives**\n",
    "Churn Prediction with Artificial neural network"
   ]
  },
  {
   "cell_type": "code",
   "execution_count": 1,
   "metadata": {},
   "outputs": [],
   "source": [
    "# import library\n",
    "\n",
    "import pandas as pd\n",
    "import tensorflow as tf\n",
    "import numpy as np\n",
    "import matplotlib.pyplot as plt\n",
    "import seaborn as sns\n",
    "\n",
    "from sklearn.preprocessing import StandardScaler\n",
    "from sklearn.preprocessing import OneHotEncoder\n",
    "\n",
    "from sklearn.pipeline import Pipeline\n",
    "from sklearn.compose import ColumnTransformer\n",
    "import pickle \n",
    "from sklearn.model_selection import train_test_split\n",
    "from sklearn.metrics import confusion_matrix,classification_report"
   ]
  },
  {
   "cell_type": "code",
   "execution_count": 2,
   "metadata": {},
   "outputs": [],
   "source": [
    "class MyTest(tf.test.TestCase):\n",
    "\n",
    "  def test_add_on_gpu(self):\n",
    "    if not tf.test.is_built_with_cuda():\n",
    "      self.skipTest(\"test is only applicable on GPU\")\n",
    "\n",
    "    with tf.device(\"GPU:0\"):\n",
    "      self.assertEqual(tf.math.add(1.0, 2.0), 3.0)"
   ]
  },
  {
   "cell_type": "markdown",
   "metadata": {},
   "source": [
    "## DATA LOADING"
   ]
  },
  {
   "cell_type": "code",
   "execution_count": 2,
   "metadata": {},
   "outputs": [],
   "source": [
    "df = pd.read_csv('data_m1p2.csv')"
   ]
  },
  {
   "cell_type": "code",
   "execution_count": 3,
   "metadata": {},
   "outputs": [
    {
     "data": {
      "text/html": [
       "<div>\n",
       "<style scoped>\n",
       "    .dataframe tbody tr th:only-of-type {\n",
       "        vertical-align: middle;\n",
       "    }\n",
       "\n",
       "    .dataframe tbody tr th {\n",
       "        vertical-align: top;\n",
       "    }\n",
       "\n",
       "    .dataframe thead th {\n",
       "        text-align: right;\n",
       "    }\n",
       "</style>\n",
       "<table border=\"1\" class=\"dataframe\">\n",
       "  <thead>\n",
       "    <tr style=\"text-align: right;\">\n",
       "      <th></th>\n",
       "      <th>customerID</th>\n",
       "      <th>gender</th>\n",
       "      <th>SeniorCitizen</th>\n",
       "      <th>Partner</th>\n",
       "      <th>Dependents</th>\n",
       "      <th>tenure</th>\n",
       "      <th>PhoneService</th>\n",
       "      <th>MultipleLines</th>\n",
       "      <th>InternetService</th>\n",
       "      <th>OnlineSecurity</th>\n",
       "      <th>...</th>\n",
       "      <th>DeviceProtection</th>\n",
       "      <th>TechSupport</th>\n",
       "      <th>StreamingTV</th>\n",
       "      <th>StreamingMovies</th>\n",
       "      <th>Contract</th>\n",
       "      <th>PaperlessBilling</th>\n",
       "      <th>PaymentMethod</th>\n",
       "      <th>MonthlyCharges</th>\n",
       "      <th>TotalCharges</th>\n",
       "      <th>Churn</th>\n",
       "    </tr>\n",
       "  </thead>\n",
       "  <tbody>\n",
       "    <tr>\n",
       "      <th>0</th>\n",
       "      <td>7590-VHVEG</td>\n",
       "      <td>Female</td>\n",
       "      <td>0</td>\n",
       "      <td>Yes</td>\n",
       "      <td>No</td>\n",
       "      <td>1</td>\n",
       "      <td>No</td>\n",
       "      <td>No phone service</td>\n",
       "      <td>DSL</td>\n",
       "      <td>No</td>\n",
       "      <td>...</td>\n",
       "      <td>No</td>\n",
       "      <td>No</td>\n",
       "      <td>No</td>\n",
       "      <td>No</td>\n",
       "      <td>Month-to-month</td>\n",
       "      <td>Yes</td>\n",
       "      <td>Electronic check</td>\n",
       "      <td>29.85</td>\n",
       "      <td>29.85</td>\n",
       "      <td>No</td>\n",
       "    </tr>\n",
       "    <tr>\n",
       "      <th>1</th>\n",
       "      <td>5575-GNVDE</td>\n",
       "      <td>Male</td>\n",
       "      <td>0</td>\n",
       "      <td>No</td>\n",
       "      <td>No</td>\n",
       "      <td>34</td>\n",
       "      <td>Yes</td>\n",
       "      <td>No</td>\n",
       "      <td>DSL</td>\n",
       "      <td>Yes</td>\n",
       "      <td>...</td>\n",
       "      <td>Yes</td>\n",
       "      <td>No</td>\n",
       "      <td>No</td>\n",
       "      <td>No</td>\n",
       "      <td>One year</td>\n",
       "      <td>No</td>\n",
       "      <td>Mailed check</td>\n",
       "      <td>56.95</td>\n",
       "      <td>1889.5</td>\n",
       "      <td>No</td>\n",
       "    </tr>\n",
       "    <tr>\n",
       "      <th>2</th>\n",
       "      <td>3668-QPYBK</td>\n",
       "      <td>Male</td>\n",
       "      <td>0</td>\n",
       "      <td>No</td>\n",
       "      <td>No</td>\n",
       "      <td>2</td>\n",
       "      <td>Yes</td>\n",
       "      <td>No</td>\n",
       "      <td>DSL</td>\n",
       "      <td>Yes</td>\n",
       "      <td>...</td>\n",
       "      <td>No</td>\n",
       "      <td>No</td>\n",
       "      <td>No</td>\n",
       "      <td>No</td>\n",
       "      <td>Month-to-month</td>\n",
       "      <td>Yes</td>\n",
       "      <td>Mailed check</td>\n",
       "      <td>53.85</td>\n",
       "      <td>108.15</td>\n",
       "      <td>Yes</td>\n",
       "    </tr>\n",
       "    <tr>\n",
       "      <th>3</th>\n",
       "      <td>7795-CFOCW</td>\n",
       "      <td>Male</td>\n",
       "      <td>0</td>\n",
       "      <td>No</td>\n",
       "      <td>No</td>\n",
       "      <td>45</td>\n",
       "      <td>No</td>\n",
       "      <td>No phone service</td>\n",
       "      <td>DSL</td>\n",
       "      <td>Yes</td>\n",
       "      <td>...</td>\n",
       "      <td>Yes</td>\n",
       "      <td>Yes</td>\n",
       "      <td>No</td>\n",
       "      <td>No</td>\n",
       "      <td>One year</td>\n",
       "      <td>No</td>\n",
       "      <td>Bank transfer (automatic)</td>\n",
       "      <td>42.30</td>\n",
       "      <td>1840.75</td>\n",
       "      <td>No</td>\n",
       "    </tr>\n",
       "    <tr>\n",
       "      <th>4</th>\n",
       "      <td>9237-HQITU</td>\n",
       "      <td>Female</td>\n",
       "      <td>0</td>\n",
       "      <td>No</td>\n",
       "      <td>No</td>\n",
       "      <td>2</td>\n",
       "      <td>Yes</td>\n",
       "      <td>No</td>\n",
       "      <td>Fiber optic</td>\n",
       "      <td>No</td>\n",
       "      <td>...</td>\n",
       "      <td>No</td>\n",
       "      <td>No</td>\n",
       "      <td>No</td>\n",
       "      <td>No</td>\n",
       "      <td>Month-to-month</td>\n",
       "      <td>Yes</td>\n",
       "      <td>Electronic check</td>\n",
       "      <td>70.70</td>\n",
       "      <td>151.65</td>\n",
       "      <td>Yes</td>\n",
       "    </tr>\n",
       "  </tbody>\n",
       "</table>\n",
       "<p>5 rows × 21 columns</p>\n",
       "</div>"
      ],
      "text/plain": [
       "   customerID  gender  SeniorCitizen Partner Dependents  tenure PhoneService  \\\n",
       "0  7590-VHVEG  Female              0     Yes         No       1           No   \n",
       "1  5575-GNVDE    Male              0      No         No      34          Yes   \n",
       "2  3668-QPYBK    Male              0      No         No       2          Yes   \n",
       "3  7795-CFOCW    Male              0      No         No      45           No   \n",
       "4  9237-HQITU  Female              0      No         No       2          Yes   \n",
       "\n",
       "      MultipleLines InternetService OnlineSecurity  ... DeviceProtection  \\\n",
       "0  No phone service             DSL             No  ...               No   \n",
       "1                No             DSL            Yes  ...              Yes   \n",
       "2                No             DSL            Yes  ...               No   \n",
       "3  No phone service             DSL            Yes  ...              Yes   \n",
       "4                No     Fiber optic             No  ...               No   \n",
       "\n",
       "  TechSupport StreamingTV StreamingMovies        Contract PaperlessBilling  \\\n",
       "0          No          No              No  Month-to-month              Yes   \n",
       "1          No          No              No        One year               No   \n",
       "2          No          No              No  Month-to-month              Yes   \n",
       "3         Yes          No              No        One year               No   \n",
       "4          No          No              No  Month-to-month              Yes   \n",
       "\n",
       "               PaymentMethod MonthlyCharges  TotalCharges Churn  \n",
       "0           Electronic check          29.85         29.85    No  \n",
       "1               Mailed check          56.95        1889.5    No  \n",
       "2               Mailed check          53.85        108.15   Yes  \n",
       "3  Bank transfer (automatic)          42.30       1840.75    No  \n",
       "4           Electronic check          70.70        151.65   Yes  \n",
       "\n",
       "[5 rows x 21 columns]"
      ]
     },
     "execution_count": 3,
     "metadata": {},
     "output_type": "execute_result"
    }
   ],
   "source": [
    "df.head()"
   ]
  },
  {
   "cell_type": "code",
   "execution_count": 4,
   "metadata": {},
   "outputs": [
    {
     "name": "stdout",
     "output_type": "stream",
     "text": [
      "<class 'pandas.core.frame.DataFrame'>\n",
      "RangeIndex: 7043 entries, 0 to 7042\n",
      "Data columns (total 21 columns):\n",
      " #   Column            Non-Null Count  Dtype  \n",
      "---  ------            --------------  -----  \n",
      " 0   customerID        7043 non-null   object \n",
      " 1   gender            7043 non-null   object \n",
      " 2   SeniorCitizen     7043 non-null   int64  \n",
      " 3   Partner           7043 non-null   object \n",
      " 4   Dependents        7043 non-null   object \n",
      " 5   tenure            7043 non-null   int64  \n",
      " 6   PhoneService      7043 non-null   object \n",
      " 7   MultipleLines     7043 non-null   object \n",
      " 8   InternetService   7043 non-null   object \n",
      " 9   OnlineSecurity    7043 non-null   object \n",
      " 10  OnlineBackup      7043 non-null   object \n",
      " 11  DeviceProtection  7043 non-null   object \n",
      " 12  TechSupport       7043 non-null   object \n",
      " 13  StreamingTV       7043 non-null   object \n",
      " 14  StreamingMovies   7043 non-null   object \n",
      " 15  Contract          7043 non-null   object \n",
      " 16  PaperlessBilling  7043 non-null   object \n",
      " 17  PaymentMethod     7043 non-null   object \n",
      " 18  MonthlyCharges    7043 non-null   float64\n",
      " 19  TotalCharges      7043 non-null   object \n",
      " 20  Churn             7043 non-null   object \n",
      "dtypes: float64(1), int64(2), object(18)\n",
      "memory usage: 1.1+ MB\n"
     ]
    }
   ],
   "source": [
    "df.info()"
   ]
  },
  {
   "cell_type": "code",
   "execution_count": 5,
   "metadata": {},
   "outputs": [],
   "source": [
    "# ubah tipe data\n",
    "#pd.to_numeric(df['TotalCharges'])"
   ]
  },
  {
   "cell_type": "code",
   "execution_count": 6,
   "metadata": {},
   "outputs": [
    {
     "data": {
      "text/html": [
       "<div>\n",
       "<style scoped>\n",
       "    .dataframe tbody tr th:only-of-type {\n",
       "        vertical-align: middle;\n",
       "    }\n",
       "\n",
       "    .dataframe tbody tr th {\n",
       "        vertical-align: top;\n",
       "    }\n",
       "\n",
       "    .dataframe thead th {\n",
       "        text-align: right;\n",
       "    }\n",
       "</style>\n",
       "<table border=\"1\" class=\"dataframe\">\n",
       "  <thead>\n",
       "    <tr style=\"text-align: right;\">\n",
       "      <th></th>\n",
       "      <th>0</th>\n",
       "      <th>1</th>\n",
       "      <th>2</th>\n",
       "      <th>3</th>\n",
       "      <th>4</th>\n",
       "      <th>5</th>\n",
       "      <th>6</th>\n",
       "      <th>7</th>\n",
       "      <th>8</th>\n",
       "      <th>9</th>\n",
       "      <th>...</th>\n",
       "      <th>7033</th>\n",
       "      <th>7034</th>\n",
       "      <th>7035</th>\n",
       "      <th>7036</th>\n",
       "      <th>7037</th>\n",
       "      <th>7038</th>\n",
       "      <th>7039</th>\n",
       "      <th>7040</th>\n",
       "      <th>7041</th>\n",
       "      <th>7042</th>\n",
       "    </tr>\n",
       "  </thead>\n",
       "  <tbody>\n",
       "    <tr>\n",
       "      <th>customerID</th>\n",
       "      <td>7590-VHVEG</td>\n",
       "      <td>5575-GNVDE</td>\n",
       "      <td>3668-QPYBK</td>\n",
       "      <td>7795-CFOCW</td>\n",
       "      <td>9237-HQITU</td>\n",
       "      <td>9305-CDSKC</td>\n",
       "      <td>1452-KIOVK</td>\n",
       "      <td>6713-OKOMC</td>\n",
       "      <td>7892-POOKP</td>\n",
       "      <td>6388-TABGU</td>\n",
       "      <td>...</td>\n",
       "      <td>9767-FFLEM</td>\n",
       "      <td>0639-TSIQW</td>\n",
       "      <td>8456-QDAVC</td>\n",
       "      <td>7750-EYXWZ</td>\n",
       "      <td>2569-WGERO</td>\n",
       "      <td>6840-RESVB</td>\n",
       "      <td>2234-XADUH</td>\n",
       "      <td>4801-JZAZL</td>\n",
       "      <td>8361-LTMKD</td>\n",
       "      <td>3186-AJIEK</td>\n",
       "    </tr>\n",
       "    <tr>\n",
       "      <th>gender</th>\n",
       "      <td>Female</td>\n",
       "      <td>Male</td>\n",
       "      <td>Male</td>\n",
       "      <td>Male</td>\n",
       "      <td>Female</td>\n",
       "      <td>Female</td>\n",
       "      <td>Male</td>\n",
       "      <td>Female</td>\n",
       "      <td>Female</td>\n",
       "      <td>Male</td>\n",
       "      <td>...</td>\n",
       "      <td>Male</td>\n",
       "      <td>Female</td>\n",
       "      <td>Male</td>\n",
       "      <td>Female</td>\n",
       "      <td>Female</td>\n",
       "      <td>Male</td>\n",
       "      <td>Female</td>\n",
       "      <td>Female</td>\n",
       "      <td>Male</td>\n",
       "      <td>Male</td>\n",
       "    </tr>\n",
       "    <tr>\n",
       "      <th>SeniorCitizen</th>\n",
       "      <td>0</td>\n",
       "      <td>0</td>\n",
       "      <td>0</td>\n",
       "      <td>0</td>\n",
       "      <td>0</td>\n",
       "      <td>0</td>\n",
       "      <td>0</td>\n",
       "      <td>0</td>\n",
       "      <td>0</td>\n",
       "      <td>0</td>\n",
       "      <td>...</td>\n",
       "      <td>0</td>\n",
       "      <td>0</td>\n",
       "      <td>0</td>\n",
       "      <td>0</td>\n",
       "      <td>0</td>\n",
       "      <td>0</td>\n",
       "      <td>0</td>\n",
       "      <td>0</td>\n",
       "      <td>1</td>\n",
       "      <td>0</td>\n",
       "    </tr>\n",
       "    <tr>\n",
       "      <th>Partner</th>\n",
       "      <td>Yes</td>\n",
       "      <td>No</td>\n",
       "      <td>No</td>\n",
       "      <td>No</td>\n",
       "      <td>No</td>\n",
       "      <td>No</td>\n",
       "      <td>No</td>\n",
       "      <td>No</td>\n",
       "      <td>Yes</td>\n",
       "      <td>No</td>\n",
       "      <td>...</td>\n",
       "      <td>No</td>\n",
       "      <td>No</td>\n",
       "      <td>No</td>\n",
       "      <td>No</td>\n",
       "      <td>No</td>\n",
       "      <td>Yes</td>\n",
       "      <td>Yes</td>\n",
       "      <td>Yes</td>\n",
       "      <td>Yes</td>\n",
       "      <td>No</td>\n",
       "    </tr>\n",
       "    <tr>\n",
       "      <th>Dependents</th>\n",
       "      <td>No</td>\n",
       "      <td>No</td>\n",
       "      <td>No</td>\n",
       "      <td>No</td>\n",
       "      <td>No</td>\n",
       "      <td>No</td>\n",
       "      <td>Yes</td>\n",
       "      <td>No</td>\n",
       "      <td>No</td>\n",
       "      <td>Yes</td>\n",
       "      <td>...</td>\n",
       "      <td>No</td>\n",
       "      <td>No</td>\n",
       "      <td>No</td>\n",
       "      <td>No</td>\n",
       "      <td>No</td>\n",
       "      <td>Yes</td>\n",
       "      <td>Yes</td>\n",
       "      <td>Yes</td>\n",
       "      <td>No</td>\n",
       "      <td>No</td>\n",
       "    </tr>\n",
       "    <tr>\n",
       "      <th>tenure</th>\n",
       "      <td>1</td>\n",
       "      <td>34</td>\n",
       "      <td>2</td>\n",
       "      <td>45</td>\n",
       "      <td>2</td>\n",
       "      <td>8</td>\n",
       "      <td>22</td>\n",
       "      <td>10</td>\n",
       "      <td>28</td>\n",
       "      <td>62</td>\n",
       "      <td>...</td>\n",
       "      <td>38</td>\n",
       "      <td>67</td>\n",
       "      <td>19</td>\n",
       "      <td>12</td>\n",
       "      <td>72</td>\n",
       "      <td>24</td>\n",
       "      <td>72</td>\n",
       "      <td>11</td>\n",
       "      <td>4</td>\n",
       "      <td>66</td>\n",
       "    </tr>\n",
       "    <tr>\n",
       "      <th>PhoneService</th>\n",
       "      <td>No</td>\n",
       "      <td>Yes</td>\n",
       "      <td>Yes</td>\n",
       "      <td>No</td>\n",
       "      <td>Yes</td>\n",
       "      <td>Yes</td>\n",
       "      <td>Yes</td>\n",
       "      <td>No</td>\n",
       "      <td>Yes</td>\n",
       "      <td>Yes</td>\n",
       "      <td>...</td>\n",
       "      <td>Yes</td>\n",
       "      <td>Yes</td>\n",
       "      <td>Yes</td>\n",
       "      <td>No</td>\n",
       "      <td>Yes</td>\n",
       "      <td>Yes</td>\n",
       "      <td>Yes</td>\n",
       "      <td>No</td>\n",
       "      <td>Yes</td>\n",
       "      <td>Yes</td>\n",
       "    </tr>\n",
       "    <tr>\n",
       "      <th>MultipleLines</th>\n",
       "      <td>No phone service</td>\n",
       "      <td>No</td>\n",
       "      <td>No</td>\n",
       "      <td>No phone service</td>\n",
       "      <td>No</td>\n",
       "      <td>Yes</td>\n",
       "      <td>Yes</td>\n",
       "      <td>No phone service</td>\n",
       "      <td>Yes</td>\n",
       "      <td>No</td>\n",
       "      <td>...</td>\n",
       "      <td>No</td>\n",
       "      <td>Yes</td>\n",
       "      <td>No</td>\n",
       "      <td>No phone service</td>\n",
       "      <td>No</td>\n",
       "      <td>Yes</td>\n",
       "      <td>Yes</td>\n",
       "      <td>No phone service</td>\n",
       "      <td>Yes</td>\n",
       "      <td>No</td>\n",
       "    </tr>\n",
       "    <tr>\n",
       "      <th>InternetService</th>\n",
       "      <td>DSL</td>\n",
       "      <td>DSL</td>\n",
       "      <td>DSL</td>\n",
       "      <td>DSL</td>\n",
       "      <td>Fiber optic</td>\n",
       "      <td>Fiber optic</td>\n",
       "      <td>Fiber optic</td>\n",
       "      <td>DSL</td>\n",
       "      <td>Fiber optic</td>\n",
       "      <td>DSL</td>\n",
       "      <td>...</td>\n",
       "      <td>Fiber optic</td>\n",
       "      <td>Fiber optic</td>\n",
       "      <td>Fiber optic</td>\n",
       "      <td>DSL</td>\n",
       "      <td>No</td>\n",
       "      <td>DSL</td>\n",
       "      <td>Fiber optic</td>\n",
       "      <td>DSL</td>\n",
       "      <td>Fiber optic</td>\n",
       "      <td>Fiber optic</td>\n",
       "    </tr>\n",
       "    <tr>\n",
       "      <th>OnlineSecurity</th>\n",
       "      <td>No</td>\n",
       "      <td>Yes</td>\n",
       "      <td>Yes</td>\n",
       "      <td>Yes</td>\n",
       "      <td>No</td>\n",
       "      <td>No</td>\n",
       "      <td>No</td>\n",
       "      <td>Yes</td>\n",
       "      <td>No</td>\n",
       "      <td>Yes</td>\n",
       "      <td>...</td>\n",
       "      <td>No</td>\n",
       "      <td>Yes</td>\n",
       "      <td>No</td>\n",
       "      <td>No</td>\n",
       "      <td>No internet service</td>\n",
       "      <td>Yes</td>\n",
       "      <td>No</td>\n",
       "      <td>Yes</td>\n",
       "      <td>No</td>\n",
       "      <td>Yes</td>\n",
       "    </tr>\n",
       "    <tr>\n",
       "      <th>OnlineBackup</th>\n",
       "      <td>Yes</td>\n",
       "      <td>No</td>\n",
       "      <td>Yes</td>\n",
       "      <td>No</td>\n",
       "      <td>No</td>\n",
       "      <td>No</td>\n",
       "      <td>Yes</td>\n",
       "      <td>No</td>\n",
       "      <td>No</td>\n",
       "      <td>Yes</td>\n",
       "      <td>...</td>\n",
       "      <td>No</td>\n",
       "      <td>Yes</td>\n",
       "      <td>No</td>\n",
       "      <td>Yes</td>\n",
       "      <td>No internet service</td>\n",
       "      <td>No</td>\n",
       "      <td>Yes</td>\n",
       "      <td>No</td>\n",
       "      <td>No</td>\n",
       "      <td>No</td>\n",
       "    </tr>\n",
       "    <tr>\n",
       "      <th>DeviceProtection</th>\n",
       "      <td>No</td>\n",
       "      <td>Yes</td>\n",
       "      <td>No</td>\n",
       "      <td>Yes</td>\n",
       "      <td>No</td>\n",
       "      <td>Yes</td>\n",
       "      <td>No</td>\n",
       "      <td>No</td>\n",
       "      <td>Yes</td>\n",
       "      <td>No</td>\n",
       "      <td>...</td>\n",
       "      <td>No</td>\n",
       "      <td>Yes</td>\n",
       "      <td>No</td>\n",
       "      <td>Yes</td>\n",
       "      <td>No internet service</td>\n",
       "      <td>Yes</td>\n",
       "      <td>Yes</td>\n",
       "      <td>No</td>\n",
       "      <td>No</td>\n",
       "      <td>Yes</td>\n",
       "    </tr>\n",
       "    <tr>\n",
       "      <th>TechSupport</th>\n",
       "      <td>No</td>\n",
       "      <td>No</td>\n",
       "      <td>No</td>\n",
       "      <td>Yes</td>\n",
       "      <td>No</td>\n",
       "      <td>No</td>\n",
       "      <td>No</td>\n",
       "      <td>No</td>\n",
       "      <td>Yes</td>\n",
       "      <td>No</td>\n",
       "      <td>...</td>\n",
       "      <td>No</td>\n",
       "      <td>No</td>\n",
       "      <td>No</td>\n",
       "      <td>Yes</td>\n",
       "      <td>No internet service</td>\n",
       "      <td>Yes</td>\n",
       "      <td>No</td>\n",
       "      <td>No</td>\n",
       "      <td>No</td>\n",
       "      <td>Yes</td>\n",
       "    </tr>\n",
       "    <tr>\n",
       "      <th>StreamingTV</th>\n",
       "      <td>No</td>\n",
       "      <td>No</td>\n",
       "      <td>No</td>\n",
       "      <td>No</td>\n",
       "      <td>No</td>\n",
       "      <td>Yes</td>\n",
       "      <td>Yes</td>\n",
       "      <td>No</td>\n",
       "      <td>Yes</td>\n",
       "      <td>No</td>\n",
       "      <td>...</td>\n",
       "      <td>No</td>\n",
       "      <td>Yes</td>\n",
       "      <td>Yes</td>\n",
       "      <td>Yes</td>\n",
       "      <td>No internet service</td>\n",
       "      <td>Yes</td>\n",
       "      <td>Yes</td>\n",
       "      <td>No</td>\n",
       "      <td>No</td>\n",
       "      <td>Yes</td>\n",
       "    </tr>\n",
       "    <tr>\n",
       "      <th>StreamingMovies</th>\n",
       "      <td>No</td>\n",
       "      <td>No</td>\n",
       "      <td>No</td>\n",
       "      <td>No</td>\n",
       "      <td>No</td>\n",
       "      <td>Yes</td>\n",
       "      <td>No</td>\n",
       "      <td>No</td>\n",
       "      <td>Yes</td>\n",
       "      <td>No</td>\n",
       "      <td>...</td>\n",
       "      <td>No</td>\n",
       "      <td>No</td>\n",
       "      <td>No</td>\n",
       "      <td>Yes</td>\n",
       "      <td>No internet service</td>\n",
       "      <td>Yes</td>\n",
       "      <td>Yes</td>\n",
       "      <td>No</td>\n",
       "      <td>No</td>\n",
       "      <td>Yes</td>\n",
       "    </tr>\n",
       "    <tr>\n",
       "      <th>Contract</th>\n",
       "      <td>Month-to-month</td>\n",
       "      <td>One year</td>\n",
       "      <td>Month-to-month</td>\n",
       "      <td>One year</td>\n",
       "      <td>Month-to-month</td>\n",
       "      <td>Month-to-month</td>\n",
       "      <td>Month-to-month</td>\n",
       "      <td>Month-to-month</td>\n",
       "      <td>Month-to-month</td>\n",
       "      <td>One year</td>\n",
       "      <td>...</td>\n",
       "      <td>Month-to-month</td>\n",
       "      <td>Month-to-month</td>\n",
       "      <td>Month-to-month</td>\n",
       "      <td>One year</td>\n",
       "      <td>Two year</td>\n",
       "      <td>One year</td>\n",
       "      <td>One year</td>\n",
       "      <td>Month-to-month</td>\n",
       "      <td>Month-to-month</td>\n",
       "      <td>Two year</td>\n",
       "    </tr>\n",
       "    <tr>\n",
       "      <th>PaperlessBilling</th>\n",
       "      <td>Yes</td>\n",
       "      <td>No</td>\n",
       "      <td>Yes</td>\n",
       "      <td>No</td>\n",
       "      <td>Yes</td>\n",
       "      <td>Yes</td>\n",
       "      <td>Yes</td>\n",
       "      <td>No</td>\n",
       "      <td>Yes</td>\n",
       "      <td>No</td>\n",
       "      <td>...</td>\n",
       "      <td>Yes</td>\n",
       "      <td>Yes</td>\n",
       "      <td>Yes</td>\n",
       "      <td>No</td>\n",
       "      <td>Yes</td>\n",
       "      <td>Yes</td>\n",
       "      <td>Yes</td>\n",
       "      <td>Yes</td>\n",
       "      <td>Yes</td>\n",
       "      <td>Yes</td>\n",
       "    </tr>\n",
       "    <tr>\n",
       "      <th>PaymentMethod</th>\n",
       "      <td>Electronic check</td>\n",
       "      <td>Mailed check</td>\n",
       "      <td>Mailed check</td>\n",
       "      <td>Bank transfer (automatic)</td>\n",
       "      <td>Electronic check</td>\n",
       "      <td>Electronic check</td>\n",
       "      <td>Credit card (automatic)</td>\n",
       "      <td>Mailed check</td>\n",
       "      <td>Electronic check</td>\n",
       "      <td>Bank transfer (automatic)</td>\n",
       "      <td>...</td>\n",
       "      <td>Credit card (automatic)</td>\n",
       "      <td>Credit card (automatic)</td>\n",
       "      <td>Bank transfer (automatic)</td>\n",
       "      <td>Electronic check</td>\n",
       "      <td>Bank transfer (automatic)</td>\n",
       "      <td>Mailed check</td>\n",
       "      <td>Credit card (automatic)</td>\n",
       "      <td>Electronic check</td>\n",
       "      <td>Mailed check</td>\n",
       "      <td>Bank transfer (automatic)</td>\n",
       "    </tr>\n",
       "    <tr>\n",
       "      <th>MonthlyCharges</th>\n",
       "      <td>29.85</td>\n",
       "      <td>56.95</td>\n",
       "      <td>53.85</td>\n",
       "      <td>42.3</td>\n",
       "      <td>70.7</td>\n",
       "      <td>99.65</td>\n",
       "      <td>89.1</td>\n",
       "      <td>29.75</td>\n",
       "      <td>104.8</td>\n",
       "      <td>56.15</td>\n",
       "      <td>...</td>\n",
       "      <td>69.5</td>\n",
       "      <td>102.95</td>\n",
       "      <td>78.7</td>\n",
       "      <td>60.65</td>\n",
       "      <td>21.15</td>\n",
       "      <td>84.8</td>\n",
       "      <td>103.2</td>\n",
       "      <td>29.6</td>\n",
       "      <td>74.4</td>\n",
       "      <td>105.65</td>\n",
       "    </tr>\n",
       "    <tr>\n",
       "      <th>TotalCharges</th>\n",
       "      <td>29.85</td>\n",
       "      <td>1889.5</td>\n",
       "      <td>108.15</td>\n",
       "      <td>1840.75</td>\n",
       "      <td>151.65</td>\n",
       "      <td>820.5</td>\n",
       "      <td>1949.4</td>\n",
       "      <td>301.9</td>\n",
       "      <td>3046.05</td>\n",
       "      <td>3487.95</td>\n",
       "      <td>...</td>\n",
       "      <td>2625.25</td>\n",
       "      <td>6886.25</td>\n",
       "      <td>1495.1</td>\n",
       "      <td>743.3</td>\n",
       "      <td>1419.4</td>\n",
       "      <td>1990.5</td>\n",
       "      <td>7362.9</td>\n",
       "      <td>346.45</td>\n",
       "      <td>306.6</td>\n",
       "      <td>6844.5</td>\n",
       "    </tr>\n",
       "    <tr>\n",
       "      <th>Churn</th>\n",
       "      <td>No</td>\n",
       "      <td>No</td>\n",
       "      <td>Yes</td>\n",
       "      <td>No</td>\n",
       "      <td>Yes</td>\n",
       "      <td>Yes</td>\n",
       "      <td>No</td>\n",
       "      <td>No</td>\n",
       "      <td>Yes</td>\n",
       "      <td>No</td>\n",
       "      <td>...</td>\n",
       "      <td>No</td>\n",
       "      <td>Yes</td>\n",
       "      <td>No</td>\n",
       "      <td>No</td>\n",
       "      <td>No</td>\n",
       "      <td>No</td>\n",
       "      <td>No</td>\n",
       "      <td>No</td>\n",
       "      <td>Yes</td>\n",
       "      <td>No</td>\n",
       "    </tr>\n",
       "  </tbody>\n",
       "</table>\n",
       "<p>21 rows × 7043 columns</p>\n",
       "</div>"
      ],
      "text/plain": [
       "                              0             1               2     \\\n",
       "customerID              7590-VHVEG    5575-GNVDE      3668-QPYBK   \n",
       "gender                      Female          Male            Male   \n",
       "SeniorCitizen                    0             0               0   \n",
       "Partner                        Yes            No              No   \n",
       "Dependents                      No            No              No   \n",
       "tenure                           1            34               2   \n",
       "PhoneService                    No           Yes             Yes   \n",
       "MultipleLines     No phone service            No              No   \n",
       "InternetService                DSL           DSL             DSL   \n",
       "OnlineSecurity                  No           Yes             Yes   \n",
       "OnlineBackup                   Yes            No             Yes   \n",
       "DeviceProtection                No           Yes              No   \n",
       "TechSupport                     No            No              No   \n",
       "StreamingTV                     No            No              No   \n",
       "StreamingMovies                 No            No              No   \n",
       "Contract            Month-to-month      One year  Month-to-month   \n",
       "PaperlessBilling               Yes            No             Yes   \n",
       "PaymentMethod     Electronic check  Mailed check    Mailed check   \n",
       "MonthlyCharges               29.85         56.95           53.85   \n",
       "TotalCharges                 29.85        1889.5          108.15   \n",
       "Churn                           No            No             Yes   \n",
       "\n",
       "                                       3                 4     \\\n",
       "customerID                       7795-CFOCW        9237-HQITU   \n",
       "gender                                 Male            Female   \n",
       "SeniorCitizen                             0                 0   \n",
       "Partner                                  No                No   \n",
       "Dependents                               No                No   \n",
       "tenure                                   45                 2   \n",
       "PhoneService                             No               Yes   \n",
       "MultipleLines              No phone service                No   \n",
       "InternetService                         DSL       Fiber optic   \n",
       "OnlineSecurity                          Yes                No   \n",
       "OnlineBackup                             No                No   \n",
       "DeviceProtection                        Yes                No   \n",
       "TechSupport                             Yes                No   \n",
       "StreamingTV                              No                No   \n",
       "StreamingMovies                          No                No   \n",
       "Contract                           One year    Month-to-month   \n",
       "PaperlessBilling                         No               Yes   \n",
       "PaymentMethod     Bank transfer (automatic)  Electronic check   \n",
       "MonthlyCharges                         42.3              70.7   \n",
       "TotalCharges                        1840.75            151.65   \n",
       "Churn                                    No               Yes   \n",
       "\n",
       "                              5                        6                 7     \\\n",
       "customerID              9305-CDSKC               1452-KIOVK        6713-OKOMC   \n",
       "gender                      Female                     Male            Female   \n",
       "SeniorCitizen                    0                        0                 0   \n",
       "Partner                         No                       No                No   \n",
       "Dependents                      No                      Yes                No   \n",
       "tenure                           8                       22                10   \n",
       "PhoneService                   Yes                      Yes                No   \n",
       "MultipleLines                  Yes                      Yes  No phone service   \n",
       "InternetService        Fiber optic              Fiber optic               DSL   \n",
       "OnlineSecurity                  No                       No               Yes   \n",
       "OnlineBackup                    No                      Yes                No   \n",
       "DeviceProtection               Yes                       No                No   \n",
       "TechSupport                     No                       No                No   \n",
       "StreamingTV                    Yes                      Yes                No   \n",
       "StreamingMovies                Yes                       No                No   \n",
       "Contract            Month-to-month           Month-to-month    Month-to-month   \n",
       "PaperlessBilling               Yes                      Yes                No   \n",
       "PaymentMethod     Electronic check  Credit card (automatic)      Mailed check   \n",
       "MonthlyCharges               99.65                     89.1             29.75   \n",
       "TotalCharges                 820.5                   1949.4             301.9   \n",
       "Churn                          Yes                       No                No   \n",
       "\n",
       "                              8                          9     ...  \\\n",
       "customerID              7892-POOKP                 6388-TABGU  ...   \n",
       "gender                      Female                       Male  ...   \n",
       "SeniorCitizen                    0                          0  ...   \n",
       "Partner                        Yes                         No  ...   \n",
       "Dependents                      No                        Yes  ...   \n",
       "tenure                          28                         62  ...   \n",
       "PhoneService                   Yes                        Yes  ...   \n",
       "MultipleLines                  Yes                         No  ...   \n",
       "InternetService        Fiber optic                        DSL  ...   \n",
       "OnlineSecurity                  No                        Yes  ...   \n",
       "OnlineBackup                    No                        Yes  ...   \n",
       "DeviceProtection               Yes                         No  ...   \n",
       "TechSupport                    Yes                         No  ...   \n",
       "StreamingTV                    Yes                         No  ...   \n",
       "StreamingMovies                Yes                         No  ...   \n",
       "Contract            Month-to-month                   One year  ...   \n",
       "PaperlessBilling               Yes                         No  ...   \n",
       "PaymentMethod     Electronic check  Bank transfer (automatic)  ...   \n",
       "MonthlyCharges               104.8                      56.15  ...   \n",
       "TotalCharges               3046.05                    3487.95  ...   \n",
       "Churn                          Yes                         No  ...   \n",
       "\n",
       "                                     7033                     7034  \\\n",
       "customerID                     9767-FFLEM               0639-TSIQW   \n",
       "gender                               Male                   Female   \n",
       "SeniorCitizen                           0                        0   \n",
       "Partner                                No                       No   \n",
       "Dependents                             No                       No   \n",
       "tenure                                 38                       67   \n",
       "PhoneService                          Yes                      Yes   \n",
       "MultipleLines                          No                      Yes   \n",
       "InternetService               Fiber optic              Fiber optic   \n",
       "OnlineSecurity                         No                      Yes   \n",
       "OnlineBackup                           No                      Yes   \n",
       "DeviceProtection                       No                      Yes   \n",
       "TechSupport                            No                       No   \n",
       "StreamingTV                            No                      Yes   \n",
       "StreamingMovies                        No                       No   \n",
       "Contract                   Month-to-month           Month-to-month   \n",
       "PaperlessBilling                      Yes                      Yes   \n",
       "PaymentMethod     Credit card (automatic)  Credit card (automatic)   \n",
       "MonthlyCharges                       69.5                   102.95   \n",
       "TotalCharges                      2625.25                  6886.25   \n",
       "Churn                                  No                      Yes   \n",
       "\n",
       "                                       7035              7036  \\\n",
       "customerID                       8456-QDAVC        7750-EYXWZ   \n",
       "gender                                 Male            Female   \n",
       "SeniorCitizen                             0                 0   \n",
       "Partner                                  No                No   \n",
       "Dependents                               No                No   \n",
       "tenure                                   19                12   \n",
       "PhoneService                            Yes                No   \n",
       "MultipleLines                            No  No phone service   \n",
       "InternetService                 Fiber optic               DSL   \n",
       "OnlineSecurity                           No                No   \n",
       "OnlineBackup                             No               Yes   \n",
       "DeviceProtection                         No               Yes   \n",
       "TechSupport                              No               Yes   \n",
       "StreamingTV                             Yes               Yes   \n",
       "StreamingMovies                          No               Yes   \n",
       "Contract                     Month-to-month          One year   \n",
       "PaperlessBilling                        Yes                No   \n",
       "PaymentMethod     Bank transfer (automatic)  Electronic check   \n",
       "MonthlyCharges                         78.7             60.65   \n",
       "TotalCharges                         1495.1             743.3   \n",
       "Churn                                    No                No   \n",
       "\n",
       "                                       7037          7038  \\\n",
       "customerID                       2569-WGERO    6840-RESVB   \n",
       "gender                               Female          Male   \n",
       "SeniorCitizen                             0             0   \n",
       "Partner                                  No           Yes   \n",
       "Dependents                               No           Yes   \n",
       "tenure                                   72            24   \n",
       "PhoneService                            Yes           Yes   \n",
       "MultipleLines                            No           Yes   \n",
       "InternetService                          No           DSL   \n",
       "OnlineSecurity          No internet service           Yes   \n",
       "OnlineBackup            No internet service            No   \n",
       "DeviceProtection        No internet service           Yes   \n",
       "TechSupport             No internet service           Yes   \n",
       "StreamingTV             No internet service           Yes   \n",
       "StreamingMovies         No internet service           Yes   \n",
       "Contract                           Two year      One year   \n",
       "PaperlessBilling                        Yes           Yes   \n",
       "PaymentMethod     Bank transfer (automatic)  Mailed check   \n",
       "MonthlyCharges                        21.15          84.8   \n",
       "TotalCharges                         1419.4        1990.5   \n",
       "Churn                                    No            No   \n",
       "\n",
       "                                     7039              7040            7041  \\\n",
       "customerID                     2234-XADUH        4801-JZAZL      8361-LTMKD   \n",
       "gender                             Female            Female            Male   \n",
       "SeniorCitizen                           0                 0               1   \n",
       "Partner                               Yes               Yes             Yes   \n",
       "Dependents                            Yes               Yes              No   \n",
       "tenure                                 72                11               4   \n",
       "PhoneService                          Yes                No             Yes   \n",
       "MultipleLines                         Yes  No phone service             Yes   \n",
       "InternetService               Fiber optic               DSL     Fiber optic   \n",
       "OnlineSecurity                         No               Yes              No   \n",
       "OnlineBackup                          Yes                No              No   \n",
       "DeviceProtection                      Yes                No              No   \n",
       "TechSupport                            No                No              No   \n",
       "StreamingTV                           Yes                No              No   \n",
       "StreamingMovies                       Yes                No              No   \n",
       "Contract                         One year    Month-to-month  Month-to-month   \n",
       "PaperlessBilling                      Yes               Yes             Yes   \n",
       "PaymentMethod     Credit card (automatic)  Electronic check    Mailed check   \n",
       "MonthlyCharges                      103.2              29.6            74.4   \n",
       "TotalCharges                       7362.9            346.45           306.6   \n",
       "Churn                                  No                No             Yes   \n",
       "\n",
       "                                       7042  \n",
       "customerID                       3186-AJIEK  \n",
       "gender                                 Male  \n",
       "SeniorCitizen                             0  \n",
       "Partner                                  No  \n",
       "Dependents                               No  \n",
       "tenure                                   66  \n",
       "PhoneService                            Yes  \n",
       "MultipleLines                            No  \n",
       "InternetService                 Fiber optic  \n",
       "OnlineSecurity                          Yes  \n",
       "OnlineBackup                             No  \n",
       "DeviceProtection                        Yes  \n",
       "TechSupport                             Yes  \n",
       "StreamingTV                             Yes  \n",
       "StreamingMovies                         Yes  \n",
       "Contract                           Two year  \n",
       "PaperlessBilling                        Yes  \n",
       "PaymentMethod     Bank transfer (automatic)  \n",
       "MonthlyCharges                       105.65  \n",
       "TotalCharges                         6844.5  \n",
       "Churn                                    No  \n",
       "\n",
       "[21 rows x 7043 columns]"
      ]
     },
     "execution_count": 6,
     "metadata": {},
     "output_type": "execute_result"
    }
   ],
   "source": [
    "df.T"
   ]
  },
  {
   "cell_type": "markdown",
   "metadata": {},
   "source": [
    "## EDA\n",
    "\n",
    "1. Kita cek berapa pelanggan yang memanfaatkan fasilitas yang ada"
   ]
  },
  {
   "cell_type": "code",
   "execution_count": 7,
   "metadata": {},
   "outputs": [
    {
     "data": {
      "text/plain": [
       "<AxesSubplot:xlabel='OnlineSecurity'>"
      ]
     },
     "execution_count": 7,
     "metadata": {},
     "output_type": "execute_result"
    },
    {
     "data": {
      "image/png": "[encoded data removed]",
      "text/plain": [
       "<Figure size 432x288 with 1 Axes>"
      ]
     },
     "metadata": {
      "needs_background": "light"
     },
     "output_type": "display_data"
    }
   ],
   "source": [
    "df.groupby('OnlineSecurity').count()[['customerID']].plot(kind= 'bar')"
   ]
  },
  {
   "cell_type": "code",
   "execution_count": 8,
   "metadata": {},
   "outputs": [
    {
     "data": {
      "text/plain": [
       "<AxesSubplot:xlabel='OnlineBackup'>"
      ]
     },
     "execution_count": 8,
     "metadata": {},
     "output_type": "execute_result"
    },
    {
     "data": {
      "image/png": "[encoded data removed]",
      "text/plain": [
       "<Figure size 432x288 with 1 Axes>"
      ]
     },
     "metadata": {
      "needs_background": "light"
     },
     "output_type": "display_data"
    }
   ],
   "source": [
    "df.groupby('OnlineBackup').count()[['customerID']].plot(kind= 'bar')"
   ]
  },
  {
   "cell_type": "code",
   "execution_count": 9,
   "metadata": {},
   "outputs": [
    {
     "data": {
      "text/plain": [
       "<AxesSubplot:xlabel='DeviceProtection'>"
      ]
     },
     "execution_count": 9,
     "metadata": {},
     "output_type": "execute_result"
    },
    {
     "data": {
      "image/png": "[encoded data removed]",
      "text/plain": [
       "<Figure size 432x288 with 1 Axes>"
      ]
     },
     "metadata": {
      "needs_background": "light"
     },
     "output_type": "display_data"
    }
   ],
   "source": [
    "df.groupby('DeviceProtection').count()[['customerID']].plot(kind= 'bar')"
   ]
  },
  {
   "cell_type": "code",
   "execution_count": 10,
   "metadata": {},
   "outputs": [
    {
     "data": {
      "text/plain": [
       "<AxesSubplot:xlabel='TechSupport'>"
      ]
     },
     "execution_count": 10,
     "metadata": {},
     "output_type": "execute_result"
    },
    {
     "data": {
      "image/png": "[encoded data removed]",
      "text/plain": [
       "<Figure size 432x288 with 1 Axes>"
      ]
     },
     "metadata": {
      "needs_background": "light"
     },
     "output_type": "display_data"
    }
   ],
   "source": [
    "df.groupby('TechSupport').count()[['customerID']].plot(kind= 'bar')"
   ]
  },
  {
   "cell_type": "code",
   "execution_count": 11,
   "metadata": {},
   "outputs": [
    {
     "data": {
      "text/plain": [
       "<AxesSubplot:xlabel='StreamingTV'>"
      ]
     },
     "execution_count": 11,
     "metadata": {},
     "output_type": "execute_result"
    },
    {
     "data": {
      "image/png": "[encoded data removed]",
      "text/plain": [
       "<Figure size 432x288 with 1 Axes>"
      ]
     },
     "metadata": {
      "needs_background": "light"
     },
     "output_type": "display_data"
    }
   ],
   "source": [
    "df.groupby('StreamingTV').count()[['customerID']].plot(kind= 'bar')"
   ]
  },
  {
   "cell_type": "code",
   "execution_count": 12,
   "metadata": {},
   "outputs": [
    {
     "data": {
      "text/plain": [
       "<AxesSubplot:xlabel='StreamingMovies'>"
      ]
     },
     "execution_count": 12,
     "metadata": {},
     "output_type": "execute_result"
    },
    {
     "data": {
      "image/png": "[encoded data removed]",
      "text/plain": [
       "<Figure size 432x288 with 1 Axes>"
      ]
     },
     "metadata": {
      "needs_background": "light"
     },
     "output_type": "display_data"
    }
   ],
   "source": [
    "df.groupby('StreamingMovies').count()[['customerID']].plot(kind= 'bar')"
   ]
  },
  {
   "cell_type": "code",
   "execution_count": 13,
   "metadata": {},
   "outputs": [
    {
     "data": {
      "text/plain": [
       "<AxesSubplot:xlabel='PhoneService'>"
      ]
     },
     "execution_count": 13,
     "metadata": {},
     "output_type": "execute_result"
    },
    {
     "data": {
      "image/png": "[encoded data removed]",
      "text/plain": [
       "<Figure size 432x288 with 1 Axes>"
      ]
     },
     "metadata": {
      "needs_background": "light"
     },
     "output_type": "display_data"
    }
   ],
   "source": [
    "df.groupby('PhoneService').count()[['customerID']].plot(kind= 'bar')"
   ]
  },
  {
   "cell_type": "markdown",
   "metadata": {},
   "source": [
    "Berdasarkan beberapa grafik diatas, masih banyak pelanggan yang tidak memanfaatkan layanan yang ada. Kemungkinan banyak pelanggan kebanyakan hanya memanfaatkan layanan telpon saaja sehingga mereka tidak butuh layanan lainnya seperti streaming, protection, dan lainnya. Hal ini bisa kita lihat bahwa pengguna layanan telpon sangat banyak dan mendominasi jumlahnya sedangkan pelanggan yang tidak memanfaatkan layanan telfon ini kemungkinan hanya membutuhkan layanan diluar telfon seperti streaming dan internet\n",
    "\n",
    "2. Bagiamana pengaruh gender terhadap pelanggan yang menjadi partner?"
   ]
  },
  {
   "cell_type": "code",
   "execution_count": 14,
   "metadata": {},
   "outputs": [
    {
     "data": {
      "text/plain": [
       "<seaborn.axisgrid.FacetGrid at 0x2aa1e934250>"
      ]
     },
     "execution_count": 14,
     "metadata": {},
     "output_type": "execute_result"
    },
    {
     "data": {
      "image/png": "[encoded data removed]",
      "text/plain": [
       "<Figure size 432.125x360 with 1 Axes>"
      ]
     },
     "metadata": {
      "needs_background": "light"
     },
     "output_type": "display_data"
    }
   ],
   "source": [
    "sns.catplot(y=\"Partner\", hue=\"gender\", kind=\"count\",\n",
    "            palette=\"pastel\", edgecolor=\".6\",\n",
    "            data=df)"
   ]
  },
  {
   "cell_type": "markdown",
   "metadata": {},
   "source": [
    "Dari grafik diatas, diketahui bahwa gender untuk yang menjadi partner maupun tidak hampir sama namun pelanggan wanita lebih tinggi nilainya walaupun tidak jauh berbeda nilainya sehingga gender ini tidak bisa dikatakan berpengaruh terhadap pelanggan partner.\n",
    "\n",
    "Kemudian untuk dependents dibawah kita bisa lihat nilainya hampir sama antara wanita dan pria sehingga gender ini juga tidak bisa dikatakan menjadi pengaruh terhadap dependents"
   ]
  },
  {
   "cell_type": "code",
   "execution_count": 15,
   "metadata": {},
   "outputs": [
    {
     "data": {
      "text/plain": [
       "<seaborn.axisgrid.FacetGrid at 0x2aa1eb4da90>"
      ]
     },
     "execution_count": 15,
     "metadata": {},
     "output_type": "execute_result"
    },
    {
     "data": {
      "image/png": "[encoded data removed]",
      "text/plain": [
       "<Figure size 432.125x360 with 1 Axes>"
      ]
     },
     "metadata": {
      "needs_background": "light"
     },
     "output_type": "display_data"
    }
   ],
   "source": [
    "sns.catplot(y=\"Dependents\", hue=\"gender\", kind=\"count\",\n",
    "            palette=\"pastel\", edgecolor=\".6\",\n",
    "            data=df)"
   ]
  },
  {
   "cell_type": "markdown",
   "metadata": {},
   "source": [
    "3. Berapa jumlah pelanggan setiap kategori layanaan internet yang disediakan"
   ]
  },
  {
   "cell_type": "code",
   "execution_count": 16,
   "metadata": {},
   "outputs": [
    {
     "data": {
      "text/plain": [
       "<seaborn.axisgrid.FacetGrid at 0x2aa1e5fe610>"
      ]
     },
     "execution_count": 16,
     "metadata": {},
     "output_type": "execute_result"
    },
    {
     "data": {
      "image/png": "[encoded data removed]",
      "text/plain": [
       "<Figure size 360x360 with 1 Axes>"
      ]
     },
     "metadata": {
      "needs_background": "light"
     },
     "output_type": "display_data"
    }
   ],
   "source": [
    "sns.catplot(x=\"InternetService\", kind=\"count\", palette=\"ch:.25\", data=df)"
   ]
  },
  {
   "cell_type": "markdown",
   "metadata": {},
   "source": [
    "Kita dapat melihat bahwa pengguna fiber optic ini jauh lebih tinggi daripada DSL. Beberapa pelanggan juga ada yang tidak mengaktifkan layanan internet\n",
    "\n",
    "4. Bagimana jumlah tagihan bulanan terhadap ketetapan pelanggan?"
   ]
  },
  {
   "cell_type": "code",
   "execution_count": 17,
   "metadata": {},
   "outputs": [
    {
     "data": {
      "text/plain": [
       "<seaborn.axisgrid.FacetGrid at 0x2aa1ebf3940>"
      ]
     },
     "execution_count": 17,
     "metadata": {},
     "output_type": "execute_result"
    },
    {
     "data": {
      "image/png": "[encoded data removed]",
      "text/plain": [
       "<Figure size 412x360 with 1 Axes>"
      ]
     },
     "metadata": {
      "needs_background": "light"
     },
     "output_type": "display_data"
    }
   ],
   "source": [
    "sns.displot(df, x=\"MonthlyCharges\", hue=\"Churn\", multiple=\"stack\")"
   ]
  },
  {
   "cell_type": "markdown",
   "metadata": {},
   "source": [
    "Berdasarkan hasil diatas, kita dapat lihat bahwa jumlah pelanggan yang masih tetap jumlahnya lebih banyak daripada yang pindah. Kita tau juga bahwa besarnya tagihan bulanan tidak terlalu ada hubungannya dengan pelanggan tetap karena tidak membentuk garis diagonal pada plotnya.\n",
    "\n",
    "5. Bagaimana pengaruh metode pembayaran terhadap tagihan total?"
   ]
  },
  {
   "cell_type": "code",
   "execution_count": 18,
   "metadata": {},
   "outputs": [
    {
     "data": {
      "text/plain": [
       "<AxesSubplot:xlabel='PaymentMethod'>"
      ]
     },
     "execution_count": 18,
     "metadata": {},
     "output_type": "execute_result"
    },
    {
     "data": {
      "image/png": "[encoded data removed]",
      "text/plain": [
       "<Figure size 432x288 with 1 Axes>"
      ]
     },
     "metadata": {
      "needs_background": "light"
     },
     "output_type": "display_data"
    }
   ],
   "source": [
    "df.groupby('PaymentMethod').sum()[['MonthlyCharges']].plot(kind='bar')"
   ]
  },
  {
   "cell_type": "markdown",
   "metadata": {},
   "source": [
    "Berdasrkan grafik diatas, kita dapat mengetahui bahwa pembayaran dengan electroniccheck memiliki nominal yang jauh lebih besar daripada metode pembayaran lainnya\n",
    "\n",
    "6. Bagaimana korelasi antar kolom yg numerik ?"
   ]
  },
  {
   "cell_type": "code",
   "execution_count": 19,
   "metadata": {},
   "outputs": [
    {
     "data": {
      "text/plain": [
       "<AxesSubplot:>"
      ]
     },
     "execution_count": 19,
     "metadata": {},
     "output_type": "execute_result"
    },
    {
     "data": {
      "image/png": "[encoded data removed]",
      "text/plain": [
       "<Figure size 1440x720 with 2 Axes>"
      ]
     },
     "metadata": {},
     "output_type": "display_data"
    }
   ],
   "source": [
    "sns.set(rc = {'figure.figsize':(20,10)})\n",
    "sns.heatmap(df.corr(),annot=True)"
   ]
  },
  {
   "cell_type": "markdown",
   "metadata": {},
   "source": [
    "Dapat dilihat bahwa terdapat 3 kolom diatas. jika nilai mendekati 1 maka korelasi antara keduanya akan semakin besar dan begitu sebaliknya. Dari data diatas, kita lihat bahwa korelasi terbesar ialah antara tagihan bulanan dengan tenure pelanggan. Dari gambar diatas pun kita dapat mengetahui bahwa senior citizen tidak terlalu berpengaruh dengan tenure pelanggan dan sedikit sekali berpengaruh yaitu seabesar 0.22 terhadap tagihan bulanan pelanggan telekomunikasi\n",
    "\n",
    "7. Bagaimana jumlah tenor customer terhadap pelanggan yang tetap dan tidak"
   ]
  },
  {
   "cell_type": "code",
   "execution_count": 20,
   "metadata": {},
   "outputs": [
    {
     "data": {
      "text/plain": [
       "<AxesSubplot:xlabel='tenure', ylabel='Count'>"
      ]
     },
     "execution_count": 20,
     "metadata": {},
     "output_type": "execute_result"
    },
    {
     "data": {
      "image/png": "[encoded data removed]",
      "text/plain": [
       "<Figure size 1440x720 with 1 Axes>"
      ]
     },
     "metadata": {},
     "output_type": "display_data"
    }
   ],
   "source": [
    "sns.histplot(data=df, x='tenure', bins=30, kde=True, hue='Churn', color='Blues')"
   ]
  },
  {
   "cell_type": "markdown",
   "metadata": {},
   "source": [
    "Berdasarkan grafik diatas, kita dapat melihat bahwa kehilangan customer paling banyak pada tenor awal sedangkan customer tetap paling banyak berada di tenor sekitar 70. Artinya, cukup banyak customer yang mungkin mencoba layanan ini dan ketika tidak menarik, maka customer akan pergi. Sebaliknya, pelanggan yang tenornya memasuki ke 70 sangat banyak karena merasa cocok atau nyaman dengan layanan yang disediakan sehingga menjadi customer tetap. Namun, perlu diperhatikan pada customer tetap ini belum mengalami peningkatan yagn signifikan tidak seperti customer yang hilan mengalami penuran tiap bulannya."
   ]
  },
  {
   "cell_type": "markdown",
   "metadata": {},
   "source": [
    "## DATA PREPROCESSING"
   ]
  },
  {
   "cell_type": "code",
   "execution_count": 21,
   "metadata": {},
   "outputs": [],
   "source": [
    "# copy data\n",
    "\n",
    "datacopy = df.copy()"
   ]
  },
  {
   "cell_type": "code",
   "execution_count": 22,
   "metadata": {},
   "outputs": [
    {
     "name": "stdout",
     "output_type": "stream",
     "text": [
      "<class 'pandas.core.frame.DataFrame'>\n",
      "RangeIndex: 7043 entries, 0 to 7042\n",
      "Data columns (total 21 columns):\n",
      " #   Column            Non-Null Count  Dtype  \n",
      "---  ------            --------------  -----  \n",
      " 0   customerID        7043 non-null   object \n",
      " 1   gender            7043 non-null   object \n",
      " 2   SeniorCitizen     7043 non-null   int64  \n",
      " 3   Partner           7043 non-null   object \n",
      " 4   Dependents        7043 non-null   object \n",
      " 5   tenure            7043 non-null   int64  \n",
      " 6   PhoneService      7043 non-null   object \n",
      " 7   MultipleLines     7043 non-null   object \n",
      " 8   InternetService   7043 non-null   object \n",
      " 9   OnlineSecurity    7043 non-null   object \n",
      " 10  OnlineBackup      7043 non-null   object \n",
      " 11  DeviceProtection  7043 non-null   object \n",
      " 12  TechSupport       7043 non-null   object \n",
      " 13  StreamingTV       7043 non-null   object \n",
      " 14  StreamingMovies   7043 non-null   object \n",
      " 15  Contract          7043 non-null   object \n",
      " 16  PaperlessBilling  7043 non-null   object \n",
      " 17  PaymentMethod     7043 non-null   object \n",
      " 18  MonthlyCharges    7043 non-null   float64\n",
      " 19  TotalCharges      7043 non-null   object \n",
      " 20  Churn             7043 non-null   object \n",
      "dtypes: float64(1), int64(2), object(18)\n",
      "memory usage: 1.1+ MB\n"
     ]
    }
   ],
   "source": [
    "datacopy.info()"
   ]
  },
  {
   "cell_type": "markdown",
   "metadata": {},
   "source": [
    "Totalcharges merupakan objecet padahal isinya angka, kita akan ubah kedalam numerik"
   ]
  },
  {
   "cell_type": "code",
   "execution_count": 23,
   "metadata": {},
   "outputs": [],
   "source": [
    "# ubah kolom churn ke biner\n",
    "datacopy.replace({'Churn': {'Yes': 1, 'No': 0}}, inplace= True)"
   ]
  },
  {
   "cell_type": "code",
   "execution_count": 24,
   "metadata": {},
   "outputs": [
    {
     "data": {
      "text/html": [
       "<div>\n",
       "<style scoped>\n",
       "    .dataframe tbody tr th:only-of-type {\n",
       "        vertical-align: middle;\n",
       "    }\n",
       "\n",
       "    .dataframe tbody tr th {\n",
       "        vertical-align: top;\n",
       "    }\n",
       "\n",
       "    .dataframe thead th {\n",
       "        text-align: right;\n",
       "    }\n",
       "</style>\n",
       "<table border=\"1\" class=\"dataframe\">\n",
       "  <thead>\n",
       "    <tr style=\"text-align: right;\">\n",
       "      <th></th>\n",
       "      <th>customerID</th>\n",
       "      <th>gender</th>\n",
       "      <th>SeniorCitizen</th>\n",
       "      <th>Partner</th>\n",
       "      <th>Dependents</th>\n",
       "      <th>tenure</th>\n",
       "      <th>PhoneService</th>\n",
       "      <th>MultipleLines</th>\n",
       "      <th>InternetService</th>\n",
       "      <th>OnlineSecurity</th>\n",
       "      <th>...</th>\n",
       "      <th>DeviceProtection</th>\n",
       "      <th>TechSupport</th>\n",
       "      <th>StreamingTV</th>\n",
       "      <th>StreamingMovies</th>\n",
       "      <th>Contract</th>\n",
       "      <th>PaperlessBilling</th>\n",
       "      <th>PaymentMethod</th>\n",
       "      <th>MonthlyCharges</th>\n",
       "      <th>TotalCharges</th>\n",
       "      <th>Churn</th>\n",
       "    </tr>\n",
       "  </thead>\n",
       "  <tbody>\n",
       "    <tr>\n",
       "      <th>0</th>\n",
       "      <td>7590-VHVEG</td>\n",
       "      <td>Female</td>\n",
       "      <td>0</td>\n",
       "      <td>Yes</td>\n",
       "      <td>No</td>\n",
       "      <td>1</td>\n",
       "      <td>No</td>\n",
       "      <td>No phone service</td>\n",
       "      <td>DSL</td>\n",
       "      <td>No</td>\n",
       "      <td>...</td>\n",
       "      <td>No</td>\n",
       "      <td>No</td>\n",
       "      <td>No</td>\n",
       "      <td>No</td>\n",
       "      <td>Month-to-month</td>\n",
       "      <td>Yes</td>\n",
       "      <td>Electronic check</td>\n",
       "      <td>29.85</td>\n",
       "      <td>29.85</td>\n",
       "      <td>0</td>\n",
       "    </tr>\n",
       "    <tr>\n",
       "      <th>1</th>\n",
       "      <td>5575-GNVDE</td>\n",
       "      <td>Male</td>\n",
       "      <td>0</td>\n",
       "      <td>No</td>\n",
       "      <td>No</td>\n",
       "      <td>34</td>\n",
       "      <td>Yes</td>\n",
       "      <td>No</td>\n",
       "      <td>DSL</td>\n",
       "      <td>Yes</td>\n",
       "      <td>...</td>\n",
       "      <td>Yes</td>\n",
       "      <td>No</td>\n",
       "      <td>No</td>\n",
       "      <td>No</td>\n",
       "      <td>One year</td>\n",
       "      <td>No</td>\n",
       "      <td>Mailed check</td>\n",
       "      <td>56.95</td>\n",
       "      <td>1889.5</td>\n",
       "      <td>0</td>\n",
       "    </tr>\n",
       "    <tr>\n",
       "      <th>2</th>\n",
       "      <td>3668-QPYBK</td>\n",
       "      <td>Male</td>\n",
       "      <td>0</td>\n",
       "      <td>No</td>\n",
       "      <td>No</td>\n",
       "      <td>2</td>\n",
       "      <td>Yes</td>\n",
       "      <td>No</td>\n",
       "      <td>DSL</td>\n",
       "      <td>Yes</td>\n",
       "      <td>...</td>\n",
       "      <td>No</td>\n",
       "      <td>No</td>\n",
       "      <td>No</td>\n",
       "      <td>No</td>\n",
       "      <td>Month-to-month</td>\n",
       "      <td>Yes</td>\n",
       "      <td>Mailed check</td>\n",
       "      <td>53.85</td>\n",
       "      <td>108.15</td>\n",
       "      <td>1</td>\n",
       "    </tr>\n",
       "    <tr>\n",
       "      <th>3</th>\n",
       "      <td>7795-CFOCW</td>\n",
       "      <td>Male</td>\n",
       "      <td>0</td>\n",
       "      <td>No</td>\n",
       "      <td>No</td>\n",
       "      <td>45</td>\n",
       "      <td>No</td>\n",
       "      <td>No phone service</td>\n",
       "      <td>DSL</td>\n",
       "      <td>Yes</td>\n",
       "      <td>...</td>\n",
       "      <td>Yes</td>\n",
       "      <td>Yes</td>\n",
       "      <td>No</td>\n",
       "      <td>No</td>\n",
       "      <td>One year</td>\n",
       "      <td>No</td>\n",
       "      <td>Bank transfer (automatic)</td>\n",
       "      <td>42.30</td>\n",
       "      <td>1840.75</td>\n",
       "      <td>0</td>\n",
       "    </tr>\n",
       "    <tr>\n",
       "      <th>4</th>\n",
       "      <td>9237-HQITU</td>\n",
       "      <td>Female</td>\n",
       "      <td>0</td>\n",
       "      <td>No</td>\n",
       "      <td>No</td>\n",
       "      <td>2</td>\n",
       "      <td>Yes</td>\n",
       "      <td>No</td>\n",
       "      <td>Fiber optic</td>\n",
       "      <td>No</td>\n",
       "      <td>...</td>\n",
       "      <td>No</td>\n",
       "      <td>No</td>\n",
       "      <td>No</td>\n",
       "      <td>No</td>\n",
       "      <td>Month-to-month</td>\n",
       "      <td>Yes</td>\n",
       "      <td>Electronic check</td>\n",
       "      <td>70.70</td>\n",
       "      <td>151.65</td>\n",
       "      <td>1</td>\n",
       "    </tr>\n",
       "  </tbody>\n",
       "</table>\n",
       "<p>5 rows × 21 columns</p>\n",
       "</div>"
      ],
      "text/plain": [
       "   customerID  gender  SeniorCitizen Partner Dependents  tenure PhoneService  \\\n",
       "0  7590-VHVEG  Female              0     Yes         No       1           No   \n",
       "1  5575-GNVDE    Male              0      No         No      34          Yes   \n",
       "2  3668-QPYBK    Male              0      No         No       2          Yes   \n",
       "3  7795-CFOCW    Male              0      No         No      45           No   \n",
       "4  9237-HQITU  Female              0      No         No       2          Yes   \n",
       "\n",
       "      MultipleLines InternetService OnlineSecurity  ... DeviceProtection  \\\n",
       "0  No phone service             DSL             No  ...               No   \n",
       "1                No             DSL            Yes  ...              Yes   \n",
       "2                No             DSL            Yes  ...               No   \n",
       "3  No phone service             DSL            Yes  ...              Yes   \n",
       "4                No     Fiber optic             No  ...               No   \n",
       "\n",
       "  TechSupport StreamingTV StreamingMovies        Contract PaperlessBilling  \\\n",
       "0          No          No              No  Month-to-month              Yes   \n",
       "1          No          No              No        One year               No   \n",
       "2          No          No              No  Month-to-month              Yes   \n",
       "3         Yes          No              No        One year               No   \n",
       "4          No          No              No  Month-to-month              Yes   \n",
       "\n",
       "               PaymentMethod MonthlyCharges  TotalCharges Churn  \n",
       "0           Electronic check          29.85         29.85     0  \n",
       "1               Mailed check          56.95        1889.5     0  \n",
       "2               Mailed check          53.85        108.15     1  \n",
       "3  Bank transfer (automatic)          42.30       1840.75     0  \n",
       "4           Electronic check          70.70        151.65     1  \n",
       "\n",
       "[5 rows x 21 columns]"
      ]
     },
     "execution_count": 24,
     "metadata": {},
     "output_type": "execute_result"
    }
   ],
   "source": [
    "datacopy.head()"
   ]
  },
  {
   "cell_type": "code",
   "execution_count": 25,
   "metadata": {},
   "outputs": [],
   "source": [
    "# ubah tipe data ke numerik\n",
    "#datacopy['TotalCharges'] = datacopy['TotalCharges'].astype(float)"
   ]
  },
  {
   "cell_type": "markdown",
   "metadata": {},
   "source": [
    "Dengan fungsi diatas terdapat error \" \" yang menandakan datanya kosong sehingga akan kita handle"
   ]
  },
  {
   "cell_type": "code",
   "execution_count": 26,
   "metadata": {},
   "outputs": [],
   "source": [
    "datacopy['TotalCharges'] = datacopy['TotalCharges'].replace(\" \", np.nan)"
   ]
  },
  {
   "cell_type": "code",
   "execution_count": 27,
   "metadata": {},
   "outputs": [],
   "source": [
    "datacopy['TotalCharges'] = datacopy['TotalCharges'].astype(float)"
   ]
  },
  {
   "cell_type": "code",
   "execution_count": 28,
   "metadata": {},
   "outputs": [
    {
     "name": "stdout",
     "output_type": "stream",
     "text": [
      "<class 'pandas.core.frame.DataFrame'>\n",
      "RangeIndex: 7043 entries, 0 to 7042\n",
      "Data columns (total 21 columns):\n",
      " #   Column            Non-Null Count  Dtype  \n",
      "---  ------            --------------  -----  \n",
      " 0   customerID        7043 non-null   object \n",
      " 1   gender            7043 non-null   object \n",
      " 2   SeniorCitizen     7043 non-null   int64  \n",
      " 3   Partner           7043 non-null   object \n",
      " 4   Dependents        7043 non-null   object \n",
      " 5   tenure            7043 non-null   int64  \n",
      " 6   PhoneService      7043 non-null   object \n",
      " 7   MultipleLines     7043 non-null   object \n",
      " 8   InternetService   7043 non-null   object \n",
      " 9   OnlineSecurity    7043 non-null   object \n",
      " 10  OnlineBackup      7043 non-null   object \n",
      " 11  DeviceProtection  7043 non-null   object \n",
      " 12  TechSupport       7043 non-null   object \n",
      " 13  StreamingTV       7043 non-null   object \n",
      " 14  StreamingMovies   7043 non-null   object \n",
      " 15  Contract          7043 non-null   object \n",
      " 16  PaperlessBilling  7043 non-null   object \n",
      " 17  PaymentMethod     7043 non-null   object \n",
      " 18  MonthlyCharges    7043 non-null   float64\n",
      " 19  TotalCharges      7032 non-null   float64\n",
      " 20  Churn             7043 non-null   int64  \n",
      "dtypes: float64(2), int64(3), object(16)\n",
      "memory usage: 1.1+ MB\n"
     ]
    }
   ],
   "source": [
    "# cek info untuk lihat missing values\n",
    "datacopy.info()"
   ]
  },
  {
   "cell_type": "code",
   "execution_count": 29,
   "metadata": {},
   "outputs": [],
   "source": [
    "# terdapat data hilang dan karena jumlahnya dikit maka akan didrop\n",
    "\n",
    "datacopy.dropna(inplace= True)"
   ]
  },
  {
   "cell_type": "code",
   "execution_count": 30,
   "metadata": {},
   "outputs": [
    {
     "data": {
      "text/plain": [
       "customerID          0\n",
       "gender              0\n",
       "SeniorCitizen       0\n",
       "Partner             0\n",
       "Dependents          0\n",
       "tenure              0\n",
       "PhoneService        0\n",
       "MultipleLines       0\n",
       "InternetService     0\n",
       "OnlineSecurity      0\n",
       "OnlineBackup        0\n",
       "DeviceProtection    0\n",
       "TechSupport         0\n",
       "StreamingTV         0\n",
       "StreamingMovies     0\n",
       "Contract            0\n",
       "PaperlessBilling    0\n",
       "PaymentMethod       0\n",
       "MonthlyCharges      0\n",
       "TotalCharges        0\n",
       "Churn               0\n",
       "dtype: int64"
      ]
     },
     "execution_count": 30,
     "metadata": {},
     "output_type": "execute_result"
    }
   ],
   "source": [
    "# cek kembali missing values\n",
    "\n",
    "datacopy.isnull().sum()"
   ]
  },
  {
   "cell_type": "markdown",
   "metadata": {},
   "source": [
    "Ukuran data telah berkurang karena missing values didrop"
   ]
  },
  {
   "cell_type": "code",
   "execution_count": 31,
   "metadata": {},
   "outputs": [
    {
     "name": "stdout",
     "output_type": "stream",
     "text": [
      "<class 'pandas.core.frame.DataFrame'>\n",
      "Int64Index: 7032 entries, 0 to 7042\n",
      "Data columns (total 21 columns):\n",
      " #   Column            Non-Null Count  Dtype   \n",
      "---  ------            --------------  -----   \n",
      " 0   customerID        7032 non-null   object  \n",
      " 1   gender            7032 non-null   object  \n",
      " 2   SeniorCitizen     7032 non-null   int64   \n",
      " 3   Partner           7032 non-null   object  \n",
      " 4   Dependents        7032 non-null   object  \n",
      " 5   tenure            7032 non-null   int64   \n",
      " 6   PhoneService      7032 non-null   object  \n",
      " 7   MultipleLines     7032 non-null   object  \n",
      " 8   InternetService   7032 non-null   object  \n",
      " 9   OnlineSecurity    7032 non-null   object  \n",
      " 10  OnlineBackup      7032 non-null   object  \n",
      " 11  DeviceProtection  7032 non-null   object  \n",
      " 12  TechSupport       7032 non-null   object  \n",
      " 13  StreamingTV       7032 non-null   object  \n",
      " 14  StreamingMovies   7032 non-null   object  \n",
      " 15  Contract          7032 non-null   object  \n",
      " 16  PaperlessBilling  7032 non-null   object  \n",
      " 17  PaymentMethod     7032 non-null   object  \n",
      " 18  MonthlyCharges    7032 non-null   float64 \n",
      " 19  TotalCharges      7032 non-null   float64 \n",
      " 20  Churn             7032 non-null   category\n",
      "dtypes: category(1), float64(2), int64(2), object(16)\n",
      "memory usage: 1.1+ MB\n"
     ]
    }
   ],
   "source": [
    "# ubah data target ke kategorikal\n",
    "\n",
    "datacopy['Churn'] = datacopy['Churn'].astype('category')\n",
    "datacopy.info()"
   ]
  },
  {
   "cell_type": "markdown",
   "metadata": {},
   "source": [
    "### Handling outlier"
   ]
  },
  {
   "cell_type": "code",
   "execution_count": 32,
   "metadata": {},
   "outputs": [],
   "source": [
    "# drop kolom yang tidak akan digunakan\n",
    "datacopy.drop(['customerID','gender','SeniorCitizen'],axis=1, inplace= True)"
   ]
  },
  {
   "cell_type": "code",
   "execution_count": 33,
   "metadata": {},
   "outputs": [
    {
     "data": {
      "text/plain": [
       "tenure            0.237731\n",
       "MonthlyCharges   -0.222103\n",
       "TotalCharges      0.961642\n",
       "dtype: float64"
      ]
     },
     "execution_count": 33,
     "metadata": {},
     "output_type": "execute_result"
    }
   ],
   "source": [
    "# cek skewness data\n",
    "\n",
    "datacopy.skew()"
   ]
  },
  {
   "cell_type": "markdown",
   "metadata": {},
   "source": [
    "Data yang skew adalah totalcharges namun masih dianggap wajar untuk outliernya sehingga tidak akan dilakukan fungsi trimming ataupun crapping"
   ]
  },
  {
   "cell_type": "markdown",
   "metadata": {},
   "source": [
    "### Split data"
   ]
  },
  {
   "cell_type": "code",
   "execution_count": 34,
   "metadata": {},
   "outputs": [],
   "source": [
    "# split between X dan y\n",
    "\n",
    "X = datacopy.drop(['Churn'], axis = 1)\n",
    "y= datacopy['Churn']"
   ]
  },
  {
   "cell_type": "code",
   "execution_count": 35,
   "metadata": {},
   "outputs": [],
   "source": [
    "X_train_full, X_val, y_train_full, y_val = train_test_split(X, y, shuffle=True, test_size=0.2)\n",
    "X_train, X_test, y_train, y_test = train_test_split(X_train_full, y_train_full, shuffle=True, test_size=0.2)"
   ]
  },
  {
   "cell_type": "code",
   "execution_count": 36,
   "metadata": {},
   "outputs": [
    {
     "name": "stdout",
     "output_type": "stream",
     "text": [
      "train size: (4500, 17)\n",
      "val size: (1407, 17)\n",
      "test size: (1125, 17)\n"
     ]
    }
   ],
   "source": [
    "print('train size:', X_train.shape)\n",
    "print('val size:', X_val.shape)\n",
    "print('test size:', X_test.shape)\n"
   ]
  },
  {
   "cell_type": "markdown",
   "metadata": {},
   "source": [
    "### Feature Scaling\n",
    "\n",
    "Karena kolom numerik datanya terdistribusi normal, akan digunakan standardscaller"
   ]
  },
  {
   "cell_type": "code",
   "execution_count": 37,
   "metadata": {},
   "outputs": [
    {
     "name": "stdout",
     "output_type": "stream",
     "text": [
      "Kolom yang merupakan number adalah:  ['tenure', 'MonthlyCharges', 'TotalCharges']\n",
      "\n",
      " Kolom yang merupakan categorical adalah:  ['Partner', 'Dependents', 'PhoneService', 'MultipleLines', 'InternetService', 'OnlineSecurity', 'OnlineBackup', 'DeviceProtection', 'TechSupport', 'StreamingTV', 'StreamingMovies', 'Contract', 'PaperlessBilling', 'PaymentMethod']\n"
     ]
    }
   ],
   "source": [
    "# mendefinisikan mana kolom yang berisi number maupun categorical\n",
    "num_columns = X_train_full.select_dtypes(include=np.number).columns.tolist()\n",
    "cat_columns = X_train_full.select_dtypes(include=['object']).columns.tolist()\n",
    "\n",
    "print ('Kolom yang merupakan number adalah: ',num_columns)\n",
    "\n",
    "print ('\\n Kolom yang merupakan categorical adalah: ',cat_columns)"
   ]
  },
  {
   "cell_type": "code",
   "execution_count": 38,
   "metadata": {},
   "outputs": [],
   "source": [
    "# buat variabel baru untuk kategorikal dan numerik\n",
    "\n",
    "X_train_num = X_train[num_columns]\n",
    "X_train_cat = X_train[cat_columns]\n",
    "\n",
    "X_test_num = X_test[num_columns]\n",
    "X_test_cat = X_test[cat_columns]\n",
    "\n",
    "X_val_num = X_val[num_columns]\n",
    "X_val_cat = X_val[cat_columns]"
   ]
  },
  {
   "cell_type": "code",
   "execution_count": 39,
   "metadata": {},
   "outputs": [],
   "source": [
    "# feature scaling\n",
    "scaler = StandardScaler()\n",
    "\n",
    "# lakukan fit scaling untuk tiap data\n",
    "scaler.fit(X_train_num)\n",
    "\n",
    "# lakukan transform scaling untuk tiap data \n",
    "X_test_scaled = scaler.transform(X_test_num)\n",
    "X_train_scaled = scaler.transform(X_train_num)\n",
    "X_val_scaled = scaler.transform(X_val_num)"
   ]
  },
  {
   "cell_type": "markdown",
   "metadata": {},
   "source": [
    "### Feature Encoding\n",
    "\n",
    "Karena data kategorikal bukan merupakan data ordinal, maka akan digunakan onehotencoder"
   ]
  },
  {
   "cell_type": "code",
   "execution_count": 40,
   "metadata": {},
   "outputs": [],
   "source": [
    "# feature encoding\n",
    "\n",
    "encoder = OneHotEncoder()\n",
    "\n",
    "# lakukan fit encoding untuk tiap data\n",
    "encoder.fit(X_train_cat)\n",
    "\n",
    "# lakukan transform encoding untuk tiap data\n",
    "X_test_encoded = encoder.transform(X_test_cat).toarray()\n",
    "X_train_encoded = encoder.transform(X_train_cat).toarray()\n",
    "X_val_encoded = encoder.transform(X_val_cat).toarray()"
   ]
  },
  {
   "cell_type": "code",
   "execution_count": 41,
   "metadata": {},
   "outputs": [],
   "source": [
    "# concate columns semuanya yg cat dan num\n",
    "\n",
    "X_train_final = np.concatenate([X_train_scaled, X_train_encoded], axis =1)\n",
    "X_test_final = np.concatenate([X_test_scaled, X_test_encoded], axis =1)\n",
    "X_val_final = np.concatenate([X_val_scaled, X_val_encoded], axis =1)"
   ]
  },
  {
   "cell_type": "code",
   "execution_count": 42,
   "metadata": {},
   "outputs": [
    {
     "data": {
      "text/plain": [
       "(42,)"
      ]
     },
     "execution_count": 42,
     "metadata": {},
     "output_type": "execute_result"
    }
   ],
   "source": [
    "X_train_final.shape[1:]"
   ]
  },
  {
   "cell_type": "code",
   "execution_count": 43,
   "metadata": {},
   "outputs": [
    {
     "data": {
      "text/plain": [
       "1"
      ]
     },
     "execution_count": 43,
     "metadata": {},
     "output_type": "execute_result"
    }
   ],
   "source": [
    "len(X_train_final.shape[1:])"
   ]
  },
  {
   "cell_type": "markdown",
   "metadata": {},
   "source": [
    "## MODEL DEFINITION\n",
    "\n",
    "Untuk pendefinisian ini, digunakan parameter seperti initializer, activation, dll dengan random berdasarkan hasil pembelajaran selama ini. Kemudian akan digunakan sequential API pada pemodelan. Untuk functional API akan dilaksanakan setelah proses model improvement"
   ]
  },
  {
   "cell_type": "code",
   "execution_count": 44,
   "metadata": {},
   "outputs": [],
   "source": [
    "model = tf.keras.models.Sequential()\n",
    "model.add(tf.keras.layers.Dense(64,input_shape=X_train_final.shape[1:],kernel_initializer= tf.keras.initializers.GlorotUniform(seed =40), activation = 'tanh'))\n",
    "\n",
    "\n",
    "model.add(tf.keras.layers.Dense(32))\n",
    "model.add(tf.keras.layers.Activation('relu'))\n",
    "\n",
    "\n",
    "model.add(tf.keras.layers.Dense(16))\n",
    "model.add(tf.keras.layers.Activation('relu'))\n",
    "\n",
    "\n",
    "model.add(tf.keras.layers.Dense(8))\n",
    "model.add(tf.keras.layers.Activation('relu'))\n",
    "\n",
    "\n",
    "model.add(tf.keras.layers.Dense(1, activation='relu'))"
   ]
  },
  {
   "cell_type": "markdown",
   "metadata": {},
   "source": [
    "## MODEL TRAINING"
   ]
  },
  {
   "cell_type": "code",
   "execution_count": 45,
   "metadata": {},
   "outputs": [],
   "source": [
    "model.compile(loss='binary_crossentropy',\n",
    "              optimizer=tf.keras.optimizers.SGD(learning_rate=0.15,clipvalue=1.0),\n",
    "              metrics='accuracy')"
   ]
  },
  {
   "cell_type": "code",
   "execution_count": 46,
   "metadata": {},
   "outputs": [
    {
     "name": "stdout",
     "output_type": "stream",
     "text": [
      "Model: \"sequential\"\n",
      "_________________________________________________________________\n",
      "Layer (type)                 Output Shape              Param #   \n",
      "=================================================================\n",
      "dense (Dense)                (None, 64)                2752      \n",
      "_________________________________________________________________\n",
      "dense_1 (Dense)              (None, 32)                2080      \n",
      "_________________________________________________________________\n",
      "activation (Activation)      (None, 32)                0         \n",
      "_________________________________________________________________\n",
      "dense_2 (Dense)              (None, 16)                528       \n",
      "_________________________________________________________________\n",
      "activation_1 (Activation)    (None, 16)                0         \n",
      "_________________________________________________________________\n",
      "dense_3 (Dense)              (None, 8)                 136       \n",
      "_________________________________________________________________\n",
      "activation_2 (Activation)    (None, 8)                 0         \n",
      "_________________________________________________________________\n",
      "dense_4 (Dense)              (None, 1)                 9         \n",
      "=================================================================\n",
      "Total params: 5,505\n",
      "Trainable params: 5,505\n",
      "Non-trainable params: 0\n",
      "_________________________________________________________________\n"
     ]
    }
   ],
   "source": [
    "model.summary()"
   ]
  },
  {
   "cell_type": "code",
   "execution_count": 47,
   "metadata": {},
   "outputs": [
    {
     "name": "stdout",
     "output_type": "stream",
     "text": [
      "Epoch 1/70\n",
      "71/71 [==============================] - 0s 4ms/step - loss: 4.0448 - accuracy: 0.7378 - val_loss: 4.2646 - val_accuracy: 0.7235\n",
      "Epoch 2/70\n",
      "71/71 [==============================] - 0s 2ms/step - loss: 4.0448 - accuracy: 0.7378 - val_loss: 4.2646 - val_accuracy: 0.7235\n",
      "Epoch 3/70\n",
      "71/71 [==============================] - 0s 2ms/step - loss: 4.0448 - accuracy: 0.7378 - val_loss: 4.2646 - val_accuracy: 0.7235\n",
      "Epoch 4/70\n",
      "71/71 [==============================] - 0s 2ms/step - loss: 4.0448 - accuracy: 0.7378 - val_loss: 4.2646 - val_accuracy: 0.7235\n",
      "Epoch 5/70\n",
      "71/71 [==============================] - 0s 1ms/step - loss: 4.0448 - accuracy: 0.7378 - val_loss: 4.2646 - val_accuracy: 0.7235\n",
      "Epoch 6/70\n",
      "71/71 [==============================] - 0s 2ms/step - loss: 4.0448 - accuracy: 0.7378 - val_loss: 4.2646 - val_accuracy: 0.7235\n",
      "Epoch 7/70\n",
      "71/71 [==============================] - 0s 1ms/step - loss: 4.0448 - accuracy: 0.7378 - val_loss: 4.2646 - val_accuracy: 0.7235\n",
      "Epoch 8/70\n",
      "71/71 [==============================] - 0s 2ms/step - loss: 4.0448 - accuracy: 0.7378 - val_loss: 4.2646 - val_accuracy: 0.7235\n",
      "Epoch 9/70\n",
      "71/71 [==============================] - 0s 1ms/step - loss: 4.0448 - accuracy: 0.7378 - val_loss: 4.2646 - val_accuracy: 0.7235\n",
      "Epoch 10/70\n",
      "71/71 [==============================] - 0s 1ms/step - loss: 4.0448 - accuracy: 0.7378 - val_loss: 4.2646 - val_accuracy: 0.7235\n",
      "Epoch 11/70\n",
      "71/71 [==============================] - 0s 1ms/step - loss: 4.0448 - accuracy: 0.7378 - val_loss: 4.2646 - val_accuracy: 0.7235\n",
      "Epoch 12/70\n",
      "71/71 [==============================] - 0s 2ms/step - loss: 4.0448 - accuracy: 0.7378 - val_loss: 4.2646 - val_accuracy: 0.7235\n",
      "Epoch 13/70\n",
      "71/71 [==============================] - 0s 1ms/step - loss: 4.0448 - accuracy: 0.7378 - val_loss: 4.2646 - val_accuracy: 0.7235\n",
      "Epoch 14/70\n",
      "71/71 [==============================] - 0s 1ms/step - loss: 4.0448 - accuracy: 0.7378 - val_loss: 4.2646 - val_accuracy: 0.7235\n",
      "Epoch 15/70\n",
      "71/71 [==============================] - 0s 2ms/step - loss: 4.0448 - accuracy: 0.7378 - val_loss: 4.2646 - val_accuracy: 0.7235\n",
      "Epoch 16/70\n",
      "71/71 [==============================] - 0s 2ms/step - loss: 4.0448 - accuracy: 0.7378 - val_loss: 4.2646 - val_accuracy: 0.7235\n",
      "Epoch 17/70\n",
      "71/71 [==============================] - 0s 1ms/step - loss: 4.0448 - accuracy: 0.7378 - val_loss: 4.2646 - val_accuracy: 0.7235\n",
      "Epoch 18/70\n",
      "71/71 [==============================] - 0s 2ms/step - loss: 4.0448 - accuracy: 0.7378 - val_loss: 4.2646 - val_accuracy: 0.7235\n",
      "Epoch 19/70\n",
      "71/71 [==============================] - 0s 1ms/step - loss: 4.0448 - accuracy: 0.7378 - val_loss: 4.2646 - val_accuracy: 0.7235\n",
      "Epoch 20/70\n",
      "71/71 [==============================] - 0s 1ms/step - loss: 4.0448 - accuracy: 0.7378 - val_loss: 4.2646 - val_accuracy: 0.7235\n",
      "Epoch 21/70\n",
      "71/71 [==============================] - 0s 2ms/step - loss: 4.0448 - accuracy: 0.7378 - val_loss: 4.2646 - val_accuracy: 0.7235\n",
      "Epoch 22/70\n",
      "71/71 [==============================] - 0s 2ms/step - loss: 4.0448 - accuracy: 0.7378 - val_loss: 4.2646 - val_accuracy: 0.7235\n",
      "Epoch 23/70\n",
      "71/71 [==============================] - 0s 2ms/step - loss: 4.0448 - accuracy: 0.7378 - val_loss: 4.2646 - val_accuracy: 0.7235\n",
      "Epoch 24/70\n",
      "71/71 [==============================] - 0s 2ms/step - loss: 4.0448 - accuracy: 0.7378 - val_loss: 4.2646 - val_accuracy: 0.7235\n",
      "Epoch 25/70\n",
      "71/71 [==============================] - 0s 2ms/step - loss: 4.0448 - accuracy: 0.7378 - val_loss: 4.2646 - val_accuracy: 0.7235\n",
      "Epoch 26/70\n",
      "71/71 [==============================] - 0s 1ms/step - loss: 4.0448 - accuracy: 0.7378 - val_loss: 4.2646 - val_accuracy: 0.7235\n",
      "Epoch 27/70\n",
      "71/71 [==============================] - 0s 1ms/step - loss: 4.0448 - accuracy: 0.7378 - val_loss: 4.2646 - val_accuracy: 0.7235\n",
      "Epoch 28/70\n",
      "71/71 [==============================] - 0s 2ms/step - loss: 4.0448 - accuracy: 0.7378 - val_loss: 4.2646 - val_accuracy: 0.7235\n",
      "Epoch 29/70\n",
      "71/71 [==============================] - 0s 2ms/step - loss: 4.0448 - accuracy: 0.7378 - val_loss: 4.2646 - val_accuracy: 0.7235\n",
      "Epoch 30/70\n",
      "71/71 [==============================] - 0s 2ms/step - loss: 4.0448 - accuracy: 0.7378 - val_loss: 4.2646 - val_accuracy: 0.7235\n",
      "Epoch 31/70\n",
      "71/71 [==============================] - 0s 2ms/step - loss: 4.0448 - accuracy: 0.7378 - val_loss: 4.2646 - val_accuracy: 0.7235\n",
      "Epoch 32/70\n",
      "71/71 [==============================] - 0s 2ms/step - loss: 4.0448 - accuracy: 0.7378 - val_loss: 4.2646 - val_accuracy: 0.7235\n",
      "Epoch 33/70\n",
      "71/71 [==============================] - 0s 1ms/step - loss: 4.0448 - accuracy: 0.7378 - val_loss: 4.2646 - val_accuracy: 0.7235\n",
      "Epoch 34/70\n",
      "71/71 [==============================] - 0s 2ms/step - loss: 4.0448 - accuracy: 0.7378 - val_loss: 4.2646 - val_accuracy: 0.7235\n",
      "Epoch 35/70\n",
      "71/71 [==============================] - 0s 1ms/step - loss: 4.0448 - accuracy: 0.7378 - val_loss: 4.2646 - val_accuracy: 0.7235\n",
      "Epoch 36/70\n",
      "71/71 [==============================] - 0s 2ms/step - loss: 4.0448 - accuracy: 0.7378 - val_loss: 4.2646 - val_accuracy: 0.7235\n",
      "Epoch 37/70\n",
      "71/71 [==============================] - 0s 2ms/step - loss: 4.0448 - accuracy: 0.7378 - val_loss: 4.2646 - val_accuracy: 0.7235\n",
      "Epoch 38/70\n",
      "71/71 [==============================] - 0s 2ms/step - loss: 4.0448 - accuracy: 0.7378 - val_loss: 4.2646 - val_accuracy: 0.7235\n",
      "Epoch 39/70\n",
      "71/71 [==============================] - 0s 1ms/step - loss: 4.0448 - accuracy: 0.7378 - val_loss: 4.2646 - val_accuracy: 0.7235\n",
      "Epoch 40/70\n",
      "71/71 [==============================] - 0s 2ms/step - loss: 4.0448 - accuracy: 0.7378 - val_loss: 4.2646 - val_accuracy: 0.7235\n",
      "Epoch 41/70\n",
      "71/71 [==============================] - 0s 2ms/step - loss: 4.0448 - accuracy: 0.7378 - val_loss: 4.2646 - val_accuracy: 0.7235\n",
      "Epoch 42/70\n",
      "71/71 [==============================] - 0s 1ms/step - loss: 4.0448 - accuracy: 0.7378 - val_loss: 4.2646 - val_accuracy: 0.7235\n",
      "Epoch 43/70\n",
      "71/71 [==============================] - 0s 1ms/step - loss: 4.0448 - accuracy: 0.7378 - val_loss: 4.2646 - val_accuracy: 0.7235\n",
      "Epoch 44/70\n",
      "71/71 [==============================] - 0s 2ms/step - loss: 4.0448 - accuracy: 0.7378 - val_loss: 4.2646 - val_accuracy: 0.7235\n",
      "Epoch 45/70\n",
      "71/71 [==============================] - 0s 2ms/step - loss: 4.0448 - accuracy: 0.7378 - val_loss: 4.2646 - val_accuracy: 0.7235\n",
      "Epoch 46/70\n",
      "71/71 [==============================] - 0s 2ms/step - loss: 4.0448 - accuracy: 0.7378 - val_loss: 4.2646 - val_accuracy: 0.7235\n",
      "Epoch 47/70\n",
      "71/71 [==============================] - 0s 2ms/step - loss: 4.0448 - accuracy: 0.7378 - val_loss: 4.2646 - val_accuracy: 0.7235\n",
      "Epoch 48/70\n",
      "71/71 [==============================] - 0s 2ms/step - loss: 4.0448 - accuracy: 0.7378 - val_loss: 4.2646 - val_accuracy: 0.7235\n",
      "Epoch 49/70\n",
      "71/71 [==============================] - 0s 1ms/step - loss: 4.0448 - accuracy: 0.7378 - val_loss: 4.2646 - val_accuracy: 0.7235\n",
      "Epoch 50/70\n",
      "71/71 [==============================] - 0s 2ms/step - loss: 4.0448 - accuracy: 0.7378 - val_loss: 4.2646 - val_accuracy: 0.7235\n",
      "Epoch 51/70\n",
      "71/71 [==============================] - 0s 2ms/step - loss: 4.0448 - accuracy: 0.7378 - val_loss: 4.2646 - val_accuracy: 0.7235\n",
      "Epoch 52/70\n",
      "71/71 [==============================] - 0s 1ms/step - loss: 4.0448 - accuracy: 0.7378 - val_loss: 4.2646 - val_accuracy: 0.7235\n",
      "Epoch 53/70\n",
      "71/71 [==============================] - 0s 2ms/step - loss: 4.0448 - accuracy: 0.7378 - val_loss: 4.2646 - val_accuracy: 0.7235\n",
      "Epoch 54/70\n",
      "71/71 [==============================] - 0s 1ms/step - loss: 4.0448 - accuracy: 0.7378 - val_loss: 4.2646 - val_accuracy: 0.7235\n",
      "Epoch 55/70\n",
      "71/71 [==============================] - 0s 2ms/step - loss: 4.0448 - accuracy: 0.7378 - val_loss: 4.2646 - val_accuracy: 0.7235\n",
      "Epoch 56/70\n",
      "71/71 [==============================] - 0s 2ms/step - loss: 4.0448 - accuracy: 0.7378 - val_loss: 4.2646 - val_accuracy: 0.7235\n",
      "Epoch 57/70\n",
      "71/71 [==============================] - 0s 2ms/step - loss: 4.0448 - accuracy: 0.7378 - val_loss: 4.2646 - val_accuracy: 0.7235\n",
      "Epoch 58/70\n",
      "71/71 [==============================] - 0s 2ms/step - loss: 4.0448 - accuracy: 0.7378 - val_loss: 4.2646 - val_accuracy: 0.7235\n",
      "Epoch 59/70\n",
      "71/71 [==============================] - 0s 1ms/step - loss: 4.0448 - accuracy: 0.7378 - val_loss: 4.2646 - val_accuracy: 0.7235\n",
      "Epoch 60/70\n",
      "71/71 [==============================] - 0s 2ms/step - loss: 4.0448 - accuracy: 0.7378 - val_loss: 4.2646 - val_accuracy: 0.7235\n",
      "Epoch 61/70\n",
      "71/71 [==============================] - 0s 2ms/step - loss: 4.0448 - accuracy: 0.7378 - val_loss: 4.2646 - val_accuracy: 0.7235\n",
      "Epoch 62/70\n",
      "71/71 [==============================] - 0s 2ms/step - loss: 4.0448 - accuracy: 0.7378 - val_loss: 4.2646 - val_accuracy: 0.7235\n",
      "Epoch 63/70\n",
      "71/71 [==============================] - 0s 2ms/step - loss: 4.0448 - accuracy: 0.7378 - val_loss: 4.2646 - val_accuracy: 0.7235\n",
      "Epoch 64/70\n",
      "71/71 [==============================] - 0s 1ms/step - loss: 4.0448 - accuracy: 0.7378 - val_loss: 4.2646 - val_accuracy: 0.7235\n",
      "Epoch 65/70\n",
      "71/71 [==============================] - 0s 1ms/step - loss: 4.0448 - accuracy: 0.7378 - val_loss: 4.2646 - val_accuracy: 0.7235\n",
      "Epoch 66/70\n",
      "71/71 [==============================] - 0s 2ms/step - loss: 4.0448 - accuracy: 0.7378 - val_loss: 4.2646 - val_accuracy: 0.7235\n",
      "Epoch 67/70\n",
      "71/71 [==============================] - 0s 1ms/step - loss: 4.0448 - accuracy: 0.7378 - val_loss: 4.2646 - val_accuracy: 0.7235\n",
      "Epoch 68/70\n",
      "71/71 [==============================] - 0s 2ms/step - loss: 4.0448 - accuracy: 0.7378 - val_loss: 4.2646 - val_accuracy: 0.7235\n",
      "Epoch 69/70\n",
      "71/71 [==============================] - 0s 2ms/step - loss: 4.0448 - accuracy: 0.7378 - val_loss: 4.2646 - val_accuracy: 0.7235\n",
      "Epoch 70/70\n",
      "71/71 [==============================] - 0s 2ms/step - loss: 4.0448 - accuracy: 0.7378 - val_loss: 4.2646 - val_accuracy: 0.7235\n"
     ]
    }
   ],
   "source": [
    "history = model.fit(X_train_final, y_train, epochs=70, batch_size=64,\n",
    "                    validation_data=(X_val_final,y_val),verbose=1)"
   ]
  },
  {
   "cell_type": "code",
   "execution_count": 48,
   "metadata": {},
   "outputs": [
    {
     "data": {
      "text/plain": [
       "<matplotlib.legend.Legend at 0x2aa26e130a0>"
      ]
     },
     "execution_count": 48,
     "metadata": {},
     "output_type": "execute_result"
    },
    {
     "data": {
      "image/png": "[encoded data removed]",
      "text/plain": [
       "<Figure size 1440x720 with 1 Axes>"
      ]
     },
     "metadata": {},
     "output_type": "display_data"
    }
   ],
   "source": [
    "# plot hasil ke grafik\n",
    "fig, ax = plt.subplots()\n",
    "ax.plot(history.history['loss'],label='train loss')\n",
    "ax.plot(history.history['val_loss'],label='val loss')\n",
    "ax.set_xlabel('Epoch')\n",
    "ax.set_ylabel('Loss')\n",
    "plt.legend()"
   ]
  },
  {
   "cell_type": "markdown",
   "metadata": {},
   "source": [
    "### MODEL IMPROVEMENT\n",
    "\n",
    "Karena hasil diatas sangat kurang baik, maka akan dilakukan trial & error pada bagian ini untuk mendapatkan hasil yang baik"
   ]
  },
  {
   "cell_type": "code",
   "execution_count": 49,
   "metadata": {},
   "outputs": [],
   "source": [
    "model = tf.keras.models.Sequential()\n",
    "model.add(tf.keras.layers.Dense(128,input_shape=X_train_final.shape[1:], kernel_initializer='uniform', activation='relu'))\n",
    "model.add(tf.keras.layers.Dropout(rate=0.1))\n",
    "\n",
    "model.add(tf.keras.layers.Dense(64, kernel_initializer='uniform'))\n",
    "model.add(tf.keras.layers.Activation('relu'))\n",
    "model.add(tf.keras.layers.Dropout(rate=0.1))\n",
    "\n",
    "model.add(tf.keras.layers.Dense(32, kernel_initializer='uniform'))\n",
    "model.add(tf.keras.layers.Activation('relu'))\n",
    "model.add(tf.keras.layers.Dropout(rate=0.1))\n",
    "\n",
    "model.add(tf.keras.layers.Dense(16, kernel_initializer='uniform'))\n",
    "model.add(tf.keras.layers.Activation('relu'))\n",
    "model.add(tf.keras.layers.Dropout(rate=0.1))\n",
    "\n",
    "model.add(tf.keras.layers.Dense(1, kernel_initializer='uniform', activation='sigmoid'))"
   ]
  },
  {
   "cell_type": "code",
   "execution_count": 50,
   "metadata": {},
   "outputs": [],
   "source": [
    "model.compile(loss='binary_crossentropy',\n",
    "              optimizer=tf.keras.optimizers.Adamax(learning_rate=0.15,clipvalue= 1.0), \n",
    "              metrics=['acc'])"
   ]
  },
  {
   "cell_type": "code",
   "execution_count": 51,
   "metadata": {},
   "outputs": [
    {
     "name": "stdout",
     "output_type": "stream",
     "text": [
      "Epoch 1/100\n",
      "71/71 [==============================] - 0s 4ms/step - loss: 0.6002 - acc: 0.7276 - val_loss: 0.4977 - val_acc: 0.7747\n",
      "Epoch 2/100\n",
      "71/71 [==============================] - 0s 2ms/step - loss: 0.4995 - acc: 0.7556 - val_loss: 0.4860 - val_acc: 0.7235\n",
      "Epoch 3/100\n",
      "71/71 [==============================] - 0s 2ms/step - loss: 0.4855 - acc: 0.7480 - val_loss: 0.4650 - val_acc: 0.7861\n",
      "Epoch 4/100\n",
      "71/71 [==============================] - 0s 3ms/step - loss: 0.4827 - acc: 0.7640 - val_loss: 0.4772 - val_acc: 0.7235\n",
      "Epoch 5/100\n",
      "71/71 [==============================] - 0s 2ms/step - loss: 0.4762 - acc: 0.7800 - val_loss: 0.4802 - val_acc: 0.7903\n",
      "Epoch 6/100\n",
      "71/71 [==============================] - 0s 2ms/step - loss: 0.4797 - acc: 0.7671 - val_loss: 0.4739 - val_acc: 0.7235\n",
      "Epoch 7/100\n",
      "71/71 [==============================] - 0s 3ms/step - loss: 0.4758 - acc: 0.7631 - val_loss: 0.4655 - val_acc: 0.7711\n",
      "Epoch 8/100\n",
      "71/71 [==============================] - 0s 2ms/step - loss: 0.4674 - acc: 0.7682 - val_loss: 0.4749 - val_acc: 0.7235\n",
      "Epoch 9/100\n",
      "71/71 [==============================] - 0s 2ms/step - loss: 0.4747 - acc: 0.7720 - val_loss: 0.4778 - val_acc: 0.7711\n",
      "Epoch 10/100\n",
      "71/71 [==============================] - 0s 2ms/step - loss: 0.4712 - acc: 0.7711 - val_loss: 0.4606 - val_acc: 0.7918\n",
      "Epoch 11/100\n",
      "71/71 [==============================] - 0s 3ms/step - loss: 0.4610 - acc: 0.7856 - val_loss: 0.4605 - val_acc: 0.7896\n",
      "Epoch 12/100\n",
      "71/71 [==============================] - 0s 3ms/step - loss: 0.4685 - acc: 0.7829 - val_loss: 0.4612 - val_acc: 0.7882\n",
      "Epoch 13/100\n",
      "71/71 [==============================] - 0s 2ms/step - loss: 0.4754 - acc: 0.7822 - val_loss: 0.4816 - val_acc: 0.7619\n",
      "Epoch 14/100\n",
      "71/71 [==============================] - 0s 2ms/step - loss: 0.4724 - acc: 0.7771 - val_loss: 0.4557 - val_acc: 0.8017\n",
      "Epoch 15/100\n",
      "71/71 [==============================] - 0s 2ms/step - loss: 0.4690 - acc: 0.7776 - val_loss: 0.4568 - val_acc: 0.7896\n",
      "Epoch 16/100\n",
      "71/71 [==============================] - 0s 3ms/step - loss: 0.4605 - acc: 0.7840 - val_loss: 0.4621 - val_acc: 0.7832\n",
      "Epoch 17/100\n",
      "71/71 [==============================] - 0s 3ms/step - loss: 0.4733 - acc: 0.7798 - val_loss: 0.4619 - val_acc: 0.7854\n",
      "Epoch 18/100\n",
      "71/71 [==============================] - 0s 2ms/step - loss: 0.4648 - acc: 0.7849 - val_loss: 0.4956 - val_acc: 0.7740\n",
      "Epoch 19/100\n",
      "71/71 [==============================] - 0s 2ms/step - loss: 0.4747 - acc: 0.7771 - val_loss: 0.4837 - val_acc: 0.7456\n",
      "Epoch 20/100\n",
      "71/71 [==============================] - 0s 2ms/step - loss: 0.4729 - acc: 0.7856 - val_loss: 0.4479 - val_acc: 0.7967\n",
      "Epoch 21/100\n",
      "71/71 [==============================] - 0s 2ms/step - loss: 0.4684 - acc: 0.7860 - val_loss: 0.4614 - val_acc: 0.7861\n",
      "Epoch 22/100\n",
      "71/71 [==============================] - 0s 2ms/step - loss: 0.4737 - acc: 0.7864 - val_loss: 0.4564 - val_acc: 0.7868\n",
      "Epoch 23/100\n",
      "71/71 [==============================] - 0s 3ms/step - loss: 0.4723 - acc: 0.7769 - val_loss: 0.4771 - val_acc: 0.7690\n",
      "Epoch 24/100\n",
      "71/71 [==============================] - 0s 3ms/step - loss: 0.4619 - acc: 0.7920 - val_loss: 0.4806 - val_acc: 0.7541\n",
      "Epoch 25/100\n",
      "71/71 [==============================] - 0s 2ms/step - loss: 0.4609 - acc: 0.7871 - val_loss: 0.4562 - val_acc: 0.7846\n",
      "Epoch 26/100\n",
      "71/71 [==============================] - 0s 2ms/step - loss: 0.4564 - acc: 0.7891 - val_loss: 0.4579 - val_acc: 0.7974\n",
      "Epoch 27/100\n",
      "71/71 [==============================] - 0s 2ms/step - loss: 0.4580 - acc: 0.7840 - val_loss: 0.4595 - val_acc: 0.7910\n",
      "Epoch 28/100\n",
      "71/71 [==============================] - 0s 2ms/step - loss: 0.4613 - acc: 0.7833 - val_loss: 0.4595 - val_acc: 0.7868\n",
      "Epoch 29/100\n",
      "71/71 [==============================] - 0s 2ms/step - loss: 0.4663 - acc: 0.7656 - val_loss: 0.4687 - val_acc: 0.7235\n",
      "Epoch 30/100\n",
      "71/71 [==============================] - 0s 2ms/step - loss: 0.4605 - acc: 0.7816 - val_loss: 0.4674 - val_acc: 0.7775\n",
      "Epoch 31/100\n",
      "71/71 [==============================] - 0s 2ms/step - loss: 0.4608 - acc: 0.7847 - val_loss: 0.4712 - val_acc: 0.7235\n",
      "Epoch 32/100\n",
      "71/71 [==============================] - 0s 2ms/step - loss: 0.4654 - acc: 0.7796 - val_loss: 0.4617 - val_acc: 0.7910\n",
      "Epoch 33/100\n",
      "71/71 [==============================] - 0s 2ms/step - loss: 0.4629 - acc: 0.7782 - val_loss: 0.4509 - val_acc: 0.7946\n",
      "Epoch 34/100\n",
      "71/71 [==============================] - 0s 2ms/step - loss: 0.4742 - acc: 0.7767 - val_loss: 0.4707 - val_acc: 0.7854\n",
      "Epoch 35/100\n",
      "71/71 [==============================] - 0s 2ms/step - loss: 0.4713 - acc: 0.7818 - val_loss: 0.4587 - val_acc: 0.7846\n",
      "Epoch 36/100\n",
      "71/71 [==============================] - 0s 2ms/step - loss: 0.4574 - acc: 0.7978 - val_loss: 0.4474 - val_acc: 0.7960\n",
      "Epoch 37/100\n",
      "71/71 [==============================] - 0s 2ms/step - loss: 0.4580 - acc: 0.7936 - val_loss: 0.4640 - val_acc: 0.8010\n",
      "Epoch 38/100\n",
      "71/71 [==============================] - 0s 2ms/step - loss: 0.4695 - acc: 0.7884 - val_loss: 0.4600 - val_acc: 0.7903\n",
      "Epoch 39/100\n",
      "71/71 [==============================] - 0s 2ms/step - loss: 0.4620 - acc: 0.7944 - val_loss: 0.4613 - val_acc: 0.7989\n",
      "Epoch 40/100\n",
      "71/71 [==============================] - 0s 2ms/step - loss: 0.4670 - acc: 0.7964 - val_loss: 0.4692 - val_acc: 0.7967\n",
      "Epoch 41/100\n",
      "71/71 [==============================] - 0s 2ms/step - loss: 0.4760 - acc: 0.7898 - val_loss: 0.4552 - val_acc: 0.7910\n",
      "Epoch 42/100\n",
      "71/71 [==============================] - 0s 2ms/step - loss: 0.4697 - acc: 0.7847 - val_loss: 0.4738 - val_acc: 0.7896\n",
      "Epoch 43/100\n",
      "71/71 [==============================] - 0s 2ms/step - loss: 0.4621 - acc: 0.7893 - val_loss: 0.4475 - val_acc: 0.7832\n",
      "Epoch 44/100\n",
      "71/71 [==============================] - 0s 2ms/step - loss: 0.4623 - acc: 0.7904 - val_loss: 0.4854 - val_acc: 0.7534\n",
      "Epoch 45/100\n",
      "71/71 [==============================] - 0s 2ms/step - loss: 0.4652 - acc: 0.7836 - val_loss: 0.4513 - val_acc: 0.7960\n",
      "Epoch 46/100\n",
      "71/71 [==============================] - 0s 2ms/step - loss: 0.4641 - acc: 0.7807 - val_loss: 0.4736 - val_acc: 0.7719\n",
      "Epoch 47/100\n",
      "71/71 [==============================] - 0s 2ms/step - loss: 0.4649 - acc: 0.7844 - val_loss: 0.4599 - val_acc: 0.7832\n",
      "Epoch 48/100\n",
      "71/71 [==============================] - 0s 3ms/step - loss: 0.4547 - acc: 0.7842 - val_loss: 0.4595 - val_acc: 0.7918\n",
      "Epoch 49/100\n",
      "71/71 [==============================] - 0s 2ms/step - loss: 0.4638 - acc: 0.7793 - val_loss: 0.4923 - val_acc: 0.7839\n",
      "Epoch 50/100\n",
      "71/71 [==============================] - 0s 2ms/step - loss: 0.4565 - acc: 0.7889 - val_loss: 0.4414 - val_acc: 0.7896\n",
      "Epoch 51/100\n",
      "71/71 [==============================] - 0s 2ms/step - loss: 0.4464 - acc: 0.7860 - val_loss: 0.4402 - val_acc: 0.7925\n",
      "Epoch 52/100\n",
      "71/71 [==============================] - 0s 3ms/step - loss: 0.4293 - acc: 0.7933 - val_loss: 0.4442 - val_acc: 0.7932\n",
      "Epoch 53/100\n",
      "71/71 [==============================] - 0s 3ms/step - loss: 0.4347 - acc: 0.7871 - val_loss: 0.5019 - val_acc: 0.7974\n",
      "Epoch 54/100\n",
      "71/71 [==============================] - 0s 3ms/step - loss: 0.4484 - acc: 0.7851 - val_loss: 0.4498 - val_acc: 0.7932\n",
      "Epoch 55/100\n",
      "71/71 [==============================] - 0s 2ms/step - loss: 0.4359 - acc: 0.7896 - val_loss: 0.4470 - val_acc: 0.7925\n",
      "Epoch 56/100\n",
      "71/71 [==============================] - 0s 2ms/step - loss: 0.4376 - acc: 0.7951 - val_loss: 0.4534 - val_acc: 0.7910\n",
      "Epoch 57/100\n",
      "71/71 [==============================] - 0s 2ms/step - loss: 0.4409 - acc: 0.7818 - val_loss: 0.4544 - val_acc: 0.7953\n",
      "Epoch 58/100\n",
      "71/71 [==============================] - 0s 3ms/step - loss: 0.4379 - acc: 0.7896 - val_loss: 0.4537 - val_acc: 0.7960\n",
      "Epoch 59/100\n",
      "71/71 [==============================] - 0s 2ms/step - loss: 0.4356 - acc: 0.7960 - val_loss: 0.4728 - val_acc: 0.7797\n",
      "Epoch 60/100\n",
      "71/71 [==============================] - 0s 2ms/step - loss: 0.4342 - acc: 0.7904 - val_loss: 0.4377 - val_acc: 0.7974\n",
      "Epoch 61/100\n",
      "71/71 [==============================] - 0s 2ms/step - loss: 0.4271 - acc: 0.7989 - val_loss: 0.5564 - val_acc: 0.7918\n",
      "Epoch 62/100\n",
      "71/71 [==============================] - 0s 3ms/step - loss: 0.4421 - acc: 0.7960 - val_loss: 0.4599 - val_acc: 0.7932\n",
      "Epoch 63/100\n",
      "71/71 [==============================] - 0s 3ms/step - loss: 0.4314 - acc: 0.7880 - val_loss: 0.4527 - val_acc: 0.7946\n",
      "Epoch 64/100\n",
      "71/71 [==============================] - 0s 3ms/step - loss: 0.4324 - acc: 0.7913 - val_loss: 0.4730 - val_acc: 0.7655\n",
      "Epoch 65/100\n",
      "71/71 [==============================] - 0s 2ms/step - loss: 0.4331 - acc: 0.7922 - val_loss: 0.4920 - val_acc: 0.7925\n",
      "Epoch 66/100\n",
      "71/71 [==============================] - 0s 2ms/step - loss: 0.4284 - acc: 0.7964 - val_loss: 0.4731 - val_acc: 0.7932\n",
      "Epoch 67/100\n",
      "71/71 [==============================] - 0s 3ms/step - loss: 0.4285 - acc: 0.8002 - val_loss: 0.4626 - val_acc: 0.7910\n",
      "Epoch 68/100\n",
      "71/71 [==============================] - 0s 2ms/step - loss: 0.4308 - acc: 0.7944 - val_loss: 0.4938 - val_acc: 0.8017\n",
      "Epoch 69/100\n",
      "71/71 [==============================] - 0s 2ms/step - loss: 0.4243 - acc: 0.7956 - val_loss: 0.4559 - val_acc: 0.7925\n",
      "Epoch 70/100\n",
      "71/71 [==============================] - 0s 2ms/step - loss: 0.4270 - acc: 0.7958 - val_loss: 0.4641 - val_acc: 0.7967\n",
      "Epoch 71/100\n",
      "71/71 [==============================] - 0s 2ms/step - loss: 0.4289 - acc: 0.7949 - val_loss: 0.4748 - val_acc: 0.7896\n",
      "Epoch 72/100\n",
      "71/71 [==============================] - 0s 2ms/step - loss: 0.4274 - acc: 0.7964 - val_loss: 0.4926 - val_acc: 0.7903\n",
      "Epoch 73/100\n",
      "71/71 [==============================] - 0s 2ms/step - loss: 0.4276 - acc: 0.7989 - val_loss: 0.4787 - val_acc: 0.8038\n",
      "Epoch 74/100\n",
      "71/71 [==============================] - 0s 3ms/step - loss: 0.4212 - acc: 0.7956 - val_loss: 0.5326 - val_acc: 0.7960\n",
      "Epoch 75/100\n",
      "71/71 [==============================] - 0s 3ms/step - loss: 0.4319 - acc: 0.7987 - val_loss: 0.6183 - val_acc: 0.7989\n",
      "Epoch 76/100\n",
      "71/71 [==============================] - 0s 2ms/step - loss: 0.4300 - acc: 0.7993 - val_loss: 0.5319 - val_acc: 0.7939\n",
      "Epoch 77/100\n",
      "71/71 [==============================] - 0s 2ms/step - loss: 0.4281 - acc: 0.7942 - val_loss: 0.4579 - val_acc: 0.7910\n",
      "Epoch 78/100\n",
      "71/71 [==============================] - 0s 2ms/step - loss: 0.4240 - acc: 0.7920 - val_loss: 0.4745 - val_acc: 0.7910\n",
      "Epoch 79/100\n",
      "71/71 [==============================] - 0s 3ms/step - loss: 0.4178 - acc: 0.7991 - val_loss: 0.5100 - val_acc: 0.7868\n",
      "Epoch 80/100\n",
      "71/71 [==============================] - 0s 3ms/step - loss: 0.4172 - acc: 0.7933 - val_loss: 0.5337 - val_acc: 0.7974\n",
      "Epoch 81/100\n",
      "71/71 [==============================] - 0s 2ms/step - loss: 0.4229 - acc: 0.7844 - val_loss: 0.5940 - val_acc: 0.7903\n",
      "Epoch 82/100\n",
      "71/71 [==============================] - 0s 2ms/step - loss: 0.4212 - acc: 0.7927 - val_loss: 0.6015 - val_acc: 0.7868\n",
      "Epoch 83/100\n",
      "71/71 [==============================] - 0s 2ms/step - loss: 0.4204 - acc: 0.7927 - val_loss: 0.5869 - val_acc: 0.7967\n",
      "Epoch 84/100\n",
      "71/71 [==============================] - 0s 2ms/step - loss: 0.4181 - acc: 0.7936 - val_loss: 0.6391 - val_acc: 0.7967\n",
      "Epoch 85/100\n",
      "71/71 [==============================] - 0s 2ms/step - loss: 0.4099 - acc: 0.7971 - val_loss: 0.5809 - val_acc: 0.8010\n",
      "Epoch 86/100\n",
      "71/71 [==============================] - 0s 2ms/step - loss: 0.4130 - acc: 0.7924 - val_loss: 0.6433 - val_acc: 0.7953\n",
      "Epoch 87/100\n",
      "71/71 [==============================] - 0s 2ms/step - loss: 0.4114 - acc: 0.7982 - val_loss: 0.6260 - val_acc: 0.7967\n",
      "Epoch 88/100\n",
      "71/71 [==============================] - 0s 2ms/step - loss: 0.4226 - acc: 0.7940 - val_loss: 0.4865 - val_acc: 0.7932\n",
      "Epoch 89/100\n",
      "71/71 [==============================] - 0s 2ms/step - loss: 0.4135 - acc: 0.7960 - val_loss: 0.4882 - val_acc: 0.7932\n",
      "Epoch 90/100\n",
      "71/71 [==============================] - 0s 2ms/step - loss: 0.4158 - acc: 0.7951 - val_loss: 0.5156 - val_acc: 0.7960\n",
      "Epoch 91/100\n",
      "71/71 [==============================] - 0s 3ms/step - loss: 0.4052 - acc: 0.8047 - val_loss: 0.5156 - val_acc: 0.7918\n",
      "Epoch 92/100\n",
      "71/71 [==============================] - 0s 2ms/step - loss: 0.4182 - acc: 0.7991 - val_loss: 0.4964 - val_acc: 0.7939\n",
      "Epoch 93/100\n",
      "71/71 [==============================] - 0s 2ms/step - loss: 0.4060 - acc: 0.7953 - val_loss: 0.4912 - val_acc: 0.7882\n",
      "Epoch 94/100\n",
      "71/71 [==============================] - 0s 2ms/step - loss: 0.4060 - acc: 0.7922 - val_loss: 0.5004 - val_acc: 0.7918\n",
      "Epoch 95/100\n",
      "71/71 [==============================] - 0s 2ms/step - loss: 0.4076 - acc: 0.7998 - val_loss: 0.5087 - val_acc: 0.7946\n",
      "Epoch 96/100\n",
      "71/71 [==============================] - 0s 2ms/step - loss: 0.4068 - acc: 0.8016 - val_loss: 0.5740 - val_acc: 0.7974\n",
      "Epoch 97/100\n",
      "71/71 [==============================] - 0s 3ms/step - loss: 0.4015 - acc: 0.8047 - val_loss: 0.6766 - val_acc: 0.7932\n",
      "Epoch 98/100\n",
      "71/71 [==============================] - 0s 2ms/step - loss: 0.4094 - acc: 0.7933 - val_loss: 0.5087 - val_acc: 0.7932\n",
      "Epoch 99/100\n",
      "71/71 [==============================] - 0s 3ms/step - loss: 0.4047 - acc: 0.8000 - val_loss: 0.5253 - val_acc: 0.7896\n",
      "Epoch 100/100\n",
      "71/71 [==============================] - 0s 2ms/step - loss: 0.4027 - acc: 0.7980 - val_loss: 0.5509 - val_acc: 0.7896\n"
     ]
    }
   ],
   "source": [
    "history = model.fit(X_train_final, y_train, epochs=100, batch_size=64,\n",
    "                    validation_data=(X_val_final,y_val),verbose=1)"
   ]
  },
  {
   "cell_type": "code",
   "execution_count": 52,
   "metadata": {},
   "outputs": [
    {
     "data": {
      "text/plain": [
       "<matplotlib.legend.Legend at 0x2aa270a5670>"
      ]
     },
     "execution_count": 52,
     "metadata": {},
     "output_type": "execute_result"
    },
    {
     "data": {
      "image/png": "[encoded data removed]",
      "text/plain": [
       "<Figure size 1440x720 with 1 Axes>"
      ]
     },
     "metadata": {},
     "output_type": "display_data"
    }
   ],
   "source": [
    "# plot hasil ke grafik\n",
    "fig, ax = plt.subplots()\n",
    "ax.plot(history.history['loss'],label='train loss')\n",
    "ax.plot(history.history['val_loss'],label='val loss')\n",
    "ax.set_xlabel('Epoch')\n",
    "ax.set_ylabel('Loss')\n",
    "ax.set_ylim(0,1)\n",
    "plt.legend()"
   ]
  },
  {
   "cell_type": "markdown",
   "metadata": {},
   "source": [
    "Mengapa parameter2 tersebut dipilih? untuk optimizer digunakan adamax yang merupakan optimasi dari Adam dan merupakan opsi ketika menggunakan adam belum optimal, sedangkan adamax sendiri berasal dari optimizer adam yang menggabungkan momentum dengan RMSprop. Ketika momentum dan RMSprop telah digunakan namun belum maksimal, maka dapat digunakan adam ataupun adamax. Kemudian untuk iniatlizer digunakan karena berdasarkan percobaan dengan beberapa metode seperti gloroth, he, dan normal. Kemudian untuk aktivasi digunakan relu karena merupakan salah satu metode ketika terjadi masalah gradient problem. Karena ketika tanpa aktivasi ini, hasil yang terbentuk akan datar sehingga dengan penambahan relu mendapatkan hasil akan seperti diatas."
   ]
  },
  {
   "cell_type": "code",
   "execution_count": 53,
   "metadata": {},
   "outputs": [
    {
     "name": "stdout",
     "output_type": "stream",
     "text": [
      "\n",
      "val_accuracy: 78.72%\n"
     ]
    }
   ],
   "source": [
    "val_accuracy = np.mean(history.history['acc'])\n",
    "print(\"\\n%s: %.2f%%\" % ('val_accuracy', val_accuracy*100))"
   ]
  },
  {
   "cell_type": "markdown",
   "metadata": {},
   "source": [
    "Melakukan pemodelan dengan functional API"
   ]
  },
  {
   "cell_type": "code",
   "execution_count": 54,
   "metadata": {},
   "outputs": [],
   "source": [
    "model_input_funct = tf.keras.Input(shape=X_train_final.shape[1:])\n",
    "\n",
    "Layer_1 = tf.keras.layers.Dense(128,\n",
    "                          kernel_regularizer=tf.keras.regularizers.L2(),\n",
    "                          kernel_initializer='uniform')(model_input_funct)\n",
    "\n",
    "Layer_1= tf.keras.layers.Activation('relu')((model_input_funct))\n",
    "Layer_1=tf.keras.layers.Dropout(rate=0.1)(model_input_funct)\n",
    "\n",
    "Layer_2 = tf.keras.layers.Dense(64,kernel_initializer='uniform')(Layer_1)\n",
    "Layer_2= tf.keras.layers.Activation('relu')(Layer_1)\n",
    "Layer_2=tf.keras.layers.Dropout(rate=0.1)(Layer_1)\n",
    "\n",
    "Layer_3 = tf.keras.layers.Dense(32,kernel_initializer='uniform')(Layer_2)\n",
    "Layer_3= tf.keras.layers.Activation('relu')(Layer_2)\n",
    "Layer_3=tf.keras.layers.Dropout(rate=0.1)(Layer_2)\n",
    "\n",
    "Layer_4 = tf.keras.layers.Dense(16,kernel_initializer='uniform')(Layer_3)\n",
    "Layer_4= tf.keras.layers.Activation('relu')(Layer_3)\n",
    "Layer_4=tf.keras.layers.Dropout(rate=0.1)(Layer_3)\n",
    "\n",
    "\n",
    "model_output = tf.keras.layers.Dense(1, activation='sigmoid')(Layer_3)\n",
    "\n",
    "model_funct = tf.keras.models.Model(inputs=model_input_funct, outputs=model_output)"
   ]
  },
  {
   "cell_type": "code",
   "execution_count": 55,
   "metadata": {},
   "outputs": [],
   "source": [
    "model_funct.compile(loss='binary_crossentropy',\n",
    "              optimizer=tf.keras.optimizers.Adamax(learning_rate=0.15),\n",
    "              metrics=['acc'])"
   ]
  },
  {
   "cell_type": "code",
   "execution_count": 56,
   "metadata": {},
   "outputs": [
    {
     "name": "stdout",
     "output_type": "stream",
     "text": [
      "Epoch 1/100\n",
      "71/71 [==============================] - 0s 3ms/step - loss: 0.4766 - acc: 0.7689 - val_loss: 0.4423 - val_acc: 0.7953\n",
      "Epoch 2/100\n",
      "71/71 [==============================] - 0s 2ms/step - loss: 0.4535 - acc: 0.7782 - val_loss: 0.4337 - val_acc: 0.7910\n",
      "Epoch 3/100\n",
      "71/71 [==============================] - 0s 2ms/step - loss: 0.4473 - acc: 0.7867 - val_loss: 0.4398 - val_acc: 0.7910\n",
      "Epoch 4/100\n",
      "71/71 [==============================] - 0s 2ms/step - loss: 0.4500 - acc: 0.7791 - val_loss: 0.4397 - val_acc: 0.7861\n",
      "Epoch 5/100\n",
      "71/71 [==============================] - 0s 2ms/step - loss: 0.4475 - acc: 0.7813 - val_loss: 0.4495 - val_acc: 0.7711\n",
      "Epoch 6/100\n",
      "71/71 [==============================] - 0s 2ms/step - loss: 0.4481 - acc: 0.7829 - val_loss: 0.4358 - val_acc: 0.7918\n",
      "Epoch 7/100\n",
      "71/71 [==============================] - 0s 2ms/step - loss: 0.4546 - acc: 0.7798 - val_loss: 0.4361 - val_acc: 0.8031\n",
      "Epoch 8/100\n",
      "71/71 [==============================] - 0s 2ms/step - loss: 0.4496 - acc: 0.7838 - val_loss: 0.4338 - val_acc: 0.7903\n",
      "Epoch 9/100\n",
      "71/71 [==============================] - 0s 2ms/step - loss: 0.4567 - acc: 0.7751 - val_loss: 0.4247 - val_acc: 0.7889\n",
      "Epoch 10/100\n",
      "71/71 [==============================] - 0s 2ms/step - loss: 0.4569 - acc: 0.7798 - val_loss: 0.4302 - val_acc: 0.7974\n",
      "Epoch 11/100\n",
      "71/71 [==============================] - 0s 2ms/step - loss: 0.4476 - acc: 0.7782 - val_loss: 0.4323 - val_acc: 0.7896\n",
      "Epoch 12/100\n",
      "71/71 [==============================] - 0s 2ms/step - loss: 0.4600 - acc: 0.7762 - val_loss: 0.4424 - val_acc: 0.7854\n",
      "Epoch 13/100\n",
      "71/71 [==============================] - 0s 2ms/step - loss: 0.4458 - acc: 0.7847 - val_loss: 0.4398 - val_acc: 0.7932\n",
      "Epoch 14/100\n",
      "71/71 [==============================] - 0s 2ms/step - loss: 0.4541 - acc: 0.7789 - val_loss: 0.4410 - val_acc: 0.7932\n",
      "Epoch 15/100\n",
      "71/71 [==============================] - 0s 2ms/step - loss: 0.4482 - acc: 0.7809 - val_loss: 0.4307 - val_acc: 0.8045\n",
      "Epoch 16/100\n",
      "71/71 [==============================] - 0s 2ms/step - loss: 0.4476 - acc: 0.7856 - val_loss: 0.4355 - val_acc: 0.7989\n",
      "Epoch 17/100\n",
      "71/71 [==============================] - 0s 2ms/step - loss: 0.4516 - acc: 0.7776 - val_loss: 0.4671 - val_acc: 0.7463\n",
      "Epoch 18/100\n",
      "71/71 [==============================] - 0s 2ms/step - loss: 0.4619 - acc: 0.7696 - val_loss: 0.4289 - val_acc: 0.7882\n",
      "Epoch 19/100\n",
      "71/71 [==============================] - 0s 2ms/step - loss: 0.4528 - acc: 0.7876 - val_loss: 0.4384 - val_acc: 0.7910\n",
      "Epoch 20/100\n",
      "71/71 [==============================] - 0s 2ms/step - loss: 0.4486 - acc: 0.7813 - val_loss: 0.4294 - val_acc: 0.7910\n",
      "Epoch 21/100\n",
      "71/71 [==============================] - 0s 2ms/step - loss: 0.4510 - acc: 0.7811 - val_loss: 0.4280 - val_acc: 0.7974\n",
      "Epoch 22/100\n",
      "71/71 [==============================] - 0s 2ms/step - loss: 0.4517 - acc: 0.7787 - val_loss: 0.4306 - val_acc: 0.7989\n",
      "Epoch 23/100\n",
      "71/71 [==============================] - 0s 2ms/step - loss: 0.4511 - acc: 0.7836 - val_loss: 0.4547 - val_acc: 0.7797\n",
      "Epoch 24/100\n",
      "71/71 [==============================] - 0s 2ms/step - loss: 0.4487 - acc: 0.7867 - val_loss: 0.4299 - val_acc: 0.7939\n",
      "Epoch 25/100\n",
      "71/71 [==============================] - 0s 2ms/step - loss: 0.4501 - acc: 0.7827 - val_loss: 0.4384 - val_acc: 0.7889\n",
      "Epoch 26/100\n",
      "71/71 [==============================] - 0s 2ms/step - loss: 0.4446 - acc: 0.7798 - val_loss: 0.4377 - val_acc: 0.7989\n",
      "Epoch 27/100\n",
      "71/71 [==============================] - 0s 2ms/step - loss: 0.4475 - acc: 0.7842 - val_loss: 0.4267 - val_acc: 0.7910\n",
      "Epoch 28/100\n",
      "71/71 [==============================] - 0s 2ms/step - loss: 0.4574 - acc: 0.7744 - val_loss: 0.4337 - val_acc: 0.7996\n",
      "Epoch 29/100\n",
      "71/71 [==============================] - 0s 2ms/step - loss: 0.4566 - acc: 0.7733 - val_loss: 0.4354 - val_acc: 0.7854\n",
      "Epoch 30/100\n",
      "71/71 [==============================] - 0s 2ms/step - loss: 0.4596 - acc: 0.7742 - val_loss: 0.4403 - val_acc: 0.7932\n",
      "Epoch 31/100\n",
      "71/71 [==============================] - 0s 2ms/step - loss: 0.4586 - acc: 0.7813 - val_loss: 0.4274 - val_acc: 0.7989\n",
      "Epoch 32/100\n",
      "71/71 [==============================] - 0s 2ms/step - loss: 0.4487 - acc: 0.7778 - val_loss: 0.4305 - val_acc: 0.8010\n",
      "Epoch 33/100\n",
      "71/71 [==============================] - 0s 2ms/step - loss: 0.4527 - acc: 0.7818 - val_loss: 0.4461 - val_acc: 0.7854\n",
      "Epoch 34/100\n",
      "71/71 [==============================] - 0s 2ms/step - loss: 0.4488 - acc: 0.7796 - val_loss: 0.4263 - val_acc: 0.7982\n",
      "Epoch 35/100\n",
      "71/71 [==============================] - 0s 2ms/step - loss: 0.4628 - acc: 0.7729 - val_loss: 0.4441 - val_acc: 0.7875\n",
      "Epoch 36/100\n",
      "71/71 [==============================] - 0s 2ms/step - loss: 0.4536 - acc: 0.7747 - val_loss: 0.4325 - val_acc: 0.7918\n",
      "Epoch 37/100\n",
      "71/71 [==============================] - 0s 2ms/step - loss: 0.4530 - acc: 0.7822 - val_loss: 0.4388 - val_acc: 0.7889\n",
      "Epoch 38/100\n",
      "71/71 [==============================] - ETA: 0s - loss: 0.4399 - acc: 0.779 - 0s 2ms/step - loss: 0.4497 - acc: 0.7767 - val_loss: 0.4358 - val_acc: 0.7811\n",
      "Epoch 39/100\n",
      "71/71 [==============================] - 0s 2ms/step - loss: 0.4509 - acc: 0.7749 - val_loss: 0.4338 - val_acc: 0.7896\n",
      "Epoch 40/100\n",
      "71/71 [==============================] - 0s 2ms/step - loss: 0.4538 - acc: 0.7780 - val_loss: 0.4368 - val_acc: 0.7960\n",
      "Epoch 41/100\n",
      "71/71 [==============================] - 0s 2ms/step - loss: 0.4535 - acc: 0.7844 - val_loss: 0.4365 - val_acc: 0.7946\n",
      "Epoch 42/100\n",
      "71/71 [==============================] - 0s 2ms/step - loss: 0.4492 - acc: 0.7791 - val_loss: 0.4338 - val_acc: 0.7946\n",
      "Epoch 43/100\n",
      "71/71 [==============================] - 0s 2ms/step - loss: 0.4615 - acc: 0.7742 - val_loss: 0.4480 - val_acc: 0.7733\n",
      "Epoch 44/100\n",
      "71/71 [==============================] - 0s 2ms/step - loss: 0.4550 - acc: 0.7769 - val_loss: 0.4332 - val_acc: 0.7967\n",
      "Epoch 45/100\n",
      "71/71 [==============================] - 0s 2ms/step - loss: 0.4531 - acc: 0.7729 - val_loss: 0.4408 - val_acc: 0.7910\n",
      "Epoch 46/100\n",
      "71/71 [==============================] - 0s 2ms/step - loss: 0.4491 - acc: 0.7824 - val_loss: 0.4360 - val_acc: 0.7989\n",
      "Epoch 47/100\n",
      "71/71 [==============================] - 0s 2ms/step - loss: 0.4527 - acc: 0.7818 - val_loss: 0.4396 - val_acc: 0.7910\n",
      "Epoch 48/100\n",
      "71/71 [==============================] - 0s 2ms/step - loss: 0.4442 - acc: 0.7818 - val_loss: 0.4463 - val_acc: 0.7903\n",
      "Epoch 49/100\n",
      "71/71 [==============================] - 0s 2ms/step - loss: 0.4489 - acc: 0.7789 - val_loss: 0.4291 - val_acc: 0.8024\n",
      "Epoch 50/100\n",
      "71/71 [==============================] - 0s 2ms/step - loss: 0.4483 - acc: 0.7851 - val_loss: 0.4440 - val_acc: 0.7818\n",
      "Epoch 51/100\n",
      "71/71 [==============================] - 0s 2ms/step - loss: 0.4516 - acc: 0.7729 - val_loss: 0.4521 - val_acc: 0.7832\n",
      "Epoch 52/100\n",
      "71/71 [==============================] - 0s 2ms/step - loss: 0.4516 - acc: 0.7791 - val_loss: 0.4428 - val_acc: 0.7889\n",
      "Epoch 53/100\n",
      "71/71 [==============================] - 0s 2ms/step - loss: 0.4490 - acc: 0.7764 - val_loss: 0.4692 - val_acc: 0.7690\n",
      "Epoch 54/100\n",
      "71/71 [==============================] - 0s 2ms/step - loss: 0.4553 - acc: 0.7796 - val_loss: 0.4430 - val_acc: 0.7974\n",
      "Epoch 55/100\n",
      "71/71 [==============================] - 0s 2ms/step - loss: 0.4493 - acc: 0.7787 - val_loss: 0.4401 - val_acc: 0.7918\n",
      "Epoch 56/100\n",
      "71/71 [==============================] - 0s 2ms/step - loss: 0.4490 - acc: 0.7827 - val_loss: 0.4300 - val_acc: 0.7946\n",
      "Epoch 57/100\n",
      "71/71 [==============================] - 0s 2ms/step - loss: 0.4485 - acc: 0.7776 - val_loss: 0.4379 - val_acc: 0.7868\n",
      "Epoch 58/100\n",
      "71/71 [==============================] - 0s 2ms/step - loss: 0.4525 - acc: 0.7807 - val_loss: 0.4262 - val_acc: 0.7910\n",
      "Epoch 59/100\n",
      "71/71 [==============================] - 0s 2ms/step - loss: 0.4487 - acc: 0.7764 - val_loss: 0.4686 - val_acc: 0.7733\n",
      "Epoch 60/100\n",
      "71/71 [==============================] - 0s 2ms/step - loss: 0.4569 - acc: 0.7807 - val_loss: 0.4447 - val_acc: 0.7832\n",
      "Epoch 61/100\n",
      "71/71 [==============================] - 0s 2ms/step - loss: 0.4536 - acc: 0.7800 - val_loss: 0.4315 - val_acc: 0.7918\n",
      "Epoch 62/100\n",
      "71/71 [==============================] - ETA: 0s - loss: 0.4508 - acc: 0.772 - 0s 2ms/step - loss: 0.4451 - acc: 0.7787 - val_loss: 0.4336 - val_acc: 0.7989\n",
      "Epoch 63/100\n",
      "71/71 [==============================] - 0s 2ms/step - loss: 0.4502 - acc: 0.7798 - val_loss: 0.4372 - val_acc: 0.7953\n",
      "Epoch 64/100\n",
      "71/71 [==============================] - 0s 2ms/step - loss: 0.4467 - acc: 0.7833 - val_loss: 0.4452 - val_acc: 0.7882\n",
      "Epoch 65/100\n",
      "71/71 [==============================] - 0s 2ms/step - loss: 0.4579 - acc: 0.7804 - val_loss: 0.4381 - val_acc: 0.7939\n",
      "Epoch 66/100\n",
      "71/71 [==============================] - 0s 2ms/step - loss: 0.4476 - acc: 0.7782 - val_loss: 0.4291 - val_acc: 0.7946\n",
      "Epoch 67/100\n",
      "71/71 [==============================] - 0s 2ms/step - loss: 0.4554 - acc: 0.7742 - val_loss: 0.4342 - val_acc: 0.7989\n",
      "Epoch 68/100\n",
      "71/71 [==============================] - 0s 2ms/step - loss: 0.4488 - acc: 0.7807 - val_loss: 0.4365 - val_acc: 0.7882\n",
      "Epoch 69/100\n",
      "71/71 [==============================] - 0s 2ms/step - loss: 0.4540 - acc: 0.7798 - val_loss: 0.4396 - val_acc: 0.7960\n",
      "Epoch 70/100\n",
      "71/71 [==============================] - 0s 2ms/step - loss: 0.4535 - acc: 0.7820 - val_loss: 0.4479 - val_acc: 0.7768\n",
      "Epoch 71/100\n",
      "71/71 [==============================] - 0s 2ms/step - loss: 0.4534 - acc: 0.7753 - val_loss: 0.4415 - val_acc: 0.7953\n",
      "Epoch 72/100\n",
      "71/71 [==============================] - 0s 2ms/step - loss: 0.4550 - acc: 0.7807 - val_loss: 0.4335 - val_acc: 0.8031\n",
      "Epoch 73/100\n",
      "71/71 [==============================] - 0s 2ms/step - loss: 0.4577 - acc: 0.7780 - val_loss: 0.4337 - val_acc: 0.7932\n",
      "Epoch 74/100\n",
      "71/71 [==============================] - 0s 2ms/step - loss: 0.4481 - acc: 0.7816 - val_loss: 0.4325 - val_acc: 0.8010\n",
      "Epoch 75/100\n",
      "71/71 [==============================] - 0s 2ms/step - loss: 0.4509 - acc: 0.7729 - val_loss: 0.4318 - val_acc: 0.7925\n",
      "Epoch 76/100\n",
      "71/71 [==============================] - 0s 2ms/step - loss: 0.4442 - acc: 0.7862 - val_loss: 0.4338 - val_acc: 0.7932\n",
      "Epoch 77/100\n",
      "71/71 [==============================] - 0s 2ms/step - loss: 0.4557 - acc: 0.7822 - val_loss: 0.4298 - val_acc: 0.7910\n",
      "Epoch 78/100\n",
      "71/71 [==============================] - 0s 2ms/step - loss: 0.4545 - acc: 0.7784 - val_loss: 0.4428 - val_acc: 0.7719\n",
      "Epoch 79/100\n",
      "71/71 [==============================] - 0s 2ms/step - loss: 0.4578 - acc: 0.7662 - val_loss: 0.4421 - val_acc: 0.7974\n",
      "Epoch 80/100\n",
      "71/71 [==============================] - 0s 2ms/step - loss: 0.4544 - acc: 0.7782 - val_loss: 0.4388 - val_acc: 0.7932\n",
      "Epoch 81/100\n",
      "71/71 [==============================] - 0s 2ms/step - loss: 0.4542 - acc: 0.7816 - val_loss: 0.4408 - val_acc: 0.7925\n",
      "Epoch 82/100\n",
      "71/71 [==============================] - 0s 2ms/step - loss: 0.4526 - acc: 0.7798 - val_loss: 0.4388 - val_acc: 0.8017\n",
      "Epoch 83/100\n",
      "71/71 [==============================] - 0s 2ms/step - loss: 0.4440 - acc: 0.7869 - val_loss: 0.4373 - val_acc: 0.7932\n",
      "Epoch 84/100\n",
      "71/71 [==============================] - 0s 2ms/step - loss: 0.4464 - acc: 0.7822 - val_loss: 0.4288 - val_acc: 0.7996\n",
      "Epoch 85/100\n",
      "71/71 [==============================] - 0s 2ms/step - loss: 0.4473 - acc: 0.7844 - val_loss: 0.4374 - val_acc: 0.7974\n",
      "Epoch 86/100\n",
      "71/71 [==============================] - 0s 2ms/step - loss: 0.4466 - acc: 0.7822 - val_loss: 0.4423 - val_acc: 0.7854\n",
      "Epoch 87/100\n",
      "71/71 [==============================] - 0s 2ms/step - loss: 0.4526 - acc: 0.7782 - val_loss: 0.4356 - val_acc: 0.7818\n",
      "Epoch 88/100\n",
      "71/71 [==============================] - 0s 2ms/step - loss: 0.4554 - acc: 0.7816 - val_loss: 0.4413 - val_acc: 0.7925\n",
      "Epoch 89/100\n",
      "71/71 [==============================] - 0s 2ms/step - loss: 0.4487 - acc: 0.7858 - val_loss: 0.4437 - val_acc: 0.7896\n",
      "Epoch 90/100\n",
      "71/71 [==============================] - ETA: 0s - loss: 0.4553 - acc: 0.773 - 0s 2ms/step - loss: 0.4494 - acc: 0.7784 - val_loss: 0.4348 - val_acc: 0.7960\n",
      "Epoch 91/100\n",
      "71/71 [==============================] - ETA: 0s - loss: 0.4514 - acc: 0.788 - 0s 2ms/step - loss: 0.4546 - acc: 0.7787 - val_loss: 0.4297 - val_acc: 0.7889\n",
      "Epoch 92/100\n",
      "71/71 [==============================] - 0s 2ms/step - loss: 0.4535 - acc: 0.7811 - val_loss: 0.4371 - val_acc: 0.7918\n",
      "Epoch 93/100\n",
      "71/71 [==============================] - 0s 2ms/step - loss: 0.4479 - acc: 0.7873 - val_loss: 0.4270 - val_acc: 0.8010\n",
      "Epoch 94/100\n",
      "71/71 [==============================] - 0s 2ms/step - loss: 0.4602 - acc: 0.7722 - val_loss: 0.4526 - val_acc: 0.7740\n",
      "Epoch 95/100\n",
      "71/71 [==============================] - 0s 2ms/step - loss: 0.4591 - acc: 0.7704 - val_loss: 0.4312 - val_acc: 0.7996\n",
      "Epoch 96/100\n",
      "71/71 [==============================] - 0s 2ms/step - loss: 0.4436 - acc: 0.7818 - val_loss: 0.4440 - val_acc: 0.7818\n",
      "Epoch 97/100\n",
      "71/71 [==============================] - ETA: 0s - loss: 0.4552 - acc: 0.774 - 0s 2ms/step - loss: 0.4552 - acc: 0.7747 - val_loss: 0.4444 - val_acc: 0.7925\n",
      "Epoch 98/100\n",
      "71/71 [==============================] - 0s 2ms/step - loss: 0.4576 - acc: 0.7789 - val_loss: 0.4380 - val_acc: 0.7846\n",
      "Epoch 99/100\n",
      "71/71 [==============================] - 0s 2ms/step - loss: 0.4519 - acc: 0.7838 - val_loss: 0.4340 - val_acc: 0.7832\n",
      "Epoch 100/100\n",
      "71/71 [==============================] - 0s 2ms/step - loss: 0.4608 - acc: 0.7673 - val_loss: 0.4342 - val_acc: 0.7882\n"
     ]
    }
   ],
   "source": [
    "history_funct = model_funct.fit(X_train_final, y_train, epochs=100, batch_size=64,\n",
    "                    validation_data=(X_val_final,y_val),verbose=1)"
   ]
  },
  {
   "cell_type": "code",
   "execution_count": 57,
   "metadata": {},
   "outputs": [
    {
     "data": {
      "text/plain": [
       "<matplotlib.legend.Legend at 0x2aa25d87dc0>"
      ]
     },
     "execution_count": 57,
     "metadata": {},
     "output_type": "execute_result"
    },
    {
     "data": {
      "image/png": "[encoded data removed]",
      "text/plain": [
       "<Figure size 1440x720 with 1 Axes>"
      ]
     },
     "metadata": {},
     "output_type": "display_data"
    }
   ],
   "source": [
    "# plot hasil ke grafik\n",
    "fig2, ax2 = plt.subplots()\n",
    "ax2.plot(history_funct.history['loss'],label='train loss')\n",
    "ax2.plot(history_funct.history['val_loss'],label='val loss')\n",
    "ax2.set_xlabel('Epoch')\n",
    "ax2.set_ylabel('Loss')\n",
    "plt.legend()"
   ]
  },
  {
   "cell_type": "code",
   "execution_count": 58,
   "metadata": {},
   "outputs": [
    {
     "name": "stdout",
     "output_type": "stream",
     "text": [
      "\n",
      "val_accuracy: 77.93%\n"
     ]
    }
   ],
   "source": [
    "val_accuracy_2 = np.mean(history_funct.history['acc'])\n",
    "print(\"\\n%s: %.2f%%\" % ('val_accuracy', val_accuracy_2*100))"
   ]
  },
  {
   "cell_type": "markdown",
   "metadata": {},
   "source": [
    "## MODEL EVALUATE"
   ]
  },
  {
   "cell_type": "code",
   "execution_count": 59,
   "metadata": {},
   "outputs": [
    {
     "name": "stdout",
     "output_type": "stream",
     "text": [
      "\n",
      "val_accuracy sequential API: 78.72%\n",
      "\n",
      "val_accuracy functional API: 77.93%\n"
     ]
    }
   ],
   "source": [
    "# accuracy untuk sequential API dan functional API\n",
    "print(\"\\n%s: %.2f%%\" % ('val_accuracy sequential API', val_accuracy*100))\n",
    "print(\"\\n%s: %.2f%%\" % ('val_accuracy functional API', val_accuracy_2*100))"
   ]
  },
  {
   "cell_type": "markdown",
   "metadata": {},
   "source": [
    "Berdasarkan accuracy kedua model diatas, dengan sequential API, nilai accuracy scorenya lebih tinggi daripada functional API. Berdasarkan grafik yang dihasilkan, kita dapat melihat bahwa pada model sequential mempresentasikan hasil yang baik karena train loss dan val loss garisnya saling berhimpitan yang artinya kedua hasil ini tidak jauh berbeda atau tidak terindikasi adanya overfitting ataupun underfitting. Sebaliknya pada model functional, kita dapat melihat pada grafik bahwa pada train loss nilainya lebih tinggi dan mengindikasikan adanya underfitting pada model tersebut."
   ]
  },
  {
   "cell_type": "markdown",
   "metadata": {},
   "source": [
    "### Data prediction"
   ]
  },
  {
   "cell_type": "code",
   "execution_count": 60,
   "metadata": {},
   "outputs": [
    {
     "data": {
      "text/plain": [
       "array([[False],\n",
       "       [False],\n",
       "       [False],\n",
       "       ...,\n",
       "       [False],\n",
       "       [False],\n",
       "       [False]])"
      ]
     },
     "execution_count": 60,
     "metadata": {},
     "output_type": "execute_result"
    }
   ],
   "source": [
    "y_pred = model.predict(X_test_final)\n",
    "y_pred = (y_pred > 0.5)\n",
    "y_pred"
   ]
  },
  {
   "cell_type": "code",
   "execution_count": 61,
   "metadata": {},
   "outputs": [],
   "source": [
    "# konversi data kedalam dataframe\n",
    "\n",
    "y_pred_df = pd.DataFrame(y_pred, columns = ['Churn Prediction'])"
   ]
  },
  {
   "cell_type": "code",
   "execution_count": 62,
   "metadata": {},
   "outputs": [],
   "source": [
    "# membuat confusion matrix\n",
    "cm = confusion_matrix(y_test, y_pred)"
   ]
  },
  {
   "cell_type": "code",
   "execution_count": 63,
   "metadata": {},
   "outputs": [
    {
     "data": {
      "text/plain": [
       "<AxesSubplot:>"
      ]
     },
     "execution_count": 63,
     "metadata": {},
     "output_type": "execute_result"
    },
    {
     "data": {
      "image/png": "[encoded data removed]",
      "text/plain": [
       "<Figure size 1440x720 with 2 Axes>"
      ]
     },
     "metadata": {},
     "output_type": "display_data"
    }
   ],
   "source": [
    "sns.heatmap(cm, annot=True,fmt=\".1f\")"
   ]
  },
  {
   "cell_type": "code",
   "execution_count": 64,
   "metadata": {},
   "outputs": [
    {
     "name": "stdout",
     "output_type": "stream",
     "text": [
      "              precision    recall  f1-score   support\n",
      "\n",
      "           0       0.82      0.93      0.87       825\n",
      "           1       0.69      0.44      0.54       300\n",
      "\n",
      "    accuracy                           0.80      1125\n",
      "   macro avg       0.75      0.68      0.70      1125\n",
      "weighted avg       0.78      0.80      0.78      1125\n",
      "\n"
     ]
    }
   ],
   "source": [
    "print(classification_report(y_test, y_pred))"
   ]
  },
  {
   "cell_type": "markdown",
   "metadata": {},
   "source": [
    "Berdasarkan confusion matrix kita dapat mengetahui bahwa pada test data, terdapat 137 data yang merupakan FN dan 115 data yg FP. Kemudian dari hasil classification report, dapat diketahui bahwa accuracy dari pemodelan ini adalah 0.78. Kemudian Untuk precision dari model untuk 0 adalah 0.84 dan untuk 1 adalah 0.58 yang menandakan ketepatan TP didalam TP + FP. Kemudian untuk recall yang didapat sebesar 0.86 dan 0.53. recall ini menunjukkan seberapa ketepattan TP didalam TP + FN. Pada banyaknya data yg 1 dan 0 dapat dilihat tidak imbalance jumlahnya sehingga hasilnya kurang maksimal. Maka dari itu kemungkinan hasil bisa lebih baik jika data dapat dibalance dahulu\n",
    "\n",
    "Dari dataset yang digunakan, kondisi yang paling bahaya ialah kasus FN karena saat pelanggan yang terprediksi 0 ingin dibiarkan maka industri akan kehilangan pelanggan yang seharusnya bisa tetap menggunakan layanan industri tersebut. "
   ]
  },
  {
   "cell_type": "markdown",
   "metadata": {},
   "source": [
    "## MODEL INFERENCE"
   ]
  },
  {
   "cell_type": "code",
   "execution_count": 65,
   "metadata": {},
   "outputs": [],
   "source": [
    "# copy data untuk menghindari data hilang\n",
    "datacopy_2 = datacopy.copy()"
   ]
  },
  {
   "cell_type": "code",
   "execution_count": 66,
   "metadata": {},
   "outputs": [],
   "source": [
    "# membuat data inference\n",
    "data_inf =datacopy_2.sample(10, random_state=28)"
   ]
  },
  {
   "cell_type": "code",
   "execution_count": 67,
   "metadata": {},
   "outputs": [],
   "source": [
    "# reset index\n",
    "data_inf.reset_index(drop=True, inplace = True)"
   ]
  },
  {
   "cell_type": "code",
   "execution_count": 68,
   "metadata": {},
   "outputs": [
    {
     "data": {
      "text/html": [
       "<div>\n",
       "<style scoped>\n",
       "    .dataframe tbody tr th:only-of-type {\n",
       "        vertical-align: middle;\n",
       "    }\n",
       "\n",
       "    .dataframe tbody tr th {\n",
       "        vertical-align: top;\n",
       "    }\n",
       "\n",
       "    .dataframe thead th {\n",
       "        text-align: right;\n",
       "    }\n",
       "</style>\n",
       "<table border=\"1\" class=\"dataframe\">\n",
       "  <thead>\n",
       "    <tr style=\"text-align: right;\">\n",
       "      <th></th>\n",
       "      <th>Partner</th>\n",
       "      <th>Dependents</th>\n",
       "      <th>tenure</th>\n",
       "      <th>PhoneService</th>\n",
       "      <th>MultipleLines</th>\n",
       "      <th>InternetService</th>\n",
       "      <th>OnlineSecurity</th>\n",
       "      <th>OnlineBackup</th>\n",
       "      <th>DeviceProtection</th>\n",
       "      <th>TechSupport</th>\n",
       "      <th>StreamingTV</th>\n",
       "      <th>StreamingMovies</th>\n",
       "      <th>Contract</th>\n",
       "      <th>PaperlessBilling</th>\n",
       "      <th>PaymentMethod</th>\n",
       "      <th>MonthlyCharges</th>\n",
       "      <th>TotalCharges</th>\n",
       "      <th>Churn</th>\n",
       "    </tr>\n",
       "  </thead>\n",
       "  <tbody>\n",
       "    <tr>\n",
       "      <th>0</th>\n",
       "      <td>No</td>\n",
       "      <td>No</td>\n",
       "      <td>54</td>\n",
       "      <td>Yes</td>\n",
       "      <td>Yes</td>\n",
       "      <td>Fiber optic</td>\n",
       "      <td>No</td>\n",
       "      <td>Yes</td>\n",
       "      <td>No</td>\n",
       "      <td>No</td>\n",
       "      <td>No</td>\n",
       "      <td>No</td>\n",
       "      <td>Month-to-month</td>\n",
       "      <td>Yes</td>\n",
       "      <td>Bank transfer (automatic)</td>\n",
       "      <td>79.85</td>\n",
       "      <td>4308.25</td>\n",
       "      <td>0</td>\n",
       "    </tr>\n",
       "    <tr>\n",
       "      <th>1</th>\n",
       "      <td>No</td>\n",
       "      <td>Yes</td>\n",
       "      <td>11</td>\n",
       "      <td>Yes</td>\n",
       "      <td>No</td>\n",
       "      <td>No</td>\n",
       "      <td>No internet service</td>\n",
       "      <td>No internet service</td>\n",
       "      <td>No internet service</td>\n",
       "      <td>No internet service</td>\n",
       "      <td>No internet service</td>\n",
       "      <td>No internet service</td>\n",
       "      <td>Month-to-month</td>\n",
       "      <td>No</td>\n",
       "      <td>Credit card (automatic)</td>\n",
       "      <td>19.70</td>\n",
       "      <td>216.20</td>\n",
       "      <td>0</td>\n",
       "    </tr>\n",
       "    <tr>\n",
       "      <th>2</th>\n",
       "      <td>No</td>\n",
       "      <td>No</td>\n",
       "      <td>9</td>\n",
       "      <td>No</td>\n",
       "      <td>No phone service</td>\n",
       "      <td>DSL</td>\n",
       "      <td>No</td>\n",
       "      <td>No</td>\n",
       "      <td>No</td>\n",
       "      <td>No</td>\n",
       "      <td>No</td>\n",
       "      <td>No</td>\n",
       "      <td>Month-to-month</td>\n",
       "      <td>Yes</td>\n",
       "      <td>Mailed check</td>\n",
       "      <td>24.60</td>\n",
       "      <td>190.10</td>\n",
       "      <td>0</td>\n",
       "    </tr>\n",
       "    <tr>\n",
       "      <th>3</th>\n",
       "      <td>No</td>\n",
       "      <td>No</td>\n",
       "      <td>12</td>\n",
       "      <td>Yes</td>\n",
       "      <td>No</td>\n",
       "      <td>No</td>\n",
       "      <td>No internet service</td>\n",
       "      <td>No internet service</td>\n",
       "      <td>No internet service</td>\n",
       "      <td>No internet service</td>\n",
       "      <td>No internet service</td>\n",
       "      <td>No internet service</td>\n",
       "      <td>One year</td>\n",
       "      <td>No</td>\n",
       "      <td>Mailed check</td>\n",
       "      <td>19.30</td>\n",
       "      <td>228.75</td>\n",
       "      <td>0</td>\n",
       "    </tr>\n",
       "    <tr>\n",
       "      <th>4</th>\n",
       "      <td>Yes</td>\n",
       "      <td>No</td>\n",
       "      <td>16</td>\n",
       "      <td>No</td>\n",
       "      <td>No phone service</td>\n",
       "      <td>DSL</td>\n",
       "      <td>No</td>\n",
       "      <td>No</td>\n",
       "      <td>No</td>\n",
       "      <td>Yes</td>\n",
       "      <td>Yes</td>\n",
       "      <td>Yes</td>\n",
       "      <td>Month-to-month</td>\n",
       "      <td>Yes</td>\n",
       "      <td>Electronic check</td>\n",
       "      <td>49.95</td>\n",
       "      <td>810.20</td>\n",
       "      <td>1</td>\n",
       "    </tr>\n",
       "    <tr>\n",
       "      <th>5</th>\n",
       "      <td>No</td>\n",
       "      <td>No</td>\n",
       "      <td>38</td>\n",
       "      <td>Yes</td>\n",
       "      <td>Yes</td>\n",
       "      <td>DSL</td>\n",
       "      <td>No</td>\n",
       "      <td>Yes</td>\n",
       "      <td>No</td>\n",
       "      <td>Yes</td>\n",
       "      <td>No</td>\n",
       "      <td>Yes</td>\n",
       "      <td>Month-to-month</td>\n",
       "      <td>No</td>\n",
       "      <td>Credit card (automatic)</td>\n",
       "      <td>68.15</td>\n",
       "      <td>2656.30</td>\n",
       "      <td>0</td>\n",
       "    </tr>\n",
       "    <tr>\n",
       "      <th>6</th>\n",
       "      <td>No</td>\n",
       "      <td>No</td>\n",
       "      <td>72</td>\n",
       "      <td>Yes</td>\n",
       "      <td>Yes</td>\n",
       "      <td>Fiber optic</td>\n",
       "      <td>Yes</td>\n",
       "      <td>Yes</td>\n",
       "      <td>Yes</td>\n",
       "      <td>Yes</td>\n",
       "      <td>Yes</td>\n",
       "      <td>Yes</td>\n",
       "      <td>Two year</td>\n",
       "      <td>No</td>\n",
       "      <td>Bank transfer (automatic)</td>\n",
       "      <td>113.40</td>\n",
       "      <td>8164.10</td>\n",
       "      <td>0</td>\n",
       "    </tr>\n",
       "    <tr>\n",
       "      <th>7</th>\n",
       "      <td>No</td>\n",
       "      <td>No</td>\n",
       "      <td>24</td>\n",
       "      <td>Yes</td>\n",
       "      <td>No</td>\n",
       "      <td>DSL</td>\n",
       "      <td>Yes</td>\n",
       "      <td>No</td>\n",
       "      <td>No</td>\n",
       "      <td>No</td>\n",
       "      <td>No</td>\n",
       "      <td>No</td>\n",
       "      <td>Month-to-month</td>\n",
       "      <td>Yes</td>\n",
       "      <td>Bank transfer (automatic)</td>\n",
       "      <td>49.55</td>\n",
       "      <td>1210.40</td>\n",
       "      <td>1</td>\n",
       "    </tr>\n",
       "    <tr>\n",
       "      <th>8</th>\n",
       "      <td>No</td>\n",
       "      <td>No</td>\n",
       "      <td>43</td>\n",
       "      <td>Yes</td>\n",
       "      <td>Yes</td>\n",
       "      <td>No</td>\n",
       "      <td>No internet service</td>\n",
       "      <td>No internet service</td>\n",
       "      <td>No internet service</td>\n",
       "      <td>No internet service</td>\n",
       "      <td>No internet service</td>\n",
       "      <td>No internet service</td>\n",
       "      <td>Two year</td>\n",
       "      <td>No</td>\n",
       "      <td>Bank transfer (automatic)</td>\n",
       "      <td>26.45</td>\n",
       "      <td>1110.05</td>\n",
       "      <td>0</td>\n",
       "    </tr>\n",
       "    <tr>\n",
       "      <th>9</th>\n",
       "      <td>Yes</td>\n",
       "      <td>No</td>\n",
       "      <td>40</td>\n",
       "      <td>Yes</td>\n",
       "      <td>No</td>\n",
       "      <td>Fiber optic</td>\n",
       "      <td>No</td>\n",
       "      <td>Yes</td>\n",
       "      <td>No</td>\n",
       "      <td>Yes</td>\n",
       "      <td>Yes</td>\n",
       "      <td>Yes</td>\n",
       "      <td>One year</td>\n",
       "      <td>Yes</td>\n",
       "      <td>Credit card (automatic)</td>\n",
       "      <td>99.20</td>\n",
       "      <td>4062.20</td>\n",
       "      <td>1</td>\n",
       "    </tr>\n",
       "  </tbody>\n",
       "</table>\n",
       "</div>"
      ],
      "text/plain": [
       "  Partner Dependents  tenure PhoneService     MultipleLines InternetService  \\\n",
       "0      No         No      54          Yes               Yes     Fiber optic   \n",
       "1      No        Yes      11          Yes                No              No   \n",
       "2      No         No       9           No  No phone service             DSL   \n",
       "3      No         No      12          Yes                No              No   \n",
       "4     Yes         No      16           No  No phone service             DSL   \n",
       "5      No         No      38          Yes               Yes             DSL   \n",
       "6      No         No      72          Yes               Yes     Fiber optic   \n",
       "7      No         No      24          Yes                No             DSL   \n",
       "8      No         No      43          Yes               Yes              No   \n",
       "9     Yes         No      40          Yes                No     Fiber optic   \n",
       "\n",
       "        OnlineSecurity         OnlineBackup     DeviceProtection  \\\n",
       "0                   No                  Yes                   No   \n",
       "1  No internet service  No internet service  No internet service   \n",
       "2                   No                   No                   No   \n",
       "3  No internet service  No internet service  No internet service   \n",
       "4                   No                   No                   No   \n",
       "5                   No                  Yes                   No   \n",
       "6                  Yes                  Yes                  Yes   \n",
       "7                  Yes                   No                   No   \n",
       "8  No internet service  No internet service  No internet service   \n",
       "9                   No                  Yes                   No   \n",
       "\n",
       "           TechSupport          StreamingTV      StreamingMovies  \\\n",
       "0                   No                   No                   No   \n",
       "1  No internet service  No internet service  No internet service   \n",
       "2                   No                   No                   No   \n",
       "3  No internet service  No internet service  No internet service   \n",
       "4                  Yes                  Yes                  Yes   \n",
       "5                  Yes                   No                  Yes   \n",
       "6                  Yes                  Yes                  Yes   \n",
       "7                   No                   No                   No   \n",
       "8  No internet service  No internet service  No internet service   \n",
       "9                  Yes                  Yes                  Yes   \n",
       "\n",
       "         Contract PaperlessBilling              PaymentMethod  MonthlyCharges  \\\n",
       "0  Month-to-month              Yes  Bank transfer (automatic)           79.85   \n",
       "1  Month-to-month               No    Credit card (automatic)           19.70   \n",
       "2  Month-to-month              Yes               Mailed check           24.60   \n",
       "3        One year               No               Mailed check           19.30   \n",
       "4  Month-to-month              Yes           Electronic check           49.95   \n",
       "5  Month-to-month               No    Credit card (automatic)           68.15   \n",
       "6        Two year               No  Bank transfer (automatic)          113.40   \n",
       "7  Month-to-month              Yes  Bank transfer (automatic)           49.55   \n",
       "8        Two year               No  Bank transfer (automatic)           26.45   \n",
       "9        One year              Yes    Credit card (automatic)           99.20   \n",
       "\n",
       "   TotalCharges Churn  \n",
       "0       4308.25     0  \n",
       "1        216.20     0  \n",
       "2        190.10     0  \n",
       "3        228.75     0  \n",
       "4        810.20     1  \n",
       "5       2656.30     0  \n",
       "6       8164.10     0  \n",
       "7       1210.40     1  \n",
       "8       1110.05     0  \n",
       "9       4062.20     1  "
      ]
     },
     "execution_count": 68,
     "metadata": {},
     "output_type": "execute_result"
    }
   ],
   "source": [
    "# cek data\n",
    "data_inf"
   ]
  },
  {
   "cell_type": "code",
   "execution_count": 69,
   "metadata": {},
   "outputs": [],
   "source": [
    "# split data\n",
    "\n",
    "data_inf_num = data_inf[num_columns]\n",
    "data_inf_cat = data_inf[cat_columns]"
   ]
  },
  {
   "cell_type": "code",
   "execution_count": 70,
   "metadata": {},
   "outputs": [],
   "source": [
    "# feature scaling \n",
    "scaler = StandardScaler()\n",
    "\n",
    "# lakukan fit untuk data\n",
    "scaler.fit(X_train_num)\n",
    "\n",
    "# lakukan transform scaling untuk tiap data\n",
    "data_inf_scaled = scaler.transform(data_inf_num)"
   ]
  },
  {
   "cell_type": "code",
   "execution_count": 71,
   "metadata": {},
   "outputs": [],
   "source": [
    "# feature encoding\n",
    "\n",
    "encoder = OneHotEncoder()\n",
    "\n",
    "# lakukan fit encoding untuk tiap data\n",
    "encoder.fit(X_train_cat)\n",
    "\n",
    "# lakukan transform encoding untuk tiap data\n",
    "data_inf_encoded = encoder.transform(data_inf_cat).toarray()"
   ]
  },
  {
   "cell_type": "code",
   "execution_count": 72,
   "metadata": {},
   "outputs": [],
   "source": [
    "# concate the data\n",
    "\n",
    "data_inf_final = np.concatenate([data_inf_scaled, data_inf_encoded], axis = 1)"
   ]
  },
  {
   "cell_type": "code",
   "execution_count": 73,
   "metadata": {},
   "outputs": [
    {
     "data": {
      "text/plain": [
       "(10, 42)"
      ]
     },
     "execution_count": 73,
     "metadata": {},
     "output_type": "execute_result"
    }
   ],
   "source": [
    "data_inf_final.shape"
   ]
  },
  {
   "cell_type": "code",
   "execution_count": 74,
   "metadata": {},
   "outputs": [],
   "source": [
    "# predict data inference\n",
    "\n",
    "y_pred_inf = model.predict(data_inf_final)\n",
    "y_pred_inf = (y_pred_inf > 0.5)"
   ]
  },
  {
   "cell_type": "code",
   "execution_count": 75,
   "metadata": {},
   "outputs": [],
   "source": [
    "# konversi data kedalam dataframe\n",
    "\n",
    "y_pred_inf_df = pd.DataFrame(y_pred_inf, columns = ['Churn Prediction'])\n"
   ]
  },
  {
   "cell_type": "code",
   "execution_count": 76,
   "metadata": {},
   "outputs": [
    {
     "data": {
      "text/html": [
       "<div>\n",
       "<style scoped>\n",
       "    .dataframe tbody tr th:only-of-type {\n",
       "        vertical-align: middle;\n",
       "    }\n",
       "\n",
       "    .dataframe tbody tr th {\n",
       "        vertical-align: top;\n",
       "    }\n",
       "\n",
       "    .dataframe thead th {\n",
       "        text-align: right;\n",
       "    }\n",
       "</style>\n",
       "<table border=\"1\" class=\"dataframe\">\n",
       "  <thead>\n",
       "    <tr style=\"text-align: right;\">\n",
       "      <th></th>\n",
       "      <th>Churn</th>\n",
       "      <th>Churn Prediction</th>\n",
       "    </tr>\n",
       "  </thead>\n",
       "  <tbody>\n",
       "    <tr>\n",
       "      <th>0</th>\n",
       "      <td>0</td>\n",
       "      <td>False</td>\n",
       "    </tr>\n",
       "    <tr>\n",
       "      <th>1</th>\n",
       "      <td>0</td>\n",
       "      <td>False</td>\n",
       "    </tr>\n",
       "    <tr>\n",
       "      <th>2</th>\n",
       "      <td>0</td>\n",
       "      <td>False</td>\n",
       "    </tr>\n",
       "    <tr>\n",
       "      <th>3</th>\n",
       "      <td>0</td>\n",
       "      <td>False</td>\n",
       "    </tr>\n",
       "    <tr>\n",
       "      <th>4</th>\n",
       "      <td>1</td>\n",
       "      <td>False</td>\n",
       "    </tr>\n",
       "    <tr>\n",
       "      <th>5</th>\n",
       "      <td>0</td>\n",
       "      <td>False</td>\n",
       "    </tr>\n",
       "    <tr>\n",
       "      <th>6</th>\n",
       "      <td>0</td>\n",
       "      <td>False</td>\n",
       "    </tr>\n",
       "    <tr>\n",
       "      <th>7</th>\n",
       "      <td>1</td>\n",
       "      <td>False</td>\n",
       "    </tr>\n",
       "    <tr>\n",
       "      <th>8</th>\n",
       "      <td>0</td>\n",
       "      <td>False</td>\n",
       "    </tr>\n",
       "    <tr>\n",
       "      <th>9</th>\n",
       "      <td>1</td>\n",
       "      <td>False</td>\n",
       "    </tr>\n",
       "  </tbody>\n",
       "</table>\n",
       "</div>"
      ],
      "text/plain": [
       "  Churn  Churn Prediction\n",
       "0     0             False\n",
       "1     0             False\n",
       "2     0             False\n",
       "3     0             False\n",
       "4     1             False\n",
       "5     0             False\n",
       "6     0             False\n",
       "7     1             False\n",
       "8     0             False\n",
       "9     1             False"
      ]
     },
     "execution_count": 76,
     "metadata": {},
     "output_type": "execute_result"
    }
   ],
   "source": [
    "# concat data sebelumnya dengaan data aslinya\n",
    "pd.concat([data_inf['Churn'],y_pred_inf_df], axis = 1)"
   ]
  },
  {
   "cell_type": "markdown",
   "metadata": {},
   "source": [
    "## MAKE PIPELINE"
   ]
  },
  {
   "cell_type": "code",
   "execution_count": 77,
   "metadata": {},
   "outputs": [],
   "source": [
    "numeric_pipe = Pipeline(steps=[('scaler', StandardScaler())])\n",
    "categorical_pipe = Pipeline(steps=[('encoder', OneHotEncoder())])"
   ]
  },
  {
   "cell_type": "code",
   "execution_count": 78,
   "metadata": {},
   "outputs": [],
   "source": [
    "numeric_features = num_columns\n",
    "categorical_features = cat_columns\n",
    "\n",
    "\n",
    "preprocessor = ColumnTransformer(\n",
    "   transformers=[\n",
    "    ('numeric', numeric_pipe, numeric_features),\n",
    "    ('categorical', categorical_pipe, categorical_features)\n",
    "]) "
   ]
  },
  {
   "cell_type": "code",
   "execution_count": 80,
   "metadata": {},
   "outputs": [],
   "source": [
    "AUTOTUNE = tf.data.experimental.AUTOTUNE"
   ]
  },
  {
   "cell_type": "code",
   "execution_count": null,
   "metadata": {},
   "outputs": [],
   "source": [
    "# trial\n",
    "\n",
    "# train_dataset = tf.data.Dataset.from_tensor_slices((X_train, y_train))\n",
    "# train_dataset = train_dataset.map(preprocessor)\n",
    "# train_dataset = train_dataset.shuffle(buffer_size=1024).batch(64)\n",
    "\n",
    "\n",
    "# test_dataset = tf.data.Dataset.from_tensor_slices((X_test, y_test))\n",
    "# test_dataset = test_dataset.map(preprocessor)\n",
    "# test_dataset = test_dataset.shuffle(buffer_size=1024).batch(64)\n",
    "\n",
    "\n",
    "# model_data = model\n",
    "\n",
    "# model_data.fit(train_dataset, epochs=50)"
   ]
  },
  {
   "cell_type": "code",
   "execution_count": 84,
   "metadata": {},
   "outputs": [
    {
     "data": {
      "text/plain": [
       "(4500, 42)"
      ]
     },
     "execution_count": 84,
     "metadata": {},
     "output_type": "execute_result"
    }
   ],
   "source": [
    "X_train_final.shape"
   ]
  },
  {
   "cell_type": "code",
   "execution_count": 81,
   "metadata": {},
   "outputs": [
    {
     "name": "stdout",
     "output_type": "stream",
     "text": [
      "Epoch 1/50\n",
      "71/71 [==============================] - 1s 8ms/step - loss: 0.4083 - acc: 0.7902 - val_loss: 0.6311 - val_acc: 0.7704\n",
      "Epoch 2/50\n",
      "71/71 [==============================] - 0s 6ms/step - loss: 0.4064 - acc: 0.7887 - val_loss: 0.6159 - val_acc: 0.7967\n",
      "Epoch 3/50\n",
      "71/71 [==============================] - 0s 5ms/step - loss: 0.4145 - acc: 0.7947 - val_loss: 0.6240 - val_acc: 0.7925\n",
      "Epoch 4/50\n",
      "71/71 [==============================] - 0s 6ms/step - loss: 0.4088 - acc: 0.7944 - val_loss: 0.5339 - val_acc: 0.7896\n",
      "Epoch 5/50\n",
      "71/71 [==============================] - 0s 5ms/step - loss: 0.4058 - acc: 0.7951 - val_loss: 0.8779 - val_acc: 0.7918\n",
      "Epoch 6/50\n",
      "71/71 [==============================] - 0s 4ms/step - loss: 0.4007 - acc: 0.7984 - val_loss: 0.5324 - val_acc: 0.7903\n",
      "Epoch 7/50\n",
      "71/71 [==============================] - 0s 4ms/step - loss: 0.4063 - acc: 0.7938 - val_loss: 0.6032 - val_acc: 0.7918\n",
      "Epoch 8/50\n",
      "71/71 [==============================] - 0s 4ms/step - loss: 0.4016 - acc: 0.8007 - val_loss: 0.4953 - val_acc: 0.7889\n",
      "Epoch 9/50\n",
      "71/71 [==============================] - 0s 4ms/step - loss: 0.3997 - acc: 0.8007 - val_loss: 0.5604 - val_acc: 0.7925\n",
      "Epoch 10/50\n",
      "71/71 [==============================] - 0s 4ms/step - loss: 0.3968 - acc: 0.7987 - val_loss: 0.6811 - val_acc: 0.7932\n",
      "Epoch 11/50\n",
      "71/71 [==============================] - 0s 4ms/step - loss: 0.4020 - acc: 0.8051 - val_loss: 0.7392 - val_acc: 0.7868\n",
      "Epoch 12/50\n",
      "71/71 [==============================] - 0s 5ms/step - loss: 0.3986 - acc: 0.7969 - val_loss: 0.5736 - val_acc: 0.7889\n",
      "Epoch 13/50\n",
      "71/71 [==============================] - 0s 4ms/step - loss: 0.3995 - acc: 0.7956 - val_loss: 0.7023 - val_acc: 0.7918\n",
      "Epoch 14/50\n",
      "71/71 [==============================] - 0s 4ms/step - loss: 0.4012 - acc: 0.7949 - val_loss: 0.6704 - val_acc: 0.7946\n",
      "Epoch 15/50\n",
      "71/71 [==============================] - 0s 5ms/step - loss: 0.3964 - acc: 0.7967 - val_loss: 0.6695 - val_acc: 0.7932\n",
      "Epoch 16/50\n",
      "71/71 [==============================] - 0s 4ms/step - loss: 0.4002 - acc: 0.8038 - val_loss: 0.5165 - val_acc: 0.7889\n",
      "Epoch 17/50\n",
      "71/71 [==============================] - 0s 3ms/step - loss: 0.3987 - acc: 0.8007 - val_loss: 0.5911 - val_acc: 0.7839\n",
      "Epoch 18/50\n",
      "71/71 [==============================] - 0s 4ms/step - loss: 0.3909 - acc: 0.7996 - val_loss: 0.6331 - val_acc: 0.7861\n",
      "Epoch 19/50\n",
      "71/71 [==============================] - 0s 5ms/step - loss: 0.3921 - acc: 0.7933 - val_loss: 0.6499 - val_acc: 0.7854\n",
      "Epoch 20/50\n",
      "71/71 [==============================] - 0s 5ms/step - loss: 0.3959 - acc: 0.8033 - val_loss: 0.7072 - val_acc: 0.7903\n",
      "Epoch 21/50\n",
      "71/71 [==============================] - 0s 6ms/step - loss: 0.4001 - acc: 0.7942 - val_loss: 0.7580 - val_acc: 0.7889\n",
      "Epoch 22/50\n",
      "71/71 [==============================] - 0s 6ms/step - loss: 0.4005 - acc: 0.7900 - val_loss: 0.6335 - val_acc: 0.7790\n",
      "Epoch 23/50\n",
      "71/71 [==============================] - 0s 5ms/step - loss: 0.3957 - acc: 0.7836 - val_loss: 0.5510 - val_acc: 0.7846\n",
      "Epoch 24/50\n",
      "71/71 [==============================] - 0s 6ms/step - loss: 0.3923 - acc: 0.7996 - val_loss: 0.6527 - val_acc: 0.7889\n",
      "Epoch 25/50\n",
      "71/71 [==============================] - 0s 4ms/step - loss: 0.3888 - acc: 0.7971 - val_loss: 0.8672 - val_acc: 0.7861\n",
      "Epoch 26/50\n",
      "71/71 [==============================] - 0s 5ms/step - loss: 0.3925 - acc: 0.7982 - val_loss: 0.9112 - val_acc: 0.7925\n",
      "Epoch 27/50\n",
      "71/71 [==============================] - 0s 4ms/step - loss: 0.4013 - acc: 0.8011 - val_loss: 1.1125 - val_acc: 0.7896\n",
      "Epoch 28/50\n",
      "71/71 [==============================] - 0s 5ms/step - loss: 0.4083 - acc: 0.8024 - val_loss: 0.6659 - val_acc: 0.7846\n",
      "Epoch 29/50\n",
      "71/71 [==============================] - 0s 5ms/step - loss: 0.3981 - acc: 0.8007 - val_loss: 0.7273 - val_acc: 0.7832\n",
      "Epoch 30/50\n",
      "71/71 [==============================] - 0s 4ms/step - loss: 0.3915 - acc: 0.8036 - val_loss: 0.7226 - val_acc: 0.7846\n",
      "Epoch 31/50\n",
      "71/71 [==============================] - 0s 4ms/step - loss: 0.3931 - acc: 0.8022 - val_loss: 0.6737 - val_acc: 0.7825\n",
      "Epoch 32/50\n",
      "71/71 [==============================] - 0s 4ms/step - loss: 0.3900 - acc: 0.8064 - val_loss: 0.7386 - val_acc: 0.7882\n",
      "Epoch 33/50\n",
      "71/71 [==============================] - 0s 4ms/step - loss: 0.3968 - acc: 0.8002 - val_loss: 0.6588 - val_acc: 0.7925\n",
      "Epoch 34/50\n",
      "71/71 [==============================] - 0s 4ms/step - loss: 0.3890 - acc: 0.8040 - val_loss: 0.6357 - val_acc: 0.7882\n",
      "Epoch 35/50\n",
      "71/71 [==============================] - 0s 4ms/step - loss: 0.3898 - acc: 0.8022 - val_loss: 0.7544 - val_acc: 0.7903\n",
      "Epoch 36/50\n",
      "71/71 [==============================] - 0s 4ms/step - loss: 0.3847 - acc: 0.8029 - val_loss: 0.6905 - val_acc: 0.7896\n",
      "Epoch 37/50\n",
      "71/71 [==============================] - 0s 3ms/step - loss: 0.3935 - acc: 0.7996 - val_loss: 0.5520 - val_acc: 0.7846\n",
      "Epoch 38/50\n",
      "71/71 [==============================] - 0s 4ms/step - loss: 0.3909 - acc: 0.7996 - val_loss: 0.8252 - val_acc: 0.7882\n",
      "Epoch 39/50\n",
      "71/71 [==============================] - 0s 3ms/step - loss: 0.3885 - acc: 0.8080 - val_loss: 0.6092 - val_acc: 0.7846\n",
      "Epoch 40/50\n",
      "71/71 [==============================] - 0s 3ms/step - loss: 0.3872 - acc: 0.8004 - val_loss: 0.5633 - val_acc: 0.7804\n",
      "Epoch 41/50\n",
      "71/71 [==============================] - 0s 3ms/step - loss: 0.3873 - acc: 0.8056 - val_loss: 0.9000 - val_acc: 0.7846\n",
      "Epoch 42/50\n",
      "71/71 [==============================] - 0s 3ms/step - loss: 0.3867 - acc: 0.8027 - val_loss: 0.6645 - val_acc: 0.7868\n",
      "Epoch 43/50\n",
      "71/71 [==============================] - 0s 4ms/step - loss: 0.3848 - acc: 0.8036 - val_loss: 0.6162 - val_acc: 0.7825\n",
      "Epoch 44/50\n",
      "71/71 [==============================] - 0s 3ms/step - loss: 0.3893 - acc: 0.8022 - val_loss: 0.6144 - val_acc: 0.7825\n",
      "Epoch 45/50\n",
      "71/71 [==============================] - 0s 4ms/step - loss: 0.3880 - acc: 0.7996 - val_loss: 0.7343 - val_acc: 0.7854\n",
      "Epoch 46/50\n",
      "71/71 [==============================] - 0s 3ms/step - loss: 0.3900 - acc: 0.7927 - val_loss: 0.6242 - val_acc: 0.7896\n",
      "Epoch 47/50\n",
      "71/71 [==============================] - 0s 3ms/step - loss: 0.3885 - acc: 0.8002 - val_loss: 0.6382 - val_acc: 0.7846\n",
      "Epoch 48/50\n",
      "71/71 [==============================] - 0s 4ms/step - loss: 0.3955 - acc: 0.8009 - val_loss: 0.6876 - val_acc: 0.7910\n",
      "Epoch 49/50\n",
      "71/71 [==============================] - 0s 4ms/step - loss: 0.3898 - acc: 0.8016 - val_loss: 0.7212 - val_acc: 0.7918\n",
      "Epoch 50/50\n",
      "71/71 [==============================] - 0s 4ms/step - loss: 0.3854 - acc: 0.8038 - val_loss: 0.8393 - val_acc: 0.7896\n"
     ]
    },
    {
     "data": {
      "text/plain": [
       "<tensorflow.python.keras.callbacks.History at 0x2aa1eeb7190>"
      ]
     },
     "execution_count": 81,
     "metadata": {},
     "output_type": "execute_result"
    }
   ],
   "source": [
    "train_dataset = tf.data.Dataset.from_tensor_slices((X_train_final, y_train))\n",
    "train_dataset = train_dataset.shuffle(buffer_size=1024).batch(64).prefetch(AUTOTUNE)\n",
    "\n",
    "\n",
    "test_dataset = tf.data.Dataset.from_tensor_slices((X_test_final, y_test))\n",
    "test_dataset = test_dataset.shuffle(buffer_size=1024).batch(64).prefetch(AUTOTUNE)\n",
    "\n",
    "val_dataset = tf.data.Dataset.from_tensor_slices((X_val_final, y_val))\n",
    "val_dataset = val_dataset.shuffle(buffer_size=1024).batch(64).prefetch(AUTOTUNE)\n",
    "\n",
    "model_data = model\n",
    "\n",
    "model_data.fit(train_dataset, epochs=50, validation_data=val_dataset)"
   ]
  },
  {
   "cell_type": "code",
   "execution_count": null,
   "metadata": {},
   "outputs": [
    {
     "name": "stdout",
     "output_type": "stream",
     "text": [
      "Number of Batch - Train :  71\n",
      "Number of Batch - Test  :  18\n"
     ]
    }
   ],
   "source": [
    "# Cek jumlah batch\n",
    "\n",
    "print('Number of Batch - Train : ', tf.data.experimental.cardinality(train_dataset).numpy())\n",
    "print('Number of Batch - Test  : ', tf.data.experimental.cardinality(test_dataset).numpy())"
   ]
  },
  {
   "cell_type": "markdown",
   "metadata": {},
   "source": [
    "## KESIMPULAN"
   ]
  },
  {
   "cell_type": "markdown",
   "metadata": {},
   "source": [
    "Berdasarkan hasil EDA kita dapat mengetahui bahwa banyak customer pada tenor awal yang memutuskan untuk tidaak menggunakan layanan ini lagi karena mungkin layanan ini kurang menarik. kemudian masih banyak pelanggan yang tidak memanfaatkan layanan yang ada. Kemungkinan banyak pelanggan kebanyakan hanya memanfaatkan layanan telpon saaja sehingga mereka tidak butuh layanan lainnya seperti streaming, protection, dan lainnya. Hal ini bisa kita lihat bahwa pengguna layanan telpon sangat banyak dan mendominasi jumlahnya sedangkan pelanggan yang tidak memanfaatkan layanan telfon ini kemungkinan hanya membutuhkan layanan diluar telfon seperti streaming dan internet. \n",
    "    gender  yang menjadi partner maupun tidak hampir sama namun pelanggan wanita lebih tinggi nilainya walaupun tidak jauh berbeda nilainya sehingga gender ini tidak bisa dikatakan berpengaruh terhadap pelanggan partner.Kemudian untuk dependents nilainya hampir sama antara wanita dan pria sehingga gender ini juga tidak bisa dikatakan menjadi pengaruh terhadap dependents.\n",
    "    Kita dapat melihat bahwa pengguna fiber optic ini jauh lebih tinggi daripada DSL. Beberapa pelanggan juga ada yang tidak mengaktifkan layanan internet. Sehingga kita perlu meningkatkan layanan internet agar customer bertahan. Jumlah pelanggan yang ada jumlahnya lebih banyak daripada yang pindah. Kita tau juga bahwa besarnya tagihan bulanan tidak terlalu ada hubungannya dengan pelanggan tetap.\n",
    "    Dapat diketahui bahwa pembayaran dengan electroniccheck memiliki nominal yang jauh lebih besar daripada metode pembayaran lainnya sehingga metode ini perlu ditingkatkan.\n",
    "\n",
    "Berdasarkan hasil pemodelan yang telah dibuat, didapatkan yang cukup karena accuracy diatas 70% namun belum bisa sangat baik karena tidak mencapai 90%. Improvement yang dihasilkan ialah dengan mengganti optimizer ke adamax, kemudian dengan initializer uniform dan activation relu serta didukung oleh gradient clipping\n",
    "    Dari hasil pemodelan dan hasil confusion matrix diketahui bahwa model ini memprediksi FN sebanyak 115 dan FP 137. Jika dilihat berdasarkan classification report, untuk recall dan precision terbaik adalah pada data dengan target 0 dikarenakan efek data yang imbalance. Recall terbaik yang diperoleh ialah 0.86 dan untuk precision yang didapat ialah 0.84 serta accuracy model yang diperloeh berdaaasarkan classification report adalah 0.78. Model ini bisa ditingkatkan agar prediksi pelanggan yang diprediksi terus menggunakan layanan tidak salah sehingga dalam menentukan prioritas pelanggan bisa lebih tepat dan tidak terjadi kesalahan karena pelanggan yang aslinya menetap namun terprediksi meninggalkan layanan ini."
   ]
  },
  {
   "cell_type": "markdown",
   "metadata": {},
   "source": []
  }
 ],
 "metadata": {
  "kernelspec": {
   "display_name": "Python 3.9.6 64-bit",
   "language": "python",
   "name": "python3"
  },
  "language_info": {
   "codemirror_mode": {
    "name": "ipython",
    "version": 3
   },
   "file_extension": ".py",
   "mimetype": "text/x-python",
   "name": "python",
   "nbconvert_exporter": "python",
   "pygments_lexer": "ipython3",
   "version": "3.9.6"
  },
  "orig_nbformat": 4,
  "vscode": {
   "interpreter": {
    "hash": "14958d3aee5f1cad06795f787e54b96185c25fb40dfec723a5be941f3a531b8c"
   }
  }
 },
 "nbformat": 4,
 "nbformat_minor": 2
}
