{
 "cells": [
  {
   "cell_type": "markdown",
   "metadata": {},
   "source": [
    "# MILESTONE 1\n",
    "\n",
    "IRFAN FAHMUDDIN M FTDS 011\n",
    "\n",
    "**Objectives**\n",
    "Churn Prediction with Artificial neural network"
   ]
  },
  {
   "cell_type": "code",
   "execution_count": 172,
   "metadata": {},
   "outputs": [],
   "source": [
    "# import library\n",
    "\n",
    "import pandas as pd\n",
    "import tensorflow as tf\n",
    "import numpy as np\n",
    "import matplotlib.pyplot as plt\n",
    "import seaborn as sns\n",
    "\n",
    "from sklearn.preprocessing import StandardScaler\n",
    "from sklearn.preprocessing import OneHotEncoder\n",
    "\n",
    "from sklearn.pipeline import Pipeline\n",
    "from sklearn.compose import ColumnTransformer\n",
    "import pickle \n",
    "from sklearn.model_selection import train_test_split\n",
    "from sklearn.metrics import confusion_matrix,classification_report"
   ]
  },
  {
   "cell_type": "markdown",
   "metadata": {},
   "source": [
    "## DATA LOADING"
   ]
  },
  {
   "cell_type": "code",
   "execution_count": 2,
   "metadata": {},
   "outputs": [],
   "source": [
    "df = pd.read_csv('data_m1p2.csv')"
   ]
  },
  {
   "cell_type": "code",
   "execution_count": 3,
   "metadata": {},
   "outputs": [
    {
     "data": {
      "text/html": [
       "<div>\n",
       "<style scoped>\n",
       "    .dataframe tbody tr th:only-of-type {\n",
       "        vertical-align: middle;\n",
       "    }\n",
       "\n",
       "    .dataframe tbody tr th {\n",
       "        vertical-align: top;\n",
       "    }\n",
       "\n",
       "    .dataframe thead th {\n",
       "        text-align: right;\n",
       "    }\n",
       "</style>\n",
       "<table border=\"1\" class=\"dataframe\">\n",
       "  <thead>\n",
       "    <tr style=\"text-align: right;\">\n",
       "      <th></th>\n",
       "      <th>customerID</th>\n",
       "      <th>gender</th>\n",
       "      <th>SeniorCitizen</th>\n",
       "      <th>Partner</th>\n",
       "      <th>Dependents</th>\n",
       "      <th>tenure</th>\n",
       "      <th>PhoneService</th>\n",
       "      <th>MultipleLines</th>\n",
       "      <th>InternetService</th>\n",
       "      <th>OnlineSecurity</th>\n",
       "      <th>...</th>\n",
       "      <th>DeviceProtection</th>\n",
       "      <th>TechSupport</th>\n",
       "      <th>StreamingTV</th>\n",
       "      <th>StreamingMovies</th>\n",
       "      <th>Contract</th>\n",
       "      <th>PaperlessBilling</th>\n",
       "      <th>PaymentMethod</th>\n",
       "      <th>MonthlyCharges</th>\n",
       "      <th>TotalCharges</th>\n",
       "      <th>Churn</th>\n",
       "    </tr>\n",
       "  </thead>\n",
       "  <tbody>\n",
       "    <tr>\n",
       "      <th>0</th>\n",
       "      <td>7590-VHVEG</td>\n",
       "      <td>Female</td>\n",
       "      <td>0</td>\n",
       "      <td>Yes</td>\n",
       "      <td>No</td>\n",
       "      <td>1</td>\n",
       "      <td>No</td>\n",
       "      <td>No phone service</td>\n",
       "      <td>DSL</td>\n",
       "      <td>No</td>\n",
       "      <td>...</td>\n",
       "      <td>No</td>\n",
       "      <td>No</td>\n",
       "      <td>No</td>\n",
       "      <td>No</td>\n",
       "      <td>Month-to-month</td>\n",
       "      <td>Yes</td>\n",
       "      <td>Electronic check</td>\n",
       "      <td>29.85</td>\n",
       "      <td>29.85</td>\n",
       "      <td>No</td>\n",
       "    </tr>\n",
       "    <tr>\n",
       "      <th>1</th>\n",
       "      <td>5575-GNVDE</td>\n",
       "      <td>Male</td>\n",
       "      <td>0</td>\n",
       "      <td>No</td>\n",
       "      <td>No</td>\n",
       "      <td>34</td>\n",
       "      <td>Yes</td>\n",
       "      <td>No</td>\n",
       "      <td>DSL</td>\n",
       "      <td>Yes</td>\n",
       "      <td>...</td>\n",
       "      <td>Yes</td>\n",
       "      <td>No</td>\n",
       "      <td>No</td>\n",
       "      <td>No</td>\n",
       "      <td>One year</td>\n",
       "      <td>No</td>\n",
       "      <td>Mailed check</td>\n",
       "      <td>56.95</td>\n",
       "      <td>1889.5</td>\n",
       "      <td>No</td>\n",
       "    </tr>\n",
       "    <tr>\n",
       "      <th>2</th>\n",
       "      <td>3668-QPYBK</td>\n",
       "      <td>Male</td>\n",
       "      <td>0</td>\n",
       "      <td>No</td>\n",
       "      <td>No</td>\n",
       "      <td>2</td>\n",
       "      <td>Yes</td>\n",
       "      <td>No</td>\n",
       "      <td>DSL</td>\n",
       "      <td>Yes</td>\n",
       "      <td>...</td>\n",
       "      <td>No</td>\n",
       "      <td>No</td>\n",
       "      <td>No</td>\n",
       "      <td>No</td>\n",
       "      <td>Month-to-month</td>\n",
       "      <td>Yes</td>\n",
       "      <td>Mailed check</td>\n",
       "      <td>53.85</td>\n",
       "      <td>108.15</td>\n",
       "      <td>Yes</td>\n",
       "    </tr>\n",
       "    <tr>\n",
       "      <th>3</th>\n",
       "      <td>7795-CFOCW</td>\n",
       "      <td>Male</td>\n",
       "      <td>0</td>\n",
       "      <td>No</td>\n",
       "      <td>No</td>\n",
       "      <td>45</td>\n",
       "      <td>No</td>\n",
       "      <td>No phone service</td>\n",
       "      <td>DSL</td>\n",
       "      <td>Yes</td>\n",
       "      <td>...</td>\n",
       "      <td>Yes</td>\n",
       "      <td>Yes</td>\n",
       "      <td>No</td>\n",
       "      <td>No</td>\n",
       "      <td>One year</td>\n",
       "      <td>No</td>\n",
       "      <td>Bank transfer (automatic)</td>\n",
       "      <td>42.30</td>\n",
       "      <td>1840.75</td>\n",
       "      <td>No</td>\n",
       "    </tr>\n",
       "    <tr>\n",
       "      <th>4</th>\n",
       "      <td>9237-HQITU</td>\n",
       "      <td>Female</td>\n",
       "      <td>0</td>\n",
       "      <td>No</td>\n",
       "      <td>No</td>\n",
       "      <td>2</td>\n",
       "      <td>Yes</td>\n",
       "      <td>No</td>\n",
       "      <td>Fiber optic</td>\n",
       "      <td>No</td>\n",
       "      <td>...</td>\n",
       "      <td>No</td>\n",
       "      <td>No</td>\n",
       "      <td>No</td>\n",
       "      <td>No</td>\n",
       "      <td>Month-to-month</td>\n",
       "      <td>Yes</td>\n",
       "      <td>Electronic check</td>\n",
       "      <td>70.70</td>\n",
       "      <td>151.65</td>\n",
       "      <td>Yes</td>\n",
       "    </tr>\n",
       "  </tbody>\n",
       "</table>\n",
       "<p>5 rows × 21 columns</p>\n",
       "</div>"
      ],
      "text/plain": [
       "   customerID  gender  SeniorCitizen Partner Dependents  tenure PhoneService  \\\n",
       "0  7590-VHVEG  Female              0     Yes         No       1           No   \n",
       "1  5575-GNVDE    Male              0      No         No      34          Yes   \n",
       "2  3668-QPYBK    Male              0      No         No       2          Yes   \n",
       "3  7795-CFOCW    Male              0      No         No      45           No   \n",
       "4  9237-HQITU  Female              0      No         No       2          Yes   \n",
       "\n",
       "      MultipleLines InternetService OnlineSecurity  ... DeviceProtection  \\\n",
       "0  No phone service             DSL             No  ...               No   \n",
       "1                No             DSL            Yes  ...              Yes   \n",
       "2                No             DSL            Yes  ...               No   \n",
       "3  No phone service             DSL            Yes  ...              Yes   \n",
       "4                No     Fiber optic             No  ...               No   \n",
       "\n",
       "  TechSupport StreamingTV StreamingMovies        Contract PaperlessBilling  \\\n",
       "0          No          No              No  Month-to-month              Yes   \n",
       "1          No          No              No        One year               No   \n",
       "2          No          No              No  Month-to-month              Yes   \n",
       "3         Yes          No              No        One year               No   \n",
       "4          No          No              No  Month-to-month              Yes   \n",
       "\n",
       "               PaymentMethod MonthlyCharges  TotalCharges Churn  \n",
       "0           Electronic check          29.85         29.85    No  \n",
       "1               Mailed check          56.95        1889.5    No  \n",
       "2               Mailed check          53.85        108.15   Yes  \n",
       "3  Bank transfer (automatic)          42.30       1840.75    No  \n",
       "4           Electronic check          70.70        151.65   Yes  \n",
       "\n",
       "[5 rows x 21 columns]"
      ]
     },
     "execution_count": 3,
     "metadata": {},
     "output_type": "execute_result"
    }
   ],
   "source": [
    "df.head()"
   ]
  },
  {
   "cell_type": "code",
   "execution_count": 4,
   "metadata": {},
   "outputs": [
    {
     "name": "stdout",
     "output_type": "stream",
     "text": [
      "<class 'pandas.core.frame.DataFrame'>\n",
      "RangeIndex: 7043 entries, 0 to 7042\n",
      "Data columns (total 21 columns):\n",
      " #   Column            Non-Null Count  Dtype  \n",
      "---  ------            --------------  -----  \n",
      " 0   customerID        7043 non-null   object \n",
      " 1   gender            7043 non-null   object \n",
      " 2   SeniorCitizen     7043 non-null   int64  \n",
      " 3   Partner           7043 non-null   object \n",
      " 4   Dependents        7043 non-null   object \n",
      " 5   tenure            7043 non-null   int64  \n",
      " 6   PhoneService      7043 non-null   object \n",
      " 7   MultipleLines     7043 non-null   object \n",
      " 8   InternetService   7043 non-null   object \n",
      " 9   OnlineSecurity    7043 non-null   object \n",
      " 10  OnlineBackup      7043 non-null   object \n",
      " 11  DeviceProtection  7043 non-null   object \n",
      " 12  TechSupport       7043 non-null   object \n",
      " 13  StreamingTV       7043 non-null   object \n",
      " 14  StreamingMovies   7043 non-null   object \n",
      " 15  Contract          7043 non-null   object \n",
      " 16  PaperlessBilling  7043 non-null   object \n",
      " 17  PaymentMethod     7043 non-null   object \n",
      " 18  MonthlyCharges    7043 non-null   float64\n",
      " 19  TotalCharges      7043 non-null   object \n",
      " 20  Churn             7043 non-null   object \n",
      "dtypes: float64(1), int64(2), object(18)\n",
      "memory usage: 1.1+ MB\n"
     ]
    }
   ],
   "source": [
    "df.info()"
   ]
  },
  {
   "cell_type": "code",
   "execution_count": 5,
   "metadata": {},
   "outputs": [],
   "source": [
    "# ubah tipe data\n",
    "#pd.to_numeric(df['TotalCharges'])"
   ]
  },
  {
   "cell_type": "code",
   "execution_count": 6,
   "metadata": {},
   "outputs": [
    {
     "data": {
      "text/html": [
       "<div>\n",
       "<style scoped>\n",
       "    .dataframe tbody tr th:only-of-type {\n",
       "        vertical-align: middle;\n",
       "    }\n",
       "\n",
       "    .dataframe tbody tr th {\n",
       "        vertical-align: top;\n",
       "    }\n",
       "\n",
       "    .dataframe thead th {\n",
       "        text-align: right;\n",
       "    }\n",
       "</style>\n",
       "<table border=\"1\" class=\"dataframe\">\n",
       "  <thead>\n",
       "    <tr style=\"text-align: right;\">\n",
       "      <th></th>\n",
       "      <th>0</th>\n",
       "      <th>1</th>\n",
       "      <th>2</th>\n",
       "      <th>3</th>\n",
       "      <th>4</th>\n",
       "      <th>5</th>\n",
       "      <th>6</th>\n",
       "      <th>7</th>\n",
       "      <th>8</th>\n",
       "      <th>9</th>\n",
       "      <th>...</th>\n",
       "      <th>7033</th>\n",
       "      <th>7034</th>\n",
       "      <th>7035</th>\n",
       "      <th>7036</th>\n",
       "      <th>7037</th>\n",
       "      <th>7038</th>\n",
       "      <th>7039</th>\n",
       "      <th>7040</th>\n",
       "      <th>7041</th>\n",
       "      <th>7042</th>\n",
       "    </tr>\n",
       "  </thead>\n",
       "  <tbody>\n",
       "    <tr>\n",
       "      <th>customerID</th>\n",
       "      <td>7590-VHVEG</td>\n",
       "      <td>5575-GNVDE</td>\n",
       "      <td>3668-QPYBK</td>\n",
       "      <td>7795-CFOCW</td>\n",
       "      <td>9237-HQITU</td>\n",
       "      <td>9305-CDSKC</td>\n",
       "      <td>1452-KIOVK</td>\n",
       "      <td>6713-OKOMC</td>\n",
       "      <td>7892-POOKP</td>\n",
       "      <td>6388-TABGU</td>\n",
       "      <td>...</td>\n",
       "      <td>9767-FFLEM</td>\n",
       "      <td>0639-TSIQW</td>\n",
       "      <td>8456-QDAVC</td>\n",
       "      <td>7750-EYXWZ</td>\n",
       "      <td>2569-WGERO</td>\n",
       "      <td>6840-RESVB</td>\n",
       "      <td>2234-XADUH</td>\n",
       "      <td>4801-JZAZL</td>\n",
       "      <td>8361-LTMKD</td>\n",
       "      <td>3186-AJIEK</td>\n",
       "    </tr>\n",
       "    <tr>\n",
       "      <th>gender</th>\n",
       "      <td>Female</td>\n",
       "      <td>Male</td>\n",
       "      <td>Male</td>\n",
       "      <td>Male</td>\n",
       "      <td>Female</td>\n",
       "      <td>Female</td>\n",
       "      <td>Male</td>\n",
       "      <td>Female</td>\n",
       "      <td>Female</td>\n",
       "      <td>Male</td>\n",
       "      <td>...</td>\n",
       "      <td>Male</td>\n",
       "      <td>Female</td>\n",
       "      <td>Male</td>\n",
       "      <td>Female</td>\n",
       "      <td>Female</td>\n",
       "      <td>Male</td>\n",
       "      <td>Female</td>\n",
       "      <td>Female</td>\n",
       "      <td>Male</td>\n",
       "      <td>Male</td>\n",
       "    </tr>\n",
       "    <tr>\n",
       "      <th>SeniorCitizen</th>\n",
       "      <td>0</td>\n",
       "      <td>0</td>\n",
       "      <td>0</td>\n",
       "      <td>0</td>\n",
       "      <td>0</td>\n",
       "      <td>0</td>\n",
       "      <td>0</td>\n",
       "      <td>0</td>\n",
       "      <td>0</td>\n",
       "      <td>0</td>\n",
       "      <td>...</td>\n",
       "      <td>0</td>\n",
       "      <td>0</td>\n",
       "      <td>0</td>\n",
       "      <td>0</td>\n",
       "      <td>0</td>\n",
       "      <td>0</td>\n",
       "      <td>0</td>\n",
       "      <td>0</td>\n",
       "      <td>1</td>\n",
       "      <td>0</td>\n",
       "    </tr>\n",
       "    <tr>\n",
       "      <th>Partner</th>\n",
       "      <td>Yes</td>\n",
       "      <td>No</td>\n",
       "      <td>No</td>\n",
       "      <td>No</td>\n",
       "      <td>No</td>\n",
       "      <td>No</td>\n",
       "      <td>No</td>\n",
       "      <td>No</td>\n",
       "      <td>Yes</td>\n",
       "      <td>No</td>\n",
       "      <td>...</td>\n",
       "      <td>No</td>\n",
       "      <td>No</td>\n",
       "      <td>No</td>\n",
       "      <td>No</td>\n",
       "      <td>No</td>\n",
       "      <td>Yes</td>\n",
       "      <td>Yes</td>\n",
       "      <td>Yes</td>\n",
       "      <td>Yes</td>\n",
       "      <td>No</td>\n",
       "    </tr>\n",
       "    <tr>\n",
       "      <th>Dependents</th>\n",
       "      <td>No</td>\n",
       "      <td>No</td>\n",
       "      <td>No</td>\n",
       "      <td>No</td>\n",
       "      <td>No</td>\n",
       "      <td>No</td>\n",
       "      <td>Yes</td>\n",
       "      <td>No</td>\n",
       "      <td>No</td>\n",
       "      <td>Yes</td>\n",
       "      <td>...</td>\n",
       "      <td>No</td>\n",
       "      <td>No</td>\n",
       "      <td>No</td>\n",
       "      <td>No</td>\n",
       "      <td>No</td>\n",
       "      <td>Yes</td>\n",
       "      <td>Yes</td>\n",
       "      <td>Yes</td>\n",
       "      <td>No</td>\n",
       "      <td>No</td>\n",
       "    </tr>\n",
       "    <tr>\n",
       "      <th>tenure</th>\n",
       "      <td>1</td>\n",
       "      <td>34</td>\n",
       "      <td>2</td>\n",
       "      <td>45</td>\n",
       "      <td>2</td>\n",
       "      <td>8</td>\n",
       "      <td>22</td>\n",
       "      <td>10</td>\n",
       "      <td>28</td>\n",
       "      <td>62</td>\n",
       "      <td>...</td>\n",
       "      <td>38</td>\n",
       "      <td>67</td>\n",
       "      <td>19</td>\n",
       "      <td>12</td>\n",
       "      <td>72</td>\n",
       "      <td>24</td>\n",
       "      <td>72</td>\n",
       "      <td>11</td>\n",
       "      <td>4</td>\n",
       "      <td>66</td>\n",
       "    </tr>\n",
       "    <tr>\n",
       "      <th>PhoneService</th>\n",
       "      <td>No</td>\n",
       "      <td>Yes</td>\n",
       "      <td>Yes</td>\n",
       "      <td>No</td>\n",
       "      <td>Yes</td>\n",
       "      <td>Yes</td>\n",
       "      <td>Yes</td>\n",
       "      <td>No</td>\n",
       "      <td>Yes</td>\n",
       "      <td>Yes</td>\n",
       "      <td>...</td>\n",
       "      <td>Yes</td>\n",
       "      <td>Yes</td>\n",
       "      <td>Yes</td>\n",
       "      <td>No</td>\n",
       "      <td>Yes</td>\n",
       "      <td>Yes</td>\n",
       "      <td>Yes</td>\n",
       "      <td>No</td>\n",
       "      <td>Yes</td>\n",
       "      <td>Yes</td>\n",
       "    </tr>\n",
       "    <tr>\n",
       "      <th>MultipleLines</th>\n",
       "      <td>No phone service</td>\n",
       "      <td>No</td>\n",
       "      <td>No</td>\n",
       "      <td>No phone service</td>\n",
       "      <td>No</td>\n",
       "      <td>Yes</td>\n",
       "      <td>Yes</td>\n",
       "      <td>No phone service</td>\n",
       "      <td>Yes</td>\n",
       "      <td>No</td>\n",
       "      <td>...</td>\n",
       "      <td>No</td>\n",
       "      <td>Yes</td>\n",
       "      <td>No</td>\n",
       "      <td>No phone service</td>\n",
       "      <td>No</td>\n",
       "      <td>Yes</td>\n",
       "      <td>Yes</td>\n",
       "      <td>No phone service</td>\n",
       "      <td>Yes</td>\n",
       "      <td>No</td>\n",
       "    </tr>\n",
       "    <tr>\n",
       "      <th>InternetService</th>\n",
       "      <td>DSL</td>\n",
       "      <td>DSL</td>\n",
       "      <td>DSL</td>\n",
       "      <td>DSL</td>\n",
       "      <td>Fiber optic</td>\n",
       "      <td>Fiber optic</td>\n",
       "      <td>Fiber optic</td>\n",
       "      <td>DSL</td>\n",
       "      <td>Fiber optic</td>\n",
       "      <td>DSL</td>\n",
       "      <td>...</td>\n",
       "      <td>Fiber optic</td>\n",
       "      <td>Fiber optic</td>\n",
       "      <td>Fiber optic</td>\n",
       "      <td>DSL</td>\n",
       "      <td>No</td>\n",
       "      <td>DSL</td>\n",
       "      <td>Fiber optic</td>\n",
       "      <td>DSL</td>\n",
       "      <td>Fiber optic</td>\n",
       "      <td>Fiber optic</td>\n",
       "    </tr>\n",
       "    <tr>\n",
       "      <th>OnlineSecurity</th>\n",
       "      <td>No</td>\n",
       "      <td>Yes</td>\n",
       "      <td>Yes</td>\n",
       "      <td>Yes</td>\n",
       "      <td>No</td>\n",
       "      <td>No</td>\n",
       "      <td>No</td>\n",
       "      <td>Yes</td>\n",
       "      <td>No</td>\n",
       "      <td>Yes</td>\n",
       "      <td>...</td>\n",
       "      <td>No</td>\n",
       "      <td>Yes</td>\n",
       "      <td>No</td>\n",
       "      <td>No</td>\n",
       "      <td>No internet service</td>\n",
       "      <td>Yes</td>\n",
       "      <td>No</td>\n",
       "      <td>Yes</td>\n",
       "      <td>No</td>\n",
       "      <td>Yes</td>\n",
       "    </tr>\n",
       "    <tr>\n",
       "      <th>OnlineBackup</th>\n",
       "      <td>Yes</td>\n",
       "      <td>No</td>\n",
       "      <td>Yes</td>\n",
       "      <td>No</td>\n",
       "      <td>No</td>\n",
       "      <td>No</td>\n",
       "      <td>Yes</td>\n",
       "      <td>No</td>\n",
       "      <td>No</td>\n",
       "      <td>Yes</td>\n",
       "      <td>...</td>\n",
       "      <td>No</td>\n",
       "      <td>Yes</td>\n",
       "      <td>No</td>\n",
       "      <td>Yes</td>\n",
       "      <td>No internet service</td>\n",
       "      <td>No</td>\n",
       "      <td>Yes</td>\n",
       "      <td>No</td>\n",
       "      <td>No</td>\n",
       "      <td>No</td>\n",
       "    </tr>\n",
       "    <tr>\n",
       "      <th>DeviceProtection</th>\n",
       "      <td>No</td>\n",
       "      <td>Yes</td>\n",
       "      <td>No</td>\n",
       "      <td>Yes</td>\n",
       "      <td>No</td>\n",
       "      <td>Yes</td>\n",
       "      <td>No</td>\n",
       "      <td>No</td>\n",
       "      <td>Yes</td>\n",
       "      <td>No</td>\n",
       "      <td>...</td>\n",
       "      <td>No</td>\n",
       "      <td>Yes</td>\n",
       "      <td>No</td>\n",
       "      <td>Yes</td>\n",
       "      <td>No internet service</td>\n",
       "      <td>Yes</td>\n",
       "      <td>Yes</td>\n",
       "      <td>No</td>\n",
       "      <td>No</td>\n",
       "      <td>Yes</td>\n",
       "    </tr>\n",
       "    <tr>\n",
       "      <th>TechSupport</th>\n",
       "      <td>No</td>\n",
       "      <td>No</td>\n",
       "      <td>No</td>\n",
       "      <td>Yes</td>\n",
       "      <td>No</td>\n",
       "      <td>No</td>\n",
       "      <td>No</td>\n",
       "      <td>No</td>\n",
       "      <td>Yes</td>\n",
       "      <td>No</td>\n",
       "      <td>...</td>\n",
       "      <td>No</td>\n",
       "      <td>No</td>\n",
       "      <td>No</td>\n",
       "      <td>Yes</td>\n",
       "      <td>No internet service</td>\n",
       "      <td>Yes</td>\n",
       "      <td>No</td>\n",
       "      <td>No</td>\n",
       "      <td>No</td>\n",
       "      <td>Yes</td>\n",
       "    </tr>\n",
       "    <tr>\n",
       "      <th>StreamingTV</th>\n",
       "      <td>No</td>\n",
       "      <td>No</td>\n",
       "      <td>No</td>\n",
       "      <td>No</td>\n",
       "      <td>No</td>\n",
       "      <td>Yes</td>\n",
       "      <td>Yes</td>\n",
       "      <td>No</td>\n",
       "      <td>Yes</td>\n",
       "      <td>No</td>\n",
       "      <td>...</td>\n",
       "      <td>No</td>\n",
       "      <td>Yes</td>\n",
       "      <td>Yes</td>\n",
       "      <td>Yes</td>\n",
       "      <td>No internet service</td>\n",
       "      <td>Yes</td>\n",
       "      <td>Yes</td>\n",
       "      <td>No</td>\n",
       "      <td>No</td>\n",
       "      <td>Yes</td>\n",
       "    </tr>\n",
       "    <tr>\n",
       "      <th>StreamingMovies</th>\n",
       "      <td>No</td>\n",
       "      <td>No</td>\n",
       "      <td>No</td>\n",
       "      <td>No</td>\n",
       "      <td>No</td>\n",
       "      <td>Yes</td>\n",
       "      <td>No</td>\n",
       "      <td>No</td>\n",
       "      <td>Yes</td>\n",
       "      <td>No</td>\n",
       "      <td>...</td>\n",
       "      <td>No</td>\n",
       "      <td>No</td>\n",
       "      <td>No</td>\n",
       "      <td>Yes</td>\n",
       "      <td>No internet service</td>\n",
       "      <td>Yes</td>\n",
       "      <td>Yes</td>\n",
       "      <td>No</td>\n",
       "      <td>No</td>\n",
       "      <td>Yes</td>\n",
       "    </tr>\n",
       "    <tr>\n",
       "      <th>Contract</th>\n",
       "      <td>Month-to-month</td>\n",
       "      <td>One year</td>\n",
       "      <td>Month-to-month</td>\n",
       "      <td>One year</td>\n",
       "      <td>Month-to-month</td>\n",
       "      <td>Month-to-month</td>\n",
       "      <td>Month-to-month</td>\n",
       "      <td>Month-to-month</td>\n",
       "      <td>Month-to-month</td>\n",
       "      <td>One year</td>\n",
       "      <td>...</td>\n",
       "      <td>Month-to-month</td>\n",
       "      <td>Month-to-month</td>\n",
       "      <td>Month-to-month</td>\n",
       "      <td>One year</td>\n",
       "      <td>Two year</td>\n",
       "      <td>One year</td>\n",
       "      <td>One year</td>\n",
       "      <td>Month-to-month</td>\n",
       "      <td>Month-to-month</td>\n",
       "      <td>Two year</td>\n",
       "    </tr>\n",
       "    <tr>\n",
       "      <th>PaperlessBilling</th>\n",
       "      <td>Yes</td>\n",
       "      <td>No</td>\n",
       "      <td>Yes</td>\n",
       "      <td>No</td>\n",
       "      <td>Yes</td>\n",
       "      <td>Yes</td>\n",
       "      <td>Yes</td>\n",
       "      <td>No</td>\n",
       "      <td>Yes</td>\n",
       "      <td>No</td>\n",
       "      <td>...</td>\n",
       "      <td>Yes</td>\n",
       "      <td>Yes</td>\n",
       "      <td>Yes</td>\n",
       "      <td>No</td>\n",
       "      <td>Yes</td>\n",
       "      <td>Yes</td>\n",
       "      <td>Yes</td>\n",
       "      <td>Yes</td>\n",
       "      <td>Yes</td>\n",
       "      <td>Yes</td>\n",
       "    </tr>\n",
       "    <tr>\n",
       "      <th>PaymentMethod</th>\n",
       "      <td>Electronic check</td>\n",
       "      <td>Mailed check</td>\n",
       "      <td>Mailed check</td>\n",
       "      <td>Bank transfer (automatic)</td>\n",
       "      <td>Electronic check</td>\n",
       "      <td>Electronic check</td>\n",
       "      <td>Credit card (automatic)</td>\n",
       "      <td>Mailed check</td>\n",
       "      <td>Electronic check</td>\n",
       "      <td>Bank transfer (automatic)</td>\n",
       "      <td>...</td>\n",
       "      <td>Credit card (automatic)</td>\n",
       "      <td>Credit card (automatic)</td>\n",
       "      <td>Bank transfer (automatic)</td>\n",
       "      <td>Electronic check</td>\n",
       "      <td>Bank transfer (automatic)</td>\n",
       "      <td>Mailed check</td>\n",
       "      <td>Credit card (automatic)</td>\n",
       "      <td>Electronic check</td>\n",
       "      <td>Mailed check</td>\n",
       "      <td>Bank transfer (automatic)</td>\n",
       "    </tr>\n",
       "    <tr>\n",
       "      <th>MonthlyCharges</th>\n",
       "      <td>29.85</td>\n",
       "      <td>56.95</td>\n",
       "      <td>53.85</td>\n",
       "      <td>42.3</td>\n",
       "      <td>70.7</td>\n",
       "      <td>99.65</td>\n",
       "      <td>89.1</td>\n",
       "      <td>29.75</td>\n",
       "      <td>104.8</td>\n",
       "      <td>56.15</td>\n",
       "      <td>...</td>\n",
       "      <td>69.5</td>\n",
       "      <td>102.95</td>\n",
       "      <td>78.7</td>\n",
       "      <td>60.65</td>\n",
       "      <td>21.15</td>\n",
       "      <td>84.8</td>\n",
       "      <td>103.2</td>\n",
       "      <td>29.6</td>\n",
       "      <td>74.4</td>\n",
       "      <td>105.65</td>\n",
       "    </tr>\n",
       "    <tr>\n",
       "      <th>TotalCharges</th>\n",
       "      <td>29.85</td>\n",
       "      <td>1889.5</td>\n",
       "      <td>108.15</td>\n",
       "      <td>1840.75</td>\n",
       "      <td>151.65</td>\n",
       "      <td>820.5</td>\n",
       "      <td>1949.4</td>\n",
       "      <td>301.9</td>\n",
       "      <td>3046.05</td>\n",
       "      <td>3487.95</td>\n",
       "      <td>...</td>\n",
       "      <td>2625.25</td>\n",
       "      <td>6886.25</td>\n",
       "      <td>1495.1</td>\n",
       "      <td>743.3</td>\n",
       "      <td>1419.4</td>\n",
       "      <td>1990.5</td>\n",
       "      <td>7362.9</td>\n",
       "      <td>346.45</td>\n",
       "      <td>306.6</td>\n",
       "      <td>6844.5</td>\n",
       "    </tr>\n",
       "    <tr>\n",
       "      <th>Churn</th>\n",
       "      <td>No</td>\n",
       "      <td>No</td>\n",
       "      <td>Yes</td>\n",
       "      <td>No</td>\n",
       "      <td>Yes</td>\n",
       "      <td>Yes</td>\n",
       "      <td>No</td>\n",
       "      <td>No</td>\n",
       "      <td>Yes</td>\n",
       "      <td>No</td>\n",
       "      <td>...</td>\n",
       "      <td>No</td>\n",
       "      <td>Yes</td>\n",
       "      <td>No</td>\n",
       "      <td>No</td>\n",
       "      <td>No</td>\n",
       "      <td>No</td>\n",
       "      <td>No</td>\n",
       "      <td>No</td>\n",
       "      <td>Yes</td>\n",
       "      <td>No</td>\n",
       "    </tr>\n",
       "  </tbody>\n",
       "</table>\n",
       "<p>21 rows × 7043 columns</p>\n",
       "</div>"
      ],
      "text/plain": [
       "                              0             1               2     \\\n",
       "customerID              7590-VHVEG    5575-GNVDE      3668-QPYBK   \n",
       "gender                      Female          Male            Male   \n",
       "SeniorCitizen                    0             0               0   \n",
       "Partner                        Yes            No              No   \n",
       "Dependents                      No            No              No   \n",
       "tenure                           1            34               2   \n",
       "PhoneService                    No           Yes             Yes   \n",
       "MultipleLines     No phone service            No              No   \n",
       "InternetService                DSL           DSL             DSL   \n",
       "OnlineSecurity                  No           Yes             Yes   \n",
       "OnlineBackup                   Yes            No             Yes   \n",
       "DeviceProtection                No           Yes              No   \n",
       "TechSupport                     No            No              No   \n",
       "StreamingTV                     No            No              No   \n",
       "StreamingMovies                 No            No              No   \n",
       "Contract            Month-to-month      One year  Month-to-month   \n",
       "PaperlessBilling               Yes            No             Yes   \n",
       "PaymentMethod     Electronic check  Mailed check    Mailed check   \n",
       "MonthlyCharges               29.85         56.95           53.85   \n",
       "TotalCharges                 29.85        1889.5          108.15   \n",
       "Churn                           No            No             Yes   \n",
       "\n",
       "                                       3                 4     \\\n",
       "customerID                       7795-CFOCW        9237-HQITU   \n",
       "gender                                 Male            Female   \n",
       "SeniorCitizen                             0                 0   \n",
       "Partner                                  No                No   \n",
       "Dependents                               No                No   \n",
       "tenure                                   45                 2   \n",
       "PhoneService                             No               Yes   \n",
       "MultipleLines              No phone service                No   \n",
       "InternetService                         DSL       Fiber optic   \n",
       "OnlineSecurity                          Yes                No   \n",
       "OnlineBackup                             No                No   \n",
       "DeviceProtection                        Yes                No   \n",
       "TechSupport                             Yes                No   \n",
       "StreamingTV                              No                No   \n",
       "StreamingMovies                          No                No   \n",
       "Contract                           One year    Month-to-month   \n",
       "PaperlessBilling                         No               Yes   \n",
       "PaymentMethod     Bank transfer (automatic)  Electronic check   \n",
       "MonthlyCharges                         42.3              70.7   \n",
       "TotalCharges                        1840.75            151.65   \n",
       "Churn                                    No               Yes   \n",
       "\n",
       "                              5                        6                 7     \\\n",
       "customerID              9305-CDSKC               1452-KIOVK        6713-OKOMC   \n",
       "gender                      Female                     Male            Female   \n",
       "SeniorCitizen                    0                        0                 0   \n",
       "Partner                         No                       No                No   \n",
       "Dependents                      No                      Yes                No   \n",
       "tenure                           8                       22                10   \n",
       "PhoneService                   Yes                      Yes                No   \n",
       "MultipleLines                  Yes                      Yes  No phone service   \n",
       "InternetService        Fiber optic              Fiber optic               DSL   \n",
       "OnlineSecurity                  No                       No               Yes   \n",
       "OnlineBackup                    No                      Yes                No   \n",
       "DeviceProtection               Yes                       No                No   \n",
       "TechSupport                     No                       No                No   \n",
       "StreamingTV                    Yes                      Yes                No   \n",
       "StreamingMovies                Yes                       No                No   \n",
       "Contract            Month-to-month           Month-to-month    Month-to-month   \n",
       "PaperlessBilling               Yes                      Yes                No   \n",
       "PaymentMethod     Electronic check  Credit card (automatic)      Mailed check   \n",
       "MonthlyCharges               99.65                     89.1             29.75   \n",
       "TotalCharges                 820.5                   1949.4             301.9   \n",
       "Churn                          Yes                       No                No   \n",
       "\n",
       "                              8                          9     ...  \\\n",
       "customerID              7892-POOKP                 6388-TABGU  ...   \n",
       "gender                      Female                       Male  ...   \n",
       "SeniorCitizen                    0                          0  ...   \n",
       "Partner                        Yes                         No  ...   \n",
       "Dependents                      No                        Yes  ...   \n",
       "tenure                          28                         62  ...   \n",
       "PhoneService                   Yes                        Yes  ...   \n",
       "MultipleLines                  Yes                         No  ...   \n",
       "InternetService        Fiber optic                        DSL  ...   \n",
       "OnlineSecurity                  No                        Yes  ...   \n",
       "OnlineBackup                    No                        Yes  ...   \n",
       "DeviceProtection               Yes                         No  ...   \n",
       "TechSupport                    Yes                         No  ...   \n",
       "StreamingTV                    Yes                         No  ...   \n",
       "StreamingMovies                Yes                         No  ...   \n",
       "Contract            Month-to-month                   One year  ...   \n",
       "PaperlessBilling               Yes                         No  ...   \n",
       "PaymentMethod     Electronic check  Bank transfer (automatic)  ...   \n",
       "MonthlyCharges               104.8                      56.15  ...   \n",
       "TotalCharges               3046.05                    3487.95  ...   \n",
       "Churn                          Yes                         No  ...   \n",
       "\n",
       "                                     7033                     7034  \\\n",
       "customerID                     9767-FFLEM               0639-TSIQW   \n",
       "gender                               Male                   Female   \n",
       "SeniorCitizen                           0                        0   \n",
       "Partner                                No                       No   \n",
       "Dependents                             No                       No   \n",
       "tenure                                 38                       67   \n",
       "PhoneService                          Yes                      Yes   \n",
       "MultipleLines                          No                      Yes   \n",
       "InternetService               Fiber optic              Fiber optic   \n",
       "OnlineSecurity                         No                      Yes   \n",
       "OnlineBackup                           No                      Yes   \n",
       "DeviceProtection                       No                      Yes   \n",
       "TechSupport                            No                       No   \n",
       "StreamingTV                            No                      Yes   \n",
       "StreamingMovies                        No                       No   \n",
       "Contract                   Month-to-month           Month-to-month   \n",
       "PaperlessBilling                      Yes                      Yes   \n",
       "PaymentMethod     Credit card (automatic)  Credit card (automatic)   \n",
       "MonthlyCharges                       69.5                   102.95   \n",
       "TotalCharges                      2625.25                  6886.25   \n",
       "Churn                                  No                      Yes   \n",
       "\n",
       "                                       7035              7036  \\\n",
       "customerID                       8456-QDAVC        7750-EYXWZ   \n",
       "gender                                 Male            Female   \n",
       "SeniorCitizen                             0                 0   \n",
       "Partner                                  No                No   \n",
       "Dependents                               No                No   \n",
       "tenure                                   19                12   \n",
       "PhoneService                            Yes                No   \n",
       "MultipleLines                            No  No phone service   \n",
       "InternetService                 Fiber optic               DSL   \n",
       "OnlineSecurity                           No                No   \n",
       "OnlineBackup                             No               Yes   \n",
       "DeviceProtection                         No               Yes   \n",
       "TechSupport                              No               Yes   \n",
       "StreamingTV                             Yes               Yes   \n",
       "StreamingMovies                          No               Yes   \n",
       "Contract                     Month-to-month          One year   \n",
       "PaperlessBilling                        Yes                No   \n",
       "PaymentMethod     Bank transfer (automatic)  Electronic check   \n",
       "MonthlyCharges                         78.7             60.65   \n",
       "TotalCharges                         1495.1             743.3   \n",
       "Churn                                    No                No   \n",
       "\n",
       "                                       7037          7038  \\\n",
       "customerID                       2569-WGERO    6840-RESVB   \n",
       "gender                               Female          Male   \n",
       "SeniorCitizen                             0             0   \n",
       "Partner                                  No           Yes   \n",
       "Dependents                               No           Yes   \n",
       "tenure                                   72            24   \n",
       "PhoneService                            Yes           Yes   \n",
       "MultipleLines                            No           Yes   \n",
       "InternetService                          No           DSL   \n",
       "OnlineSecurity          No internet service           Yes   \n",
       "OnlineBackup            No internet service            No   \n",
       "DeviceProtection        No internet service           Yes   \n",
       "TechSupport             No internet service           Yes   \n",
       "StreamingTV             No internet service           Yes   \n",
       "StreamingMovies         No internet service           Yes   \n",
       "Contract                           Two year      One year   \n",
       "PaperlessBilling                        Yes           Yes   \n",
       "PaymentMethod     Bank transfer (automatic)  Mailed check   \n",
       "MonthlyCharges                        21.15          84.8   \n",
       "TotalCharges                         1419.4        1990.5   \n",
       "Churn                                    No            No   \n",
       "\n",
       "                                     7039              7040            7041  \\\n",
       "customerID                     2234-XADUH        4801-JZAZL      8361-LTMKD   \n",
       "gender                             Female            Female            Male   \n",
       "SeniorCitizen                           0                 0               1   \n",
       "Partner                               Yes               Yes             Yes   \n",
       "Dependents                            Yes               Yes              No   \n",
       "tenure                                 72                11               4   \n",
       "PhoneService                          Yes                No             Yes   \n",
       "MultipleLines                         Yes  No phone service             Yes   \n",
       "InternetService               Fiber optic               DSL     Fiber optic   \n",
       "OnlineSecurity                         No               Yes              No   \n",
       "OnlineBackup                          Yes                No              No   \n",
       "DeviceProtection                      Yes                No              No   \n",
       "TechSupport                            No                No              No   \n",
       "StreamingTV                           Yes                No              No   \n",
       "StreamingMovies                       Yes                No              No   \n",
       "Contract                         One year    Month-to-month  Month-to-month   \n",
       "PaperlessBilling                      Yes               Yes             Yes   \n",
       "PaymentMethod     Credit card (automatic)  Electronic check    Mailed check   \n",
       "MonthlyCharges                      103.2              29.6            74.4   \n",
       "TotalCharges                       7362.9            346.45           306.6   \n",
       "Churn                                  No                No             Yes   \n",
       "\n",
       "                                       7042  \n",
       "customerID                       3186-AJIEK  \n",
       "gender                                 Male  \n",
       "SeniorCitizen                             0  \n",
       "Partner                                  No  \n",
       "Dependents                               No  \n",
       "tenure                                   66  \n",
       "PhoneService                            Yes  \n",
       "MultipleLines                            No  \n",
       "InternetService                 Fiber optic  \n",
       "OnlineSecurity                          Yes  \n",
       "OnlineBackup                             No  \n",
       "DeviceProtection                        Yes  \n",
       "TechSupport                             Yes  \n",
       "StreamingTV                             Yes  \n",
       "StreamingMovies                         Yes  \n",
       "Contract                           Two year  \n",
       "PaperlessBilling                        Yes  \n",
       "PaymentMethod     Bank transfer (automatic)  \n",
       "MonthlyCharges                       105.65  \n",
       "TotalCharges                         6844.5  \n",
       "Churn                                    No  \n",
       "\n",
       "[21 rows x 7043 columns]"
      ]
     },
     "execution_count": 6,
     "metadata": {},
     "output_type": "execute_result"
    }
   ],
   "source": [
    "df.T"
   ]
  },
  {
   "cell_type": "markdown",
   "metadata": {},
   "source": [
    "## EDA\n",
    "\n",
    "1. Kita cek berapa pelanggan yang memanfaatkan fasilitas yang ada"
   ]
  },
  {
   "cell_type": "code",
   "execution_count": 7,
   "metadata": {},
   "outputs": [
    {
     "data": {
      "text/plain": [
       "<AxesSubplot:xlabel='OnlineSecurity'>"
      ]
     },
     "execution_count": 7,
     "metadata": {},
     "output_type": "execute_result"
    },
    {
     "data": {
      "image/png": "[encoded data removed]",
      "text/plain": [
       "<Figure size 432x288 with 1 Axes>"
      ]
     },
     "metadata": {
      "needs_background": "light"
     },
     "output_type": "display_data"
    }
   ],
   "source": [
    "df.groupby('OnlineSecurity').count()[['customerID']].plot(kind= 'bar')"
   ]
  },
  {
   "cell_type": "code",
   "execution_count": 8,
   "metadata": {},
   "outputs": [
    {
     "data": {
      "text/plain": [
       "<AxesSubplot:xlabel='OnlineBackup'>"
      ]
     },
     "execution_count": 8,
     "metadata": {},
     "output_type": "execute_result"
    },
    {
     "data": {
      "image/png": "[encoded data removed]",
      "text/plain": [
       "<Figure size 432x288 with 1 Axes>"
      ]
     },
     "metadata": {
      "needs_background": "light"
     },
     "output_type": "display_data"
    }
   ],
   "source": [
    "df.groupby('OnlineBackup').count()[['customerID']].plot(kind= 'bar')"
   ]
  },
  {
   "cell_type": "code",
   "execution_count": 9,
   "metadata": {},
   "outputs": [
    {
     "data": {
      "text/plain": [
       "<AxesSubplot:xlabel='DeviceProtection'>"
      ]
     },
     "execution_count": 9,
     "metadata": {},
     "output_type": "execute_result"
    },
    {
     "data": {
      "image/png": "[encoded data removed]",
      "text/plain": [
       "<Figure size 432x288 with 1 Axes>"
      ]
     },
     "metadata": {
      "needs_background": "light"
     },
     "output_type": "display_data"
    }
   ],
   "source": [
    "df.groupby('DeviceProtection').count()[['customerID']].plot(kind= 'bar')"
   ]
  },
  {
   "cell_type": "code",
   "execution_count": 10,
   "metadata": {},
   "outputs": [
    {
     "data": {
      "text/plain": [
       "<AxesSubplot:xlabel='TechSupport'>"
      ]
     },
     "execution_count": 10,
     "metadata": {},
     "output_type": "execute_result"
    },
    {
     "data": {
      "image/png": "[encoded data removed]",
      "text/plain": [
       "<Figure size 432x288 with 1 Axes>"
      ]
     },
     "metadata": {
      "needs_background": "light"
     },
     "output_type": "display_data"
    }
   ],
   "source": [
    "df.groupby('TechSupport').count()[['customerID']].plot(kind= 'bar')"
   ]
  },
  {
   "cell_type": "code",
   "execution_count": 11,
   "metadata": {},
   "outputs": [
    {
     "data": {
      "text/plain": [
       "<AxesSubplot:xlabel='StreamingTV'>"
      ]
     },
     "execution_count": 11,
     "metadata": {},
     "output_type": "execute_result"
    },
    {
     "data": {
      "image/png": "[encoded data removed]",
      "text/plain": [
       "<Figure size 432x288 with 1 Axes>"
      ]
     },
     "metadata": {
      "needs_background": "light"
     },
     "output_type": "display_data"
    }
   ],
   "source": [
    "df.groupby('StreamingTV').count()[['customerID']].plot(kind= 'bar')"
   ]
  },
  {
   "cell_type": "code",
   "execution_count": 12,
   "metadata": {},
   "outputs": [
    {
     "data": {
      "text/plain": [
       "<AxesSubplot:xlabel='StreamingMovies'>"
      ]
     },
     "execution_count": 12,
     "metadata": {},
     "output_type": "execute_result"
    },
    {
     "data": {
      "image/png": "[encoded data removed]",
      "text/plain": [
       "<Figure size 432x288 with 1 Axes>"
      ]
     },
     "metadata": {
      "needs_background": "light"
     },
     "output_type": "display_data"
    }
   ],
   "source": [
    "df.groupby('StreamingMovies').count()[['customerID']].plot(kind= 'bar')"
   ]
  },
  {
   "cell_type": "code",
   "execution_count": 13,
   "metadata": {},
   "outputs": [
    {
     "data": {
      "text/plain": [
       "<AxesSubplot:xlabel='PhoneService'>"
      ]
     },
     "execution_count": 13,
     "metadata": {},
     "output_type": "execute_result"
    },
    {
     "data": {
      "image/png": "[encoded data removed]",
      "text/plain": [
       "<Figure size 432x288 with 1 Axes>"
      ]
     },
     "metadata": {
      "needs_background": "light"
     },
     "output_type": "display_data"
    }
   ],
   "source": [
    "df.groupby('PhoneService').count()[['customerID']].plot(kind= 'bar')"
   ]
  },
  {
   "cell_type": "markdown",
   "metadata": {},
   "source": [
    "Berdasarkan beberapa grafik diatas, masih banyak pelanggan yang tidak memanfaatkan layanan yang ada. Kemungkinan banyak pelanggan kebanyakan hanya memanfaatkan layanan telpon saaja sehingga mereka tidak butuh layanan lainnya seperti streaming, protection, dan lainnya. Hal ini bisa kita lihat bahwa pengguna layanan telpon sangat banyak dan mendominasi jumlahnya sedangkan pelanggan yang tidak memanfaatkan layanan telfon ini kemungkinan hanya membutuhkan layanan diluar telfon seperti streaming dan internet\n",
    "\n",
    "2. Bagiamana pengaruh gender terhadap pelanggan yang menjadi partner?"
   ]
  },
  {
   "cell_type": "code",
   "execution_count": 14,
   "metadata": {},
   "outputs": [
    {
     "data": {
      "text/plain": [
       "<seaborn.axisgrid.FacetGrid at 0x14ce42824c0>"
      ]
     },
     "execution_count": 14,
     "metadata": {},
     "output_type": "execute_result"
    },
    {
     "data": {
      "image/png": "[encoded data removed]",
      "text/plain": [
       "<Figure size 432.125x360 with 1 Axes>"
      ]
     },
     "metadata": {
      "needs_background": "light"
     },
     "output_type": "display_data"
    }
   ],
   "source": [
    "sns.catplot(y=\"Partner\", hue=\"gender\", kind=\"count\",\n",
    "            palette=\"pastel\", edgecolor=\".6\",\n",
    "            data=df)"
   ]
  },
  {
   "cell_type": "markdown",
   "metadata": {},
   "source": [
    "Dari grafik diatas, diketahui bahwa gender untuk yang menjadi partner maupun tidak hampir sama namun pelanggan wanita lebih tinggi nilainya walaupun tidak jauh berbeda nilainya sehingga gender ini tidak bisa dikatakan berpengaruh terhadap pelanggan partner.\n",
    "\n",
    "Kemudian untuk dependents dibawah kita bisa lihat nilainya hampir sama antara wanita dan pria sehingga gender ini juga tidak bisa dikatakan menjadi pengaruh terhadap dependents"
   ]
  },
  {
   "cell_type": "code",
   "execution_count": 15,
   "metadata": {},
   "outputs": [
    {
     "data": {
      "text/plain": [
       "<seaborn.axisgrid.FacetGrid at 0x14ce433afd0>"
      ]
     },
     "execution_count": 15,
     "metadata": {},
     "output_type": "execute_result"
    },
    {
     "data": {
      "image/png": "[encoded data removed]",
      "text/plain": [
       "<Figure size 432.125x360 with 1 Axes>"
      ]
     },
     "metadata": {
      "needs_background": "light"
     },
     "output_type": "display_data"
    }
   ],
   "source": [
    "sns.catplot(y=\"Dependents\", hue=\"gender\", kind=\"count\",\n",
    "            palette=\"pastel\", edgecolor=\".6\",\n",
    "            data=df)"
   ]
  },
  {
   "cell_type": "markdown",
   "metadata": {},
   "source": [
    "3. Berapa jumlah pelanggan setiap kategori layanaan internet yang disediakan"
   ]
  },
  {
   "cell_type": "code",
   "execution_count": 16,
   "metadata": {},
   "outputs": [
    {
     "data": {
      "text/plain": [
       "<seaborn.axisgrid.FacetGrid at 0x14ce422bd60>"
      ]
     },
     "execution_count": 16,
     "metadata": {},
     "output_type": "execute_result"
    },
    {
     "data": {
      "image/png": "[encoded data removed]",
      "text/plain": [
       "<Figure size 360x360 with 1 Axes>"
      ]
     },
     "metadata": {
      "needs_background": "light"
     },
     "output_type": "display_data"
    }
   ],
   "source": [
    "sns.catplot(x=\"InternetService\", kind=\"count\", palette=\"ch:.25\", data=df)"
   ]
  },
  {
   "cell_type": "markdown",
   "metadata": {},
   "source": [
    "Kita dapat melihat bahwa pengguna fiber optic ini jauh lebih tinggi daripada DSL. Beberapa pelanggan juga ada yang tidak mengaktifkan layanan internet\n",
    "\n",
    "4. Bagimana jumlah tagihan bulanan terhadap ketetapan pelanggan?"
   ]
  },
  {
   "cell_type": "code",
   "execution_count": 17,
   "metadata": {},
   "outputs": [
    {
     "data": {
      "text/plain": [
       "<seaborn.axisgrid.FacetGrid at 0x14ce42822b0>"
      ]
     },
     "execution_count": 17,
     "metadata": {},
     "output_type": "execute_result"
    },
    {
     "data": {
      "image/png": "[encoded data removed]",
      "text/plain": [
       "<Figure size 412x360 with 1 Axes>"
      ]
     },
     "metadata": {
      "needs_background": "light"
     },
     "output_type": "display_data"
    }
   ],
   "source": [
    "sns.displot(df, x=\"MonthlyCharges\", hue=\"Churn\", multiple=\"stack\")"
   ]
  },
  {
   "cell_type": "markdown",
   "metadata": {},
   "source": [
    "Berdasarkan hasil diatas, kita dapat lihat bahwa jumlah pelanggan yang masih tetap jumlahnya lebih banyak daripada yang pindah. Kita tau juga bahwa besarnya tagihan bulanan tidak terlalu ada hubungannya dengan pelanggan tetap karena tidak membentuk garis diagonal pada plotnya.\n",
    "\n",
    "5. Bagaimana pengaruh metode pembayaran terhadap tagihan total?"
   ]
  },
  {
   "cell_type": "code",
   "execution_count": 18,
   "metadata": {},
   "outputs": [
    {
     "data": {
      "text/plain": [
       "<AxesSubplot:xlabel='PaymentMethod'>"
      ]
     },
     "execution_count": 18,
     "metadata": {},
     "output_type": "execute_result"
    },
    {
     "data": {
      "image/png": "[encoded data removed]",
      "text/plain": [
       "<Figure size 432x288 with 1 Axes>"
      ]
     },
     "metadata": {
      "needs_background": "light"
     },
     "output_type": "display_data"
    }
   ],
   "source": [
    "df.groupby('PaymentMethod').sum()[['MonthlyCharges']].plot(kind='bar')"
   ]
  },
  {
   "cell_type": "markdown",
   "metadata": {},
   "source": [
    "Berdasrkan grafik diatas, kita dapat mengetahui bahwa pembayaran dengan electroniccheck memiliki nominal yang jauh lebih besar daripada metode pembayaran lainnya\n",
    "\n",
    "6. Bagaimana korelasi antar kolom yg numerik ?"
   ]
  },
  {
   "cell_type": "code",
   "execution_count": 19,
   "metadata": {},
   "outputs": [
    {
     "data": {
      "text/plain": [
       "<AxesSubplot:>"
      ]
     },
     "execution_count": 19,
     "metadata": {},
     "output_type": "execute_result"
    },
    {
     "data": {
      "image/png": "[encoded data removed]",
      "text/plain": [
       "<Figure size 1440x720 with 2 Axes>"
      ]
     },
     "metadata": {},
     "output_type": "display_data"
    }
   ],
   "source": [
    "sns.set(rc = {'figure.figsize':(20,10)})\n",
    "sns.heatmap(df.corr(),annot=True)"
   ]
  },
  {
   "cell_type": "markdown",
   "metadata": {},
   "source": [
    "Dapat dilihat bahwa terdapat 3 kolom diatas. jika nilai mendekati 1 maka korelasi antara keduanya akan semakin besar dan begitu sebaliknya. Dari data diatas, kita lihat bahwa korelasi terbesar ialah antara tagihan bulanan dengan tenure pelanggan. Dari gambar diatas pun kita dapat mengetahui bahwa senior citizen tidak terlalu berpengaruh dengan tenure pelanggan dan sedikit sekali berpengaruh yaitu seabesar 0.22 terhadap tagihan bulanan pelanggan telekomunikasi\n",
    "\n",
    "7. Bagaimana jumlah tenor customer terhadap pelanggan yang tetap dan tidak"
   ]
  },
  {
   "cell_type": "code",
   "execution_count": 198,
   "metadata": {},
   "outputs": [
    {
     "data": {
      "text/plain": [
       "<AxesSubplot:xlabel='tenure', ylabel='Count'>"
      ]
     },
     "execution_count": 198,
     "metadata": {},
     "output_type": "execute_result"
    },
    {
     "data": {
      "image/png": "[encoded data removed]",
      "text/plain": [
       "<Figure size 1440x720 with 1 Axes>"
      ]
     },
     "metadata": {},
     "output_type": "display_data"
    }
   ],
   "source": [
    "sns.histplot(data=df, x='tenure', bins=30, kde=True, hue='Churn', color='Blues')"
   ]
  },
  {
   "cell_type": "markdown",
   "metadata": {},
   "source": [
    "Berdasarkan grafik diatas, kita dapat melihat bahwa kehilangan customer paling banyak pada tenor awal sedangkan customer tetap paling banyak berada di tenor sekitar 70. Artinya, cukup banyak customer yang mungkin mencoba layanan ini dan ketika tidak menarik, maka customer akan pergi. Sebaliknya, pelanggan yang tenornya memasuki ke 70 sangat banyak karena merasa cocok atau nyaman dengan layanan yang disediakan sehingga menjadi customer tetap. Namun, perlu diperhatikan pada customer tetap ini belum mengalami peningkatan yagn signifikan tidak seperti customer yang hilan mengalami penuran tiap bulannya."
   ]
  },
  {
   "cell_type": "markdown",
   "metadata": {},
   "source": [
    "## DATA PREPROCESSING"
   ]
  },
  {
   "cell_type": "code",
   "execution_count": 20,
   "metadata": {},
   "outputs": [],
   "source": [
    "# copy data\n",
    "\n",
    "datacopy = df.copy()"
   ]
  },
  {
   "cell_type": "code",
   "execution_count": 21,
   "metadata": {},
   "outputs": [
    {
     "name": "stdout",
     "output_type": "stream",
     "text": [
      "<class 'pandas.core.frame.DataFrame'>\n",
      "RangeIndex: 7043 entries, 0 to 7042\n",
      "Data columns (total 21 columns):\n",
      " #   Column            Non-Null Count  Dtype  \n",
      "---  ------            --------------  -----  \n",
      " 0   customerID        7043 non-null   object \n",
      " 1   gender            7043 non-null   object \n",
      " 2   SeniorCitizen     7043 non-null   int64  \n",
      " 3   Partner           7043 non-null   object \n",
      " 4   Dependents        7043 non-null   object \n",
      " 5   tenure            7043 non-null   int64  \n",
      " 6   PhoneService      7043 non-null   object \n",
      " 7   MultipleLines     7043 non-null   object \n",
      " 8   InternetService   7043 non-null   object \n",
      " 9   OnlineSecurity    7043 non-null   object \n",
      " 10  OnlineBackup      7043 non-null   object \n",
      " 11  DeviceProtection  7043 non-null   object \n",
      " 12  TechSupport       7043 non-null   object \n",
      " 13  StreamingTV       7043 non-null   object \n",
      " 14  StreamingMovies   7043 non-null   object \n",
      " 15  Contract          7043 non-null   object \n",
      " 16  PaperlessBilling  7043 non-null   object \n",
      " 17  PaymentMethod     7043 non-null   object \n",
      " 18  MonthlyCharges    7043 non-null   float64\n",
      " 19  TotalCharges      7043 non-null   object \n",
      " 20  Churn             7043 non-null   object \n",
      "dtypes: float64(1), int64(2), object(18)\n",
      "memory usage: 1.1+ MB\n"
     ]
    }
   ],
   "source": [
    "datacopy.info()"
   ]
  },
  {
   "cell_type": "markdown",
   "metadata": {},
   "source": [
    "Totalcharges merupakan objecet padahal isinya angka, kita akan ubah kedalam numerik"
   ]
  },
  {
   "cell_type": "code",
   "execution_count": 22,
   "metadata": {},
   "outputs": [],
   "source": [
    "# ubah kolom churn ke biner\n",
    "datacopy.replace({'Churn': {'Yes': 1, 'No': 0}}, inplace= True)"
   ]
  },
  {
   "cell_type": "code",
   "execution_count": 23,
   "metadata": {},
   "outputs": [
    {
     "data": {
      "text/html": [
       "<div>\n",
       "<style scoped>\n",
       "    .dataframe tbody tr th:only-of-type {\n",
       "        vertical-align: middle;\n",
       "    }\n",
       "\n",
       "    .dataframe tbody tr th {\n",
       "        vertical-align: top;\n",
       "    }\n",
       "\n",
       "    .dataframe thead th {\n",
       "        text-align: right;\n",
       "    }\n",
       "</style>\n",
       "<table border=\"1\" class=\"dataframe\">\n",
       "  <thead>\n",
       "    <tr style=\"text-align: right;\">\n",
       "      <th></th>\n",
       "      <th>customerID</th>\n",
       "      <th>gender</th>\n",
       "      <th>SeniorCitizen</th>\n",
       "      <th>Partner</th>\n",
       "      <th>Dependents</th>\n",
       "      <th>tenure</th>\n",
       "      <th>PhoneService</th>\n",
       "      <th>MultipleLines</th>\n",
       "      <th>InternetService</th>\n",
       "      <th>OnlineSecurity</th>\n",
       "      <th>...</th>\n",
       "      <th>DeviceProtection</th>\n",
       "      <th>TechSupport</th>\n",
       "      <th>StreamingTV</th>\n",
       "      <th>StreamingMovies</th>\n",
       "      <th>Contract</th>\n",
       "      <th>PaperlessBilling</th>\n",
       "      <th>PaymentMethod</th>\n",
       "      <th>MonthlyCharges</th>\n",
       "      <th>TotalCharges</th>\n",
       "      <th>Churn</th>\n",
       "    </tr>\n",
       "  </thead>\n",
       "  <tbody>\n",
       "    <tr>\n",
       "      <th>0</th>\n",
       "      <td>7590-VHVEG</td>\n",
       "      <td>Female</td>\n",
       "      <td>0</td>\n",
       "      <td>Yes</td>\n",
       "      <td>No</td>\n",
       "      <td>1</td>\n",
       "      <td>No</td>\n",
       "      <td>No phone service</td>\n",
       "      <td>DSL</td>\n",
       "      <td>No</td>\n",
       "      <td>...</td>\n",
       "      <td>No</td>\n",
       "      <td>No</td>\n",
       "      <td>No</td>\n",
       "      <td>No</td>\n",
       "      <td>Month-to-month</td>\n",
       "      <td>Yes</td>\n",
       "      <td>Electronic check</td>\n",
       "      <td>29.85</td>\n",
       "      <td>29.85</td>\n",
       "      <td>0</td>\n",
       "    </tr>\n",
       "    <tr>\n",
       "      <th>1</th>\n",
       "      <td>5575-GNVDE</td>\n",
       "      <td>Male</td>\n",
       "      <td>0</td>\n",
       "      <td>No</td>\n",
       "      <td>No</td>\n",
       "      <td>34</td>\n",
       "      <td>Yes</td>\n",
       "      <td>No</td>\n",
       "      <td>DSL</td>\n",
       "      <td>Yes</td>\n",
       "      <td>...</td>\n",
       "      <td>Yes</td>\n",
       "      <td>No</td>\n",
       "      <td>No</td>\n",
       "      <td>No</td>\n",
       "      <td>One year</td>\n",
       "      <td>No</td>\n",
       "      <td>Mailed check</td>\n",
       "      <td>56.95</td>\n",
       "      <td>1889.5</td>\n",
       "      <td>0</td>\n",
       "    </tr>\n",
       "    <tr>\n",
       "      <th>2</th>\n",
       "      <td>3668-QPYBK</td>\n",
       "      <td>Male</td>\n",
       "      <td>0</td>\n",
       "      <td>No</td>\n",
       "      <td>No</td>\n",
       "      <td>2</td>\n",
       "      <td>Yes</td>\n",
       "      <td>No</td>\n",
       "      <td>DSL</td>\n",
       "      <td>Yes</td>\n",
       "      <td>...</td>\n",
       "      <td>No</td>\n",
       "      <td>No</td>\n",
       "      <td>No</td>\n",
       "      <td>No</td>\n",
       "      <td>Month-to-month</td>\n",
       "      <td>Yes</td>\n",
       "      <td>Mailed check</td>\n",
       "      <td>53.85</td>\n",
       "      <td>108.15</td>\n",
       "      <td>1</td>\n",
       "    </tr>\n",
       "    <tr>\n",
       "      <th>3</th>\n",
       "      <td>7795-CFOCW</td>\n",
       "      <td>Male</td>\n",
       "      <td>0</td>\n",
       "      <td>No</td>\n",
       "      <td>No</td>\n",
       "      <td>45</td>\n",
       "      <td>No</td>\n",
       "      <td>No phone service</td>\n",
       "      <td>DSL</td>\n",
       "      <td>Yes</td>\n",
       "      <td>...</td>\n",
       "      <td>Yes</td>\n",
       "      <td>Yes</td>\n",
       "      <td>No</td>\n",
       "      <td>No</td>\n",
       "      <td>One year</td>\n",
       "      <td>No</td>\n",
       "      <td>Bank transfer (automatic)</td>\n",
       "      <td>42.30</td>\n",
       "      <td>1840.75</td>\n",
       "      <td>0</td>\n",
       "    </tr>\n",
       "    <tr>\n",
       "      <th>4</th>\n",
       "      <td>9237-HQITU</td>\n",
       "      <td>Female</td>\n",
       "      <td>0</td>\n",
       "      <td>No</td>\n",
       "      <td>No</td>\n",
       "      <td>2</td>\n",
       "      <td>Yes</td>\n",
       "      <td>No</td>\n",
       "      <td>Fiber optic</td>\n",
       "      <td>No</td>\n",
       "      <td>...</td>\n",
       "      <td>No</td>\n",
       "      <td>No</td>\n",
       "      <td>No</td>\n",
       "      <td>No</td>\n",
       "      <td>Month-to-month</td>\n",
       "      <td>Yes</td>\n",
       "      <td>Electronic check</td>\n",
       "      <td>70.70</td>\n",
       "      <td>151.65</td>\n",
       "      <td>1</td>\n",
       "    </tr>\n",
       "  </tbody>\n",
       "</table>\n",
       "<p>5 rows × 21 columns</p>\n",
       "</div>"
      ],
      "text/plain": [
       "   customerID  gender  SeniorCitizen Partner Dependents  tenure PhoneService  \\\n",
       "0  7590-VHVEG  Female              0     Yes         No       1           No   \n",
       "1  5575-GNVDE    Male              0      No         No      34          Yes   \n",
       "2  3668-QPYBK    Male              0      No         No       2          Yes   \n",
       "3  7795-CFOCW    Male              0      No         No      45           No   \n",
       "4  9237-HQITU  Female              0      No         No       2          Yes   \n",
       "\n",
       "      MultipleLines InternetService OnlineSecurity  ... DeviceProtection  \\\n",
       "0  No phone service             DSL             No  ...               No   \n",
       "1                No             DSL            Yes  ...              Yes   \n",
       "2                No             DSL            Yes  ...               No   \n",
       "3  No phone service             DSL            Yes  ...              Yes   \n",
       "4                No     Fiber optic             No  ...               No   \n",
       "\n",
       "  TechSupport StreamingTV StreamingMovies        Contract PaperlessBilling  \\\n",
       "0          No          No              No  Month-to-month              Yes   \n",
       "1          No          No              No        One year               No   \n",
       "2          No          No              No  Month-to-month              Yes   \n",
       "3         Yes          No              No        One year               No   \n",
       "4          No          No              No  Month-to-month              Yes   \n",
       "\n",
       "               PaymentMethod MonthlyCharges  TotalCharges Churn  \n",
       "0           Electronic check          29.85         29.85     0  \n",
       "1               Mailed check          56.95        1889.5     0  \n",
       "2               Mailed check          53.85        108.15     1  \n",
       "3  Bank transfer (automatic)          42.30       1840.75     0  \n",
       "4           Electronic check          70.70        151.65     1  \n",
       "\n",
       "[5 rows x 21 columns]"
      ]
     },
     "execution_count": 23,
     "metadata": {},
     "output_type": "execute_result"
    }
   ],
   "source": [
    "datacopy.head()"
   ]
  },
  {
   "cell_type": "code",
   "execution_count": 24,
   "metadata": {},
   "outputs": [],
   "source": [
    "# ubah tipe data ke numerik\n",
    "#datacopy['TotalCharges'] = datacopy['TotalCharges'].astype(float)"
   ]
  },
  {
   "cell_type": "markdown",
   "metadata": {},
   "source": [
    "Dengan fungsi diatas terdapat error \" \" yang menandakan datanya kosong sehingga akan kita handle"
   ]
  },
  {
   "cell_type": "code",
   "execution_count": 25,
   "metadata": {},
   "outputs": [],
   "source": [
    "datacopy['TotalCharges'] = datacopy['TotalCharges'].replace(\" \", np.nan)"
   ]
  },
  {
   "cell_type": "code",
   "execution_count": 26,
   "metadata": {},
   "outputs": [],
   "source": [
    "datacopy['TotalCharges'] = datacopy['TotalCharges'].astype(float)"
   ]
  },
  {
   "cell_type": "code",
   "execution_count": 27,
   "metadata": {},
   "outputs": [
    {
     "name": "stdout",
     "output_type": "stream",
     "text": [
      "<class 'pandas.core.frame.DataFrame'>\n",
      "RangeIndex: 7043 entries, 0 to 7042\n",
      "Data columns (total 21 columns):\n",
      " #   Column            Non-Null Count  Dtype  \n",
      "---  ------            --------------  -----  \n",
      " 0   customerID        7043 non-null   object \n",
      " 1   gender            7043 non-null   object \n",
      " 2   SeniorCitizen     7043 non-null   int64  \n",
      " 3   Partner           7043 non-null   object \n",
      " 4   Dependents        7043 non-null   object \n",
      " 5   tenure            7043 non-null   int64  \n",
      " 6   PhoneService      7043 non-null   object \n",
      " 7   MultipleLines     7043 non-null   object \n",
      " 8   InternetService   7043 non-null   object \n",
      " 9   OnlineSecurity    7043 non-null   object \n",
      " 10  OnlineBackup      7043 non-null   object \n",
      " 11  DeviceProtection  7043 non-null   object \n",
      " 12  TechSupport       7043 non-null   object \n",
      " 13  StreamingTV       7043 non-null   object \n",
      " 14  StreamingMovies   7043 non-null   object \n",
      " 15  Contract          7043 non-null   object \n",
      " 16  PaperlessBilling  7043 non-null   object \n",
      " 17  PaymentMethod     7043 non-null   object \n",
      " 18  MonthlyCharges    7043 non-null   float64\n",
      " 19  TotalCharges      7032 non-null   float64\n",
      " 20  Churn             7043 non-null   int64  \n",
      "dtypes: float64(2), int64(3), object(16)\n",
      "memory usage: 1.1+ MB\n"
     ]
    }
   ],
   "source": [
    "# cek info untuk lihat missing values\n",
    "datacopy.info()"
   ]
  },
  {
   "cell_type": "code",
   "execution_count": 28,
   "metadata": {},
   "outputs": [],
   "source": [
    "# terdapat data hilang dan karena jumlahnya dikit maka akan didrop\n",
    "\n",
    "datacopy.dropna(inplace= True)"
   ]
  },
  {
   "cell_type": "code",
   "execution_count": 29,
   "metadata": {},
   "outputs": [
    {
     "data": {
      "text/plain": [
       "customerID          0\n",
       "gender              0\n",
       "SeniorCitizen       0\n",
       "Partner             0\n",
       "Dependents          0\n",
       "tenure              0\n",
       "PhoneService        0\n",
       "MultipleLines       0\n",
       "InternetService     0\n",
       "OnlineSecurity      0\n",
       "OnlineBackup        0\n",
       "DeviceProtection    0\n",
       "TechSupport         0\n",
       "StreamingTV         0\n",
       "StreamingMovies     0\n",
       "Contract            0\n",
       "PaperlessBilling    0\n",
       "PaymentMethod       0\n",
       "MonthlyCharges      0\n",
       "TotalCharges        0\n",
       "Churn               0\n",
       "dtype: int64"
      ]
     },
     "execution_count": 29,
     "metadata": {},
     "output_type": "execute_result"
    }
   ],
   "source": [
    "# cek kembali missing values\n",
    "\n",
    "datacopy.isnull().sum()"
   ]
  },
  {
   "cell_type": "markdown",
   "metadata": {},
   "source": [
    "Ukuran data telah berkurang karena missing values didrop"
   ]
  },
  {
   "cell_type": "code",
   "execution_count": 31,
   "metadata": {},
   "outputs": [
    {
     "name": "stdout",
     "output_type": "stream",
     "text": [
      "<class 'pandas.core.frame.DataFrame'>\n",
      "Int64Index: 7032 entries, 0 to 7042\n",
      "Data columns (total 21 columns):\n",
      " #   Column            Non-Null Count  Dtype   \n",
      "---  ------            --------------  -----   \n",
      " 0   customerID        7032 non-null   object  \n",
      " 1   gender            7032 non-null   object  \n",
      " 2   SeniorCitizen     7032 non-null   int64   \n",
      " 3   Partner           7032 non-null   object  \n",
      " 4   Dependents        7032 non-null   object  \n",
      " 5   tenure            7032 non-null   int64   \n",
      " 6   PhoneService      7032 non-null   object  \n",
      " 7   MultipleLines     7032 non-null   object  \n",
      " 8   InternetService   7032 non-null   object  \n",
      " 9   OnlineSecurity    7032 non-null   object  \n",
      " 10  OnlineBackup      7032 non-null   object  \n",
      " 11  DeviceProtection  7032 non-null   object  \n",
      " 12  TechSupport       7032 non-null   object  \n",
      " 13  StreamingTV       7032 non-null   object  \n",
      " 14  StreamingMovies   7032 non-null   object  \n",
      " 15  Contract          7032 non-null   object  \n",
      " 16  PaperlessBilling  7032 non-null   object  \n",
      " 17  PaymentMethod     7032 non-null   object  \n",
      " 18  MonthlyCharges    7032 non-null   float64 \n",
      " 19  TotalCharges      7032 non-null   float64 \n",
      " 20  Churn             7032 non-null   category\n",
      "dtypes: category(1), float64(2), int64(2), object(16)\n",
      "memory usage: 1.1+ MB\n"
     ]
    }
   ],
   "source": [
    "# ubah data target ke kategorikal\n",
    "\n",
    "datacopy['Churn'] = datacopy['Churn'].astype('category')\n",
    "datacopy.info()"
   ]
  },
  {
   "cell_type": "markdown",
   "metadata": {},
   "source": [
    "### Handling outlier"
   ]
  },
  {
   "cell_type": "code",
   "execution_count": 32,
   "metadata": {},
   "outputs": [],
   "source": [
    "# drop kolom yang tidak akan digunakan\n",
    "datacopy.drop(['customerID','gender','SeniorCitizen'],axis=1, inplace= True)"
   ]
  },
  {
   "cell_type": "code",
   "execution_count": 33,
   "metadata": {},
   "outputs": [
    {
     "data": {
      "text/plain": [
       "tenure            0.237731\n",
       "MonthlyCharges   -0.222103\n",
       "TotalCharges      0.961642\n",
       "dtype: float64"
      ]
     },
     "execution_count": 33,
     "metadata": {},
     "output_type": "execute_result"
    }
   ],
   "source": [
    "# cek skewness data\n",
    "\n",
    "datacopy.skew()"
   ]
  },
  {
   "cell_type": "markdown",
   "metadata": {},
   "source": [
    "Data yang skew adalah totalcharges namun masih dianggap wajar untuk outliernya sehingga tidak akan dilakukan fungsi trimming ataupun crapping"
   ]
  },
  {
   "cell_type": "markdown",
   "metadata": {},
   "source": [
    "### Split data"
   ]
  },
  {
   "cell_type": "code",
   "execution_count": 34,
   "metadata": {},
   "outputs": [],
   "source": [
    "# split between X dan y\n",
    "\n",
    "X = datacopy.drop(['Churn'], axis = 1)\n",
    "y= datacopy['Churn']"
   ]
  },
  {
   "cell_type": "code",
   "execution_count": 35,
   "metadata": {},
   "outputs": [],
   "source": [
    "X_train_full, X_val, y_train_full, y_val = train_test_split(X, y, shuffle=True, test_size=0.2)\n",
    "X_train, X_test, y_train, y_test = train_test_split(X_train_full, y_train_full, shuffle=True, test_size=0.2)"
   ]
  },
  {
   "cell_type": "code",
   "execution_count": 36,
   "metadata": {},
   "outputs": [
    {
     "name": "stdout",
     "output_type": "stream",
     "text": [
      "train size: (4500, 17)\n",
      "val size: (1407, 17)\n",
      "test size: (1125, 17)\n"
     ]
    }
   ],
   "source": [
    "print('train size:', X_train.shape)\n",
    "print('val size:', X_val.shape)\n",
    "print('test size:', X_test.shape)\n"
   ]
  },
  {
   "cell_type": "markdown",
   "metadata": {},
   "source": [
    "### Feature Scaling\n",
    "\n",
    "Karena kolom numerik datanya terdistribusi normal, akan digunakan standardscaller"
   ]
  },
  {
   "cell_type": "code",
   "execution_count": 37,
   "metadata": {},
   "outputs": [
    {
     "name": "stdout",
     "output_type": "stream",
     "text": [
      "Kolom yang merupakan number adalah:  ['tenure', 'MonthlyCharges', 'TotalCharges']\n",
      "\n",
      " Kolom yang merupakan categorical adalah:  ['Partner', 'Dependents', 'PhoneService', 'MultipleLines', 'InternetService', 'OnlineSecurity', 'OnlineBackup', 'DeviceProtection', 'TechSupport', 'StreamingTV', 'StreamingMovies', 'Contract', 'PaperlessBilling', 'PaymentMethod']\n"
     ]
    }
   ],
   "source": [
    "# mendefinisikan mana kolom yang berisi number maupun categorical\n",
    "num_columns = X_train_full.select_dtypes(include=np.number).columns.tolist()\n",
    "cat_columns = X_train_full.select_dtypes(include=['object']).columns.tolist()\n",
    "\n",
    "print ('Kolom yang merupakan number adalah: ',num_columns)\n",
    "\n",
    "print ('\\n Kolom yang merupakan categorical adalah: ',cat_columns)"
   ]
  },
  {
   "cell_type": "code",
   "execution_count": 38,
   "metadata": {},
   "outputs": [],
   "source": [
    "# buat variabel baru untuk kategorikal dan numerik\n",
    "\n",
    "X_train_num = X_train[num_columns]\n",
    "X_train_cat = X_train[cat_columns]\n",
    "\n",
    "X_test_num = X_test[num_columns]\n",
    "X_test_cat = X_test[cat_columns]\n",
    "\n",
    "X_val_num = X_val[num_columns]\n",
    "X_val_cat = X_val[cat_columns]"
   ]
  },
  {
   "cell_type": "code",
   "execution_count": 39,
   "metadata": {},
   "outputs": [],
   "source": [
    "# feature scaling\n",
    "scaler = StandardScaler()\n",
    "\n",
    "# lakukan fit scaling untuk tiap data\n",
    "scaler.fit(X_train_num)\n",
    "\n",
    "# lakukan transform scaling untuk tiap data \n",
    "X_test_scaled = scaler.transform(X_test_num)\n",
    "X_train_scaled = scaler.transform(X_train_num)\n",
    "X_val_scaled = scaler.transform(X_val_num)"
   ]
  },
  {
   "cell_type": "markdown",
   "metadata": {},
   "source": [
    "### Feature Encoding\n",
    "\n",
    "Karena data kategorikal bukan merupakan data ordinal, maka akan digunakan onehotencoder"
   ]
  },
  {
   "cell_type": "code",
   "execution_count": 40,
   "metadata": {},
   "outputs": [],
   "source": [
    "# feature encoding\n",
    "\n",
    "encoder = OneHotEncoder()\n",
    "\n",
    "# lakukan fit encoding untuk tiap data\n",
    "encoder.fit(X_train_cat)\n",
    "\n",
    "# lakukan transform encoding untuk tiap data\n",
    "X_test_encoded = encoder.transform(X_test_cat).toarray()\n",
    "X_train_encoded = encoder.transform(X_train_cat).toarray()\n",
    "X_val_encoded = encoder.transform(X_val_cat).toarray()"
   ]
  },
  {
   "cell_type": "code",
   "execution_count": 41,
   "metadata": {},
   "outputs": [],
   "source": [
    "# concate columns semuanya yg cat dan num\n",
    "\n",
    "X_train_final = np.concatenate([X_train_scaled, X_train_encoded], axis =1)\n",
    "X_test_final = np.concatenate([X_test_scaled, X_test_encoded], axis =1)\n",
    "X_val_final = np.concatenate([X_val_scaled, X_val_encoded], axis =1)"
   ]
  },
  {
   "cell_type": "code",
   "execution_count": 42,
   "metadata": {},
   "outputs": [
    {
     "data": {
      "text/plain": [
       "(42,)"
      ]
     },
     "execution_count": 42,
     "metadata": {},
     "output_type": "execute_result"
    }
   ],
   "source": [
    "X_train_final.shape[1:]"
   ]
  },
  {
   "cell_type": "code",
   "execution_count": 43,
   "metadata": {},
   "outputs": [
    {
     "data": {
      "text/plain": [
       "1"
      ]
     },
     "execution_count": 43,
     "metadata": {},
     "output_type": "execute_result"
    }
   ],
   "source": [
    "len(X_train_final.shape[1:])"
   ]
  },
  {
   "cell_type": "markdown",
   "metadata": {},
   "source": [
    "## MODEL DEFINITION\n",
    "\n",
    "Untuk pendefinisian ini, digunakan parameter seperti initializer, activation, dll dengan random berdasarkan hasil pembelajaran selama ini. Kemudian akan digunakan sequential API pada pemodelan. Untuk functional API akan dilaksanakan setelah proses model improvement"
   ]
  },
  {
   "cell_type": "code",
   "execution_count": 148,
   "metadata": {},
   "outputs": [],
   "source": [
    "model = tf.keras.models.Sequential()\n",
    "model.add(tf.keras.layers.Dense(64,input_shape=X_train_final.shape[1:],kernel_initializer= tf.keras.initializers.GlorotUniform(seed =40), activation = 'tanh'))\n",
    "\n",
    "\n",
    "model.add(tf.keras.layers.Dense(32))\n",
    "model.add(tf.keras.layers.Activation('relu'))\n",
    "\n",
    "\n",
    "model.add(tf.keras.layers.Dense(16))\n",
    "model.add(tf.keras.layers.Activation('relu'))\n",
    "\n",
    "\n",
    "model.add(tf.keras.layers.Dense(8))\n",
    "model.add(tf.keras.layers.Activation('relu'))\n",
    "\n",
    "\n",
    "model.add(tf.keras.layers.Dense(1, activation='relu'))"
   ]
  },
  {
   "cell_type": "markdown",
   "metadata": {},
   "source": [
    "## MODEL TRAINING"
   ]
  },
  {
   "cell_type": "code",
   "execution_count": 151,
   "metadata": {},
   "outputs": [],
   "source": [
    "model.compile(loss='binary_crossentropy',\n",
    "              optimizer=tf.keras.optimizers.SGD(learning_rate=0.15,clipvalue=1.0),\n",
    "              metrics='accuracy')"
   ]
  },
  {
   "cell_type": "code",
   "execution_count": 150,
   "metadata": {},
   "outputs": [
    {
     "name": "stdout",
     "output_type": "stream",
     "text": [
      "Model: \"sequential_5\"\n",
      "_________________________________________________________________\n",
      " Layer (type)                Output Shape              Param #   \n",
      "=================================================================\n",
      " dense_35 (Dense)            (None, 64)                2752      \n",
      "                                                                 \n",
      " dense_36 (Dense)            (None, 32)                2080      \n",
      "                                                                 \n",
      " activation_23 (Activation)  (None, 32)                0         \n",
      "                                                                 \n",
      " dense_37 (Dense)            (None, 16)                528       \n",
      "                                                                 \n",
      " activation_24 (Activation)  (None, 16)                0         \n",
      "                                                                 \n",
      " dense_38 (Dense)            (None, 8)                 136       \n",
      "                                                                 \n",
      " activation_25 (Activation)  (None, 8)                 0         \n",
      "                                                                 \n",
      " dense_39 (Dense)            (None, 1)                 9         \n",
      "                                                                 \n",
      "=================================================================\n",
      "Total params: 5,505\n",
      "Trainable params: 5,505\n",
      "Non-trainable params: 0\n",
      "_________________________________________________________________\n"
     ]
    }
   ],
   "source": [
    "model.summary()"
   ]
  },
  {
   "cell_type": "code",
   "execution_count": 152,
   "metadata": {},
   "outputs": [
    {
     "name": "stdout",
     "output_type": "stream",
     "text": [
      "Epoch 1/70\n",
      "71/71 [==============================] - 1s 6ms/step - loss: 0.6538 - accuracy: 0.7487 - val_loss: 0.8560 - val_accuracy: 0.7122\n",
      "Epoch 2/70\n",
      "71/71 [==============================] - 0s 4ms/step - loss: 0.6857 - accuracy: 0.7420 - val_loss: 4.2670 - val_accuracy: 0.7086\n",
      "Epoch 3/70\n",
      "71/71 [==============================] - 0s 4ms/step - loss: 0.8511 - accuracy: 0.7420 - val_loss: 0.4549 - val_accuracy: 0.7875\n",
      "Epoch 4/70\n",
      "71/71 [==============================] - 0s 4ms/step - loss: 0.6429 - accuracy: 0.7476 - val_loss: 7.7721 - val_accuracy: 0.4392\n",
      "Epoch 5/70\n",
      "71/71 [==============================] - 0s 3ms/step - loss: 4.1998 - accuracy: 0.7131 - val_loss: 4.4948 - val_accuracy: 0.7086\n",
      "Epoch 6/70\n",
      "71/71 [==============================] - 0s 3ms/step - loss: 3.9968 - accuracy: 0.7409 - val_loss: 4.4948 - val_accuracy: 0.7086\n",
      "Epoch 7/70\n",
      "71/71 [==============================] - 0s 4ms/step - loss: 3.9968 - accuracy: 0.7409 - val_loss: 4.4948 - val_accuracy: 0.7086\n",
      "Epoch 8/70\n",
      "71/71 [==============================] - 0s 5ms/step - loss: 3.9968 - accuracy: 0.7409 - val_loss: 4.4948 - val_accuracy: 0.7086\n",
      "Epoch 9/70\n",
      "71/71 [==============================] - 0s 5ms/step - loss: 3.9968 - accuracy: 0.7409 - val_loss: 4.4948 - val_accuracy: 0.7086\n",
      "Epoch 10/70\n",
      "71/71 [==============================] - 0s 4ms/step - loss: 3.9968 - accuracy: 0.7409 - val_loss: 4.4948 - val_accuracy: 0.7086\n",
      "Epoch 11/70\n",
      "71/71 [==============================] - 0s 4ms/step - loss: 3.9968 - accuracy: 0.7409 - val_loss: 4.4948 - val_accuracy: 0.7086\n",
      "Epoch 12/70\n",
      "71/71 [==============================] - 0s 3ms/step - loss: 3.9968 - accuracy: 0.7409 - val_loss: 4.4948 - val_accuracy: 0.7086\n",
      "Epoch 13/70\n",
      "71/71 [==============================] - 0s 4ms/step - loss: 3.9968 - accuracy: 0.7409 - val_loss: 4.4948 - val_accuracy: 0.7086\n",
      "Epoch 14/70\n",
      "71/71 [==============================] - 0s 3ms/step - loss: 3.9968 - accuracy: 0.7409 - val_loss: 4.4948 - val_accuracy: 0.7086\n",
      "Epoch 15/70\n",
      "71/71 [==============================] - 0s 4ms/step - loss: 3.9968 - accuracy: 0.7409 - val_loss: 4.4948 - val_accuracy: 0.7086\n",
      "Epoch 16/70\n",
      "71/71 [==============================] - 0s 3ms/step - loss: 3.9968 - accuracy: 0.7409 - val_loss: 4.4948 - val_accuracy: 0.7086\n",
      "Epoch 17/70\n",
      "71/71 [==============================] - 0s 5ms/step - loss: 3.9968 - accuracy: 0.7409 - val_loss: 4.4948 - val_accuracy: 0.7086\n",
      "Epoch 18/70\n",
      "71/71 [==============================] - 0s 4ms/step - loss: 3.9968 - accuracy: 0.7409 - val_loss: 4.4948 - val_accuracy: 0.7086\n",
      "Epoch 19/70\n",
      "71/71 [==============================] - 0s 4ms/step - loss: 3.9968 - accuracy: 0.7409 - val_loss: 4.4948 - val_accuracy: 0.7086\n",
      "Epoch 20/70\n",
      "71/71 [==============================] - 0s 3ms/step - loss: 3.9968 - accuracy: 0.7409 - val_loss: 4.4948 - val_accuracy: 0.7086\n",
      "Epoch 21/70\n",
      "71/71 [==============================] - 0s 3ms/step - loss: 3.9968 - accuracy: 0.7409 - val_loss: 4.4948 - val_accuracy: 0.7086\n",
      "Epoch 22/70\n",
      "71/71 [==============================] - 0s 3ms/step - loss: 3.9968 - accuracy: 0.7409 - val_loss: 4.4948 - val_accuracy: 0.7086\n",
      "Epoch 23/70\n",
      "71/71 [==============================] - 0s 3ms/step - loss: 3.9968 - accuracy: 0.7409 - val_loss: 4.4948 - val_accuracy: 0.7086\n",
      "Epoch 24/70\n",
      "71/71 [==============================] - 0s 4ms/step - loss: 3.9968 - accuracy: 0.7409 - val_loss: 4.4948 - val_accuracy: 0.7086\n",
      "Epoch 25/70\n",
      "71/71 [==============================] - 0s 3ms/step - loss: 3.9968 - accuracy: 0.7409 - val_loss: 4.4948 - val_accuracy: 0.7086\n",
      "Epoch 26/70\n",
      "71/71 [==============================] - 0s 3ms/step - loss: 3.9968 - accuracy: 0.7409 - val_loss: 4.4948 - val_accuracy: 0.7086\n",
      "Epoch 27/70\n",
      "71/71 [==============================] - 0s 3ms/step - loss: 3.9968 - accuracy: 0.7409 - val_loss: 4.4948 - val_accuracy: 0.7086\n",
      "Epoch 28/70\n",
      "71/71 [==============================] - 0s 3ms/step - loss: 3.9968 - accuracy: 0.7409 - val_loss: 4.4948 - val_accuracy: 0.7086\n",
      "Epoch 29/70\n",
      "71/71 [==============================] - 0s 3ms/step - loss: 3.9968 - accuracy: 0.7409 - val_loss: 4.4948 - val_accuracy: 0.7086\n",
      "Epoch 30/70\n",
      "71/71 [==============================] - 0s 3ms/step - loss: 3.9968 - accuracy: 0.7409 - val_loss: 4.4948 - val_accuracy: 0.7086\n",
      "Epoch 31/70\n",
      "71/71 [==============================] - 0s 3ms/step - loss: 3.9968 - accuracy: 0.7409 - val_loss: 4.4948 - val_accuracy: 0.7086\n",
      "Epoch 32/70\n",
      "71/71 [==============================] - 0s 3ms/step - loss: 3.9968 - accuracy: 0.7409 - val_loss: 4.4948 - val_accuracy: 0.7086\n",
      "Epoch 33/70\n",
      "71/71 [==============================] - 0s 4ms/step - loss: 3.9968 - accuracy: 0.7409 - val_loss: 4.4948 - val_accuracy: 0.7086\n",
      "Epoch 34/70\n",
      "71/71 [==============================] - 0s 3ms/step - loss: 3.9968 - accuracy: 0.7409 - val_loss: 4.4948 - val_accuracy: 0.7086\n",
      "Epoch 35/70\n",
      "71/71 [==============================] - 0s 3ms/step - loss: 3.9968 - accuracy: 0.7409 - val_loss: 4.4948 - val_accuracy: 0.7086\n",
      "Epoch 36/70\n",
      "71/71 [==============================] - 0s 3ms/step - loss: 3.9968 - accuracy: 0.7409 - val_loss: 4.4948 - val_accuracy: 0.7086\n",
      "Epoch 37/70\n",
      "71/71 [==============================] - 0s 3ms/step - loss: 3.9968 - accuracy: 0.7409 - val_loss: 4.4948 - val_accuracy: 0.7086\n",
      "Epoch 38/70\n",
      "71/71 [==============================] - 0s 4ms/step - loss: 3.9968 - accuracy: 0.7409 - val_loss: 4.4948 - val_accuracy: 0.7086\n",
      "Epoch 39/70\n",
      "71/71 [==============================] - 0s 3ms/step - loss: 3.9968 - accuracy: 0.7409 - val_loss: 4.4948 - val_accuracy: 0.7086\n",
      "Epoch 40/70\n",
      "71/71 [==============================] - 0s 3ms/step - loss: 3.9968 - accuracy: 0.7409 - val_loss: 4.4948 - val_accuracy: 0.7086\n",
      "Epoch 41/70\n",
      "71/71 [==============================] - 0s 3ms/step - loss: 3.9968 - accuracy: 0.7409 - val_loss: 4.4948 - val_accuracy: 0.7086\n",
      "Epoch 42/70\n",
      "71/71 [==============================] - 0s 3ms/step - loss: 3.9968 - accuracy: 0.7409 - val_loss: 4.4948 - val_accuracy: 0.7086\n",
      "Epoch 43/70\n",
      "71/71 [==============================] - 0s 4ms/step - loss: 3.9968 - accuracy: 0.7409 - val_loss: 4.4948 - val_accuracy: 0.7086\n",
      "Epoch 44/70\n",
      "71/71 [==============================] - 0s 3ms/step - loss: 3.9968 - accuracy: 0.7409 - val_loss: 4.4948 - val_accuracy: 0.7086\n",
      "Epoch 45/70\n",
      "71/71 [==============================] - 0s 3ms/step - loss: 3.9968 - accuracy: 0.7409 - val_loss: 4.4948 - val_accuracy: 0.7086\n",
      "Epoch 46/70\n",
      "71/71 [==============================] - 0s 3ms/step - loss: 3.9968 - accuracy: 0.7409 - val_loss: 4.4948 - val_accuracy: 0.7086\n",
      "Epoch 47/70\n",
      "71/71 [==============================] - 0s 4ms/step - loss: 3.9968 - accuracy: 0.7409 - val_loss: 4.4948 - val_accuracy: 0.7086\n",
      "Epoch 48/70\n",
      "71/71 [==============================] - 0s 3ms/step - loss: 3.9968 - accuracy: 0.7409 - val_loss: 4.4948 - val_accuracy: 0.7086\n",
      "Epoch 49/70\n",
      "71/71 [==============================] - 0s 3ms/step - loss: 3.9968 - accuracy: 0.7409 - val_loss: 4.4948 - val_accuracy: 0.7086\n",
      "Epoch 50/70\n",
      "71/71 [==============================] - 0s 3ms/step - loss: 3.9968 - accuracy: 0.7409 - val_loss: 4.4948 - val_accuracy: 0.7086\n",
      "Epoch 51/70\n",
      "71/71 [==============================] - 0s 3ms/step - loss: 3.9968 - accuracy: 0.7409 - val_loss: 4.4948 - val_accuracy: 0.7086\n",
      "Epoch 52/70\n",
      "71/71 [==============================] - 0s 4ms/step - loss: 3.9968 - accuracy: 0.7409 - val_loss: 4.4948 - val_accuracy: 0.7086\n",
      "Epoch 53/70\n",
      "71/71 [==============================] - 0s 3ms/step - loss: 3.9968 - accuracy: 0.7409 - val_loss: 4.4948 - val_accuracy: 0.7086\n",
      "Epoch 54/70\n",
      "71/71 [==============================] - 0s 3ms/step - loss: 3.9968 - accuracy: 0.7409 - val_loss: 4.4948 - val_accuracy: 0.7086\n",
      "Epoch 55/70\n",
      "71/71 [==============================] - 0s 4ms/step - loss: 3.9968 - accuracy: 0.7409 - val_loss: 4.4948 - val_accuracy: 0.7086\n",
      "Epoch 56/70\n",
      "71/71 [==============================] - 0s 5ms/step - loss: 3.9968 - accuracy: 0.7409 - val_loss: 4.4948 - val_accuracy: 0.7086\n",
      "Epoch 57/70\n",
      "71/71 [==============================] - 0s 3ms/step - loss: 3.9968 - accuracy: 0.7409 - val_loss: 4.4948 - val_accuracy: 0.7086\n",
      "Epoch 58/70\n",
      "71/71 [==============================] - 0s 4ms/step - loss: 3.9968 - accuracy: 0.7409 - val_loss: 4.4948 - val_accuracy: 0.7086\n",
      "Epoch 59/70\n",
      "71/71 [==============================] - 0s 3ms/step - loss: 3.9968 - accuracy: 0.7409 - val_loss: 4.4948 - val_accuracy: 0.7086\n",
      "Epoch 60/70\n",
      "71/71 [==============================] - 0s 3ms/step - loss: 3.9968 - accuracy: 0.7409 - val_loss: 4.4948 - val_accuracy: 0.7086\n",
      "Epoch 61/70\n",
      "71/71 [==============================] - 0s 4ms/step - loss: 3.9968 - accuracy: 0.7409 - val_loss: 4.4948 - val_accuracy: 0.7086\n",
      "Epoch 62/70\n",
      "71/71 [==============================] - 0s 3ms/step - loss: 3.9968 - accuracy: 0.7409 - val_loss: 4.4948 - val_accuracy: 0.7086\n",
      "Epoch 63/70\n",
      "71/71 [==============================] - 0s 3ms/step - loss: 3.9968 - accuracy: 0.7409 - val_loss: 4.4948 - val_accuracy: 0.7086\n",
      "Epoch 64/70\n",
      "71/71 [==============================] - 0s 3ms/step - loss: 3.9968 - accuracy: 0.7409 - val_loss: 4.4948 - val_accuracy: 0.7086\n",
      "Epoch 65/70\n",
      "71/71 [==============================] - 0s 4ms/step - loss: 3.9968 - accuracy: 0.7409 - val_loss: 4.4948 - val_accuracy: 0.7086\n",
      "Epoch 66/70\n",
      "71/71 [==============================] - 0s 3ms/step - loss: 3.9968 - accuracy: 0.7409 - val_loss: 4.4948 - val_accuracy: 0.7086\n",
      "Epoch 67/70\n",
      "71/71 [==============================] - 0s 3ms/step - loss: 3.9968 - accuracy: 0.7409 - val_loss: 4.4948 - val_accuracy: 0.7086\n",
      "Epoch 68/70\n",
      "71/71 [==============================] - 0s 3ms/step - loss: 3.9968 - accuracy: 0.7409 - val_loss: 4.4948 - val_accuracy: 0.7086\n",
      "Epoch 69/70\n",
      "71/71 [==============================] - 0s 4ms/step - loss: 3.9968 - accuracy: 0.7409 - val_loss: 4.4948 - val_accuracy: 0.7086\n",
      "Epoch 70/70\n",
      "71/71 [==============================] - 0s 5ms/step - loss: 3.9968 - accuracy: 0.7409 - val_loss: 4.4948 - val_accuracy: 0.7086\n"
     ]
    }
   ],
   "source": [
    "history = model.fit(X_train_final, y_train, epochs=70, batch_size=64,\n",
    "                    validation_data=(X_val_final,y_val),verbose=1)"
   ]
  },
  {
   "cell_type": "code",
   "execution_count": 153,
   "metadata": {},
   "outputs": [
    {
     "data": {
      "text/plain": [
       "<matplotlib.legend.Legend at 0x14cf90f55b0>"
      ]
     },
     "execution_count": 153,
     "metadata": {},
     "output_type": "execute_result"
    },
    {
     "data": {
      "image/png": "[encoded data removed]",
      "text/plain": [
       "<Figure size 1440x720 with 1 Axes>"
      ]
     },
     "metadata": {},
     "output_type": "display_data"
    }
   ],
   "source": [
    "# plot hasil ke grafik\n",
    "fig, ax = plt.subplots()\n",
    "ax.plot(history.history['loss'],label='train loss')\n",
    "ax.plot(history.history['val_loss'],label='val loss')\n",
    "ax.set_xlabel('Epoch')\n",
    "ax.set_ylabel('Loss')\n",
    "plt.legend()"
   ]
  },
  {
   "cell_type": "markdown",
   "metadata": {},
   "source": [
    "### MODEL IMPROVEMENT\n",
    "\n",
    "Karena hasil diatas sangat kurang baik, maka akan dilakukan trial & error pada bagian ini untuk mendapatkan hasil yang baik"
   ]
  },
  {
   "cell_type": "code",
   "execution_count": 154,
   "metadata": {},
   "outputs": [],
   "source": [
    "model = tf.keras.models.Sequential()\n",
    "model.add(tf.keras.layers.Dense(128,input_shape=X_train_final.shape[1:], kernel_initializer='uniform', activation='relu'))\n",
    "model.add(tf.keras.layers.Dropout(rate=0.1))\n",
    "\n",
    "model.add(tf.keras.layers.Dense(64, kernel_initializer='uniform'))\n",
    "model.add(tf.keras.layers.Activation('relu'))\n",
    "model.add(tf.keras.layers.Dropout(rate=0.1))\n",
    "\n",
    "model.add(tf.keras.layers.Dense(32, kernel_initializer='uniform'))\n",
    "model.add(tf.keras.layers.Activation('relu'))\n",
    "model.add(tf.keras.layers.Dropout(rate=0.1))\n",
    "\n",
    "model.add(tf.keras.layers.Dense(16, kernel_initializer='uniform'))\n",
    "model.add(tf.keras.layers.Activation('relu'))\n",
    "model.add(tf.keras.layers.Dropout(rate=0.1))\n",
    "\n",
    "model.add(tf.keras.layers.Dense(1, kernel_initializer='uniform', activation='sigmoid'))"
   ]
  },
  {
   "cell_type": "code",
   "execution_count": 155,
   "metadata": {},
   "outputs": [],
   "source": [
    "model.compile(loss='binary_crossentropy',\n",
    "              optimizer=tf.keras.optimizers.Adamax(learning_rate=0.15,clipvalue= 1.0), \n",
    "              metrics=['acc'])"
   ]
  },
  {
   "cell_type": "code",
   "execution_count": 156,
   "metadata": {},
   "outputs": [
    {
     "name": "stdout",
     "output_type": "stream",
     "text": [
      "Epoch 1/100\n",
      "71/71 [==============================] - 2s 7ms/step - loss: 0.6461 - acc: 0.7333 - val_loss: 0.5338 - val_acc: 0.7086\n",
      "Epoch 2/100\n",
      "71/71 [==============================] - 0s 5ms/step - loss: 0.4785 - acc: 0.7413 - val_loss: 0.4818 - val_acc: 0.7079\n",
      "Epoch 3/100\n",
      "71/71 [==============================] - 0s 5ms/step - loss: 0.4736 - acc: 0.7400 - val_loss: 0.4691 - val_acc: 0.7086\n",
      "Epoch 4/100\n",
      "71/71 [==============================] - 0s 4ms/step - loss: 0.4648 - acc: 0.7531 - val_loss: 0.4466 - val_acc: 0.7839\n",
      "Epoch 5/100\n",
      "71/71 [==============================] - 0s 4ms/step - loss: 0.4673 - acc: 0.7718 - val_loss: 0.4434 - val_acc: 0.7960\n",
      "Epoch 6/100\n",
      "71/71 [==============================] - 0s 5ms/step - loss: 0.4663 - acc: 0.7611 - val_loss: 0.4440 - val_acc: 0.7768\n",
      "Epoch 7/100\n",
      "71/71 [==============================] - 0s 5ms/step - loss: 0.4514 - acc: 0.7884 - val_loss: 0.4619 - val_acc: 0.7889\n",
      "Epoch 8/100\n",
      "71/71 [==============================] - 0s 3ms/step - loss: 0.4610 - acc: 0.7664 - val_loss: 0.4643 - val_acc: 0.7086\n",
      "Epoch 9/100\n",
      "71/71 [==============================] - 0s 4ms/step - loss: 0.4486 - acc: 0.7836 - val_loss: 0.4560 - val_acc: 0.8010\n",
      "Epoch 10/100\n",
      "71/71 [==============================] - 0s 4ms/step - loss: 0.4524 - acc: 0.7856 - val_loss: 0.4629 - val_acc: 0.8074\n",
      "Epoch 11/100\n",
      "71/71 [==============================] - 0s 4ms/step - loss: 0.4535 - acc: 0.7896 - val_loss: 0.4773 - val_acc: 0.7932\n",
      "Epoch 12/100\n",
      "71/71 [==============================] - 0s 4ms/step - loss: 0.4542 - acc: 0.7831 - val_loss: 0.4398 - val_acc: 0.7939\n",
      "Epoch 13/100\n",
      "71/71 [==============================] - 0s 4ms/step - loss: 0.4411 - acc: 0.7891 - val_loss: 0.4640 - val_acc: 0.7861\n",
      "Epoch 14/100\n",
      "71/71 [==============================] - 0s 4ms/step - loss: 0.4431 - acc: 0.7682 - val_loss: 0.4443 - val_acc: 0.8010\n",
      "Epoch 15/100\n",
      "71/71 [==============================] - 0s 3ms/step - loss: 0.4494 - acc: 0.7916 - val_loss: 0.4621 - val_acc: 0.7967\n",
      "Epoch 16/100\n",
      "71/71 [==============================] - 0s 4ms/step - loss: 0.4461 - acc: 0.7920 - val_loss: 0.4421 - val_acc: 0.7982\n",
      "Epoch 17/100\n",
      "71/71 [==============================] - 0s 4ms/step - loss: 0.4341 - acc: 0.7933 - val_loss: 0.4673 - val_acc: 0.7989\n",
      "Epoch 18/100\n",
      "71/71 [==============================] - 0s 4ms/step - loss: 0.4558 - acc: 0.7809 - val_loss: 0.4511 - val_acc: 0.7925\n",
      "Epoch 19/100\n",
      "71/71 [==============================] - 0s 4ms/step - loss: 0.4513 - acc: 0.7838 - val_loss: 0.4609 - val_acc: 0.7811\n",
      "Epoch 20/100\n",
      "71/71 [==============================] - 0s 4ms/step - loss: 0.4404 - acc: 0.7798 - val_loss: 0.4496 - val_acc: 0.8010\n",
      "Epoch 21/100\n",
      "71/71 [==============================] - 0s 4ms/step - loss: 0.4428 - acc: 0.7822 - val_loss: 0.4410 - val_acc: 0.7925\n",
      "Epoch 22/100\n",
      "71/71 [==============================] - 0s 4ms/step - loss: 0.4496 - acc: 0.7720 - val_loss: 0.4530 - val_acc: 0.8038\n",
      "Epoch 23/100\n",
      "71/71 [==============================] - 0s 4ms/step - loss: 0.4406 - acc: 0.7880 - val_loss: 0.4422 - val_acc: 0.8053\n",
      "Epoch 24/100\n",
      "71/71 [==============================] - 0s 3ms/step - loss: 0.4401 - acc: 0.7927 - val_loss: 0.4509 - val_acc: 0.7960\n",
      "Epoch 25/100\n",
      "71/71 [==============================] - 0s 4ms/step - loss: 0.4431 - acc: 0.7882 - val_loss: 0.5131 - val_acc: 0.8003\n",
      "Epoch 26/100\n",
      "71/71 [==============================] - 0s 4ms/step - loss: 0.4465 - acc: 0.7860 - val_loss: 0.4509 - val_acc: 0.7996\n",
      "Epoch 27/100\n",
      "71/71 [==============================] - 0s 3ms/step - loss: 0.4351 - acc: 0.7849 - val_loss: 0.4387 - val_acc: 0.7903\n",
      "Epoch 28/100\n",
      "71/71 [==============================] - 0s 4ms/step - loss: 0.4357 - acc: 0.7940 - val_loss: 0.4513 - val_acc: 0.7960\n",
      "Epoch 29/100\n",
      "71/71 [==============================] - 0s 4ms/step - loss: 0.4355 - acc: 0.7911 - val_loss: 0.4428 - val_acc: 0.7882\n",
      "Epoch 30/100\n",
      "71/71 [==============================] - 0s 5ms/step - loss: 0.4315 - acc: 0.7811 - val_loss: 0.4450 - val_acc: 0.7825\n",
      "Epoch 31/100\n",
      "71/71 [==============================] - 0s 4ms/step - loss: 0.4312 - acc: 0.7809 - val_loss: 0.4792 - val_acc: 0.7903\n",
      "Epoch 32/100\n",
      "71/71 [==============================] - 0s 5ms/step - loss: 0.4327 - acc: 0.7827 - val_loss: 0.4610 - val_acc: 0.7939\n",
      "Epoch 33/100\n",
      "71/71 [==============================] - 0s 5ms/step - loss: 0.4358 - acc: 0.7951 - val_loss: 0.4547 - val_acc: 0.7974\n",
      "Epoch 34/100\n",
      "71/71 [==============================] - 0s 5ms/step - loss: 0.4307 - acc: 0.7809 - val_loss: 0.4477 - val_acc: 0.7903\n",
      "Epoch 35/100\n",
      "71/71 [==============================] - 0s 4ms/step - loss: 0.4322 - acc: 0.7807 - val_loss: 0.4583 - val_acc: 0.7996\n",
      "Epoch 36/100\n",
      "71/71 [==============================] - 0s 4ms/step - loss: 0.4302 - acc: 0.7931 - val_loss: 0.4480 - val_acc: 0.7939\n",
      "Epoch 37/100\n",
      "71/71 [==============================] - 0s 5ms/step - loss: 0.4281 - acc: 0.7998 - val_loss: 0.4615 - val_acc: 0.8045\n",
      "Epoch 38/100\n",
      "71/71 [==============================] - 0s 5ms/step - loss: 0.4334 - acc: 0.7898 - val_loss: 0.4512 - val_acc: 0.8031\n",
      "Epoch 39/100\n",
      "71/71 [==============================] - 0s 5ms/step - loss: 0.4309 - acc: 0.7933 - val_loss: 0.4474 - val_acc: 0.7974\n",
      "Epoch 40/100\n",
      "71/71 [==============================] - 0s 6ms/step - loss: 0.4263 - acc: 0.7896 - val_loss: 0.4563 - val_acc: 0.8017\n",
      "Epoch 41/100\n",
      "71/71 [==============================] - 0s 5ms/step - loss: 0.4341 - acc: 0.7867 - val_loss: 0.4845 - val_acc: 0.7861\n",
      "Epoch 42/100\n",
      "71/71 [==============================] - 0s 4ms/step - loss: 0.4331 - acc: 0.7733 - val_loss: 0.4515 - val_acc: 0.7996\n",
      "Epoch 43/100\n",
      "71/71 [==============================] - 0s 5ms/step - loss: 0.4308 - acc: 0.7927 - val_loss: 0.4681 - val_acc: 0.8017\n",
      "Epoch 44/100\n",
      "71/71 [==============================] - 0s 3ms/step - loss: 0.4367 - acc: 0.7931 - val_loss: 0.4630 - val_acc: 0.7925\n",
      "Epoch 45/100\n",
      "71/71 [==============================] - 0s 4ms/step - loss: 0.4275 - acc: 0.7851 - val_loss: 0.4644 - val_acc: 0.7918\n",
      "Epoch 46/100\n",
      "71/71 [==============================] - 0s 3ms/step - loss: 0.4336 - acc: 0.7842 - val_loss: 0.4574 - val_acc: 0.7918\n",
      "Epoch 47/100\n",
      "71/71 [==============================] - 0s 4ms/step - loss: 0.4271 - acc: 0.7924 - val_loss: 0.4595 - val_acc: 0.7818\n",
      "Epoch 48/100\n",
      "71/71 [==============================] - 0s 4ms/step - loss: 0.4451 - acc: 0.7796 - val_loss: 0.5063 - val_acc: 0.7974\n",
      "Epoch 49/100\n",
      "71/71 [==============================] - 0s 3ms/step - loss: 0.4397 - acc: 0.7813 - val_loss: 0.4739 - val_acc: 0.7889\n",
      "Epoch 50/100\n",
      "71/71 [==============================] - 0s 4ms/step - loss: 0.4382 - acc: 0.7842 - val_loss: 0.4609 - val_acc: 0.7896\n",
      "Epoch 51/100\n",
      "71/71 [==============================] - 0s 4ms/step - loss: 0.4328 - acc: 0.7942 - val_loss: 0.4571 - val_acc: 0.7910\n",
      "Epoch 52/100\n",
      "71/71 [==============================] - 0s 3ms/step - loss: 0.4216 - acc: 0.7976 - val_loss: 0.5140 - val_acc: 0.7939\n",
      "Epoch 53/100\n",
      "71/71 [==============================] - 0s 4ms/step - loss: 0.4247 - acc: 0.7924 - val_loss: 0.4547 - val_acc: 0.7967\n",
      "Epoch 54/100\n",
      "71/71 [==============================] - 0s 4ms/step - loss: 0.4300 - acc: 0.7927 - val_loss: 0.4866 - val_acc: 0.7996\n",
      "Epoch 55/100\n",
      "71/71 [==============================] - 0s 4ms/step - loss: 0.4255 - acc: 0.7838 - val_loss: 0.4543 - val_acc: 0.7868\n",
      "Epoch 56/100\n",
      "71/71 [==============================] - 0s 3ms/step - loss: 0.4248 - acc: 0.7880 - val_loss: 0.4813 - val_acc: 0.7946\n",
      "Epoch 57/100\n",
      "71/71 [==============================] - 0s 4ms/step - loss: 0.4268 - acc: 0.7920 - val_loss: 0.4697 - val_acc: 0.7889\n",
      "Epoch 58/100\n",
      "71/71 [==============================] - 0s 4ms/step - loss: 0.4306 - acc: 0.7924 - val_loss: 0.4473 - val_acc: 0.7967\n",
      "Epoch 59/100\n",
      "71/71 [==============================] - 0s 4ms/step - loss: 0.4277 - acc: 0.7971 - val_loss: 0.4657 - val_acc: 0.7960\n",
      "Epoch 60/100\n",
      "71/71 [==============================] - 0s 4ms/step - loss: 0.4233 - acc: 0.7884 - val_loss: 0.4655 - val_acc: 0.7868\n",
      "Epoch 61/100\n",
      "71/71 [==============================] - 0s 3ms/step - loss: 0.4174 - acc: 0.7869 - val_loss: 0.4925 - val_acc: 0.7775\n",
      "Epoch 62/100\n",
      "71/71 [==============================] - 0s 4ms/step - loss: 0.4179 - acc: 0.7969 - val_loss: 0.5168 - val_acc: 0.7974\n",
      "Epoch 63/100\n",
      "71/71 [==============================] - 0s 4ms/step - loss: 0.4198 - acc: 0.7931 - val_loss: 0.4785 - val_acc: 0.8045\n",
      "Epoch 64/100\n",
      "71/71 [==============================] - 0s 4ms/step - loss: 0.4214 - acc: 0.7920 - val_loss: 0.4539 - val_acc: 0.7839\n",
      "Epoch 65/100\n",
      "71/71 [==============================] - 0s 4ms/step - loss: 0.4339 - acc: 0.7911 - val_loss: 0.4435 - val_acc: 0.7953\n",
      "Epoch 66/100\n",
      "71/71 [==============================] - 0s 4ms/step - loss: 0.4162 - acc: 0.7993 - val_loss: 0.4722 - val_acc: 0.7967\n",
      "Epoch 67/100\n",
      "71/71 [==============================] - 0s 4ms/step - loss: 0.4248 - acc: 0.7991 - val_loss: 0.4837 - val_acc: 0.7946\n",
      "Epoch 68/100\n",
      "71/71 [==============================] - 0s 4ms/step - loss: 0.4241 - acc: 0.7942 - val_loss: 0.4649 - val_acc: 0.7932\n",
      "Epoch 69/100\n",
      "71/71 [==============================] - 0s 4ms/step - loss: 0.4373 - acc: 0.7911 - val_loss: 0.5194 - val_acc: 0.8024\n",
      "Epoch 70/100\n",
      "71/71 [==============================] - 0s 4ms/step - loss: 0.4263 - acc: 0.7887 - val_loss: 0.5287 - val_acc: 0.7967\n",
      "Epoch 71/100\n",
      "71/71 [==============================] - 0s 5ms/step - loss: 0.4210 - acc: 0.7956 - val_loss: 0.5050 - val_acc: 0.7982\n",
      "Epoch 72/100\n",
      "71/71 [==============================] - 0s 4ms/step - loss: 0.4237 - acc: 0.7951 - val_loss: 0.4515 - val_acc: 0.7989\n",
      "Epoch 73/100\n",
      "71/71 [==============================] - 0s 4ms/step - loss: 0.4143 - acc: 0.8036 - val_loss: 0.5087 - val_acc: 0.7918\n",
      "Epoch 74/100\n",
      "71/71 [==============================] - 0s 4ms/step - loss: 0.4206 - acc: 0.7987 - val_loss: 0.4538 - val_acc: 0.7974\n",
      "Epoch 75/100\n",
      "71/71 [==============================] - 0s 4ms/step - loss: 0.4188 - acc: 0.8029 - val_loss: 0.5172 - val_acc: 0.8010\n",
      "Epoch 76/100\n",
      "71/71 [==============================] - 0s 4ms/step - loss: 0.4207 - acc: 0.7958 - val_loss: 0.4847 - val_acc: 0.7953\n",
      "Epoch 77/100\n",
      "71/71 [==============================] - 0s 4ms/step - loss: 0.4246 - acc: 0.7929 - val_loss: 0.5133 - val_acc: 0.7910\n",
      "Epoch 78/100\n",
      "71/71 [==============================] - 0s 4ms/step - loss: 0.4302 - acc: 0.7902 - val_loss: 0.4545 - val_acc: 0.7996\n",
      "Epoch 79/100\n",
      "71/71 [==============================] - 0s 4ms/step - loss: 0.4251 - acc: 0.7942 - val_loss: 0.4650 - val_acc: 0.8045\n",
      "Epoch 80/100\n",
      "71/71 [==============================] - 0s 4ms/step - loss: 0.4220 - acc: 0.7984 - val_loss: 0.4695 - val_acc: 0.7939\n",
      "Epoch 81/100\n",
      "71/71 [==============================] - 0s 4ms/step - loss: 0.4227 - acc: 0.7971 - val_loss: 0.4566 - val_acc: 0.7989\n",
      "Epoch 82/100\n",
      "71/71 [==============================] - 0s 4ms/step - loss: 0.4176 - acc: 0.8000 - val_loss: 0.4641 - val_acc: 0.8053\n",
      "Epoch 83/100\n",
      "71/71 [==============================] - 0s 4ms/step - loss: 0.4233 - acc: 0.7920 - val_loss: 0.4626 - val_acc: 0.8060\n",
      "Epoch 84/100\n",
      "71/71 [==============================] - 0s 4ms/step - loss: 0.4119 - acc: 0.7987 - val_loss: 0.5330 - val_acc: 0.8017\n",
      "Epoch 85/100\n",
      "71/71 [==============================] - 0s 4ms/step - loss: 0.4109 - acc: 0.7969 - val_loss: 0.5482 - val_acc: 0.7967\n",
      "Epoch 86/100\n",
      "71/71 [==============================] - 0s 4ms/step - loss: 0.4173 - acc: 0.8024 - val_loss: 0.5028 - val_acc: 0.7953\n",
      "Epoch 87/100\n",
      "71/71 [==============================] - 0s 4ms/step - loss: 0.4161 - acc: 0.8020 - val_loss: 0.5396 - val_acc: 0.8017\n",
      "Epoch 88/100\n",
      "71/71 [==============================] - 0s 4ms/step - loss: 0.4194 - acc: 0.8058 - val_loss: 0.4492 - val_acc: 0.7967\n",
      "Epoch 89/100\n",
      "71/71 [==============================] - 0s 4ms/step - loss: 0.4142 - acc: 0.8011 - val_loss: 0.4892 - val_acc: 0.7910\n",
      "Epoch 90/100\n",
      "71/71 [==============================] - 0s 4ms/step - loss: 0.4145 - acc: 0.8000 - val_loss: 0.4841 - val_acc: 0.7825\n",
      "Epoch 91/100\n",
      "71/71 [==============================] - 0s 4ms/step - loss: 0.4224 - acc: 0.7956 - val_loss: 0.5441 - val_acc: 0.8010\n",
      "Epoch 92/100\n",
      "71/71 [==============================] - 0s 4ms/step - loss: 0.4183 - acc: 0.8000 - val_loss: 0.4848 - val_acc: 0.7982\n",
      "Epoch 93/100\n",
      "71/71 [==============================] - 0s 5ms/step - loss: 0.4145 - acc: 0.7920 - val_loss: 0.5827 - val_acc: 0.7932\n",
      "Epoch 94/100\n",
      "71/71 [==============================] - 0s 4ms/step - loss: 0.4186 - acc: 0.8016 - val_loss: 0.4558 - val_acc: 0.7989\n",
      "Epoch 95/100\n",
      "71/71 [==============================] - 0s 4ms/step - loss: 0.4086 - acc: 0.7964 - val_loss: 0.5204 - val_acc: 0.7925\n",
      "Epoch 96/100\n",
      "71/71 [==============================] - 0s 4ms/step - loss: 0.4170 - acc: 0.8011 - val_loss: 0.4613 - val_acc: 0.7932\n",
      "Epoch 97/100\n",
      "71/71 [==============================] - 0s 4ms/step - loss: 0.4141 - acc: 0.8009 - val_loss: 0.4765 - val_acc: 0.7982\n",
      "Epoch 98/100\n",
      "71/71 [==============================] - 0s 4ms/step - loss: 0.4174 - acc: 0.7949 - val_loss: 0.4932 - val_acc: 0.7996\n",
      "Epoch 99/100\n",
      "71/71 [==============================] - 0s 4ms/step - loss: 0.4191 - acc: 0.8013 - val_loss: 0.5153 - val_acc: 0.7825\n",
      "Epoch 100/100\n",
      "71/71 [==============================] - 0s 4ms/step - loss: 0.4134 - acc: 0.8002 - val_loss: 0.4855 - val_acc: 0.8045\n"
     ]
    }
   ],
   "source": [
    "history = model.fit(X_train_final, y_train, epochs=100, batch_size=64,\n",
    "                    validation_data=(X_val_final,y_val),verbose=1)"
   ]
  },
  {
   "cell_type": "code",
   "execution_count": 157,
   "metadata": {},
   "outputs": [
    {
     "data": {
      "text/plain": [
       "<matplotlib.legend.Legend at 0x14cf6a4dee0>"
      ]
     },
     "execution_count": 157,
     "metadata": {},
     "output_type": "execute_result"
    },
    {
     "data": {
      "image/png": "[encoded data removed]",
      "text/plain": [
       "<Figure size 1440x720 with 1 Axes>"
      ]
     },
     "metadata": {},
     "output_type": "display_data"
    }
   ],
   "source": [
    "# plot hasil ke grafik\n",
    "fig, ax = plt.subplots()\n",
    "ax.plot(history.history['loss'],label='train loss')\n",
    "ax.plot(history.history['val_loss'],label='val loss')\n",
    "ax.set_xlabel('Epoch')\n",
    "ax.set_ylabel('Loss')\n",
    "ax.set_ylim(0,1)\n",
    "plt.legend()"
   ]
  },
  {
   "cell_type": "markdown",
   "metadata": {},
   "source": [
    "Mengapa parameter2 tersebut dipilih? untuk optimizer digunakan adamax yang merupakan optimasi dari Adam dan merupakan opsi ketika menggunakan adam belum optimal, sedangkan adamax sendiri berasal dari optimizer adam yang menggabungkan momentum dengan RMSprop. Ketika momentum dan RMSprop telah digunakan namun belum maksimal, maka dapat digunakan adam ataupun adamax. Kemudian untuk iniatlizer digunakan karena berdasarkan percobaan dengan beberapa metode seperti gloroth, he, dan normal. Kemudian untuk aktivasi digunakan relu karena merupakan salah satu metode ketika terjadi masalah gradient problem. Karena ketika tanpa aktivasi ini, hasil yang terbentuk akan datar sehingga dengan penambahan relu mendapatkan hasil akan seperti diatas."
   ]
  },
  {
   "cell_type": "code",
   "execution_count": 53,
   "metadata": {},
   "outputs": [
    {
     "name": "stdout",
     "output_type": "stream",
     "text": [
      "\n",
      "val_accuracy: 79.03%\n"
     ]
    }
   ],
   "source": [
    "val_accuracy = np.mean(history.history['acc'])\n",
    "print(\"\\n%s: %.2f%%\" % ('val_accuracy', val_accuracy*100))"
   ]
  },
  {
   "cell_type": "markdown",
   "metadata": {},
   "source": [
    "Melakukan pemodelan dengan functional API"
   ]
  },
  {
   "cell_type": "code",
   "execution_count": 158,
   "metadata": {},
   "outputs": [],
   "source": [
    "model_input_funct = tf.keras.Input(shape=X_train_final.shape[1:])\n",
    "\n",
    "Layer_1 = tf.keras.layers.Dense(128,\n",
    "                          kernel_regularizer=tf.keras.regularizers.L2(),\n",
    "                          kernel_initializer='uniform')(model_input_funct)\n",
    "\n",
    "Layer_1= tf.keras.layers.Activation('relu')((model_input_funct))\n",
    "Layer_1=tf.keras.layers.Dropout(rate=0.1)(model_input_funct)\n",
    "\n",
    "Layer_2 = tf.keras.layers.Dense(64,kernel_initializer='uniform')(Layer_1)\n",
    "Layer_2= tf.keras.layers.Activation('relu')(Layer_1)\n",
    "Layer_2=tf.keras.layers.Dropout(rate=0.1)(Layer_1)\n",
    "\n",
    "Layer_3 = tf.keras.layers.Dense(32,kernel_initializer='uniform')(Layer_2)\n",
    "Layer_3= tf.keras.layers.Activation('relu')(Layer_2)\n",
    "Layer_3=tf.keras.layers.Dropout(rate=0.1)(Layer_2)\n",
    "\n",
    "Layer_4 = tf.keras.layers.Dense(16,kernel_initializer='uniform')(Layer_3)\n",
    "Layer_4= tf.keras.layers.Activation('relu')(Layer_3)\n",
    "Layer_4=tf.keras.layers.Dropout(rate=0.1)(Layer_3)\n",
    "\n",
    "\n",
    "model_output = tf.keras.layers.Dense(1, activation='sigmoid')(Layer_3)\n",
    "\n",
    "model_funct = tf.keras.models.Model(inputs=model_input_funct, outputs=model_output)"
   ]
  },
  {
   "cell_type": "code",
   "execution_count": 159,
   "metadata": {},
   "outputs": [],
   "source": [
    "model_funct.compile(loss='binary_crossentropy',\n",
    "              optimizer=tf.keras.optimizers.Adamax(learning_rate=0.15),\n",
    "              metrics=['acc'])"
   ]
  },
  {
   "cell_type": "code",
   "execution_count": 160,
   "metadata": {},
   "outputs": [
    {
     "name": "stdout",
     "output_type": "stream",
     "text": [
      "Epoch 1/100\n",
      "71/71 [==============================] - 1s 12ms/step - loss: 0.4685 - acc: 0.7773 - val_loss: 0.4567 - val_acc: 0.7711\n",
      "Epoch 2/100\n",
      "71/71 [==============================] - 0s 4ms/step - loss: 0.4536 - acc: 0.7782 - val_loss: 0.4269 - val_acc: 0.8038\n",
      "Epoch 3/100\n",
      "71/71 [==============================] - 0s 4ms/step - loss: 0.4526 - acc: 0.7824 - val_loss: 0.4445 - val_acc: 0.7854\n",
      "Epoch 4/100\n",
      "71/71 [==============================] - 0s 4ms/step - loss: 0.4552 - acc: 0.7742 - val_loss: 0.4609 - val_acc: 0.7584\n",
      "Epoch 5/100\n",
      "71/71 [==============================] - 0s 4ms/step - loss: 0.4506 - acc: 0.7860 - val_loss: 0.4269 - val_acc: 0.7960\n",
      "Epoch 6/100\n",
      "71/71 [==============================] - 0s 4ms/step - loss: 0.4483 - acc: 0.7871 - val_loss: 0.4459 - val_acc: 0.7882\n",
      "Epoch 7/100\n",
      "71/71 [==============================] - 0s 4ms/step - loss: 0.4438 - acc: 0.7916 - val_loss: 0.4161 - val_acc: 0.8074\n",
      "Epoch 8/100\n",
      "71/71 [==============================] - 0s 3ms/step - loss: 0.4491 - acc: 0.7793 - val_loss: 0.4419 - val_acc: 0.7797\n",
      "Epoch 9/100\n",
      "71/71 [==============================] - 0s 4ms/step - loss: 0.4547 - acc: 0.7836 - val_loss: 0.4301 - val_acc: 0.7925\n",
      "Epoch 10/100\n",
      "71/71 [==============================] - 0s 4ms/step - loss: 0.4577 - acc: 0.7842 - val_loss: 0.4183 - val_acc: 0.8038\n",
      "Epoch 11/100\n",
      "71/71 [==============================] - 0s 3ms/step - loss: 0.4522 - acc: 0.7853 - val_loss: 0.4290 - val_acc: 0.8095\n",
      "Epoch 12/100\n",
      "71/71 [==============================] - 0s 3ms/step - loss: 0.4588 - acc: 0.7778 - val_loss: 0.4311 - val_acc: 0.8017\n",
      "Epoch 13/100\n",
      "71/71 [==============================] - 0s 3ms/step - loss: 0.4622 - acc: 0.7767 - val_loss: 0.4367 - val_acc: 0.7903\n",
      "Epoch 14/100\n",
      "71/71 [==============================] - 0s 3ms/step - loss: 0.4472 - acc: 0.7898 - val_loss: 0.4274 - val_acc: 0.8081\n",
      "Epoch 15/100\n",
      "71/71 [==============================] - 0s 2ms/step - loss: 0.4518 - acc: 0.7782 - val_loss: 0.4581 - val_acc: 0.7669\n",
      "Epoch 16/100\n",
      "71/71 [==============================] - 0s 3ms/step - loss: 0.4632 - acc: 0.7778 - val_loss: 0.4335 - val_acc: 0.8081\n",
      "Epoch 17/100\n",
      "71/71 [==============================] - 0s 3ms/step - loss: 0.4482 - acc: 0.7851 - val_loss: 0.4356 - val_acc: 0.7889\n",
      "Epoch 18/100\n",
      "71/71 [==============================] - 0s 3ms/step - loss: 0.4454 - acc: 0.7884 - val_loss: 0.4243 - val_acc: 0.7996\n",
      "Epoch 19/100\n",
      "71/71 [==============================] - 0s 3ms/step - loss: 0.4489 - acc: 0.7871 - val_loss: 0.4371 - val_acc: 0.7918\n",
      "Epoch 20/100\n",
      "71/71 [==============================] - 0s 3ms/step - loss: 0.4478 - acc: 0.7862 - val_loss: 0.4211 - val_acc: 0.8053\n",
      "Epoch 21/100\n",
      "71/71 [==============================] - 0s 3ms/step - loss: 0.4539 - acc: 0.7760 - val_loss: 0.4259 - val_acc: 0.8081\n",
      "Epoch 22/100\n",
      "71/71 [==============================] - 0s 3ms/step - loss: 0.4558 - acc: 0.7829 - val_loss: 0.4487 - val_acc: 0.7889\n",
      "Epoch 23/100\n",
      "71/71 [==============================] - 0s 3ms/step - loss: 0.4579 - acc: 0.7807 - val_loss: 0.4354 - val_acc: 0.7932\n",
      "Epoch 24/100\n",
      "71/71 [==============================] - 0s 3ms/step - loss: 0.4470 - acc: 0.7842 - val_loss: 0.4387 - val_acc: 0.7832\n",
      "Epoch 25/100\n",
      "71/71 [==============================] - 0s 3ms/step - loss: 0.4506 - acc: 0.7778 - val_loss: 0.4484 - val_acc: 0.7768\n",
      "Epoch 26/100\n",
      "71/71 [==============================] - 0s 4ms/step - loss: 0.4478 - acc: 0.7816 - val_loss: 0.4438 - val_acc: 0.7783\n",
      "Epoch 27/100\n",
      "71/71 [==============================] - 0s 3ms/step - loss: 0.4552 - acc: 0.7787 - val_loss: 0.4171 - val_acc: 0.8109\n",
      "Epoch 28/100\n",
      "71/71 [==============================] - 0s 3ms/step - loss: 0.4519 - acc: 0.7776 - val_loss: 0.4238 - val_acc: 0.7996\n",
      "Epoch 29/100\n",
      "71/71 [==============================] - 0s 3ms/step - loss: 0.4481 - acc: 0.7887 - val_loss: 0.4529 - val_acc: 0.7669\n",
      "Epoch 30/100\n",
      "71/71 [==============================] - 0s 3ms/step - loss: 0.4567 - acc: 0.7789 - val_loss: 0.4270 - val_acc: 0.7989\n",
      "Epoch 31/100\n",
      "71/71 [==============================] - 0s 3ms/step - loss: 0.4445 - acc: 0.7871 - val_loss: 0.4408 - val_acc: 0.7861\n",
      "Epoch 32/100\n",
      "71/71 [==============================] - 0s 3ms/step - loss: 0.4503 - acc: 0.7869 - val_loss: 0.4287 - val_acc: 0.8053\n",
      "Epoch 33/100\n",
      "71/71 [==============================] - 0s 3ms/step - loss: 0.4458 - acc: 0.7847 - val_loss: 0.4252 - val_acc: 0.8024\n",
      "Epoch 34/100\n",
      "71/71 [==============================] - 0s 3ms/step - loss: 0.4473 - acc: 0.7860 - val_loss: 0.4203 - val_acc: 0.8017\n",
      "Epoch 35/100\n",
      "71/71 [==============================] - 0s 3ms/step - loss: 0.4487 - acc: 0.7822 - val_loss: 0.4473 - val_acc: 0.7960\n",
      "Epoch 36/100\n",
      "71/71 [==============================] - 0s 2ms/step - loss: 0.4519 - acc: 0.7836 - val_loss: 0.4345 - val_acc: 0.7939\n",
      "Epoch 37/100\n",
      "71/71 [==============================] - 0s 3ms/step - loss: 0.4491 - acc: 0.7896 - val_loss: 0.4392 - val_acc: 0.7918\n",
      "Epoch 38/100\n",
      "71/71 [==============================] - 0s 3ms/step - loss: 0.4475 - acc: 0.7813 - val_loss: 0.4258 - val_acc: 0.7982\n",
      "Epoch 39/100\n",
      "71/71 [==============================] - 0s 3ms/step - loss: 0.4479 - acc: 0.7831 - val_loss: 0.4501 - val_acc: 0.7768\n",
      "Epoch 40/100\n",
      "71/71 [==============================] - 0s 3ms/step - loss: 0.4571 - acc: 0.7804 - val_loss: 0.4380 - val_acc: 0.7811\n",
      "Epoch 41/100\n",
      "71/71 [==============================] - 0s 3ms/step - loss: 0.4509 - acc: 0.7800 - val_loss: 0.4440 - val_acc: 0.7875\n",
      "Epoch 42/100\n",
      "71/71 [==============================] - 0s 3ms/step - loss: 0.4504 - acc: 0.7816 - val_loss: 0.4239 - val_acc: 0.7989\n",
      "Epoch 43/100\n",
      "71/71 [==============================] - 0s 3ms/step - loss: 0.4521 - acc: 0.7824 - val_loss: 0.4529 - val_acc: 0.7910\n",
      "Epoch 44/100\n",
      "71/71 [==============================] - 0s 3ms/step - loss: 0.4515 - acc: 0.7827 - val_loss: 0.4269 - val_acc: 0.7960\n",
      "Epoch 45/100\n",
      "71/71 [==============================] - 0s 3ms/step - loss: 0.4579 - acc: 0.7809 - val_loss: 0.4123 - val_acc: 0.8074\n",
      "Epoch 46/100\n",
      "71/71 [==============================] - 0s 3ms/step - loss: 0.4537 - acc: 0.7809 - val_loss: 0.4336 - val_acc: 0.7868\n",
      "Epoch 47/100\n",
      "71/71 [==============================] - 0s 3ms/step - loss: 0.4533 - acc: 0.7816 - val_loss: 0.4281 - val_acc: 0.8010\n",
      "Epoch 48/100\n",
      "71/71 [==============================] - 0s 3ms/step - loss: 0.4538 - acc: 0.7778 - val_loss: 0.4601 - val_acc: 0.7576\n",
      "Epoch 49/100\n",
      "71/71 [==============================] - 0s 3ms/step - loss: 0.4538 - acc: 0.7782 - val_loss: 0.4312 - val_acc: 0.7996\n",
      "Epoch 50/100\n",
      "71/71 [==============================] - 0s 3ms/step - loss: 0.4680 - acc: 0.7731 - val_loss: 0.4298 - val_acc: 0.8003\n",
      "Epoch 51/100\n",
      "71/71 [==============================] - 0s 3ms/step - loss: 0.4433 - acc: 0.7844 - val_loss: 0.4451 - val_acc: 0.7846\n",
      "Epoch 52/100\n",
      "71/71 [==============================] - 0s 2ms/step - loss: 0.4652 - acc: 0.7704 - val_loss: 0.4240 - val_acc: 0.8024\n",
      "Epoch 53/100\n",
      "71/71 [==============================] - 0s 3ms/step - loss: 0.4449 - acc: 0.7864 - val_loss: 0.4376 - val_acc: 0.7846\n",
      "Epoch 54/100\n",
      "71/71 [==============================] - 0s 3ms/step - loss: 0.4493 - acc: 0.7827 - val_loss: 0.4225 - val_acc: 0.8053\n",
      "Epoch 55/100\n",
      "71/71 [==============================] - 0s 3ms/step - loss: 0.4523 - acc: 0.7820 - val_loss: 0.4257 - val_acc: 0.8138\n",
      "Epoch 56/100\n",
      "71/71 [==============================] - 0s 3ms/step - loss: 0.4478 - acc: 0.7822 - val_loss: 0.4210 - val_acc: 0.8031\n",
      "Epoch 57/100\n",
      "71/71 [==============================] - 0s 2ms/step - loss: 0.4519 - acc: 0.7798 - val_loss: 0.4263 - val_acc: 0.8045\n",
      "Epoch 58/100\n",
      "71/71 [==============================] - 0s 3ms/step - loss: 0.4507 - acc: 0.7864 - val_loss: 0.4412 - val_acc: 0.7910\n",
      "Epoch 59/100\n",
      "71/71 [==============================] - 0s 3ms/step - loss: 0.4540 - acc: 0.7836 - val_loss: 0.4294 - val_acc: 0.8003\n",
      "Epoch 60/100\n",
      "71/71 [==============================] - 0s 3ms/step - loss: 0.4458 - acc: 0.7858 - val_loss: 0.4487 - val_acc: 0.7733\n",
      "Epoch 61/100\n",
      "71/71 [==============================] - 0s 3ms/step - loss: 0.4540 - acc: 0.7807 - val_loss: 0.4380 - val_acc: 0.7918\n",
      "Epoch 62/100\n",
      "71/71 [==============================] - 0s 3ms/step - loss: 0.4494 - acc: 0.7851 - val_loss: 0.4346 - val_acc: 0.7946\n",
      "Epoch 63/100\n",
      "71/71 [==============================] - 0s 3ms/step - loss: 0.4568 - acc: 0.7816 - val_loss: 0.4174 - val_acc: 0.8152\n",
      "Epoch 64/100\n",
      "71/71 [==============================] - 0s 3ms/step - loss: 0.4526 - acc: 0.7838 - val_loss: 0.4254 - val_acc: 0.7967\n",
      "Epoch 65/100\n",
      "71/71 [==============================] - 0s 3ms/step - loss: 0.4530 - acc: 0.7838 - val_loss: 0.4185 - val_acc: 0.8074\n",
      "Epoch 66/100\n",
      "71/71 [==============================] - 0s 3ms/step - loss: 0.4561 - acc: 0.7804 - val_loss: 0.4294 - val_acc: 0.8045\n",
      "Epoch 67/100\n",
      "71/71 [==============================] - 0s 3ms/step - loss: 0.4535 - acc: 0.7744 - val_loss: 0.4243 - val_acc: 0.8060\n",
      "Epoch 68/100\n",
      "71/71 [==============================] - 0s 3ms/step - loss: 0.4476 - acc: 0.7838 - val_loss: 0.4874 - val_acc: 0.7420\n",
      "Epoch 69/100\n",
      "71/71 [==============================] - 0s 3ms/step - loss: 0.4512 - acc: 0.7798 - val_loss: 0.4309 - val_acc: 0.8045\n",
      "Epoch 70/100\n",
      "71/71 [==============================] - 0s 3ms/step - loss: 0.4476 - acc: 0.7833 - val_loss: 0.4227 - val_acc: 0.8031\n",
      "Epoch 71/100\n",
      "71/71 [==============================] - 0s 3ms/step - loss: 0.4497 - acc: 0.7849 - val_loss: 0.4290 - val_acc: 0.7960\n",
      "Epoch 72/100\n",
      "71/71 [==============================] - 0s 3ms/step - loss: 0.4545 - acc: 0.7722 - val_loss: 0.4299 - val_acc: 0.7996\n",
      "Epoch 73/100\n",
      "71/71 [==============================] - 0s 2ms/step - loss: 0.4490 - acc: 0.7869 - val_loss: 0.4564 - val_acc: 0.7640\n",
      "Epoch 74/100\n",
      "71/71 [==============================] - 0s 3ms/step - loss: 0.4533 - acc: 0.7818 - val_loss: 0.4315 - val_acc: 0.7896\n",
      "Epoch 75/100\n",
      "71/71 [==============================] - 0s 3ms/step - loss: 0.4459 - acc: 0.7851 - val_loss: 0.4384 - val_acc: 0.7953\n",
      "Epoch 76/100\n",
      "71/71 [==============================] - 0s 3ms/step - loss: 0.4493 - acc: 0.7818 - val_loss: 0.4725 - val_acc: 0.7669\n",
      "Epoch 77/100\n",
      "71/71 [==============================] - 0s 3ms/step - loss: 0.4483 - acc: 0.7838 - val_loss: 0.4489 - val_acc: 0.7804\n",
      "Epoch 78/100\n",
      "71/71 [==============================] - 0s 2ms/step - loss: 0.4552 - acc: 0.7804 - val_loss: 0.4366 - val_acc: 0.7925\n",
      "Epoch 79/100\n",
      "71/71 [==============================] - 0s 3ms/step - loss: 0.4624 - acc: 0.7829 - val_loss: 0.4457 - val_acc: 0.7747\n",
      "Epoch 80/100\n",
      "71/71 [==============================] - 0s 4ms/step - loss: 0.4642 - acc: 0.7767 - val_loss: 0.4425 - val_acc: 0.7846\n",
      "Epoch 81/100\n",
      "71/71 [==============================] - 0s 2ms/step - loss: 0.4528 - acc: 0.7824 - val_loss: 0.4236 - val_acc: 0.8045\n",
      "Epoch 82/100\n",
      "71/71 [==============================] - 0s 3ms/step - loss: 0.4478 - acc: 0.7851 - val_loss: 0.4164 - val_acc: 0.8045\n",
      "Epoch 83/100\n",
      "71/71 [==============================] - 0s 3ms/step - loss: 0.4510 - acc: 0.7762 - val_loss: 0.4233 - val_acc: 0.8081\n",
      "Epoch 84/100\n",
      "71/71 [==============================] - 0s 3ms/step - loss: 0.4459 - acc: 0.7869 - val_loss: 0.4196 - val_acc: 0.8088\n",
      "Epoch 85/100\n",
      "71/71 [==============================] - 0s 3ms/step - loss: 0.4498 - acc: 0.7813 - val_loss: 0.4356 - val_acc: 0.7974\n",
      "Epoch 86/100\n",
      "71/71 [==============================] - 0s 3ms/step - loss: 0.4459 - acc: 0.7869 - val_loss: 0.4171 - val_acc: 0.8010\n",
      "Epoch 87/100\n",
      "71/71 [==============================] - 0s 3ms/step - loss: 0.4507 - acc: 0.7824 - val_loss: 0.4551 - val_acc: 0.7605\n",
      "Epoch 88/100\n",
      "71/71 [==============================] - 0s 3ms/step - loss: 0.4495 - acc: 0.7773 - val_loss: 0.4232 - val_acc: 0.8045\n",
      "Epoch 89/100\n",
      "71/71 [==============================] - 0s 3ms/step - loss: 0.4443 - acc: 0.7829 - val_loss: 0.4293 - val_acc: 0.8067\n",
      "Epoch 90/100\n",
      "71/71 [==============================] - 0s 3ms/step - loss: 0.4499 - acc: 0.7862 - val_loss: 0.4396 - val_acc: 0.7804\n",
      "Epoch 91/100\n",
      "71/71 [==============================] - 0s 3ms/step - loss: 0.4592 - acc: 0.7773 - val_loss: 0.4316 - val_acc: 0.7989\n",
      "Epoch 92/100\n",
      "71/71 [==============================] - 0s 3ms/step - loss: 0.4520 - acc: 0.7818 - val_loss: 0.4228 - val_acc: 0.8060\n",
      "Epoch 93/100\n",
      "71/71 [==============================] - 0s 3ms/step - loss: 0.4471 - acc: 0.7896 - val_loss: 0.4262 - val_acc: 0.8081\n",
      "Epoch 94/100\n",
      "71/71 [==============================] - 0s 3ms/step - loss: 0.4528 - acc: 0.7782 - val_loss: 0.4289 - val_acc: 0.7946\n",
      "Epoch 95/100\n",
      "71/71 [==============================] - 0s 3ms/step - loss: 0.4504 - acc: 0.7856 - val_loss: 0.4368 - val_acc: 0.8010\n",
      "Epoch 96/100\n",
      "71/71 [==============================] - 0s 3ms/step - loss: 0.4644 - acc: 0.7680 - val_loss: 0.4302 - val_acc: 0.7882\n",
      "Epoch 97/100\n",
      "71/71 [==============================] - 0s 3ms/step - loss: 0.4554 - acc: 0.7820 - val_loss: 0.4514 - val_acc: 0.7804\n",
      "Epoch 98/100\n",
      "71/71 [==============================] - 0s 3ms/step - loss: 0.4561 - acc: 0.7856 - val_loss: 0.4290 - val_acc: 0.8017\n",
      "Epoch 99/100\n",
      "71/71 [==============================] - 0s 2ms/step - loss: 0.4486 - acc: 0.7844 - val_loss: 0.4215 - val_acc: 0.8088\n",
      "Epoch 100/100\n",
      "71/71 [==============================] - 0s 3ms/step - loss: 0.4560 - acc: 0.7769 - val_loss: 0.4418 - val_acc: 0.7868\n"
     ]
    }
   ],
   "source": [
    "history_funct = model_funct.fit(X_train_final, y_train, epochs=100, batch_size=64,\n",
    "                    validation_data=(X_val_final,y_val),verbose=1)"
   ]
  },
  {
   "cell_type": "code",
   "execution_count": 161,
   "metadata": {},
   "outputs": [
    {
     "data": {
      "text/plain": [
       "<matplotlib.legend.Legend at 0x14ceb52dd60>"
      ]
     },
     "execution_count": 161,
     "metadata": {},
     "output_type": "execute_result"
    },
    {
     "data": {
      "image/png": "[encoded data removed]",
      "text/plain": [
       "<Figure size 1440x720 with 1 Axes>"
      ]
     },
     "metadata": {},
     "output_type": "display_data"
    }
   ],
   "source": [
    "# plot hasil ke grafik\n",
    "fig2, ax2 = plt.subplots()\n",
    "ax2.plot(history_funct.history['loss'],label='train loss')\n",
    "ax2.plot(history_funct.history['val_loss'],label='val loss')\n",
    "ax2.set_xlabel('Epoch')\n",
    "ax2.set_ylabel('Loss')\n",
    "plt.legend()"
   ]
  },
  {
   "cell_type": "code",
   "execution_count": 162,
   "metadata": {},
   "outputs": [
    {
     "name": "stdout",
     "output_type": "stream",
     "text": [
      "\n",
      "val_accuracy: 78.20%\n"
     ]
    }
   ],
   "source": [
    "val_accuracy_2 = np.mean(history_funct.history['acc'])\n",
    "print(\"\\n%s: %.2f%%\" % ('val_accuracy', val_accuracy_2*100))"
   ]
  },
  {
   "cell_type": "markdown",
   "metadata": {},
   "source": [
    "## MODEL EVALUATE"
   ]
  },
  {
   "cell_type": "code",
   "execution_count": 163,
   "metadata": {},
   "outputs": [
    {
     "name": "stdout",
     "output_type": "stream",
     "text": [
      "\n",
      "val_accuracy sequential API: 79.03%\n",
      "\n",
      "val_accuracy functional API: 78.20%\n"
     ]
    }
   ],
   "source": [
    "# accuracy untuk sequential API dan functional API\n",
    "print(\"\\n%s: %.2f%%\" % ('val_accuracy sequential API', val_accuracy*100))\n",
    "print(\"\\n%s: %.2f%%\" % ('val_accuracy functional API', val_accuracy_2*100))"
   ]
  },
  {
   "cell_type": "markdown",
   "metadata": {},
   "source": [
    "Berdasarkan accuracy kedua model diatas, dengan sequential API, nilai accuracy scorenya lebih tinggi daripada functional API. Berdasarkan grafik yang dihasilkan, kita dapat melihat bahwa pada model sequential mempresentasikan hasil yang baik karena train loss dan val loss garisnya saling berhimpitan yang artinya kedua hasil ini tidak jauh berbeda atau tidak terindikasi adanya overfitting ataupun underfitting. Sebaliknya pada model functional, kita dapat melihat pada grafik bahwa pada train loss nilainya lebih tinggi dan mengindikasikan adanya underfitting pada model tersebut."
   ]
  },
  {
   "cell_type": "markdown",
   "metadata": {},
   "source": [
    "### Data prediction"
   ]
  },
  {
   "cell_type": "code",
   "execution_count": 76,
   "metadata": {},
   "outputs": [
    {
     "name": "stdout",
     "output_type": "stream",
     "text": [
      "36/36 [==============================] - 0s 2ms/step\n"
     ]
    },
    {
     "data": {
      "text/plain": [
       "array([[False],\n",
       "       [False],\n",
       "       [False],\n",
       "       ...,\n",
       "       [False],\n",
       "       [False],\n",
       "       [ True]])"
      ]
     },
     "execution_count": 76,
     "metadata": {},
     "output_type": "execute_result"
    }
   ],
   "source": [
    "y_pred = model.predict(X_test_final)\n",
    "y_pred = (y_pred > 0.5)\n",
    "y_pred"
   ]
  },
  {
   "cell_type": "code",
   "execution_count": 77,
   "metadata": {},
   "outputs": [],
   "source": [
    "# konversi data kedalam dataframe\n",
    "\n",
    "y_pred_df = pd.DataFrame(y_pred, columns = ['Churn Prediction'])"
   ]
  },
  {
   "cell_type": "code",
   "execution_count": 99,
   "metadata": {},
   "outputs": [],
   "source": [
    "# membuat confusion matrix\n",
    "cm = confusion_matrix(y_test, y_pred)"
   ]
  },
  {
   "cell_type": "code",
   "execution_count": 103,
   "metadata": {},
   "outputs": [
    {
     "data": {
      "text/plain": [
       "<AxesSubplot:>"
      ]
     },
     "execution_count": 103,
     "metadata": {},
     "output_type": "execute_result"
    },
    {
     "data": {
      "image/png": "[encoded data removed]",
      "text/plain": [
       "<Figure size 1440x720 with 2 Axes>"
      ]
     },
     "metadata": {},
     "output_type": "display_data"
    }
   ],
   "source": [
    "sns.heatmap(cm, annot=True,fmt=\".1f\")"
   ]
  },
  {
   "cell_type": "code",
   "execution_count": 86,
   "metadata": {},
   "outputs": [
    {
     "name": "stdout",
     "output_type": "stream",
     "text": [
      "              precision    recall  f1-score   support\n",
      "\n",
      "           0       0.84      0.86      0.85       832\n",
      "           1       0.58      0.53      0.55       293\n",
      "\n",
      "    accuracy                           0.78      1125\n",
      "   macro avg       0.71      0.70      0.70      1125\n",
      "weighted avg       0.77      0.78      0.77      1125\n",
      "\n"
     ]
    }
   ],
   "source": [
    "print(classification_report(y_test, y_pred))"
   ]
  },
  {
   "cell_type": "markdown",
   "metadata": {},
   "source": [
    "Berdasarkan confusion matrix kita dapat mengetahui bahwa pada test data, terdapat 137 data yang merupakan FN dan 115 data yg FP. Kemudian dari hasil classification report, dapat diketahui bahwa accuracy dari pemodelan ini adalah 0.78. Kemudian Untuk precision dari model untuk 0 adalah 0.84 dan untuk 1 adalah 0.58 yang menandakan ketepatan TP didalam TP + FP. Kemudian untuk recall yang didapat sebesar 0.86 dan 0.53. recall ini menunjukkan seberapa ketepattan TP didalam TP + FN. Pada banyaknya data yg 1 dan 0 dapat dilihat tidak imbalance jumlahnya sehingga hasilnya kurang maksimal. Maka dari itu kemungkinan hasil bisa lebih baik jika data dapat dibalance dahulu\n",
    "\n",
    "Dari dataset yang digunakan, kondisi yang paling bahaya ialah kasus FN karena saat pelanggan yang terprediksi 0 ingin dibiarkan maka industri akan kehilangan pelanggan yang seharusnya bisa tetap menggunakan layanan industri tersebut. "
   ]
  },
  {
   "cell_type": "markdown",
   "metadata": {},
   "source": [
    "## MODEL INFERENCE"
   ]
  },
  {
   "cell_type": "code",
   "execution_count": 104,
   "metadata": {},
   "outputs": [],
   "source": [
    "# copy data untuk menghindari data hilang\n",
    "datacopy_2 = datacopy.copy()"
   ]
  },
  {
   "cell_type": "code",
   "execution_count": 107,
   "metadata": {},
   "outputs": [],
   "source": [
    "# membuat data inference\n",
    "data_inf =datacopy_2.sample(10, random_state=28)"
   ]
  },
  {
   "cell_type": "code",
   "execution_count": 108,
   "metadata": {},
   "outputs": [],
   "source": [
    "# reset index\n",
    "data_inf.reset_index(drop=True, inplace = True)"
   ]
  },
  {
   "cell_type": "code",
   "execution_count": 111,
   "metadata": {},
   "outputs": [
    {
     "data": {
      "text/html": [
       "<div>\n",
       "<style scoped>\n",
       "    .dataframe tbody tr th:only-of-type {\n",
       "        vertical-align: middle;\n",
       "    }\n",
       "\n",
       "    .dataframe tbody tr th {\n",
       "        vertical-align: top;\n",
       "    }\n",
       "\n",
       "    .dataframe thead th {\n",
       "        text-align: right;\n",
       "    }\n",
       "</style>\n",
       "<table border=\"1\" class=\"dataframe\">\n",
       "  <thead>\n",
       "    <tr style=\"text-align: right;\">\n",
       "      <th></th>\n",
       "      <th>Partner</th>\n",
       "      <th>Dependents</th>\n",
       "      <th>tenure</th>\n",
       "      <th>PhoneService</th>\n",
       "      <th>MultipleLines</th>\n",
       "      <th>InternetService</th>\n",
       "      <th>OnlineSecurity</th>\n",
       "      <th>OnlineBackup</th>\n",
       "      <th>DeviceProtection</th>\n",
       "      <th>TechSupport</th>\n",
       "      <th>StreamingTV</th>\n",
       "      <th>StreamingMovies</th>\n",
       "      <th>Contract</th>\n",
       "      <th>PaperlessBilling</th>\n",
       "      <th>PaymentMethod</th>\n",
       "      <th>MonthlyCharges</th>\n",
       "      <th>TotalCharges</th>\n",
       "      <th>Churn</th>\n",
       "    </tr>\n",
       "  </thead>\n",
       "  <tbody>\n",
       "    <tr>\n",
       "      <th>0</th>\n",
       "      <td>No</td>\n",
       "      <td>No</td>\n",
       "      <td>54</td>\n",
       "      <td>Yes</td>\n",
       "      <td>Yes</td>\n",
       "      <td>Fiber optic</td>\n",
       "      <td>No</td>\n",
       "      <td>Yes</td>\n",
       "      <td>No</td>\n",
       "      <td>No</td>\n",
       "      <td>No</td>\n",
       "      <td>No</td>\n",
       "      <td>Month-to-month</td>\n",
       "      <td>Yes</td>\n",
       "      <td>Bank transfer (automatic)</td>\n",
       "      <td>79.85</td>\n",
       "      <td>4308.25</td>\n",
       "      <td>0</td>\n",
       "    </tr>\n",
       "    <tr>\n",
       "      <th>1</th>\n",
       "      <td>No</td>\n",
       "      <td>Yes</td>\n",
       "      <td>11</td>\n",
       "      <td>Yes</td>\n",
       "      <td>No</td>\n",
       "      <td>No</td>\n",
       "      <td>No internet service</td>\n",
       "      <td>No internet service</td>\n",
       "      <td>No internet service</td>\n",
       "      <td>No internet service</td>\n",
       "      <td>No internet service</td>\n",
       "      <td>No internet service</td>\n",
       "      <td>Month-to-month</td>\n",
       "      <td>No</td>\n",
       "      <td>Credit card (automatic)</td>\n",
       "      <td>19.70</td>\n",
       "      <td>216.20</td>\n",
       "      <td>0</td>\n",
       "    </tr>\n",
       "    <tr>\n",
       "      <th>2</th>\n",
       "      <td>No</td>\n",
       "      <td>No</td>\n",
       "      <td>9</td>\n",
       "      <td>No</td>\n",
       "      <td>No phone service</td>\n",
       "      <td>DSL</td>\n",
       "      <td>No</td>\n",
       "      <td>No</td>\n",
       "      <td>No</td>\n",
       "      <td>No</td>\n",
       "      <td>No</td>\n",
       "      <td>No</td>\n",
       "      <td>Month-to-month</td>\n",
       "      <td>Yes</td>\n",
       "      <td>Mailed check</td>\n",
       "      <td>24.60</td>\n",
       "      <td>190.10</td>\n",
       "      <td>0</td>\n",
       "    </tr>\n",
       "    <tr>\n",
       "      <th>3</th>\n",
       "      <td>No</td>\n",
       "      <td>No</td>\n",
       "      <td>12</td>\n",
       "      <td>Yes</td>\n",
       "      <td>No</td>\n",
       "      <td>No</td>\n",
       "      <td>No internet service</td>\n",
       "      <td>No internet service</td>\n",
       "      <td>No internet service</td>\n",
       "      <td>No internet service</td>\n",
       "      <td>No internet service</td>\n",
       "      <td>No internet service</td>\n",
       "      <td>One year</td>\n",
       "      <td>No</td>\n",
       "      <td>Mailed check</td>\n",
       "      <td>19.30</td>\n",
       "      <td>228.75</td>\n",
       "      <td>0</td>\n",
       "    </tr>\n",
       "    <tr>\n",
       "      <th>4</th>\n",
       "      <td>Yes</td>\n",
       "      <td>No</td>\n",
       "      <td>16</td>\n",
       "      <td>No</td>\n",
       "      <td>No phone service</td>\n",
       "      <td>DSL</td>\n",
       "      <td>No</td>\n",
       "      <td>No</td>\n",
       "      <td>No</td>\n",
       "      <td>Yes</td>\n",
       "      <td>Yes</td>\n",
       "      <td>Yes</td>\n",
       "      <td>Month-to-month</td>\n",
       "      <td>Yes</td>\n",
       "      <td>Electronic check</td>\n",
       "      <td>49.95</td>\n",
       "      <td>810.20</td>\n",
       "      <td>1</td>\n",
       "    </tr>\n",
       "    <tr>\n",
       "      <th>5</th>\n",
       "      <td>No</td>\n",
       "      <td>No</td>\n",
       "      <td>38</td>\n",
       "      <td>Yes</td>\n",
       "      <td>Yes</td>\n",
       "      <td>DSL</td>\n",
       "      <td>No</td>\n",
       "      <td>Yes</td>\n",
       "      <td>No</td>\n",
       "      <td>Yes</td>\n",
       "      <td>No</td>\n",
       "      <td>Yes</td>\n",
       "      <td>Month-to-month</td>\n",
       "      <td>No</td>\n",
       "      <td>Credit card (automatic)</td>\n",
       "      <td>68.15</td>\n",
       "      <td>2656.30</td>\n",
       "      <td>0</td>\n",
       "    </tr>\n",
       "    <tr>\n",
       "      <th>6</th>\n",
       "      <td>No</td>\n",
       "      <td>No</td>\n",
       "      <td>72</td>\n",
       "      <td>Yes</td>\n",
       "      <td>Yes</td>\n",
       "      <td>Fiber optic</td>\n",
       "      <td>Yes</td>\n",
       "      <td>Yes</td>\n",
       "      <td>Yes</td>\n",
       "      <td>Yes</td>\n",
       "      <td>Yes</td>\n",
       "      <td>Yes</td>\n",
       "      <td>Two year</td>\n",
       "      <td>No</td>\n",
       "      <td>Bank transfer (automatic)</td>\n",
       "      <td>113.40</td>\n",
       "      <td>8164.10</td>\n",
       "      <td>0</td>\n",
       "    </tr>\n",
       "    <tr>\n",
       "      <th>7</th>\n",
       "      <td>No</td>\n",
       "      <td>No</td>\n",
       "      <td>24</td>\n",
       "      <td>Yes</td>\n",
       "      <td>No</td>\n",
       "      <td>DSL</td>\n",
       "      <td>Yes</td>\n",
       "      <td>No</td>\n",
       "      <td>No</td>\n",
       "      <td>No</td>\n",
       "      <td>No</td>\n",
       "      <td>No</td>\n",
       "      <td>Month-to-month</td>\n",
       "      <td>Yes</td>\n",
       "      <td>Bank transfer (automatic)</td>\n",
       "      <td>49.55</td>\n",
       "      <td>1210.40</td>\n",
       "      <td>1</td>\n",
       "    </tr>\n",
       "    <tr>\n",
       "      <th>8</th>\n",
       "      <td>No</td>\n",
       "      <td>No</td>\n",
       "      <td>43</td>\n",
       "      <td>Yes</td>\n",
       "      <td>Yes</td>\n",
       "      <td>No</td>\n",
       "      <td>No internet service</td>\n",
       "      <td>No internet service</td>\n",
       "      <td>No internet service</td>\n",
       "      <td>No internet service</td>\n",
       "      <td>No internet service</td>\n",
       "      <td>No internet service</td>\n",
       "      <td>Two year</td>\n",
       "      <td>No</td>\n",
       "      <td>Bank transfer (automatic)</td>\n",
       "      <td>26.45</td>\n",
       "      <td>1110.05</td>\n",
       "      <td>0</td>\n",
       "    </tr>\n",
       "    <tr>\n",
       "      <th>9</th>\n",
       "      <td>Yes</td>\n",
       "      <td>No</td>\n",
       "      <td>40</td>\n",
       "      <td>Yes</td>\n",
       "      <td>No</td>\n",
       "      <td>Fiber optic</td>\n",
       "      <td>No</td>\n",
       "      <td>Yes</td>\n",
       "      <td>No</td>\n",
       "      <td>Yes</td>\n",
       "      <td>Yes</td>\n",
       "      <td>Yes</td>\n",
       "      <td>One year</td>\n",
       "      <td>Yes</td>\n",
       "      <td>Credit card (automatic)</td>\n",
       "      <td>99.20</td>\n",
       "      <td>4062.20</td>\n",
       "      <td>1</td>\n",
       "    </tr>\n",
       "  </tbody>\n",
       "</table>\n",
       "</div>"
      ],
      "text/plain": [
       "  Partner Dependents  tenure PhoneService     MultipleLines InternetService  \\\n",
       "0      No         No      54          Yes               Yes     Fiber optic   \n",
       "1      No        Yes      11          Yes                No              No   \n",
       "2      No         No       9           No  No phone service             DSL   \n",
       "3      No         No      12          Yes                No              No   \n",
       "4     Yes         No      16           No  No phone service             DSL   \n",
       "5      No         No      38          Yes               Yes             DSL   \n",
       "6      No         No      72          Yes               Yes     Fiber optic   \n",
       "7      No         No      24          Yes                No             DSL   \n",
       "8      No         No      43          Yes               Yes              No   \n",
       "9     Yes         No      40          Yes                No     Fiber optic   \n",
       "\n",
       "        OnlineSecurity         OnlineBackup     DeviceProtection  \\\n",
       "0                   No                  Yes                   No   \n",
       "1  No internet service  No internet service  No internet service   \n",
       "2                   No                   No                   No   \n",
       "3  No internet service  No internet service  No internet service   \n",
       "4                   No                   No                   No   \n",
       "5                   No                  Yes                   No   \n",
       "6                  Yes                  Yes                  Yes   \n",
       "7                  Yes                   No                   No   \n",
       "8  No internet service  No internet service  No internet service   \n",
       "9                   No                  Yes                   No   \n",
       "\n",
       "           TechSupport          StreamingTV      StreamingMovies  \\\n",
       "0                   No                   No                   No   \n",
       "1  No internet service  No internet service  No internet service   \n",
       "2                   No                   No                   No   \n",
       "3  No internet service  No internet service  No internet service   \n",
       "4                  Yes                  Yes                  Yes   \n",
       "5                  Yes                   No                  Yes   \n",
       "6                  Yes                  Yes                  Yes   \n",
       "7                   No                   No                   No   \n",
       "8  No internet service  No internet service  No internet service   \n",
       "9                  Yes                  Yes                  Yes   \n",
       "\n",
       "         Contract PaperlessBilling              PaymentMethod  MonthlyCharges  \\\n",
       "0  Month-to-month              Yes  Bank transfer (automatic)           79.85   \n",
       "1  Month-to-month               No    Credit card (automatic)           19.70   \n",
       "2  Month-to-month              Yes               Mailed check           24.60   \n",
       "3        One year               No               Mailed check           19.30   \n",
       "4  Month-to-month              Yes           Electronic check           49.95   \n",
       "5  Month-to-month               No    Credit card (automatic)           68.15   \n",
       "6        Two year               No  Bank transfer (automatic)          113.40   \n",
       "7  Month-to-month              Yes  Bank transfer (automatic)           49.55   \n",
       "8        Two year               No  Bank transfer (automatic)           26.45   \n",
       "9        One year              Yes    Credit card (automatic)           99.20   \n",
       "\n",
       "   TotalCharges Churn  \n",
       "0       4308.25     0  \n",
       "1        216.20     0  \n",
       "2        190.10     0  \n",
       "3        228.75     0  \n",
       "4        810.20     1  \n",
       "5       2656.30     0  \n",
       "6       8164.10     0  \n",
       "7       1210.40     1  \n",
       "8       1110.05     0  \n",
       "9       4062.20     1  "
      ]
     },
     "execution_count": 111,
     "metadata": {},
     "output_type": "execute_result"
    }
   ],
   "source": [
    "# cek data\n",
    "data_inf"
   ]
  },
  {
   "cell_type": "code",
   "execution_count": 120,
   "metadata": {},
   "outputs": [],
   "source": [
    "# split data\n",
    "\n",
    "data_inf_num = data_inf[num_columns]\n",
    "data_inf_cat = data_inf[cat_columns]"
   ]
  },
  {
   "cell_type": "code",
   "execution_count": 113,
   "metadata": {},
   "outputs": [],
   "source": [
    "# feature scaling \n",
    "scaler = StandardScaler()\n",
    "\n",
    "# lakukan fit untuk data\n",
    "scaler.fit(X_train_num)\n",
    "\n",
    "# lakukan transform scaling untuk tiap data\n",
    "data_inf_scaled = scaler.transform(data_inf_num)"
   ]
  },
  {
   "cell_type": "code",
   "execution_count": 115,
   "metadata": {},
   "outputs": [],
   "source": [
    "# feature encoding\n",
    "\n",
    "encoder = OneHotEncoder()\n",
    "\n",
    "# lakukan fit encoding untuk tiap data\n",
    "encoder.fit(X_train_cat)\n",
    "\n",
    "# lakukan transform encoding untuk tiap data\n",
    "data_inf_encoded = encoder.transform(data_inf_cat).toarray()"
   ]
  },
  {
   "cell_type": "code",
   "execution_count": 116,
   "metadata": {},
   "outputs": [],
   "source": [
    "# concate the data\n",
    "\n",
    "data_inf_final = np.concatenate([data_inf_scaled, data_inf_encoded], axis = 1)"
   ]
  },
  {
   "cell_type": "code",
   "execution_count": 123,
   "metadata": {},
   "outputs": [
    {
     "data": {
      "text/plain": [
       "(10, 42)"
      ]
     },
     "execution_count": 123,
     "metadata": {},
     "output_type": "execute_result"
    }
   ],
   "source": [
    "data_inf_final.shape"
   ]
  },
  {
   "cell_type": "code",
   "execution_count": 126,
   "metadata": {},
   "outputs": [
    {
     "name": "stdout",
     "output_type": "stream",
     "text": [
      "1/1 [==============================] - 0s 39ms/step\n"
     ]
    }
   ],
   "source": [
    "# predict data inference\n",
    "\n",
    "y_pred_inf = model.predict(data_inf_final)\n",
    "y_pred_inf = (y_pred_inf > 0.5)"
   ]
  },
  {
   "cell_type": "code",
   "execution_count": 127,
   "metadata": {},
   "outputs": [],
   "source": [
    "# konversi data kedalam dataframe\n",
    "\n",
    "y_pred_inf_df = pd.DataFrame(y_pred_inf, columns = ['Churn Prediction'])\n"
   ]
  },
  {
   "cell_type": "code",
   "execution_count": 128,
   "metadata": {},
   "outputs": [
    {
     "data": {
      "text/html": [
       "<div>\n",
       "<style scoped>\n",
       "    .dataframe tbody tr th:only-of-type {\n",
       "        vertical-align: middle;\n",
       "    }\n",
       "\n",
       "    .dataframe tbody tr th {\n",
       "        vertical-align: top;\n",
       "    }\n",
       "\n",
       "    .dataframe thead th {\n",
       "        text-align: right;\n",
       "    }\n",
       "</style>\n",
       "<table border=\"1\" class=\"dataframe\">\n",
       "  <thead>\n",
       "    <tr style=\"text-align: right;\">\n",
       "      <th></th>\n",
       "      <th>Churn</th>\n",
       "      <th>Churn Prediction</th>\n",
       "    </tr>\n",
       "  </thead>\n",
       "  <tbody>\n",
       "    <tr>\n",
       "      <th>0</th>\n",
       "      <td>0</td>\n",
       "      <td>False</td>\n",
       "    </tr>\n",
       "    <tr>\n",
       "      <th>1</th>\n",
       "      <td>0</td>\n",
       "      <td>False</td>\n",
       "    </tr>\n",
       "    <tr>\n",
       "      <th>2</th>\n",
       "      <td>0</td>\n",
       "      <td>True</td>\n",
       "    </tr>\n",
       "    <tr>\n",
       "      <th>3</th>\n",
       "      <td>0</td>\n",
       "      <td>False</td>\n",
       "    </tr>\n",
       "    <tr>\n",
       "      <th>4</th>\n",
       "      <td>1</td>\n",
       "      <td>True</td>\n",
       "    </tr>\n",
       "    <tr>\n",
       "      <th>5</th>\n",
       "      <td>0</td>\n",
       "      <td>False</td>\n",
       "    </tr>\n",
       "    <tr>\n",
       "      <th>6</th>\n",
       "      <td>0</td>\n",
       "      <td>False</td>\n",
       "    </tr>\n",
       "    <tr>\n",
       "      <th>7</th>\n",
       "      <td>1</td>\n",
       "      <td>False</td>\n",
       "    </tr>\n",
       "    <tr>\n",
       "      <th>8</th>\n",
       "      <td>0</td>\n",
       "      <td>False</td>\n",
       "    </tr>\n",
       "    <tr>\n",
       "      <th>9</th>\n",
       "      <td>1</td>\n",
       "      <td>False</td>\n",
       "    </tr>\n",
       "  </tbody>\n",
       "</table>\n",
       "</div>"
      ],
      "text/plain": [
       "  Churn  Churn Prediction\n",
       "0     0             False\n",
       "1     0             False\n",
       "2     0              True\n",
       "3     0             False\n",
       "4     1              True\n",
       "5     0             False\n",
       "6     0             False\n",
       "7     1             False\n",
       "8     0             False\n",
       "9     1             False"
      ]
     },
     "execution_count": 128,
     "metadata": {},
     "output_type": "execute_result"
    }
   ],
   "source": [
    "# concat data sebelumnya dengaan data aslinya\n",
    "pd.concat([data_inf['Churn'],y_pred_inf_df], axis = 1)"
   ]
  },
  {
   "cell_type": "markdown",
   "metadata": {},
   "source": [
    "## MAKE PIPELINE"
   ]
  },
  {
   "cell_type": "code",
   "execution_count": 168,
   "metadata": {},
   "outputs": [],
   "source": [
    "numeric_pipe = Pipeline(steps=[('scaler', StandardScaler())])\n",
    "categorical_pipe = Pipeline(steps=[('encoder', OneHotEncoder())])"
   ]
  },
  {
   "cell_type": "code",
   "execution_count": 189,
   "metadata": {},
   "outputs": [],
   "source": [
    "numeric_features = num_columns\n",
    "categorical_features = cat_columns\n",
    "\n",
    "\n",
    "preprocessor = ColumnTransformer(\n",
    "   transformers=[\n",
    "    ('numeric', numeric_pipe, numeric_features),\n",
    "    ('categorical', categorical_pipe, categorical_features)\n",
    "]) "
   ]
  },
  {
   "cell_type": "code",
   "execution_count": 191,
   "metadata": {},
   "outputs": [],
   "source": [
    "AUTOTUNE = tf.data.AUTOTUNE"
   ]
  },
  {
   "cell_type": "code",
   "execution_count": null,
   "metadata": {},
   "outputs": [],
   "source": [
    "# trial\n",
    "\n",
    "# train_dataset = tf.data.Dataset.from_tensor_slices((X_train, y_train))\n",
    "# train_dataset = train_dataset.map(preprocessor)\n",
    "# train_dataset = train_dataset.shuffle(buffer_size=1024).batch(64)\n",
    "\n",
    "\n",
    "# test_dataset = tf.data.Dataset.from_tensor_slices((X_test, y_test))\n",
    "# test_dataset = test_dataset.map(preprocessor)\n",
    "# test_dataset = test_dataset.shuffle(buffer_size=1024).batch(64)\n",
    "\n",
    "\n",
    "# model_data = model\n",
    "\n",
    "# model_data.fit(train_dataset, epochs=50)"
   ]
  },
  {
   "cell_type": "code",
   "execution_count": 194,
   "metadata": {},
   "outputs": [
    {
     "name": "stdout",
     "output_type": "stream",
     "text": [
      "Epoch 1/50\n",
      "71/71 [==============================] - 1s 8ms/step - loss: 0.3964 - acc: 0.8118 - val_loss: 0.6899 - val_acc: 0.8045\n",
      "Epoch 2/50\n",
      "71/71 [==============================] - 0s 4ms/step - loss: 0.4019 - acc: 0.8082 - val_loss: 0.6128 - val_acc: 0.8038\n",
      "Epoch 3/50\n",
      "71/71 [==============================] - 0s 4ms/step - loss: 0.3929 - acc: 0.8031 - val_loss: 0.8073 - val_acc: 0.7982\n",
      "Epoch 4/50\n",
      "71/71 [==============================] - 0s 5ms/step - loss: 0.3896 - acc: 0.8051 - val_loss: 0.9392 - val_acc: 0.8045\n",
      "Epoch 5/50\n",
      "71/71 [==============================] - 0s 4ms/step - loss: 0.4141 - acc: 0.7964 - val_loss: 0.7931 - val_acc: 0.8067\n",
      "Epoch 6/50\n",
      "71/71 [==============================] - 0s 4ms/step - loss: 0.3958 - acc: 0.8044 - val_loss: 0.8409 - val_acc: 0.7996\n",
      "Epoch 7/50\n",
      "71/71 [==============================] - 0s 5ms/step - loss: 0.3980 - acc: 0.8080 - val_loss: 0.6224 - val_acc: 0.8003\n",
      "Epoch 8/50\n",
      "71/71 [==============================] - 0s 4ms/step - loss: 0.3970 - acc: 0.8071 - val_loss: 0.6513 - val_acc: 0.7953\n",
      "Epoch 9/50\n",
      "71/71 [==============================] - 0s 4ms/step - loss: 0.4000 - acc: 0.8064 - val_loss: 0.7829 - val_acc: 0.7967\n",
      "Epoch 10/50\n",
      "71/71 [==============================] - 0s 4ms/step - loss: 0.3992 - acc: 0.8080 - val_loss: 0.6794 - val_acc: 0.8102\n",
      "Epoch 11/50\n",
      "71/71 [==============================] - 0s 5ms/step - loss: 0.4061 - acc: 0.7993 - val_loss: 0.6823 - val_acc: 0.8045\n",
      "Epoch 12/50\n",
      "71/71 [==============================] - 0s 4ms/step - loss: 0.4008 - acc: 0.8038 - val_loss: 0.8525 - val_acc: 0.7967\n",
      "Epoch 13/50\n",
      "71/71 [==============================] - 0s 4ms/step - loss: 0.3992 - acc: 0.7984 - val_loss: 0.9673 - val_acc: 0.7989\n",
      "Epoch 14/50\n",
      "71/71 [==============================] - 0s 4ms/step - loss: 0.3950 - acc: 0.8087 - val_loss: 0.6734 - val_acc: 0.7974\n",
      "Epoch 15/50\n",
      "71/71 [==============================] - 0s 5ms/step - loss: 0.3964 - acc: 0.8049 - val_loss: 0.7210 - val_acc: 0.8088\n",
      "Epoch 16/50\n",
      "71/71 [==============================] - 0s 4ms/step - loss: 0.4014 - acc: 0.8058 - val_loss: 0.7915 - val_acc: 0.8010\n",
      "Epoch 17/50\n",
      "71/71 [==============================] - 0s 4ms/step - loss: 0.3970 - acc: 0.8064 - val_loss: 0.6465 - val_acc: 0.8017\n",
      "Epoch 18/50\n",
      "71/71 [==============================] - 0s 5ms/step - loss: 0.3951 - acc: 0.8091 - val_loss: 0.6038 - val_acc: 0.7918\n",
      "Epoch 19/50\n",
      "71/71 [==============================] - 0s 4ms/step - loss: 0.3973 - acc: 0.8102 - val_loss: 0.6972 - val_acc: 0.8067\n",
      "Epoch 20/50\n",
      "71/71 [==============================] - 0s 4ms/step - loss: 0.3889 - acc: 0.8118 - val_loss: 0.7584 - val_acc: 0.8060\n",
      "Epoch 21/50\n",
      "71/71 [==============================] - 0s 4ms/step - loss: 0.3958 - acc: 0.8047 - val_loss: 0.9724 - val_acc: 0.8060\n",
      "Epoch 22/50\n",
      "71/71 [==============================] - 0s 4ms/step - loss: 0.4001 - acc: 0.8078 - val_loss: 0.6609 - val_acc: 0.8053\n",
      "Epoch 23/50\n",
      "71/71 [==============================] - 0s 4ms/step - loss: 0.4092 - acc: 0.8062 - val_loss: 0.6374 - val_acc: 0.8053\n",
      "Epoch 24/50\n",
      "71/71 [==============================] - 0s 4ms/step - loss: 0.3937 - acc: 0.8064 - val_loss: 0.6810 - val_acc: 0.8081\n",
      "Epoch 25/50\n",
      "71/71 [==============================] - 0s 5ms/step - loss: 0.3905 - acc: 0.8024 - val_loss: 0.6731 - val_acc: 0.7996\n",
      "Epoch 26/50\n",
      "71/71 [==============================] - 0s 4ms/step - loss: 0.3973 - acc: 0.8071 - val_loss: 0.6328 - val_acc: 0.7974\n",
      "Epoch 27/50\n",
      "71/71 [==============================] - 0s 5ms/step - loss: 0.4007 - acc: 0.8044 - val_loss: 0.6169 - val_acc: 0.8045\n",
      "Epoch 28/50\n",
      "71/71 [==============================] - 0s 6ms/step - loss: 0.3979 - acc: 0.8073 - val_loss: 0.6775 - val_acc: 0.8010\n",
      "Epoch 29/50\n",
      "71/71 [==============================] - 0s 6ms/step - loss: 0.4002 - acc: 0.7944 - val_loss: 0.7130 - val_acc: 0.7974\n",
      "Epoch 30/50\n",
      "71/71 [==============================] - 0s 5ms/step - loss: 0.3959 - acc: 0.8038 - val_loss: 0.6514 - val_acc: 0.8038\n",
      "Epoch 31/50\n",
      "71/71 [==============================] - 0s 5ms/step - loss: 0.4051 - acc: 0.7991 - val_loss: 0.8557 - val_acc: 0.7882\n",
      "Epoch 32/50\n",
      "71/71 [==============================] - 0s 5ms/step - loss: 0.3996 - acc: 0.8060 - val_loss: 0.6520 - val_acc: 0.8031\n",
      "Epoch 33/50\n",
      "71/71 [==============================] - 1s 9ms/step - loss: 0.4007 - acc: 0.8004 - val_loss: 0.5946 - val_acc: 0.7974\n",
      "Epoch 34/50\n",
      "71/71 [==============================] - 0s 4ms/step - loss: 0.3952 - acc: 0.8098 - val_loss: 0.6790 - val_acc: 0.7960\n",
      "Epoch 35/50\n",
      "71/71 [==============================] - 0s 3ms/step - loss: 0.3963 - acc: 0.8042 - val_loss: 0.7077 - val_acc: 0.7903\n",
      "Epoch 36/50\n",
      "71/71 [==============================] - 0s 7ms/step - loss: 0.3977 - acc: 0.8007 - val_loss: 0.6955 - val_acc: 0.7846\n",
      "Epoch 37/50\n",
      "71/71 [==============================] - 1s 9ms/step - loss: 0.3962 - acc: 0.7998 - val_loss: 0.7453 - val_acc: 0.8045\n",
      "Epoch 38/50\n",
      "71/71 [==============================] - 0s 4ms/step - loss: 0.4029 - acc: 0.8029 - val_loss: 0.6493 - val_acc: 0.7932\n",
      "Epoch 39/50\n",
      "71/71 [==============================] - 0s 3ms/step - loss: 0.4052 - acc: 0.7978 - val_loss: 0.7928 - val_acc: 0.8024\n",
      "Epoch 40/50\n",
      "71/71 [==============================] - 0s 3ms/step - loss: 0.4005 - acc: 0.8047 - val_loss: 0.5389 - val_acc: 0.7982\n",
      "Epoch 41/50\n",
      "71/71 [==============================] - 0s 3ms/step - loss: 0.3972 - acc: 0.8044 - val_loss: 0.6857 - val_acc: 0.8038\n",
      "Epoch 42/50\n",
      "71/71 [==============================] - 0s 4ms/step - loss: 0.3955 - acc: 0.8049 - val_loss: 0.6963 - val_acc: 0.8031\n",
      "Epoch 43/50\n",
      "71/71 [==============================] - 0s 3ms/step - loss: 0.3955 - acc: 0.8007 - val_loss: 0.7441 - val_acc: 0.8024\n",
      "Epoch 44/50\n",
      "71/71 [==============================] - 0s 3ms/step - loss: 0.3969 - acc: 0.8080 - val_loss: 0.8131 - val_acc: 0.7982\n",
      "Epoch 45/50\n",
      "71/71 [==============================] - 0s 3ms/step - loss: 0.3904 - acc: 0.8053 - val_loss: 0.6643 - val_acc: 0.7932\n",
      "Epoch 46/50\n",
      "71/71 [==============================] - 0s 3ms/step - loss: 0.3978 - acc: 0.8067 - val_loss: 0.6109 - val_acc: 0.7960\n",
      "Epoch 47/50\n",
      "71/71 [==============================] - 0s 4ms/step - loss: 0.3932 - acc: 0.8036 - val_loss: 0.8936 - val_acc: 0.8038\n",
      "Epoch 48/50\n",
      "71/71 [==============================] - 0s 6ms/step - loss: 0.3910 - acc: 0.8042 - val_loss: 0.8362 - val_acc: 0.7967\n",
      "Epoch 49/50\n",
      "71/71 [==============================] - 0s 4ms/step - loss: 0.4041 - acc: 0.7982 - val_loss: 0.8816 - val_acc: 0.7982\n",
      "Epoch 50/50\n",
      "71/71 [==============================] - 0s 3ms/step - loss: 0.3999 - acc: 0.8013 - val_loss: 0.7253 - val_acc: 0.7974\n"
     ]
    },
    {
     "data": {
      "text/plain": [
       "<keras.callbacks.History at 0x14cf69b1fa0>"
      ]
     },
     "execution_count": 194,
     "metadata": {},
     "output_type": "execute_result"
    }
   ],
   "source": [
    "train_dataset = tf.data.Dataset.from_tensor_slices((X_train_final, y_train))\n",
    "train_dataset = train_dataset.shuffle(buffer_size=1024).batch(64).prefetch(AUTOTUNE)\n",
    "\n",
    "\n",
    "test_dataset = tf.data.Dataset.from_tensor_slices((X_test_final, y_test))\n",
    "test_dataset = test_dataset.shuffle(buffer_size=1024).batch(64).prefetch(AUTOTUNE)\n",
    "\n",
    "val_dataset = tf.data.Dataset.from_tensor_slices((X_val_final, y_val))\n",
    "val_dataset = val_dataset.shuffle(buffer_size=1024).batch(64).prefetch(AUTOTUNE)\n",
    "\n",
    "model_data = model\n",
    "\n",
    "model_data.fit(train_dataset, epochs=50, validation_data=val_dataset)"
   ]
  },
  {
   "cell_type": "code",
   "execution_count": 195,
   "metadata": {},
   "outputs": [
    {
     "name": "stdout",
     "output_type": "stream",
     "text": [
      "Number of Batch - Train :  71\n",
      "Number of Batch - Test  :  18\n"
     ]
    }
   ],
   "source": [
    "# Cek jumlah batch\n",
    "\n",
    "print('Number of Batch - Train : ', tf.data.experimental.cardinality(train_dataset).numpy())\n",
    "print('Number of Batch - Test  : ', tf.data.experimental.cardinality(test_dataset).numpy())"
   ]
  },
  {
   "cell_type": "markdown",
   "metadata": {},
   "source": [
    "## KESIMPULAN"
   ]
  },
  {
   "cell_type": "markdown",
   "metadata": {},
   "source": [
    "Berdasarkan hasil EDA kita dapat mengetahui bahwa banyak customer pada tenor awal yang memutuskan untuk tidaak menggunakan layanan ini lagi karena mungkin layanan ini kurang menarik. kemudian masih banyak pelanggan yang tidak memanfaatkan layanan yang ada. Kemungkinan banyak pelanggan kebanyakan hanya memanfaatkan layanan telpon saaja sehingga mereka tidak butuh layanan lainnya seperti streaming, protection, dan lainnya. Hal ini bisa kita lihat bahwa pengguna layanan telpon sangat banyak dan mendominasi jumlahnya sedangkan pelanggan yang tidak memanfaatkan layanan telfon ini kemungkinan hanya membutuhkan layanan diluar telfon seperti streaming dan internet. \n",
    "    gender  yang menjadi partner maupun tidak hampir sama namun pelanggan wanita lebih tinggi nilainya walaupun tidak jauh berbeda nilainya sehingga gender ini tidak bisa dikatakan berpengaruh terhadap pelanggan partner.Kemudian untuk dependents nilainya hampir sama antara wanita dan pria sehingga gender ini juga tidak bisa dikatakan menjadi pengaruh terhadap dependents.\n",
    "    Kita dapat melihat bahwa pengguna fiber optic ini jauh lebih tinggi daripada DSL. Beberapa pelanggan juga ada yang tidak mengaktifkan layanan internet. Sehingga kita perlu meningkatkan layanan internet agar customer bertahan. Jumlah pelanggan yang ada jumlahnya lebih banyak daripada yang pindah. Kita tau juga bahwa besarnya tagihan bulanan tidak terlalu ada hubungannya dengan pelanggan tetap.\n",
    "    Dapat diketahui bahwa pembayaran dengan electroniccheck memiliki nominal yang jauh lebih besar daripada metode pembayaran lainnya sehingga metode ini perlu ditingkatkan.\n",
    "\n",
    "Berdasarkan hasil pemodelan yang telah dibuat, didapatkan yang cukup karena accuracy diatas 70% namun belum bisa sangat baik karena tidak mencapai 90%. Improvement yang dihasilkan ialah dengan mengganti optimizer ke adamax, kemudian dengan initializer uniform dan activation relu serta didukung oleh gradient clipping\n",
    "    Dari hasil pemodelan dan hasil confusion matrix diketahui bahwa model ini memprediksi FN sebanyak 115 dan FP 137. Jika dilihat berdasarkan classification report, untuk recall dan precision terbaik adalah pada data dengan target 0 dikarenakan efek data yang imbalance. Recall terbaik yang diperoleh ialah 0.86 dan untuk precision yang didapat ialah 0.84 serta accuracy model yang diperloeh berdaaasarkan classification report adalah 0.78. Model ini bisa ditingkatkan agar prediksi pelanggan yang diprediksi terus menggunakan layanan tidak salah sehingga dalam menentukan prioritas pelanggan bisa lebih tepat dan tidak terjadi kesalahan karena pelanggan yang aslinya menetap namun terprediksi meninggalkan layanan ini."
   ]
  },
  {
   "cell_type": "markdown",
   "metadata": {},
   "source": []
  }
 ],
 "metadata": {
  "kernelspec": {
   "display_name": "Python 3.8.8 ('base')",
   "language": "python",
   "name": "python3"
  },
  "language_info": {
   "codemirror_mode": {
    "name": "ipython",
    "version": 3
   },
   "file_extension": ".py",
   "mimetype": "text/x-python",
   "name": "python",
   "nbconvert_exporter": "python",
   "pygments_lexer": "ipython3",
   "version": "3.8.8"
  },
  "orig_nbformat": 4,
  "vscode": {
   "interpreter": {
    "hash": "a90aeebcf29d64a654773811cc170cb25061cb2498f10ac689db374c7bf325de"
   }
  }
 },
 "nbformat": 4,
 "nbformat_minor": 2
}
