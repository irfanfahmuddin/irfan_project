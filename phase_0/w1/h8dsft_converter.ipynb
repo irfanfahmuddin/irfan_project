{
 "cells": [
  {
   "cell_type": "code",
   "execution_count": 1,
   "metadata": {},
   "outputs": [
    {
     "name": "stdout",
     "output_type": "stream",
     "text": [
      "KONVERTER SUHU CELSIUS DAN KELVIN\n",
      "\n",
      ">> ketik konv_ctok(suhu celcius) untuk mengkonversi suhu celcius ke kelvin\n",
      ">> ketik konv_ktoc(suhu kelvin) untuk mengkonversi suhu kelvin ke cesius\n"
     ]
    }
   ],
   "source": [
    "print('KONVERTER SUHU CELSIUS DAN KELVIN\\n')\n",
    "print('>> ketik konv_ctok(suhu celcius) untuk mengkonversi suhu celcius ke kelvin')\n",
    "print('>> ketik konv_ktoc(suhu kelvin) untuk mengkonversi suhu kelvin ke cesius')\n",
    "\n",
    "def konv_ctok(ces):\n",
    "    '''\n",
    "    konversi cesius ke kelvin\n",
    "    '''\n",
    "    hasil_c= ces+273\n",
    "    print(f'jadi suhu {ces} celcius sama dengan {hasil_c} kelvin')\n",
    "    return \n",
    "\n",
    "def konv_ktoc(kel):\n",
    "    '''\n",
    "    konversi kelvin ke cesius\n",
    "    '''\n",
    "    hasil_k= kel-273\n",
    "    print(f'jadi suhu {kel} kelvin sama dengan {hasil_k} cesius')\n",
    "    return"
   ]
  },
  {
   "cell_type": "code",
   "execution_count": 2,
   "metadata": {},
   "outputs": [
    {
     "name": "stdout",
     "output_type": "stream",
     "text": [
      "jadi suhu 100 celcius sama dengan 373 kelvin\n"
     ]
    }
   ],
   "source": [
    "konv_ctok(100)"
   ]
  },
  {
   "cell_type": "code",
   "execution_count": 3,
   "metadata": {},
   "outputs": [
    {
     "name": "stdout",
     "output_type": "stream",
     "text": [
      "KONVERTER SUHU KE FAHRENHEIT\n",
      "\n"
     ]
    }
   ],
   "source": [
    "print('KONVERTER SUHU KE FAHRENHEIT\\n')\n",
    "def konv_ctof(ces2):\n",
    "    '''\n",
    "    konversi cesius ke fahrenheit\n",
    "    '''\n",
    "    hasil_ctof= ces2+32\n",
    "    print(f'jadi suhu {ces2} celcius sama dengan {hasil_ctof} fahrenheit')\n",
    "    return \n",
    "\n",
    "def konv_ktof(kel):\n",
    "    '''\n",
    "    konversi cesius ke fahrenheit\n",
    "    '''\n",
    "    hasil_ktof= 1.8*(kel-273)+32\n",
    "    print(f'jadi suhu {kel} celcius sama dengan {hasil_ktof} fahrenheit')\n",
    "    return \n",
    "\n",
    "\n"
   ]
  },
  {
   "cell_type": "code",
   "execution_count": 4,
   "metadata": {},
   "outputs": [
    {
     "name": "stdout",
     "output_type": "stream",
     "text": [
      "ketik konv_ktof(nilai suhu dalam kelvin) \n"
     ]
    }
   ],
   "source": [
    "\n",
    "tipe_suhu = input ('kelvin (k) atau celcius (c) ') # untuk identifikasi jenis suhu\n",
    "\n",
    "if tipe_suhu == ('k'):\n",
    "    print('ketik konv_ktof(nilai suhu dalam kelvin) ')\n",
    "elif tipe_suhu == ('c'):\n",
    "    print('ketik konv_ctof(nilai suhu dalam celcius) ')\n",
    "else:\n",
    "    print('tipe suhu salah')"
   ]
  },
  {
   "cell_type": "code",
   "execution_count": 5,
   "metadata": {},
   "outputs": [
    {
     "name": "stdout",
     "output_type": "stream",
     "text": [
      "jadi suhu 50 celcius sama dengan 82 fahrenheit\n"
     ]
    }
   ],
   "source": [
    "konv_ctof(50)"
   ]
  },
  {
   "cell_type": "code",
   "execution_count": 6,
   "metadata": {},
   "outputs": [
    {
     "name": "stdout",
     "output_type": "stream",
     "text": [
      "KONVERTER SUHU DARI FAHRENHEIT KE CELCIUS ATAU KELVIN\n",
      "\n"
     ]
    }
   ],
   "source": [
    "print('KONVERTER SUHU DARI FAHRENHEIT KE CELCIUS ATAU KELVIN\\n')\n",
    "def konv_ftoc(f3):\n",
    "    '''\n",
    "    konversi fahrenheit ke celcius\n",
    "    '''\n",
    "    hasil_ftoc= 5/9*(f3-32)\n",
    "    print(f'jadi suhu {f3} fahrenheit sama dengan {hasil_ftoc} celcius')\n",
    "    return \n",
    "\n",
    "def konv_ftok(f4):\n",
    "    '''\n",
    "    konversi fahrenheit ke kelvin\n",
    "    '''\n",
    "    hasil_ktof= 5/9*(f4-32) + 273\n",
    "    print(f'jadi suhu {f4} fahrenheit sama dengan {hasil_ktof} kelvin')\n",
    "    return "
   ]
  },
  {
   "cell_type": "code",
   "execution_count": 7,
   "metadata": {},
   "outputs": [
    {
     "name": "stdout",
     "output_type": "stream",
     "text": [
      "ketik konv_ftok(nilai suhu dalam fahrenheit) \n"
     ]
    }
   ],
   "source": [
    "tipe_suhu = input ('ingin mengubah dari fahrenheit ke kelvin (k) atau celcius (c) ') # untuk identifikasi konversi suhu\n",
    "\n",
    "if tipe_suhu == ('k'):\n",
    "    print('ketik konv_ftok(nilai suhu dalam fahrenheit) ')\n",
    "elif tipe_suhu == ('c'):\n",
    "    print('ketik konv_ftoc(nilai suhu dalam fahrenheit) ')\n",
    "else:\n",
    "    print('tipe suhu salah, ulangi dengan mengetik c atau k')"
   ]
  },
  {
   "cell_type": "code",
   "execution_count": 8,
   "metadata": {},
   "outputs": [
    {
     "name": "stdout",
     "output_type": "stream",
     "text": [
      "jadi suhu 50 fahrenheit sama dengan 283.0 kelvin\n"
     ]
    }
   ],
   "source": [
    "konv_ftok(50)"
   ]
  },
  {
   "cell_type": "code",
   "execution_count": null,
   "metadata": {},
   "outputs": [],
   "source": []
  }
 ],
 "metadata": {
  "interpreter": {
   "hash": "380030d1298d5a27518acca789ff38fe82bbf2e68b73263de6a6bf23efb7704c"
  },
  "kernelspec": {
   "display_name": "Python 3.8.8 ('base')",
   "language": "python",
   "name": "python3"
  },
  "language_info": {
   "codemirror_mode": {
    "name": "ipython",
    "version": 3
   },
   "file_extension": ".py",
   "mimetype": "text/x-python",
   "name": "python",
   "nbconvert_exporter": "python",
   "pygments_lexer": "ipython3",
   "version": "3.8.8"
  },
  "orig_nbformat": 4
 },
 "nbformat": 4,
 "nbformat_minor": 2
}
